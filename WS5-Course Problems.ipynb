{
 "cells": [
  {
   "cell_type": "markdown",
   "id": "1e8ca7c9-0fcd-4873-8d18-082283de6bd0",
   "metadata": {},
   "source": [
    "# The Wonderland of Polytopes"
   ]
  },
  {
   "cell_type": "code",
   "execution_count": 8,
   "id": "4e436e8b-1d9f-4d21-90b6-d9e9fde5572e",
   "metadata": {},
   "outputs": [],
   "source": [
    "import random"
   ]
  },
  {
   "cell_type": "markdown",
   "id": "d96416d9-49f4-40d8-8ddd-74a8ed2d53b4",
   "metadata": {
    "jp-MarkdownHeadingCollapsed": true
   },
   "source": [
    "## Exercise Sheet 1"
   ]
  },
  {
   "cell_type": "markdown",
   "id": "6d8b2be2-28e4-4bd1-a4d2-25ec7e104906",
   "metadata": {},
   "source": [
    "### Problem 1"
   ]
  },
  {
   "cell_type": "code",
   "execution_count": 45,
   "id": "1f536ce1-b669-460c-993d-2f66ad7a20d3",
   "metadata": {},
   "outputs": [
    {
     "name": "stdout",
     "output_type": "stream",
     "text": [
      "A 5-dimensional polyhedron in ZZ^6 defined as the convex hull of 6 vertices\n",
      "For the random choice {2, 3} the hyperplane is (An equation (0, 0, 1, 1, 0) x - 1 == 0,)\n"
     ]
    }
   ],
   "source": [
    "d = 5\n",
    "Simplex = polytopes.simplex(d);print(Simplex)\n",
    "I = random.choice(Subsets(range(d)))\n",
    "v_I = [int(_ in I) for _ in range(d)]\n",
    "H_I = Polyhedron(eqns=[[-1]+v_I])\n",
    "print(\"For the random choice\", I, \"the hyperplane is\",H_I.Hrepresentation())"
   ]
  },
  {
   "cell_type": "markdown",
   "id": "9de99952-0f58-4e72-afcc-86f27d413e17",
   "metadata": {},
   "source": [
    "**Show** that $H_I$ is a supporting hyperplane of `Simplex`.\n",
    "\n",
    "**Obtain** the vertices of the corresponding face.\n",
    "\n",
    "**Compute** the face lattice of `Simplex`\n",
    "\n",
    "**Compute** the $f$-vector of the corresponding face."
   ]
  },
  {
   "cell_type": "code",
   "execution_count": null,
   "id": "9a751b05-2928-4d4f-b38d-112a0aa98287",
   "metadata": {},
   "outputs": [],
   "source": []
  },
  {
   "cell_type": "markdown",
   "id": "febec476-f332-4f37-8d6e-0f5af6ce898d",
   "metadata": {},
   "source": [
    "### Problem 5"
   ]
  },
  {
   "cell_type": "code",
   "execution_count": 35,
   "id": "de5bfb98-aee3-4f6b-a2f7-423c7220f7dc",
   "metadata": {},
   "outputs": [
    {
     "name": "stdout",
     "output_type": "stream",
     "text": [
      "A 4-dimensional polyhedron in AA^4 defined as the convex hull of 120 vertices\n",
      "Is P simple? True\n",
      "Digraph on 120 vertices\n"
     ]
    }
   ],
   "source": [
    "P = polytopes.permutahedron(5).affine_hull_projection(orthonormal=True,extend=True);print(P) # Start with a simple polytope\n",
    "print(\"Is P simple?\",P.is_simple())\n",
    "L = vector([6,3,9,1]);\n",
    "Directed_skeleton = P.vertex_digraph(L)\n",
    "print(Directed_skeleton)"
   ]
  },
  {
   "cell_type": "markdown",
   "id": "6ed6ef01-22f0-449a-b2d0-ea7a4ab6bafe",
   "metadata": {},
   "source": [
    "**Find** the in-degree vector by doing some search on the methods of `Directed_skeleton`."
   ]
  },
  {
   "cell_type": "code",
   "execution_count": null,
   "id": "4d82549d-ad6b-438a-8416-943732128fbc",
   "metadata": {},
   "outputs": [],
   "source": []
  },
  {
   "cell_type": "markdown",
   "id": "65718ca7-115a-40ee-8449-14e7f3f47b9e",
   "metadata": {},
   "source": [
    "Now **verify** that the obtained vector is the same as the $h$-vector of the polar dual polytope of `P`."
   ]
  },
  {
   "cell_type": "code",
   "execution_count": null,
   "id": "479280df-5e73-44e5-a430-d2ee2f58bdf8",
   "metadata": {},
   "outputs": [],
   "source": []
  },
  {
   "cell_type": "markdown",
   "id": "8ce99e1e-f482-43ed-8f33-39d16c7c9375",
   "metadata": {
    "jp-MarkdownHeadingCollapsed": true
   },
   "source": [
    "## Exercise Sheet 2"
   ]
  },
  {
   "cell_type": "markdown",
   "id": "8b39fecb-f412-4efe-b6e3-8e99d8155c3e",
   "metadata": {},
   "source": [
    "### Problem 2"
   ]
  },
  {
   "cell_type": "code",
   "execution_count": 57,
   "id": "17c18619-ea0e-40ca-84d5-995afec017e8",
   "metadata": {},
   "outputs": [
    {
     "name": "stdout",
     "output_type": "stream",
     "text": [
      "A 5-dimensional polyhedron in ZZ^6 defined as the convex hull of 6 vertices\n",
      "The resulting stacked polytope is A 5-dimensional polyhedron in QQ^6 defined as the convex hull of 8 vertices\n"
     ]
    }
   ],
   "source": [
    "d = 5\n",
    "n = 8\n",
    "Simplex = polytopes.simplex(d);print(Simplex)\n",
    "for _ in range(n-d-1):\n",
    "    facets = Simplex.facets() # We compute the facets\n",
    "    a_facet = random.choice(facets) # We choose a random facet\n",
    "    Simplex = Simplex.stack(a_facet) # We stack it and over-write Simplex\n",
    "print(\"The resulting stacked polytope is\",Simplex)"
   ]
  },
  {
   "cell_type": "markdown",
   "id": "d99bd01e-35f4-407a-88b2-6b1104092e58",
   "metadata": {},
   "source": [
    "The $f$-vector is"
   ]
  },
  {
   "cell_type": "code",
   "execution_count": 58,
   "id": "81be9e86-a9c9-44db-a209-de5e681c1a90",
   "metadata": {},
   "outputs": [
    {
     "data": {
      "text/plain": [
       "(1, 8, 25, 40, 35, 14, 1)"
      ]
     },
     "execution_count": 58,
     "metadata": {},
     "output_type": "execute_result"
    }
   ],
   "source": [
    "Simplex.f_vector()"
   ]
  },
  {
   "cell_type": "markdown",
   "id": "7135c507-1d47-472a-b57f-55ed7870ead0",
   "metadata": {},
   "source": [
    "Repeat the above two cells and check that the $f$-vector does not change!\n",
    "\n",
    "**Compute** the rule to describe this $f$-vector! **Hint**: Start with a small `n`."
   ]
  },
  {
   "cell_type": "markdown",
   "id": "5b4f9410-23e7-4cc5-837e-5fb08351313c",
   "metadata": {
    "jp-MarkdownHeadingCollapsed": true
   },
   "source": [
    "## Exercise Sheet 3"
   ]
  },
  {
   "cell_type": "markdown",
   "id": "a5fea268-7c18-461d-bc5d-435a9a2c3e4e",
   "metadata": {},
   "source": [
    "### Problem 1\n",
    "\n",
    "Compute the $h$-vector of stacked polytopes as obtained above."
   ]
  },
  {
   "cell_type": "markdown",
   "id": "23932254-df7c-4a4c-8e4f-0d7e18084d67",
   "metadata": {},
   "source": [
    "## Exercise Sheet 4"
   ]
  },
  {
   "cell_type": "markdown",
   "id": "0a9c9e2e-af91-490c-84b6-f81627a6d331",
   "metadata": {},
   "source": [
    "### Problem 4"
   ]
  },
  {
   "cell_type": "markdown",
   "id": "c8d9a077-99ad-4949-9b07-3fbdb67e440b",
   "metadata": {},
   "source": [
    "You can compute the flag $f$-vector like so:"
   ]
  },
  {
   "cell_type": "code",
   "execution_count": 59,
   "id": "e6c88405-43b9-4c97-9604-a8d4679a9c9d",
   "metadata": {},
   "outputs": [],
   "source": [
    "CO = polytopes.cuboctahedron()"
   ]
  },
  {
   "cell_type": "code",
   "execution_count": 60,
   "id": "3653f398-fb2a-4238-9d2f-382207e788e5",
   "metadata": {},
   "outputs": [
    {
     "data": {
      "text/plain": [
       "{(-1,): 1,\n",
       " (0, 1, 2): 96,\n",
       " (0, 1): 48,\n",
       " (0, 2): 48,\n",
       " (1, 2): 48,\n",
       " (0,): 12,\n",
       " (1,): 24,\n",
       " (2,): 14,\n",
       " (3,): 1}"
      ]
     },
     "execution_count": 60,
     "metadata": {},
     "output_type": "execute_result"
    }
   ],
   "source": [
    "CO.flag_f_vector()"
   ]
  },
  {
   "cell_type": "markdown",
   "id": "714bdf74-86e6-4098-b86f-8d6fba570019",
   "metadata": {},
   "source": [
    "**Verify** the flag $f$-vector identities given in Problem 4 on the polytope `CO`."
   ]
  },
  {
   "cell_type": "code",
   "execution_count": null,
   "id": "5fe9f0ce-f653-4782-9732-8c160757ab56",
   "metadata": {},
   "outputs": [],
   "source": []
  },
  {
   "cell_type": "markdown",
   "id": "eb8f3315-2a52-4b60-8d9e-dd78b019284b",
   "metadata": {},
   "source": [
    "# Ehrhart Polynomials"
   ]
  },
  {
   "cell_type": "markdown",
   "id": "35784cb4-8be5-415a-a4d7-a81d3ff31cbd",
   "metadata": {},
   "source": [
    "## Exercise Sheet 1"
   ]
  },
  {
   "cell_type": "markdown",
   "id": "a775cf81-899a-40bc-87de-0c0dd15bdf0e",
   "metadata": {},
   "source": [
    "### Problem 3"
   ]
  },
  {
   "cell_type": "code",
   "execution_count": 1,
   "id": "37833ab9-22f1-4687-9f5d-aa5e117ccba6",
   "metadata": {},
   "outputs": [],
   "source": [
    "d = 5\n",
    "Simplex = polytopes.simplex(d)"
   ]
  },
  {
   "cell_type": "markdown",
   "id": "bc9afa6f-a82f-4fb8-a670-6ea82a81fb10",
   "metadata": {},
   "source": [
    "**Compute** $L_{Simplex}(t)$ and $L_{Simplex^\\circ}(t)$"
   ]
  },
  {
   "cell_type": "markdown",
   "id": "bd0e98f5-d79c-4385-bf6b-7e967c4dc866",
   "metadata": {},
   "source": [
    "### Problem 5"
   ]
  },
  {
   "cell_type": "code",
   "execution_count": 138,
   "id": "3eeca272-a8a2-48e8-a5f5-3ef1f95fc197",
   "metadata": {},
   "outputs": [
    {
     "data": {
      "text/plain": [
       "(t^3 + 23*t^2 + 15*t + 1)/(t^4 - 4*t^3 + 6*t^2 - 4*t + 1)"
      ]
     },
     "execution_count": 138,
     "metadata": {},
     "output_type": "execute_result"
    }
   ],
   "source": [
    "CO = polytopes.cuboctahedron(backend='normaliz')\n",
    "es = CO.ehrhart_series();es"
   ]
  },
  {
   "cell_type": "markdown",
   "id": "753bc3cb-7f23-41eb-a773-44a60ec5f1ae",
   "metadata": {},
   "source": [
    "Compute the bipyramid of `CO` and verify the equality $\\operatorname{Ehr}_{bip(Q)}(z)=\\frac{1+z}{1-z}\\operatorname{Ehr}_{Q}(z)$"
   ]
  },
  {
   "cell_type": "code",
   "execution_count": null,
   "id": "e9ceb22f-b731-42e2-857f-b39ac79e16c4",
   "metadata": {},
   "outputs": [],
   "source": []
  },
  {
   "cell_type": "markdown",
   "id": "cc6b4460-608a-445a-9a48-3db31494e934",
   "metadata": {},
   "source": [
    "### Problem 6:"
   ]
  },
  {
   "cell_type": "code",
   "execution_count": 141,
   "id": "286b44d3-2d48-48d3-a851-0facf84ad452",
   "metadata": {},
   "outputs": [],
   "source": [
    "OC = octahedron"
   ]
  },
  {
   "cell_type": "markdown",
   "id": "ae6dda6a-2b77-4921-9e90-58b0382236f8",
   "metadata": {},
   "source": [
    "Compute the Ehrhart polynomial via **interpolation** and **generating** functions"
   ]
  },
  {
   "cell_type": "code",
   "execution_count": null,
   "id": "75ae64bd-3b48-4cd0-9341-42e3b29f267d",
   "metadata": {},
   "outputs": [],
   "source": []
  },
  {
   "cell_type": "markdown",
   "id": "2ca1b631-1ef7-4ce8-8c98-6b01237333c5",
   "metadata": {},
   "source": [
    "### Problem 7:"
   ]
  },
  {
   "cell_type": "code",
   "execution_count": 145,
   "id": "e9c85853-bd8a-4756-b9fc-ec2f5692dcf3",
   "metadata": {},
   "outputs": [],
   "source": [
    "CP = [polytopes.cross_polytope(_) for _ in range(5)]"
   ]
  },
  {
   "cell_type": "markdown",
   "id": "163912c2-6a15-4e19-8ce1-c139e9dcacf5",
   "metadata": {},
   "source": [
    "Plot the roots of the Ehrhart polynomials"
   ]
  },
  {
   "cell_type": "code",
   "execution_count": null,
   "id": "0df2cb11-a01c-42b2-8b57-1f1e7a8216cf",
   "metadata": {},
   "outputs": [],
   "source": []
  },
  {
   "cell_type": "markdown",
   "id": "1b438d2b-80b2-4270-8eed-c33cf2850de3",
   "metadata": {},
   "source": [
    "## Exercise Sheet 2"
   ]
  },
  {
   "cell_type": "markdown",
   "id": "17a7d775-bceb-4e75-ae5d-85fd652abca4",
   "metadata": {},
   "source": [
    "## Exercise Sheet 3"
   ]
  },
  {
   "cell_type": "markdown",
   "id": "15ede138-ebcf-457b-972f-42d75e653738",
   "metadata": {},
   "source": [
    "## Exercise Sheet 4"
   ]
  },
  {
   "cell_type": "code",
   "execution_count": null,
   "id": "6eef9729-d56c-49eb-b471-edd71d87d174",
   "metadata": {},
   "outputs": [],
   "source": []
  }
 ],
 "metadata": {
  "kernelspec": {
   "display_name": "SageMath 10.4.beta8",
   "language": "sage",
   "name": "sagemath"
  },
  "language_info": {
   "codemirror_mode": {
    "name": "ipython",
    "version": 3
   },
   "file_extension": ".py",
   "mimetype": "text/x-python",
   "name": "python",
   "nbconvert_exporter": "python",
   "pygments_lexer": "ipython3",
   "version": "3.11.8"
  }
 },
 "nbformat": 4,
 "nbformat_minor": 5
}
