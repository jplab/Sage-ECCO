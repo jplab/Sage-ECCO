{
 "cells": [
  {
   "cell_type": "markdown",
   "id": "497ede4d-7a92-441f-9f71-ce49d7518652",
   "metadata": {},
   "source": [
    "# Real rooted and stable polynomials"
   ]
  },
  {
   "cell_type": "markdown",
   "id": "6fb762c5-d26b-4861-9cfc-0cefe9d20953",
   "metadata": {},
   "source": [
    "## Lecture 1: Problem 2\n",
    "\n",
    "Let's create a vector `v` as required."
   ]
  },
  {
   "cell_type": "code",
   "execution_count": null,
   "id": "10ced3d2-606f-4e2b-856d-1c03dcbab610",
   "metadata": {},
   "outputs": [],
   "source": [
    "var('x1,x2,x3')\n",
    "f = x1*x2*x3\n",
    "plot = implicit_plot3d(f==0,(x1,-4,4), (x2,-4,4), (x3,-4,4), color='plum');plot"
   ]
  },
  {
   "cell_type": "markdown",
   "id": "5c065875-2631-4581-900e-e7e795a51ef5",
   "metadata": {},
   "source": [
    "In order to get the Jacobian (see wikipedia article: <https://en.wikipedia.org/wiki/Jacobian_matrix_and_determinant>), we will redefine the variables and make them into a polynomial ring:"
   ]
  },
  {
   "cell_type": "code",
   "execution_count": null,
   "id": "6da5ea18-5fe5-4980-89d7-2ab027977f2f",
   "metadata": {},
   "outputs": [],
   "source": [
    "R.<x1,x2,x3> = QQ[];R"
   ]
  },
  {
   "cell_type": "code",
   "execution_count": null,
   "id": "82325830-f356-47e0-8237-d1d627c6d9d1",
   "metadata": {},
   "outputs": [],
   "source": [
    "f = x1*x2*x3;f"
   ]
  },
  {
   "cell_type": "code",
   "execution_count": null,
   "id": "93dab60f-82d1-445b-a762-265ae9090b3c",
   "metadata": {},
   "outputs": [],
   "source": [
    "jacobian = vector(f.jacobian_ideal().gens());jacobian"
   ]
  },
  {
   "cell_type": "markdown",
   "id": "537a90f8-178b-4870-b846-9b5c419bcc59",
   "metadata": {},
   "source": [
    "Then we can multiply with the vector `v` (Sage with be able to recognize that we want the scalar product):"
   ]
  },
  {
   "cell_type": "code",
   "execution_count": null,
   "id": "21d5e895-bf8a-4868-bdb8-8687d752b3a9",
   "metadata": {},
   "outputs": [],
   "source": [
    "Dvf = v*jacobian;Dvf"
   ]
  },
  {
   "cell_type": "markdown",
   "id": "f1e535e9-d044-4450-8251-bd80dc988dc7",
   "metadata": {},
   "source": [
    "This looks like an example that we have seen in the Lecture 1! Find it!\n",
    "\n",
    "Can you figure out how to visualize the zero set?"
   ]
  },
  {
   "cell_type": "markdown",
   "id": "7711e24b-a73d-4036-917a-f9c31f2a3755",
   "metadata": {},
   "source": [
    "Obtain the second jacobian and modify `v` to see how it changes:"
   ]
  },
  {
   "cell_type": "code",
   "execution_count": null,
   "id": "23baa342-7e12-41ee-8bc0-bbc801c9902b",
   "metadata": {},
   "outputs": [],
   "source": [
    "second_jacobian = "
   ]
  },
  {
   "cell_type": "code",
   "execution_count": null,
   "id": "ae8c9338-f466-42d3-9045-feb9190b8c9a",
   "metadata": {},
   "outputs": [],
   "source": [
    "D2vf = "
   ]
  },
  {
   "cell_type": "markdown",
   "id": "b1d93510-41d9-4d64-8c0e-2c39448261b7",
   "metadata": {},
   "source": [
    "### Modify the above code to answer part b) of Question 2"
   ]
  },
  {
   "cell_type": "markdown",
   "id": "e61d88f5-9684-4cd7-9f8a-2f91cb2c16b2",
   "metadata": {},
   "source": [
    "## Problem 4: "
   ]
  },
  {
   "cell_type": "code",
   "execution_count": null,
   "id": "fec4c5c9-169e-48d8-a7d5-b5d1dfa090af",
   "metadata": {},
   "outputs": [],
   "source": [
    "G = graphs.platonic_solids.OctahedralGraph();G"
   ]
  },
  {
   "cell_type": "markdown",
   "id": "c19a9a34-ba8d-437c-999e-75d8314f735c",
   "metadata": {},
   "source": [
    "Next, we will define one variable for each edge in the graph and put it in a dictionary to make it easy to go from an edge to the corresponding variable:"
   ]
  },
  {
   "cell_type": "code",
   "execution_count": null,
   "id": "6421618c-d49a-4a31-a371-015e5d988cb1",
   "metadata": {},
   "outputs": [],
   "source": [
    "var_dict = {}\n",
    "for e in G.edges():\n",
    "    i,j,_ = e\n",
    "    var_dict[e] = var(\"e_{}{}\".format(i,j),latex_name=\"e_{{{}{}}}\".format(i,j))"
   ]
  },
  {
   "cell_type": "markdown",
   "id": "fd01c9b4-a66c-4dc8-ae26-b71333794f78",
   "metadata": {},
   "source": [
    "For example, I can ask for the variables of the edges with index `4`:"
   ]
  },
  {
   "cell_type": "code",
   "execution_count": null,
   "id": "4edf805c-efd1-40d6-afdd-3a19931fc96d",
   "metadata": {},
   "outputs": [],
   "source": [
    "var_dict[G.edges()[4]]"
   ]
  },
  {
   "cell_type": "markdown",
   "id": "634d1461-0c9b-434f-9c5e-cd985576eb8b",
   "metadata": {},
   "source": [
    "Then I create the variables associated to the edges:"
   ]
  },
  {
   "cell_type": "code",
   "execution_count": null,
   "id": "77ef38ef-73c7-4e67-b15c-fa5fd630c55f",
   "metadata": {},
   "outputs": [],
   "source": [
    "Rd = VectorSpace(QQ,G.num_verts()-1)\n",
    "basis = Rd.basis()\n",
    "v_dict = {}\n",
    "for e in G.edges():\n",
    "    if G.num_verts()-1 in e:\n",
    "        v_dict[e] = basis[e[0]]\n",
    "    else:\n",
    "        v_dict[e] = basis[e[0]]-basis[e[1]]"
   ]
  },
  {
   "cell_type": "markdown",
   "id": "158da5bf-5bb7-41fb-82a8-492d1cd243f4",
   "metadata": {},
   "source": [
    "Then, we can create the matrix for which we need to compute the determinant:"
   ]
  },
  {
   "cell_type": "code",
   "execution_count": null,
   "id": "1338903d-ba30-4e32-b7a5-24990d1a5b79",
   "metadata": {},
   "outputs": [],
   "source": [
    "M = sum([var_dict[e]*v_dict[e].column()*v_dict[e].row() for e in G.edges()])"
   ]
  },
  {
   "cell_type": "markdown",
   "id": "15c4da8b-e4e6-42d4-827c-6208e8dd6598",
   "metadata": {},
   "source": [
    "Compute the determinant:"
   ]
  },
  {
   "cell_type": "code",
   "execution_count": null,
   "id": "b7c24099-6c66-41d3-b8d3-5fbc0ee48fce",
   "metadata": {},
   "outputs": [],
   "source": []
  },
  {
   "cell_type": "markdown",
   "id": "1dacb4df-4212-4b63-a909-520d8dca993e",
   "metadata": {},
   "source": [
    "This is horrible, right?"
   ]
  },
  {
   "cell_type": "markdown",
   "id": "78c4ddce-f3b0-472b-abf0-22a213a33140",
   "metadata": {},
   "source": [
    "So now, compute all spanning trees of `G` and for each of them, create the appropriate monomial:"
   ]
  },
  {
   "cell_type": "code",
   "execution_count": null,
   "id": "ad55946b-c52c-4b83-b61b-794431543f72",
   "metadata": {},
   "outputs": [],
   "source": [
    "ST = G.spanning_trees()"
   ]
  },
  {
   "cell_type": "code",
   "execution_count": null,
   "id": "65748807-de6c-42aa-a28e-b31ce33e0941",
   "metadata": {},
   "outputs": [],
   "source": [
    "Example = next(ST);Example"
   ]
  },
  {
   "cell_type": "markdown",
   "id": "014b7719-00ea-42a0-b54a-819eb7816a9f",
   "metadata": {},
   "source": [
    "You can get the monomial this way:"
   ]
  },
  {
   "cell_type": "code",
   "execution_count": null,
   "id": "f6a87c16-5555-4a76-a9a2-6be2fb8efe5e",
   "metadata": {},
   "outputs": [],
   "source": [
    "prod([var_dict[e] for e in Example.edges()])"
   ]
  },
  {
   "cell_type": "markdown",
   "id": "7d62c9cb-3513-474c-b851-f6214734fa69",
   "metadata": {},
   "source": [
    "Now, you task is to verify that the sum of such monomials is equal to the determinant that you computed above."
   ]
  },
  {
   "cell_type": "markdown",
   "id": "de91c0fc-0a9d-4867-9d65-f50a25d9a92f",
   "metadata": {},
   "source": [
    "## Problem 8: Initial forms and Newton polytopes"
   ]
  },
  {
   "cell_type": "code",
   "execution_count": null,
   "id": "bd15454f-8c96-401b-8e57-b9036d4cb1aa",
   "metadata": {},
   "outputs": [],
   "source": [
    "var_list = list([str(_) for _ in var_dict.values()])\n",
    "R = PolynomialRing(QQ,var_list)"
   ]
  },
  {
   "cell_type": "code",
   "execution_count": null,
   "id": "077fcd86-1619-44de-ade6-e13de1921116",
   "metadata": {},
   "outputs": [],
   "source": [
    "big_determinant = R(M.det())"
   ]
  },
  {
   "cell_type": "code",
   "execution_count": null,
   "id": "da3b0663-4573-4b3e-8aae-68bcfb14cd21",
   "metadata": {},
   "outputs": [],
   "source": [
    "Newton_polytope = big_determinant.newton_polytope()"
   ]
  },
  {
   "cell_type": "code",
   "execution_count": null,
   "id": "f34a2759-0578-4d02-bfb5-0c1249fe9746",
   "metadata": {},
   "outputs": [],
   "source": [
    "Newton_polytope"
   ]
  },
  {
   "cell_type": "code",
   "execution_count": null,
   "id": "b4f38147-04c3-47b5-8173-3ed855a0c57e",
   "metadata": {},
   "outputs": [],
   "source": [
    "Newton_polytope.faces(1)"
   ]
  },
  {
   "cell_type": "markdown",
   "id": "19a51986-7e85-4c0a-b020-d872ecd5292c",
   "metadata": {},
   "source": [
    "You can now verify the statements of (d) on the edges (but you should be able to figure this out from the combinatorial interpretation of the vertices)."
   ]
  },
  {
   "cell_type": "markdown",
   "id": "8e7acfdc-db10-47af-910c-f448b2f95dda",
   "metadata": {},
   "source": [
    "# Lecture 2: Matroids and log-concavity"
   ]
  },
  {
   "cell_type": "markdown",
   "id": "97b8e320-b1bf-458e-81ad-ecce774b95c1",
   "metadata": {},
   "source": [
    "## Problem 1 (Matroid operations):\n",
    "\n",
    "Matroids are very well represented in Sagemath. You can read the documentation:"
   ]
  },
  {
   "cell_type": "code",
   "execution_count": null,
   "id": "458ce0b4-ef4c-4b58-96fc-8448574d4de4",
   "metadata": {},
   "outputs": [],
   "source": [
    "Matroid?"
   ]
  },
  {
   "cell_type": "markdown",
   "id": "64645e0e-aece-409d-8195-d56241643188",
   "metadata": {},
   "source": [
    "Let's create a Matroid from the graph `G`:"
   ]
  },
  {
   "cell_type": "code",
   "execution_count": null,
   "id": "bca38830-733c-4abe-8098-6cfc17df74c6",
   "metadata": {},
   "outputs": [],
   "source": [
    "MG = Matroid(G)"
   ]
  },
  {
   "cell_type": "markdown",
   "id": "cac83899-866a-42df-8691-1f869d394b91",
   "metadata": {},
   "source": [
    "We can then ask for the basis of the matroid for example (for a graphical matroid, they correspond to spanning trees):"
   ]
  },
  {
   "cell_type": "code",
   "execution_count": null,
   "id": "b9396241-a2f8-4fcb-a43d-aa1145aa129d",
   "metadata": {},
   "outputs": [],
   "source": [
    "MG.bases()"
   ]
  },
  {
   "cell_type": "markdown",
   "id": "3bab0c54-4261-41e2-a243-3fb6d0a8ca2d",
   "metadata": {},
   "source": [
    "We can then contract or delete and element of the ground set:"
   ]
  },
  {
   "cell_type": "code",
   "execution_count": null,
   "id": "589794da-0fcc-4834-9271-bcd3ec4ecd15",
   "metadata": {},
   "outputs": [],
   "source": [
    "MG.groundset()"
   ]
  },
  {
   "cell_type": "code",
   "execution_count": null,
   "id": "a50e0122-504b-44e7-8bac-81c37ad721b6",
   "metadata": {},
   "outputs": [],
   "source": [
    "MG.contract((0,1))"
   ]
  },
  {
   "cell_type": "code",
   "execution_count": null,
   "id": "b28bf296-ee53-4365-9fe1-17649def7e1c",
   "metadata": {},
   "outputs": [],
   "source": [
    "MG.delete((4,5))"
   ]
  },
  {
   "cell_type": "markdown",
   "id": "c011f930-aa94-499e-8070-577a91277766",
   "metadata": {},
   "source": [
    "We can also take the dual:"
   ]
  },
  {
   "cell_type": "code",
   "execution_count": null,
   "id": "6422387e-3e01-49d5-bf14-5811c8517879",
   "metadata": {},
   "outputs": [],
   "source": [
    "MG.dual()"
   ]
  },
  {
   "cell_type": "code",
   "execution_count": null,
   "id": "083671b2-ea24-4dc3-9401-2db202927898",
   "metadata": {},
   "outputs": [],
   "source": []
  }
 ],
 "metadata": {
  "kernelspec": {
   "display_name": "SageMath 10.4.beta6",
   "language": "sage",
   "name": "sagemath"
  },
  "language_info": {
   "codemirror_mode": {
    "name": "ipython",
    "version": 3
   },
   "file_extension": ".py",
   "mimetype": "text/x-python",
   "name": "python",
   "nbconvert_exporter": "python",
   "pygments_lexer": "ipython3",
   "version": "3.11.2"
  }
 },
 "nbformat": 4,
 "nbformat_minor": 5
}
