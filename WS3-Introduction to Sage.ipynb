{
 "cells": [
  {
   "cell_type": "markdown",
   "id": "c6402f6b-86fa-4f28-b5a9-0fa2826e1fd7",
   "metadata": {},
   "source": [
    "# Introduction to Sage (using Jupyter/Cocalc)\n",
    "\n",
    "#### This is an introduction to the basic functionality of Sage, with an emphasis on seeing how to handle a worksheet and how to get more detailed help.\n",
    "    \n",
    "#### Sage can be seen as a <span style=\"color:red\">modified python language for mathematicians</span> with a <span style=\"color:red\">HUGE distribution of softwares</span> and a <span style=\"color:red\">HUGE library of mathematical functions</span>.\n",
    "\n",
    "+ The list of packages (included softwares) can be found here: <https://doc.sagemath.org/html/en/reference/spkg/>\n",
    "+ The comprehensive Reference Manual can be found here: <https://doc.sagemath.org/html/en/reference/index.html>"
   ]
  },
  {
   "cell_type": "markdown",
   "id": "1ff2f7cc-bae0-4375-87ec-d29c305535f4",
   "metadata": {},
   "source": [
    "## Some quotes"
   ]
  },
  {
   "cell_type": "markdown",
   "id": "1f7df296-02c3-462c-8a02-75185f38a7b1",
   "metadata": {},
   "source": [
    "### \"You can read Sylow’s Theorem and its proof in Huppert’s book in the library [...] then you can use Sylow’s Theorem for the rest of your life free of charge, but for many computer algebra systems license fees have to be paid regularly [...].\n",
    "\n",
    "### With this situation two of the most basic rules of conduct in mathematics are violated: \n",
    "\n",
    "### - In mathematics <span style=\"color:red\">information is passed on free of charge and everything is laid open for checking</span>. Not applying these rules to computer algebra systems that are made for mathematical research [...] means moving in a most undesirable direction.\n",
    "\n",
    "### Most important: \n",
    "\n",
    "### - Can we expect somebody to <span style=\"color:red\">believe a result of a program that he is not allowed to see</span>?\"\n",
    "\n",
    "### <div style=\"text-align: right\">– J. Neubüser in 1993 (he started GAP in 1986).</div>"
   ]
  },
  {
   "cell_type": "markdown",
   "id": "ff5a6d4d-c92d-47bb-9eae-5dace5f9ba7e",
   "metadata": {},
   "source": [
    "### “I think, fundamentally, open source does tend to be more stable software. It’s the right way to do things. I compare it to <span style=\"color:red\">science versus witchcraft</span>.\n",
    "\n",
    "### In science, the whole system builds on people looking at other people’s results and building on top of them. \n",
    "\n",
    "### In witchcraft, somebody had a small secret and guarded it—but never allowed others to really understand it and build on it.”\n",
    "\n",
    "### <div style=\"text-align: right\">—Linus Torvalds.</div>"
   ]
  },
  {
   "cell_type": "markdown",
   "id": "a40f91ce-27ef-4907-b4d6-18b8345caf71",
   "metadata": {},
   "source": [
    "## Python+Sage = Python with a math brain\n",
    "\n",
    "The language of SAGE is a slightly modified Python language. Python is an object oriented and therefore everything in SAGE are objects."
   ]
  },
  {
   "cell_type": "markdown",
   "id": "4118d0c6-f090-44b5-82d4-aa574ca47b49",
   "metadata": {},
   "source": [
    "### Mathematical functions\n",
    "\n",
    "There are a lot of usual mathematical functions already implemented in Sage:"
   ]
  },
  {
   "cell_type": "markdown",
   "id": "a42f3227-fed1-44db-8514-7674dda29455",
   "metadata": {},
   "source": [
    "#### Mathematical Constants and functions"
   ]
  },
  {
   "cell_type": "code",
   "execution_count": null,
   "id": "3023e31f-2eae-43b9-b7d4-8ec0cd2ee50a",
   "metadata": {},
   "outputs": [],
   "source": [
    "pi,e,golden_ratio,euler_gamma,i,infinity"
   ]
  },
  {
   "cell_type": "code",
   "execution_count": null,
   "id": "bff97107-92b2-49a4-a59a-979f7b013118",
   "metadata": {},
   "outputs": [],
   "source": [
    "e^(i*pi)"
   ]
  },
  {
   "cell_type": "code",
   "execution_count": null,
   "id": "2236b3ac-ef7a-49c8-a0ff-0c270cae20fc",
   "metadata": {},
   "outputs": [],
   "source": [
    "log(57), exp(3), gcd(345,11142), lcm(20,24)"
   ]
  },
  {
   "cell_type": "markdown",
   "id": "8778c3ca-eb74-4b2f-97de-54137295cb00",
   "metadata": {},
   "source": [
    "#### Trigonometry:"
   ]
  },
  {
   "cell_type": "code",
   "execution_count": null,
   "id": "259782a2-3d40-4c56-8e22-66672ce2013c",
   "metadata": {},
   "outputs": [],
   "source": [
    "[arccos(pi/4),tan(pi),sin(pi/2)]"
   ]
  },
  {
   "cell_type": "markdown",
   "id": "80cd3ba0-df29-4dfd-bc11-1c016b7e2200",
   "metadata": {},
   "source": [
    "#### Combinatorial tools"
   ]
  },
  {
   "cell_type": "code",
   "execution_count": null,
   "id": "7c928c99-7ada-4f29-a09f-dfb981845b46",
   "metadata": {},
   "outputs": [],
   "source": [
    "binomial(4,2),catalan_number(4),factorial(6),fibonacci(4),multinomial(3,4,5)"
   ]
  },
  {
   "cell_type": "markdown",
   "id": "853ee0e0-7de2-44c6-add7-efd953fe839c",
   "metadata": {},
   "source": [
    "#### Calculus"
   ]
  },
  {
   "cell_type": "code",
   "execution_count": null,
   "id": "ee070661-8bd3-4941-b915-782aada583ef",
   "metadata": {},
   "outputs": [],
   "source": [
    "limit(1/x,x=infinity), derivative(sin(x),x),integrate(tan(x),x)"
   ]
  },
  {
   "cell_type": "markdown",
   "id": "3bb24dc7-e5e7-457c-b93c-e5c75eb8809a",
   "metadata": {},
   "source": [
    "#### Linear Algebra"
   ]
  },
  {
   "cell_type": "code",
   "execution_count": null,
   "id": "3954a0b6-04e8-4b4e-b466-9726dc0f13ec",
   "metadata": {
    "scrolled": true
   },
   "outputs": [],
   "source": [
    "M = matrix([[2,3],[7,10]])\n",
    "det(M)"
   ]
  },
  {
   "cell_type": "code",
   "execution_count": null,
   "id": "c450b3ba-8cee-47c5-866e-1a7b6048e065",
   "metadata": {},
   "outputs": [],
   "source": [
    "identity_matrix(4)"
   ]
  },
  {
   "cell_type": "code",
   "execution_count": null,
   "id": "088ea4f1-ccdb-4a5f-8aba-c66c98571145",
   "metadata": {},
   "outputs": [],
   "source": [
    "zero_matrix(3)"
   ]
  },
  {
   "cell_type": "markdown",
   "id": "65819e4f-cbb7-4a35-92e7-75ecae8bfcac",
   "metadata": {},
   "source": [
    "#### Algebra"
   ]
  },
  {
   "cell_type": "code",
   "execution_count": null,
   "id": "6488d7ae-df2d-42d5-a75e-a183b6d513f8",
   "metadata": {},
   "outputs": [],
   "source": [
    "print(expand((x+3)^2))\n",
    "print(factor(111))"
   ]
  },
  {
   "cell_type": "code",
   "execution_count": null,
   "id": "ebb6e814-5020-44f8-9e30-9e3412892547",
   "metadata": {},
   "outputs": [],
   "source": [
    "solve(x^2+7 > x^3-5,x)"
   ]
  },
  {
   "cell_type": "markdown",
   "id": "27e521e0-bdba-48bf-92b3-ce489472fea9",
   "metadata": {},
   "source": [
    "### New default classes and parsing\n",
    "\n",
    "Sage comes with a new layer of classes on top of python. The most prominent example is the class `Integer`, which has more functionality:"
   ]
  },
  {
   "cell_type": "code",
   "execution_count": null,
   "id": "fe3f0751-cf71-4a46-af39-46cb4dee3a88",
   "metadata": {},
   "outputs": [],
   "source": [
    "Mcinco = -5"
   ]
  },
  {
   "cell_type": "code",
   "execution_count": null,
   "id": "05f83c97-df1f-4b94-b18e-6d4d94b54635",
   "metadata": {},
   "outputs": [],
   "source": [
    "type(Mcinco)"
   ]
  },
  {
   "cell_type": "markdown",
   "id": "a1637131-7bd9-4203-80c7-6ae97ea2c247",
   "metadata": {},
   "source": [
    "Notice that this is a **new class** that did not exist in python. The `int` still exists:"
   ]
  },
  {
   "cell_type": "code",
   "execution_count": null,
   "id": "9fc6ca88-cc58-4f1b-b808-6eab8cd6c4a2",
   "metadata": {},
   "outputs": [],
   "source": [
    "int_mcinco = int(-5)\n",
    "type(int_mcinco)"
   ]
  },
  {
   "cell_type": "markdown",
   "id": "781ada6e-5e0e-4be5-ac3d-bc75c79db7f4",
   "metadata": {},
   "source": [
    "You can compare the available methods for both objects and see the difference using the `tab` completion (press the `tab` key in the next two cells and compare):"
   ]
  },
  {
   "cell_type": "code",
   "execution_count": null,
   "id": "1f963712-3ae3-4c8e-b20f-c73e1a9db27d",
   "metadata": {},
   "outputs": [],
   "source": [
    "Mcinco."
   ]
  },
  {
   "cell_type": "code",
   "execution_count": null,
   "id": "dd39ba49-6ea9-4138-ac40-89fddb84f873",
   "metadata": {},
   "outputs": [],
   "source": [
    "int_mcinco."
   ]
  },
  {
   "cell_type": "markdown",
   "id": "3896ce51-09ca-4abf-9379-f848c0373035",
   "metadata": {},
   "source": [
    "Which one offers more?\n",
    "\n",
    "Of course, Sage knows about numbers and how to do the basic operations with them. It will always try to find the least complicated structure (rings, fields, groups, vector spaces, etc.) that allows to do the operation.\n",
    "\n",
    "For example:"
   ]
  },
  {
   "cell_type": "code",
   "execution_count": null,
   "id": "27406574-26de-421f-bf4c-a65a4d194340",
   "metadata": {},
   "outputs": [],
   "source": [
    "F = 3 * 7/11\n",
    "print(F) # Returns a rational number\n",
    "print(type(F))"
   ]
  },
  {
   "cell_type": "markdown",
   "id": "87a6f594-eb9c-459f-8bbe-44f57b45e21e",
   "metadata": {},
   "source": [
    "This is called \"parsing\". Sage **parses** the input you give it, and tries to interpret as reasonably as possible what is meant."
   ]
  },
  {
   "cell_type": "code",
   "execution_count": null,
   "id": "08a191d4-d71e-44d5-8a04-8b28395cc990",
   "metadata": {},
   "outputs": [],
   "source": [
    "G = 49 * 11/7\n",
    "print(G) # Returns an integer!!!\n",
    "print(type(G)) # But the type remains a rational because rational numbers were used to obtain it"
   ]
  },
  {
   "cell_type": "markdown",
   "id": "2d0f0a0c-13fc-453a-80ea-18aaf420505e",
   "metadata": {},
   "source": [
    "See the difference if we use a decimal number:"
   ]
  },
  {
   "cell_type": "code",
   "execution_count": null,
   "id": "888f3d1d-cb83-4918-8ac0-3778bd9d46c8",
   "metadata": {},
   "outputs": [],
   "source": [
    "H = 7.5 * 16/4\n",
    "print(H) # Returns a decimal number!!!\n",
    "print(type(H)) # But the type is a real number because decimal numbers were used to obtain it"
   ]
  },
  {
   "cell_type": "markdown",
   "id": "e1adcd62-12a7-44b6-a01b-f5f5cc6b40b3",
   "metadata": {},
   "source": [
    "#### Python parser vs Sage parser \n",
    "\n",
    "One of the big differences is the difference when interpreting the `^` operator:"
   ]
  },
  {
   "cell_type": "code",
   "execution_count": null,
   "id": "cea575ae-b17e-464a-81cd-291d7c4a182a",
   "metadata": {},
   "outputs": [],
   "source": [
    "print([i**2 for i in range(10)])\n",
    "print([i^2 for i in range(10)])"
   ]
  },
  {
   "cell_type": "markdown",
   "id": "299797b4-765b-4843-9737-f956e0bbb8a4",
   "metadata": {},
   "source": [
    "Sage **interprets** `^` as exponentiation and not as a `XOR` operator, so there is no difference between the two lists above.\n",
    "\n",
    "Sage also always comes with `x` defined as a variable (this is not the case in python):"
   ]
  },
  {
   "cell_type": "code",
   "execution_count": null,
   "id": "36ab9824-6e64-4fab-b19c-d0f44f081096",
   "metadata": {},
   "outputs": [],
   "source": [
    "print(x,type(x))"
   ]
  },
  {
   "cell_type": "markdown",
   "id": "03c99236-2e17-41d1-9ac2-dabf2f90e5a8",
   "metadata": {},
   "source": [
    "### Coersion of classes (we do this all the time in math classes)\n",
    "\n",
    "You can transform both G and H back into integers:"
   ]
  },
  {
   "cell_type": "code",
   "execution_count": null,
   "id": "5678333e-2811-4835-bc88-3531cab51a7c",
   "metadata": {},
   "outputs": [],
   "source": [
    "IntG = Integer(G)\n",
    "print(type(IntG))\n",
    "IntH = Integer(H)\n",
    "print(type(IntH))"
   ]
  },
  {
   "cell_type": "markdown",
   "id": "0a90b346-9f1e-4c28-b682-dedaedf3dbde",
   "metadata": {},
   "source": [
    "This is called **coersion**. Sage has a framework that allows to smoothly pass from a data structure (a rational number) to another (an integer) as long as it knows the recipe and the requirements (that the denominator should be \"1\" for example).\n",
    "\n",
    "On a chalkboard, we do this all the time. And Sage does its best to do this as well. A good example is with the interplay between scalars, vectors and matrices (we'll see this later).\n",
    "\n",
    "So, Sage is somehow the python language and a **math brain** on top of it.\n",
    "\n",
    "As we saw above, sage likes to try and keep things in fraction format. But sometimes we don't want that. There's two different ways to get around that, we can either use `RR` to convert it to a real number or we can use `.n()` to convert it. The benefits of using `.n()` is we can specify the number of digits. Let's see how these work."
   ]
  },
  {
   "cell_type": "code",
   "execution_count": null,
   "id": "e5bbd831-27e8-4432-8ef6-dfe0c274f91b",
   "metadata": {},
   "outputs": [],
   "source": [
    "3/4"
   ]
  },
  {
   "cell_type": "code",
   "execution_count": null,
   "id": "39d42d06-c80c-4d6a-9833-03470b6ca24f",
   "metadata": {},
   "outputs": [],
   "source": [
    "0.75"
   ]
  },
  {
   "cell_type": "code",
   "execution_count": null,
   "id": "5d56f56e-82b4-448e-9e52-7b44e64ba91c",
   "metadata": {},
   "outputs": [],
   "source": [
    "RR(3/4)"
   ]
  },
  {
   "cell_type": "code",
   "execution_count": null,
   "id": "9059e26e-05b3-4476-8976-b70a85dc7c9e",
   "metadata": {},
   "outputs": [],
   "source": [
    "(3/4).n()"
   ]
  },
  {
   "cell_type": "code",
   "execution_count": null,
   "id": "24411434-91ed-4f98-9c01-f12431dae745",
   "metadata": {},
   "outputs": [],
   "source": [
    "(3/4).n(digits=2)"
   ]
  },
  {
   "cell_type": "markdown",
   "id": "566c989d-b49b-401b-9e6f-86bb5159c429",
   "metadata": {},
   "source": [
    "We can also go back by going to the rational numbers using `QQ` as described above."
   ]
  },
  {
   "cell_type": "code",
   "execution_count": null,
   "id": "3e1a4ac9-74d2-458c-8eaa-b00565e47313",
   "metadata": {},
   "outputs": [],
   "source": [
    "QQ(0.75)"
   ]
  },
  {
   "cell_type": "markdown",
   "id": "0974714b-6fa6-469a-9685-cae5ef0b36b0",
   "metadata": {},
   "source": [
    "#### Exercise 1:\n",
    "\n",
    "Display the number `2/3` as a fraction, as a real number and as a real number with max 4 digits."
   ]
  },
  {
   "cell_type": "code",
   "execution_count": null,
   "id": "75e33c85-6c57-4601-ab6e-f36ee3c5b2fc",
   "metadata": {},
   "outputs": [],
   "source": []
  },
  {
   "cell_type": "markdown",
   "id": "b0af9c62-61c5-4835-9e3e-41fadb3d7596",
   "metadata": {},
   "source": [
    "#### Exercise 2:\n",
    "\n",
    "Convert `e^(i*pi)` from an expression to a complex number (using `ComplexNumber`) and then to a Sage integer."
   ]
  },
  {
   "cell_type": "code",
   "execution_count": null,
   "id": "eabf2906-cf55-4cba-a6fa-bf50c4ecd032",
   "metadata": {},
   "outputs": [],
   "source": []
  },
  {
   "cell_type": "markdown",
   "id": "fffd6063-0c31-4bc7-b4e0-79ad507899a8",
   "metadata": {},
   "source": [
    "### Examples of defaults classes known by Sage\n",
    "\n",
    "Sage knows many many mathematical structures *out of the box*. They are typically named using a capitalized letter to differentiate them."
   ]
  },
  {
   "cell_type": "markdown",
   "id": "fd37457d-587c-4a19-92fd-3062cacfda06",
   "metadata": {},
   "source": [
    "#### Subsets\n",
    "\n",
    "You can define the subsets of the set {1,2,3,4}:"
   ]
  },
  {
   "cell_type": "code",
   "execution_count": null,
   "id": "396e5404-1361-4ebd-a9f7-8a8221260267",
   "metadata": {},
   "outputs": [],
   "source": [
    "SS = Subsets(4); print(SS)"
   ]
  },
  {
   "cell_type": "markdown",
   "id": "3ea0cfe1-1c02-485c-9cc5-e8173c3415d5",
   "metadata": {},
   "source": [
    "And enumerate it:"
   ]
  },
  {
   "cell_type": "code",
   "execution_count": null,
   "id": "6ab1eeb4-b174-4cb8-b7d2-6fe380c863c2",
   "metadata": {},
   "outputs": [],
   "source": [
    "list(SS)"
   ]
  },
  {
   "cell_type": "markdown",
   "id": "3d4ce45a-c314-4933-a244-fe6dda4ce430",
   "metadata": {},
   "source": [
    "#### Permutations\n",
    "\n",
    "You can define the permutations of a certain size:"
   ]
  },
  {
   "cell_type": "code",
   "execution_count": null,
   "id": "70380d60-1499-4b23-93e9-7ad1e088e7dd",
   "metadata": {},
   "outputs": [],
   "source": [
    "P = Permutations(4);P"
   ]
  },
  {
   "cell_type": "code",
   "execution_count": null,
   "id": "1b55e9f5-1b7b-49c0-9bc2-338b74a29791",
   "metadata": {},
   "outputs": [],
   "source": [
    "list(P)"
   ]
  },
  {
   "cell_type": "markdown",
   "id": "b3ed3957-d890-4381-90ec-06a6cca3acab",
   "metadata": {},
   "source": [
    "##### Exercise 3:\n",
    "\n",
    "List the permutations of {1,2,3,4,5} that finish with an inversion. Recall that $i$ is a inversion in a permutation $p$ if $p(i) \\ge p(i+1)$."
   ]
  },
  {
   "cell_type": "code",
   "execution_count": null,
   "id": "de127f9c-42f0-4258-94f9-030e0d66bb5a",
   "metadata": {},
   "outputs": [],
   "source": []
  },
  {
   "cell_type": "markdown",
   "id": "3da9cc5f-c9d5-45be-95b7-ab95767d2b15",
   "metadata": {},
   "source": [
    "##### Exercise 4:\n",
    "\n",
    "Write a function to list all fixed points of a given permutation. Then, write another function `der(n)` that lists all permutations of {1,2,...,n} without fixed point."
   ]
  },
  {
   "cell_type": "code",
   "execution_count": null,
   "id": "634a7714-23f5-4450-a10e-6c53b817c053",
   "metadata": {},
   "outputs": [],
   "source": [
    "\n"
   ]
  },
  {
   "cell_type": "code",
   "execution_count": null,
   "id": "a1805fc2-2384-40f1-967a-387e6993423d",
   "metadata": {},
   "outputs": [],
   "source": [
    "der(4)"
   ]
  },
  {
   "cell_type": "markdown",
   "id": "96bc6067-d42e-4c33-ab1e-63fabdaec862",
   "metadata": {},
   "source": [
    "We can collect the sequence and obtain information about that sequence with OEIS."
   ]
  },
  {
   "cell_type": "code",
   "execution_count": null,
   "id": "122abc24-5ffc-4569-a27d-abb7659efad9",
   "metadata": {},
   "outputs": [],
   "source": [
    "oeis([ len(der(n)) for n in range(8) ])"
   ]
  },
  {
   "cell_type": "markdown",
   "id": "7218455c-48c3-43a2-b948-09f6f4bc3536",
   "metadata": {},
   "source": [
    "## Learning Sage by finding Help"
   ]
  },
  {
   "cell_type": "markdown",
   "id": "9bec1983-e944-4219-9b4c-3be8bd29cbcc",
   "metadata": {},
   "source": [
    "### Help within Sage\n",
    "\n",
    "To find help, just type the name of the mathematical concept/object that you wish to use (with first letter in upper and lower case) followed by the question mark and press `Shift+Enter`."
   ]
  },
  {
   "cell_type": "code",
   "execution_count": null,
   "id": "9e3017db-94f6-41bf-a072-fa38705e7571",
   "metadata": {},
   "outputs": [],
   "source": [
    "Matrix?"
   ]
  },
  {
   "cell_type": "markdown",
   "id": "b76f8224-6da6-49f1-ad24-87a1004e75f5",
   "metadata": {},
   "source": [
    "This gives you the documentation for the function and many examples that you can copy/paste"
   ]
  },
  {
   "cell_type": "code",
   "execution_count": null,
   "id": "34794daf-46fe-4181-8c1a-b2cf364845b1",
   "metadata": {},
   "outputs": [],
   "source": [
    "M = Matrix([[1,2],[7,10]])"
   ]
  },
  {
   "cell_type": "markdown",
   "id": "12c9541a-d126-43c1-8cc3-e82ae2c8358e",
   "metadata": {},
   "source": [
    "Now suppose we would like to change the base ring of the matrix, and we would like to learn how Sage does that.\n",
    "You can start typing `M.change` and then hit `TAB` and see if sage offers you something."
   ]
  },
  {
   "cell_type": "code",
   "execution_count": null,
   "id": "99ef9425-7205-4e94-9d14-ac4fac83d37b",
   "metadata": {},
   "outputs": [],
   "source": [
    "M.change"
   ]
  },
  {
   "cell_type": "markdown",
   "id": "b05048cf-5949-47ed-b68d-53a19866e110",
   "metadata": {},
   "source": [
    "Then, you can add `??` after the function and you will be able to see the **source code** of the function. This is a great way to learn coding."
   ]
  },
  {
   "cell_type": "code",
   "execution_count": null,
   "id": "ba25acf2-f67f-4db5-9d0d-27303478e665",
   "metadata": {},
   "outputs": [],
   "source": [
    "M.change_ring??"
   ]
  },
  {
   "cell_type": "markdown",
   "id": "6dc83d06-13aa-4bf0-a45e-16bc86951aaf",
   "metadata": {},
   "source": [
    "### Search engines\n",
    "\n",
    "There are 3 search engines that can help finding certain functions or methods in Sage:\n",
    "\n",
    "+ `search_def` : searching within the name of function\n",
    "+ `search_doc` : searching within the documentation strings of all sage functions\n",
    "+ `search_src` : searching within ALL the source code of Sage"
   ]
  },
  {
   "cell_type": "code",
   "execution_count": null,
   "id": "ffd0e895-1995-44f9-948f-99054164b9ff",
   "metadata": {},
   "outputs": [],
   "source": [
    "search_def(\"block_matrix\")"
   ]
  },
  {
   "cell_type": "code",
   "execution_count": null,
   "id": "93a77a3a-1634-458b-a6f0-6589501a5aa1",
   "metadata": {},
   "outputs": [],
   "source": [
    "search_doc(\"solving systems\")"
   ]
  },
  {
   "cell_type": "code",
   "execution_count": null,
   "id": "583b8144-57c1-434a-a1e8-544754f46627",
   "metadata": {},
   "outputs": [],
   "source": [
    "search_src(\"BUG!\")"
   ]
  },
  {
   "cell_type": "markdown",
   "id": "baae0c4e-02ca-4aa0-99d2-4d6350befbeb",
   "metadata": {},
   "source": [
    "### Help within Jupyter Notebook\n",
    "\n",
    "To discover how Jupyter works you can click `Help -> Show keyboard shortcuts` or `Help -> Tutorials, SymPy, Singular, IPython, matplotlib, etc.`\n",
    "\n",
    "You also have direct access to the reference manual of many libraries."
   ]
  },
  {
   "cell_type": "markdown",
   "id": "72ddb496-1451-48e1-9744-3726ba7398d8",
   "metadata": {},
   "source": [
    "### Thematic tutorials of Sage\n",
    "\n",
    "Sage's webpage hosts **MANY** thematic tutorials aimed at teaching how certain functionalities of Sage work:\n",
    "\n",
    "https://doc.sagemath.org/html/en/thematic_tutorials/index.html\n",
    "\n",
    "You can go there and follow the tutorials by copy/pasting and looking how they work."
   ]
  },
  {
   "cell_type": "markdown",
   "id": "776cdce7-37e8-4600-a8a5-d5b0f13a561c",
   "metadata": {},
   "source": [
    "### Asking the Community\n",
    "\n",
    "If you have general question or problems, you can write on the **Sage-Support** Google group:\n",
    "\n",
    "* sage-support: [http://groups.google.com/group/sage-support](http://groups.google.com/group/sage-support)\n",
    "\n",
    "First, you can do a search within the group to see if someone asked a similar question and otherwise ask your question.\n",
    "\n",
    "* A second option is to use **AskSage**: [http://ask.sagemath.org/](http://ask.sagemath.org) (This is similar to Mathoverflow)"
   ]
  },
  {
   "cell_type": "markdown",
   "id": "baf774fb-b679-4904-986c-0fa5d9190016",
   "metadata": {},
   "source": [
    "## Other interesting features in Sage"
   ]
  },
  {
   "cell_type": "markdown",
   "id": "a025de9c-94d8-466a-acb5-ed9c3405b570",
   "metadata": {},
   "source": [
    "### Symbolic manipulations\n",
    "\n",
    "We can do usual symbolic manipulations"
   ]
  },
  {
   "cell_type": "code",
   "execution_count": null,
   "id": "3eb75a9b-a20d-4853-980d-e01c17ab6572",
   "metadata": {},
   "outputs": [],
   "source": [
    "f = (9*x) / (x - x^3)\n",
    "f"
   ]
  },
  {
   "cell_type": "markdown",
   "id": "ae0d4688-44da-4a23-83ec-9a337a297e45",
   "metadata": {},
   "source": [
    "Notice how in this case, `x` is a variable in the mathematical sense rather than a programming language sense. We normally call this type of variable a \"symbolic variable\". \n",
    "\n",
    "If we want, we can declare more than one variable at a time and get a function in multiple variables. We can even do inequalities if we want."
   ]
  },
  {
   "cell_type": "code",
   "execution_count": null,
   "id": "26f26556-acd8-4cdf-880e-fcaa41b71ca2",
   "metadata": {},
   "outputs": [],
   "source": [
    "var('x','i','u')\n",
    "f = (9*x - 7*i > 3 * (3*x - 7*u))\n",
    "f"
   ]
  },
  {
   "cell_type": "markdown",
   "id": "8a28a6ac-97c6-4ec4-806c-7269e4ba0d97",
   "metadata": {},
   "source": [
    "The nice thing is we can even solve these equations!"
   ]
  },
  {
   "cell_type": "code",
   "execution_count": null,
   "id": "d279f262-c5e8-4f81-b898-7e91582823ae",
   "metadata": {},
   "outputs": [],
   "source": [
    "f.solve(i)[0][0]"
   ]
  },
  {
   "cell_type": "markdown",
   "id": "55ea437f-25a1-4a71-adde-6a8425079b8c",
   "metadata": {},
   "source": [
    "We can also simplify things (among many things, you cna check all we can do using `tab` completion on the next expression:"
   ]
  },
  {
   "cell_type": "code",
   "execution_count": null,
   "id": "8e7605a2-ec96-49c0-ab6f-48b6f7490e89",
   "metadata": {},
   "outputs": [],
   "source": [
    "complicated = 2*x-2*sin(x)/tan(x)+2*(x^3+1)^4\n",
    "print(complicated)"
   ]
  },
  {
   "cell_type": "code",
   "execution_count": null,
   "id": "29be251b-26c5-4297-b515-6200d73ad7eb",
   "metadata": {},
   "outputs": [],
   "source": [
    "complicated.simplify_full()"
   ]
  },
  {
   "cell_type": "markdown",
   "id": "7f2ddfef-baf8-434a-a6e8-dc47b4221950",
   "metadata": {},
   "source": [
    "### Method types in Sage (optional):\n",
    "\n",
    "Only do this if you want a more in-depth understanding of creating classes. Other than that, you can skip this section and move onto the next part.\n",
    "\n",
    "There are 4 types of methods for an object:\n",
    "1. `a.function()` - These are normal methods and are the functions which are normally used when programming.\n",
    "2. `a._hidden_attribute` - These are normally attributes that are hidden. They are created by the developer of the object for the developer\n",
    "3. `a._private_` - (Only one `_` on both sides) These are hidden methods that are used by sage to manipulate the object.\n",
    "4. `a.__private__` - (Two `_` on both sides) These are hidden methods that are used by python to manipulate the object.\n"
   ]
  },
  {
   "cell_type": "markdown",
   "id": "e084f205-ff04-4522-8c98-e67cad0b025d",
   "metadata": {},
   "source": [
    "#### Usual methods `a.function()`\n",
    "These methods are the main method that you need to care about when working with sage. When you're normally working with objects you'll use these methods. This like the `name()` method we already defined previously.\n",
    "\n",
    "We'll see examples using an object already defined in sage:"
   ]
  },
  {
   "cell_type": "code",
   "execution_count": null,
   "id": "02573602-e101-4e6b-bfb8-fd15bbde1ba3",
   "metadata": {},
   "outputs": [],
   "source": [
    "D = DiGraph([(1,2),(2,1),(3,2)])\n",
    "type(D)"
   ]
  },
  {
   "cell_type": "code",
   "execution_count": null,
   "id": "7758007e-585b-4008-85e6-a8dec7abea88",
   "metadata": {},
   "outputs": [],
   "source": [
    "# The degree is the number of edges that touch a vertex.\n",
    "D.degree()"
   ]
  },
  {
   "cell_type": "markdown",
   "id": "9a63d4cc-03af-4915-9972-802810b6d22f",
   "metadata": {},
   "source": [
    "#### Hidden attributes `a._hidden`\n",
    "These attributes are there for the person who is developing the object. It allows the developer to store something in a variable for the object. You **should never edit these attributes directly**."
   ]
  },
  {
   "cell_type": "code",
   "execution_count": null,
   "id": "0e8082b2-5d88-4fa8-9c62-4293ad9f352b",
   "metadata": {},
   "outputs": [],
   "source": [
    "# An attribute that sees if the graph is directed or not\n",
    "D._directed"
   ]
  },
  {
   "cell_type": "markdown",
   "id": "11cfd481-0ff8-4580-83c7-bfe5fc98da8d",
   "metadata": {},
   "source": [
    "#### Private functions `a._private_()`\n",
    "\n",
    "In python, private functions start with two \"\\_\". To differentiate `python` private functions and `Sage` private functions, those starting with only one \"\\_\" are from `Sage`.\n",
    "\n",
    "The attributes/functions that start with \"\\_\" and end by \"\\_\" are functions used by the system Sage to manipulate the object.\n",
    "\n",
    "For example, `_latex_` is a function that returns the latex code of the object. If this function exists in an object, Sage knows how to convert it to latex. It will use that function.\n",
    "\n",
    "For example, \"\\_\\_str\\_\\_\" is the function that returns the string associated to an object. It is used by python to print the object in the terminal."
   ]
  },
  {
   "cell_type": "code",
   "execution_count": null,
   "id": "47110f5a-72d5-4efa-8eaa-f0e90f85459d",
   "metadata": {},
   "outputs": [],
   "source": [
    "M = Matrix([[1,2,3],[4,5,6]])\n",
    "M._latex_()"
   ]
  },
  {
   "cell_type": "markdown",
   "id": "98481261-915d-4ffe-9cd1-2b5066956fd0",
   "metadata": {},
   "source": [
    "Having the definition of `_latex_` in the Matrix class allows for the following function call to work:"
   ]
  },
  {
   "cell_type": "code",
   "execution_count": null,
   "id": "38579121-ed48-4d7f-add3-5878443b4485",
   "metadata": {},
   "outputs": [],
   "source": [
    "latex(M) # Sage private function"
   ]
  },
  {
   "cell_type": "code",
   "execution_count": null,
   "id": "551c4ac1-e5e5-466e-8f2f-851c56bdf16c",
   "metadata": {},
   "outputs": [],
   "source": [
    "str(M) # Python private function"
   ]
  },
  {
   "cell_type": "markdown",
   "id": "e1dd47db-fdbd-4099-8d54-03235459c03e",
   "metadata": {},
   "source": [
    "These methods are hidden methods that are there mainly for sage. It basically exists to help sage know what to do when a certain operation happens. For example. `D._matrix_()` is a function that exists so that if you call the function `matrix` on a digraph, sage knows what to do. For example:"
   ]
  },
  {
   "cell_type": "markdown",
   "id": "7dc15b2e-0416-49a7-a7c5-0907baf2a3bd",
   "metadata": {},
   "source": [
    "Makes it so that you can do the following:"
   ]
  },
  {
   "cell_type": "code",
   "execution_count": null,
   "id": "58e8fda1-372f-407a-bbd0-892fdf0c0910",
   "metadata": {},
   "outputs": [],
   "source": [
    "matrix(D) # obtain a matrix via a directed graph via a private function call"
   ]
  },
  {
   "cell_type": "markdown",
   "id": "da3e10fc-9952-4893-b73b-7a5fd2e45485",
   "metadata": {},
   "source": [
    "There are a ton of other sage methods that do similar things. Some examples include:\n",
    "* \\_ascii\\_art\\_\n",
    "* \\_latex\\_\n",
    "* \\_matrix\\_\n",
    "* \\_add\\_, \\_mul\\_, etc.\n",
    "* \\_repr\\_"
   ]
  },
  {
   "cell_type": "markdown",
   "id": "ffa13e82-272d-4092-80e3-8e3720ba3d91",
   "metadata": {},
   "source": [
    "#### Python private functions `a.__hidden__()`\n",
    "These methods are also hidden methods, but are there mainly for python. A very similar thing happens between python and the object. These are called **special method names** and is also known as **operator overloading**. So see all possible methods, you can view the [documentation here](https://docs.python.org/3.8/reference/datamodel.html#special-method-names)"
   ]
  },
  {
   "cell_type": "code",
   "execution_count": null,
   "id": "cb4d8f2f-0186-4320-8470-0f57a138885d",
   "metadata": {},
   "outputs": [],
   "source": [
    "D.__str__()"
   ]
  },
  {
   "cell_type": "code",
   "execution_count": null,
   "id": "a57b31f7-c103-4581-a3b3-bc54e4e90934",
   "metadata": {},
   "outputs": [],
   "source": [
    "str(D)"
   ]
  },
  {
   "cell_type": "markdown",
   "id": "18039557-644e-4214-9ae5-856171ce995a",
   "metadata": {},
   "source": [
    "### Latex\n",
    "\n",
    "Using latex outputs within Sage and getting latex code for Sage objects.\n",
    "\n",
    "First, you can change the display format in the notebook to render it nicely, similar to latex.\n",
    "\n",
    "Compare:"
   ]
  },
  {
   "cell_type": "code",
   "execution_count": null,
   "id": "f2baaadd-45ff-4b1d-af59-d0bdabf9add1",
   "metadata": {},
   "outputs": [],
   "source": [
    "var('x1,x2,x3')\n",
    "poly = x1^2+2*x1*x2^3+x3^6+3*x1^2*x3\n",
    "poly"
   ]
  },
  {
   "cell_type": "markdown",
   "id": "20851d08-7d19-49cf-bfc9-146ad6d15ba2",
   "metadata": {},
   "source": [
    "with:"
   ]
  },
  {
   "cell_type": "code",
   "execution_count": null,
   "id": "066ddd6b-01d9-40ee-88bc-f4d92b06d5bf",
   "metadata": {},
   "outputs": [],
   "source": [
    "%display latex"
   ]
  },
  {
   "cell_type": "markdown",
   "id": "ee78401b-c23a-4377-ac63-57d432dd0154",
   "metadata": {},
   "source": [
    "followed by:"
   ]
  },
  {
   "cell_type": "code",
   "execution_count": null,
   "id": "e967538c-0a66-499e-993a-c2c4846d38f1",
   "metadata": {},
   "outputs": [],
   "source": [
    "poly"
   ]
  },
  {
   "cell_type": "markdown",
   "id": "63b05c5a-deb9-47e8-9d79-b0339498a25c",
   "metadata": {},
   "source": [
    "It is much easier to read! Remember the matrix M above? Execute the following line"
   ]
  },
  {
   "cell_type": "code",
   "execution_count": null,
   "id": "4b0f993f-cd33-447b-a86f-9aff827fdb44",
   "metadata": {},
   "outputs": [],
   "source": [
    "M"
   ]
  },
  {
   "cell_type": "markdown",
   "id": "8af91be6-c777-4daf-b411-fd88369692ee",
   "metadata": {},
   "source": [
    "You can come back to the plain display mode by typing:"
   ]
  },
  {
   "cell_type": "code",
   "execution_count": null,
   "id": "17cdb653-ce87-42f3-95dc-18a50e6564e4",
   "metadata": {},
   "outputs": [],
   "source": [
    "%display plain"
   ]
  },
  {
   "cell_type": "code",
   "execution_count": null,
   "id": "1ddad9d1-d183-4533-b186-1f7b12d45611",
   "metadata": {},
   "outputs": [],
   "source": [
    "M"
   ]
  },
  {
   "cell_type": "markdown",
   "id": "4d902cc8-4ee3-4a87-a272-6ef52474453d",
   "metadata": {},
   "source": [
    "Imagine now that you would like to add the square of `poly` to a latex document. We really don't want to rewrite this because we are definitely going to make a mistake. Instead, we can have sage give us the latex and then we can copy+paste."
   ]
  },
  {
   "cell_type": "code",
   "execution_count": null,
   "id": "e9a4cca2-1fb1-4ac1-a997-9c91c88536e6",
   "metadata": {},
   "outputs": [],
   "source": [
    "latex(expand(poly^2))"
   ]
  },
  {
   "cell_type": "markdown",
   "id": "43fd571c-58f1-4065-81ca-21a19ebae567",
   "metadata": {},
   "source": [
    "And now we see that we can copy this and paste it into latex with no problem 😊"
   ]
  },
  {
   "cell_type": "markdown",
   "id": "2e6a9012-4810-416b-8d26-345885618a00",
   "metadata": {},
   "source": [
    "### Can we latex more complicated objects? Like polytopes?\n",
    "\n",
    "We can latex almost evertything! In essence, any object that has the method `_latex_` can give latex. Let's see some examples."
   ]
  },
  {
   "cell_type": "code",
   "execution_count": null,
   "id": "ea3f870b-a387-4178-a99f-ac2e71dc59a8",
   "metadata": {},
   "outputs": [],
   "source": [
    "%display latex\n",
    "M = matrix([[i^j for j in range(1,10)] for i in range(1,10)])\n",
    "M"
   ]
  },
  {
   "cell_type": "code",
   "execution_count": null,
   "id": "7731df68-838c-49b3-8fe8-2c7dd9c3e81b",
   "metadata": {},
   "outputs": [],
   "source": [
    "%display plain\n",
    "latex(M)"
   ]
  },
  {
   "cell_type": "code",
   "execution_count": null,
   "id": "21c2e284-931a-48c6-9c88-a82d1dd165ea",
   "metadata": {},
   "outputs": [],
   "source": [
    "%display latex\n",
    "D = DiGraph([(1,2), (2,1), (3,2)])\n",
    "D"
   ]
  },
  {
   "cell_type": "code",
   "execution_count": null,
   "id": "a3e5e968-5634-487a-8fc7-b36c2d5913cc",
   "metadata": {},
   "outputs": [],
   "source": [
    "%display plain\n",
    "latex(D)"
   ]
  },
  {
   "cell_type": "markdown",
   "id": "0d540a19-930c-428a-9fce-760c816c6f4c",
   "metadata": {},
   "source": [
    "It is also possible to visualize the latex code with the command `view` (might not work on cocalc or if you do not have a latex compiler installed)."
   ]
  },
  {
   "cell_type": "code",
   "execution_count": null,
   "id": "4c2238e5-a146-4495-b90e-526b91949f05",
   "metadata": {},
   "outputs": [],
   "source": [
    "view(latex(D))"
   ]
  },
  {
   "cell_type": "markdown",
   "id": "99cdb82d-9dd1-4ae9-9685-5438b8b34b95",
   "metadata": {},
   "source": [
    "But! We can't do it for everything."
   ]
  },
  {
   "cell_type": "code",
   "execution_count": null,
   "id": "685eea0d-c2b9-4d4f-960d-1a8ce3b9753b",
   "metadata": {},
   "outputs": [],
   "source": [
    "%display latex\n",
    "P = Polyhedron(vertices=[(1,0), (0,1)])\n",
    "P"
   ]
  },
  {
   "cell_type": "code",
   "execution_count": null,
   "id": "d3436156-87c0-4aaf-8a09-520f2cd1fd0d",
   "metadata": {},
   "outputs": [],
   "source": [
    "%display plain\n",
    "latex(P)"
   ]
  },
  {
   "cell_type": "markdown",
   "id": "f8a55a3d-6882-4da4-af22-04363fa08f85",
   "metadata": {},
   "source": [
    "Notice that the latex is just giving us the latex string and not the plot itself. In *this* case there is a way around this, but we aren't always so lucky. For this particular example we can use a latex of the plot in order to get latex:"
   ]
  },
  {
   "cell_type": "code",
   "execution_count": null,
   "id": "7e8bdc21-8b78-4309-a667-ab3924322198",
   "metadata": {},
   "outputs": [],
   "source": [
    "latex(P.plot())"
   ]
  },
  {
   "cell_type": "markdown",
   "id": "81dcd7b6-f5b7-4953-a9e4-e5160f84477a",
   "metadata": {},
   "source": [
    "Notice how complicated this is. So it's not necessarily the best way to go around it, but it definitely is easier than trying to do everything by hand. We'll see where this becomes more useful in the following section.\n",
    "\n",
    "One thing to notice is that this doesn't work once we go into three dimensions:"
   ]
  },
  {
   "cell_type": "code",
   "execution_count": null,
   "id": "d75a6a0c-b9ab-4ca7-82b9-546075a2a587",
   "metadata": {},
   "outputs": [],
   "source": [
    "P = Polyhedron([(1,0,0), (0,1,0), (0,0,1)])\n",
    "latex(P.plot())"
   ]
  },
  {
   "cell_type": "markdown",
   "id": "91d77d8b-474a-4ddf-b2f8-2b54860f711f",
   "metadata": {},
   "source": [
    "### **But!!!!** There is a `tikz` generator for polytopes!!!"
   ]
  },
  {
   "cell_type": "code",
   "execution_count": null,
   "id": "5a51396c-8cfe-4c0c-b97f-7c999b466a5a",
   "metadata": {},
   "outputs": [],
   "source": [
    "P.tikz()"
   ]
  },
  {
   "cell_type": "markdown",
   "id": "8eb4ee1c-74a6-435f-9024-82557722bb43",
   "metadata": {},
   "source": [
    "#### For more on this, see the tutorial online: <https://doc.sagemath.org/html/en/thematic_tutorials/geometry/polytope_tikz.html>"
   ]
  },
  {
   "cell_type": "markdown",
   "id": "286cbce6-b039-4354-9927-54a6a307b06e",
   "metadata": {},
   "source": [
    "### Many variables, all at once\n",
    "\n",
    "If you want to create $10$ variables all at the same time, all with the same prefix, you can use `var` to do that for you. For example:"
   ]
  },
  {
   "cell_type": "code",
   "execution_count": null,
   "id": "3569d2db-0f4a-44e0-be3a-65c0ce464752",
   "metadata": {},
   "outputs": [],
   "source": [
    "my_variables = var('x', n=10);my_variables"
   ]
  },
  {
   "cell_type": "markdown",
   "id": "5b1f8ad6-8eb5-4418-b497-5dcb1060c3c5",
   "metadata": {},
   "source": [
    "### How to reconstruct objects?\n",
    "\n",
    "Say you've done a million things and get to an object that you don't know how to create. You can use `sage_input` to tell you how to create this object."
   ]
  },
  {
   "cell_type": "code",
   "execution_count": null,
   "id": "01a30912-f1e6-466f-80a6-c7fede1d5aed",
   "metadata": {},
   "outputs": [],
   "source": [
    "sage_input(M)"
   ]
  },
  {
   "cell_type": "code",
   "execution_count": null,
   "id": "80d6136b-f430-49fb-97f1-f22d8dfac5a0",
   "metadata": {},
   "outputs": [],
   "source": [
    "e = M.eigenvalues()[0]\n",
    "e"
   ]
  },
  {
   "cell_type": "code",
   "execution_count": null,
   "id": "39274068-4a45-49b7-b733-0973ada1b128",
   "metadata": {},
   "outputs": [],
   "source": [
    "%display plain\n",
    "sage_input(e)"
   ]
  },
  {
   "cell_type": "markdown",
   "id": "303b397b-aac0-4ec3-9a29-3171eaf63bbd",
   "metadata": {},
   "source": [
    "Why is this so complicated?\n",
    "\n",
    "Because the type of `e` isn't an integer:"
   ]
  },
  {
   "cell_type": "code",
   "execution_count": null,
   "id": "48a13be2-ed4c-473e-925d-6f9edc0b1369",
   "metadata": {},
   "outputs": [],
   "source": [
    "type(e)"
   ]
  },
  {
   "cell_type": "markdown",
   "id": "78def732-726f-4dde-a935-659e8097c6b7",
   "metadata": {},
   "source": [
    "## More exercises"
   ]
  },
  {
   "cell_type": "markdown",
   "id": "35ecf766-5d46-4440-8887-1901979043fb",
   "metadata": {},
   "source": [
    "### Polynomials"
   ]
  },
  {
   "cell_type": "markdown",
   "id": "0aaf01ff-998b-4c04-bd9a-57f2695f9273",
   "metadata": {},
   "source": [
    "#### Roots of a polynomial\n",
    " \n",
    " Look in the documentation how to write a polynomial and define the following one.\n",
    " $$\n",
    " P = x^3- 3\\cdot x^2 + 1.\n",
    " $$\n"
   ]
  },
  {
   "cell_type": "code",
   "execution_count": null,
   "id": "e5a52907-eec4-4d18-8dbb-e43f9171a4b9",
   "metadata": {},
   "outputs": [],
   "source": []
  },
  {
   "cell_type": "markdown",
   "id": "ad1cdfcd-dd10-4bbd-8cce-21847500efed",
   "metadata": {},
   "source": [
    "Draw this polynomial on the interval $[1,3]$."
   ]
  },
  {
   "cell_type": "code",
   "execution_count": null,
   "id": "ec0bcb26-bdb8-4116-9113-505bd9bc5ffa",
   "metadata": {},
   "outputs": [],
   "source": []
  },
  {
   "cell_type": "markdown",
   "id": "fc2bbb9a-21ae-44a7-89b8-8e5bfcdd1701",
   "metadata": {},
   "source": [
    "Determine the roots of this polynomial."
   ]
  },
  {
   "cell_type": "code",
   "execution_count": null,
   "id": "4fc5b53e-7486-4bdf-8932-0528018803cd",
   "metadata": {},
   "outputs": [],
   "source": []
  },
  {
   "cell_type": "markdown",
   "id": "91e7f6d6-2c86-4d68-95a8-ad04bcbdf8bd",
   "metadata": {},
   "source": [
    "What do you notice? Do you find this normal?\n",
    "\n",
    "Answer: We see radicals and complex numbers, but in the plot we saw that there is (at least) one real root."
   ]
  },
  {
   "cell_type": "markdown",
   "id": "02ddb859-98b5-496f-b99c-c49642e732a4",
   "metadata": {},
   "source": [
    "It is also possible to find the approximated values of roots when we specify the interval where to look for the root. Look for the function that allows to do this and determine an approximate value of the three roots by specifying the three intervals."
   ]
  },
  {
   "cell_type": "code",
   "execution_count": null,
   "id": "357f0ad2-e0b4-498a-9d85-0d97aaae3a45",
   "metadata": {},
   "outputs": [],
   "source": []
  },
  {
   "cell_type": "code",
   "execution_count": null,
   "id": "892c42bb-b951-4eb2-aa01-447ee6a80dbe",
   "metadata": {},
   "outputs": [],
   "source": []
  },
  {
   "cell_type": "code",
   "execution_count": null,
   "id": "624173b2-c6fb-486a-9329-af125bd4464d",
   "metadata": {},
   "outputs": [],
   "source": []
  },
  {
   "cell_type": "markdown",
   "id": "f188ca3e-115d-4077-bb9a-63cdaa1b17ab",
   "metadata": {},
   "source": [
    "#### Polynomial interpolation\n",
    " \n",
    "Find the (minimal degree) polynomial that passes through the following points: $[1,2]$, $[3,2]$, $[-1,-1]$ and $[4,3]$.\n"
   ]
  },
  {
   "cell_type": "code",
   "execution_count": null,
   "id": "79d6197f-6efb-4f47-8c57-a19980ddd828",
   "metadata": {},
   "outputs": [],
   "source": []
  },
  {
   "cell_type": "markdown",
   "id": "e6ef657a-b570-4257-a60c-c33731e2fedb",
   "metadata": {},
   "source": [
    "#### Polynomial factorization\n",
    "\n",
    "Find the factorizations of the polynomial $54\\cdot x^4+36\\cdot x^3-102\\cdot x^2-72\\cdot x-12$ over the following rings: $\\mathbb{Z}, \\mathbb{Q}$, and the algebraic numbers. With a bit more search, for $\\mathbb{Q}[\\sqrt{2}], GF(5)$."
   ]
  },
  {
   "cell_type": "code",
   "execution_count": null,
   "id": "7171a3d0-0129-4600-895f-7b145fcb8eb9",
   "metadata": {},
   "outputs": [],
   "source": []
  },
  {
   "cell_type": "code",
   "execution_count": null,
   "id": "51dcdd36-2aa1-4d3e-8830-16efae0c527e",
   "metadata": {},
   "outputs": [],
   "source": [
    "\n"
   ]
  },
  {
   "cell_type": "code",
   "execution_count": null,
   "id": "c98fed71-a76c-47d0-9555-cda45d0c98a1",
   "metadata": {},
   "outputs": [],
   "source": []
  },
  {
   "cell_type": "markdown",
   "id": "3ab0df51-53eb-4935-b113-95557ef6a741",
   "metadata": {},
   "source": [
    "### Multivariate polynomials\n",
    "\n",
    "Find in the documentation the way to define the ring of polynomials $R$ with two variables $y$ and $t$ with rationals coefficients."
   ]
  },
  {
   "cell_type": "code",
   "execution_count": null,
   "id": "b6f5bc98-de11-40df-99e0-27accb261d64",
   "metadata": {},
   "outputs": [],
   "source": []
  },
  {
   "cell_type": "markdown",
   "id": "cf50417d-d2f7-4397-a408-2ef512417e8d",
   "metadata": {},
   "source": [
    "Define the polynomial $Q = y^2 - 1 - 2\\cdot t + t^3$."
   ]
  },
  {
   "cell_type": "code",
   "execution_count": null,
   "id": "7bc0df39-64d2-4517-bc53-73d011178ad0",
   "metadata": {},
   "outputs": [],
   "source": []
  },
  {
   "cell_type": "markdown",
   "id": "f91df2fd-e1b7-4a12-abe4-9cd54bfd01a3",
   "metadata": {},
   "source": [
    "Show it in 3 dimensions between -2 and 2 on both axis."
   ]
  },
  {
   "cell_type": "code",
   "execution_count": null,
   "id": "2c1a6512-e8dc-4df5-b309-c98afaa9751a",
   "metadata": {},
   "outputs": [],
   "source": []
  },
  {
   "cell_type": "markdown",
   "id": "c5229e74-fda5-48e7-ab75-a958df1709a8",
   "metadata": {},
   "source": [
    "### Matrix calculus"
   ]
  },
  {
   "cell_type": "markdown",
   "id": "70dd582e-b467-4a80-b47e-072205048367",
   "metadata": {},
   "source": [
    "#### Inverse of matrices"
   ]
  },
  {
   "cell_type": "markdown",
   "id": "171ce54d-fb96-43a1-86d7-b087013fe4f5",
   "metadata": {},
   "source": [
    "Look in the documentation how to define a matrix with rational coefficients. Define the matrix:\n",
    "$$\n",
    "M = \n",
    "\\left(\n",
    "\\begin{array}{ccc}\n",
    "2 & 4 & 1 \\\\\n",
    "8 & 9 & 2 \\\\ \n",
    "3 & 7 & 3\n",
    "\\end{array}\n",
    "\\right)\n",
    "$$"
   ]
  },
  {
   "cell_type": "code",
   "execution_count": null,
   "id": "caf4d617-5c33-48d3-bdbe-4c3b61d24ace",
   "metadata": {},
   "outputs": [],
   "source": []
  },
  {
   "cell_type": "markdown",
   "id": "4261ffc5-12b9-419e-83aa-746b4affba94",
   "metadata": {},
   "source": [
    "Do the same thing but in the Symbolic ring."
   ]
  },
  {
   "cell_type": "code",
   "execution_count": null,
   "id": "927f2480-6970-4fad-8d56-81c6608ec6ab",
   "metadata": {},
   "outputs": [],
   "source": []
  },
  {
   "cell_type": "markdown",
   "id": "14ab8286-7400-4c4d-b0aa-97a006faefdf",
   "metadata": {},
   "source": [
    "Verify that it is invertible by computing the determinant:"
   ]
  },
  {
   "cell_type": "code",
   "execution_count": null,
   "id": "74ed32db-d475-4eaf-9831-1abc00a3fcc6",
   "metadata": {},
   "outputs": [],
   "source": [
    "\n"
   ]
  },
  {
   "cell_type": "markdown",
   "id": "51c8dea9-89ff-446b-a236-c54520e9db1a",
   "metadata": {},
   "source": [
    "Compute now the inverse of this matrix:"
   ]
  },
  {
   "cell_type": "code",
   "execution_count": null,
   "id": "0ab695d0-b2a3-479e-89b8-2a1d662cdc1e",
   "metadata": {},
   "outputs": [],
   "source": []
  },
  {
   "cell_type": "markdown",
   "id": "309c3803-7265-4fca-95d1-43e59739eb86",
   "metadata": {},
   "source": [
    "#### Kernel\n",
    " \n",
    " Now define the following matrix:\n",
    " $$\n",
    " N = \\left( \n",
    " \\begin{array}{ccc}\n",
    " 1 & 2 & 3 \\\\\n",
    " 4 & 5 & 6 \\\\\n",
    " 7 & 8 & 9\n",
    " \\end{array}\n",
    " \\right)\n",
    " $$"
   ]
  },
  {
   "cell_type": "code",
   "execution_count": null,
   "id": "7c643e2c-14e8-4475-abe0-1ad041ea0c19",
   "metadata": {},
   "outputs": [],
   "source": []
  },
  {
   "cell_type": "markdown",
   "id": "e8a96dcf-bdb7-4aa8-a269-16bae844990b",
   "metadata": {},
   "source": [
    "Determine now the kernel of the matrix:"
   ]
  },
  {
   "cell_type": "code",
   "execution_count": null,
   "id": "3fa63f53-e1b4-41f3-9150-63e2c1e228d6",
   "metadata": {},
   "outputs": [],
   "source": []
  },
  {
   "cell_type": "markdown",
   "id": "11f6159e-a062-4bf6-ba7c-b92174f1b102",
   "metadata": {},
   "source": [
    "Get a basis for the kernel."
   ]
  },
  {
   "cell_type": "code",
   "execution_count": null,
   "id": "b32591e1-8a85-49be-a578-94b4b3a46ba2",
   "metadata": {},
   "outputs": [],
   "source": []
  },
  {
   "cell_type": "markdown",
   "id": "65dbd835-3a1e-4629-bb93-f90f3ede0bec",
   "metadata": {},
   "source": [
    "#### Solution of linear equations\n",
    " \n",
    "Look up how to determine the solution(s) of the following linear equation:\n",
    " $$\n",
    " \\left(\\begin{array}{rrr}\n",
    "2 & 4 & 1 \\\\\n",
    "8 & 9 & 2 \\\\\n",
    "3 & 7 & 3\n",
    "\\end{array}\\right) \\times X = \n",
    "\\left(\\begin{array}{r}\n",
    "2 \\\\\n",
    "2 \\\\\n",
    "1\n",
    "\\end{array}\\right)\n",
    " $$"
   ]
  },
  {
   "cell_type": "code",
   "execution_count": null,
   "id": "8ec91b42-fbc8-4ac6-9611-7758b112b4e5",
   "metadata": {},
   "outputs": [],
   "source": []
  },
  {
   "cell_type": "markdown",
   "id": "8da38344-1fa1-4db3-9aa3-cb86e35153ad",
   "metadata": {},
   "source": [
    "### Calculus"
   ]
  },
  {
   "cell_type": "markdown",
   "id": "3c12b567-ab91-492c-bb21-371455ebbc11",
   "metadata": {},
   "source": [
    "Define the following functions: $$sin(x)$$ \n",
    " $$x^3+x-1$$\n",
    " $$\\ln(x^4-3)$$ \n",
    " Look in the documentation how to derivate a function and compute the first derivative of each functions."
   ]
  },
  {
   "cell_type": "code",
   "execution_count": null,
   "id": "83053d7c-77ee-4c42-90d3-c69a29b4662c",
   "metadata": {},
   "outputs": [],
   "source": []
  },
  {
   "cell_type": "markdown",
   "id": "3fcb049e-64c7-4d84-8793-f43285977c78",
   "metadata": {},
   "source": [
    "Compute the following integral \n",
    "    $$\n",
    "    \\int x\\sin(x^3)dx\n",
    "    $$"
   ]
  },
  {
   "cell_type": "code",
   "execution_count": null,
   "id": "a63da080-1344-4f02-bffe-e56206c83228",
   "metadata": {},
   "outputs": [],
   "source": []
  },
  {
   "cell_type": "markdown",
   "id": "c5a2dedd-6a4f-416b-86e6-20856da69ed3",
   "metadata": {},
   "source": [
    "and this one :\n",
    " $$\n",
    " \\int_0^1 \\frac{x}{x^2+1} dx\n",
    " $$"
   ]
  },
  {
   "cell_type": "markdown",
   "id": "10d6eff7-a048-4aee-a784-98f16062ac33",
   "metadata": {},
   "source": [
    "### Graph theory\n",
    " Look how to define the directed graph (`Digraph`) with vertices $V = \\{0, 1, 2, 3, 4\\}$ and arcs are $E = \\{ (0,1), (0,2), (0,3), (1,0), (2,4) \\}$.\n"
   ]
  },
  {
   "cell_type": "code",
   "execution_count": null,
   "id": "d612232c-8899-41ab-8ec4-5915c1dca442",
   "metadata": {},
   "outputs": [],
   "source": []
  },
  {
   "cell_type": "markdown",
   "id": "71a94cab-8819-4d60-a131-4837530b36cd",
   "metadata": {},
   "source": [
    "Determine the shortest path from 1 to 4."
   ]
  },
  {
   "cell_type": "code",
   "execution_count": null,
   "id": "8c71015a-9f46-495c-a112-a427cfde8174",
   "metadata": {},
   "outputs": [],
   "source": []
  },
  {
   "cell_type": "code",
   "execution_count": null,
   "id": "6b14ef18-8564-4884-ad3c-d9b5ef950f74",
   "metadata": {},
   "outputs": [],
   "source": []
  }
 ],
 "metadata": {
  "kernelspec": {
   "display_name": "SageMath 10.4.beta8",
   "language": "sage",
   "name": "sagemath"
  },
  "language_info": {
   "codemirror_mode": {
    "name": "ipython",
    "version": 3
   },
   "file_extension": ".py",
   "mimetype": "text/x-python",
   "name": "python",
   "nbconvert_exporter": "python",
   "pygments_lexer": "ipython3",
   "version": "3.11.8"
  }
 },
 "nbformat": 4,
 "nbformat_minor": 5
}
