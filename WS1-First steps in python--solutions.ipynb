{
 "cells": [
  {
   "cell_type": "markdown",
   "id": "b05bad0d-12c3-4b53-815c-0eab5175a1be",
   "metadata": {},
   "source": [
    "# First steps in python (in a jupyter notebook)\n",
    "\n",
    "    This is an introduction to the basic functionality of Python, with an emphasis on seeing how to handle a worksheet and how to get more detailed help.\n",
    "\n",
    "## The start of it all - The worksheet\n",
    "\n",
    "There are many ways to use sage. On your computers there is virtualbox with ubuntu install for people who prefer using a terminal and know how. For everyone else, we'll be using cocalc.\n",
    "\n",
    "This file is part of cocalc and is what we call a notebook. We normally call these \"worksheets\" and each little box in a worksheet is a \"cell\". This is where you write your code on the browser. Once you've written your code, you type `shift + enter` and you'll get your results.\n",
    "\n",
    "Let's test out that sage works. Try doing `2+7` in sage. (In other words, go to the cell with `2+7` and do `Shift + Enter` at the same time)\n",
    "\n",
    "Before starting, click on `Help` and `Show Keyboard Shortcuts`, and examine what the symbols on the top right of cells do to familiarize yourself with the Jupyter or Cocalc notebook."
   ]
  },
  {
   "cell_type": "code",
   "execution_count": null,
   "id": "ef63b40a-3ead-4164-9819-c1763e53fe16",
   "metadata": {},
   "outputs": [],
   "source": [
    "2+7"
   ]
  },
  {
   "cell_type": "markdown",
   "id": "426a1286-81b9-4e41-9699-4a4692b75175",
   "metadata": {},
   "source": [
    "There are **two** modes: `Normal` and `Edit`. When you clikc inside a cell, you enter `Edit` mode. To exit `Edit` mode, you can hit `Esc` or click outside the cell."
   ]
  },
  {
   "cell_type": "markdown",
   "id": "2da122d2-1c3e-4e07-a8f5-30b700010e2b",
   "metadata": {},
   "source": [
    "## New cells\n",
    "\n",
    "For Cocalc, you'll want to learn how to make a cell in between other cells. There's four different ways to add a new cell:\n",
    "1. In the top, you can see `Insert` in the menu. You can click that and insert a cell above/below.\n",
    "2. In the top, you see a `+` symbol, clicking that will add a cell below.\n",
    "3. You can type `a` or `b` to create a cell above/below (in Normal mode!). (Note that this only works when cell is not \"active\", aka it's blue and not green on the left)\n",
    "4. You can hover in between cells and click on the bar that shows up to add a cell at that location."
   ]
  },
  {
   "cell_type": "markdown",
   "id": "9b67b451-4083-4c43-be4b-e30af426160c",
   "metadata": {},
   "source": [
    "### Exercice 0:\n",
    "\n",
    "Create a code cell before the next cell (the one starting with \"Conditional jump...\" and add `3+5` and execute it."
   ]
  },
  {
   "cell_type": "markdown",
   "id": "6f69362e-a043-47be-96bf-e481acaff96d",
   "metadata": {},
   "source": [
    "**Troubleshooting:** If it's not working, make sure the left hand side is blue and not green. Green means you're actively editing the cell whereas blue means you're not.\n",
    "\n",
    "**Remember** That to execute something you need to press `shift + enter`."
   ]
  },
  {
   "cell_type": "markdown",
   "id": "6876a88c-e48d-4c9a-beb4-c3db7088afee",
   "metadata": {},
   "source": [
    "## Remove cells\n",
    "\n",
    "There are two ways to remove a cell:\n",
    "\n",
    "1. In the top, you can see `Edit` in the menu. There is an option to `Delete cells`. Clicking that will delete the current selected cell(s).\n",
    "2. You can type `dd` (aka press `d` twice) to delete the current cell. (As before, the cell needs to not be active.)\n",
    "\n",
    "### Exercise 1:\n",
    "\n",
    "Add a couple of rows below this one (use a different method from before) and then delete it."
   ]
  },
  {
   "cell_type": "markdown",
   "id": "ef43e707-61d7-43de-8610-9ac4bcc08703",
   "metadata": {},
   "source": [
    "## Different cell types\n",
    "\n",
    "There are three different cell types:\n",
    "\n",
    "1. Code - This is where you normally have the code you want to execute.\n",
    "2. Markdown - This is for making markdown/html text to help you remember what you were doing or to explain things. (If you don't know markdown, [Daring Fireball](https://daringfireball.net/projects/markdown/) has a good intro on markdown with syntax and everything.)\n",
    "3. Raw - This is just raw text. Absolutely nothing special.\n",
    "\n",
    "### Exercise 2:\n",
    "\n",
    "Try changing the cell type of the cell below and see what happens. (Click `Markdown` in the Menu above when you have selected the cell.)"
   ]
  },
  {
   "cell_type": "markdown",
   "id": "56e448b8-e236-4768-8604-e225ddc810e2",
   "metadata": {},
   "source": [
    "## First things first:\n",
    "#### Basic Arithmetic\n",
    "\n",
    "We already did a tiny bit of code earlier when we were adding `2+7`. Sage is really good at calculations. The five basic operations for programming are:\n",
    "\n",
    "1. `+` addition\n",
    "2. `-` subtraction\n",
    "3. `*` multiplication\n",
    "4. `/` division\n",
    "5. `**` exponentiation\n",
    "\n",
    "Note that sage follows the order of operations"
   ]
  },
  {
   "cell_type": "code",
   "execution_count": null,
   "id": "c4bd7483-df5b-451c-b236-c5f22c29d7f2",
   "metadata": {},
   "outputs": [],
   "source": [
    "1/2+4"
   ]
  },
  {
   "cell_type": "markdown",
   "id": "8d4b88e6-4104-4054-b8c0-659a90454d4f",
   "metadata": {},
   "source": [
    "### Exercise 3:\n",
    "\n",
    "Try to do a fun calculation."
   ]
  },
  {
   "cell_type": "code",
   "execution_count": null,
   "id": "87c9cb09-9523-47d3-a577-351b2efa50e2",
   "metadata": {},
   "outputs": [],
   "source": []
  },
  {
   "cell_type": "markdown",
   "id": "f5dd9bd2-6544-4e33-9e89-faddaa5ad26c",
   "metadata": {},
   "source": [
    "## Variables\n",
    "\n",
    "Just like any programming languages, `python` allows you to set variables. Note that `=` is used slightly differently in programming than it's used in math. In programming, a `=` sign just means you're setting that variable as that value. For example, in the code below, when we write `a  = 3` we are *assigning* the value of `3` to the variable `a`. In other words we're telling the computer \"let `a` be equal to `3`\"."
   ]
  },
  {
   "cell_type": "code",
   "execution_count": 4,
   "id": "4e40fac3-9b84-4c33-8b5d-e2572823d449",
   "metadata": {},
   "outputs": [],
   "source": [
    "a = 3"
   ]
  },
  {
   "cell_type": "markdown",
   "id": "be0ee858-eaed-4ea2-8544-049238275a9e",
   "metadata": {},
   "source": [
    "Notice how it didn't actually print anything. To print it out, we can just call the variable and it would print it out:"
   ]
  },
  {
   "cell_type": "code",
   "execution_count": 5,
   "id": "8fa18907-9702-4c0d-b439-e5a682555b82",
   "metadata": {},
   "outputs": [
    {
     "data": {
      "text/plain": [
       "3"
      ]
     },
     "execution_count": 5,
     "metadata": {},
     "output_type": "execute_result"
    }
   ],
   "source": [
    "a"
   ]
  },
  {
   "cell_type": "markdown",
   "id": "f85911b9-26d7-49e0-b957-4321f5371598",
   "metadata": {},
   "source": [
    "The nice thing with variables is it allows us to do more complicated stuff."
   ]
  },
  {
   "cell_type": "code",
   "execution_count": 7,
   "id": "68c66954-1759-41f5-b934-317d804cd9fe",
   "metadata": {},
   "outputs": [
    {
     "data": {
      "text/plain": [
       "0.14814814814814814"
      ]
     },
     "execution_count": 7,
     "metadata": {},
     "output_type": "execute_result"
    }
   ],
   "source": [
    "z = 2 / 9\n",
    "\n",
    "z * z * a"
   ]
  },
  {
   "cell_type": "markdown",
   "id": "0abfd91a-0d03-45a6-a485-5504288ebca0",
   "metadata": {},
   "source": [
    "If we want to handle comparing things (like to test if two things are equal) then we would use `==`."
   ]
  },
  {
   "cell_type": "code",
   "execution_count": 8,
   "id": "b77eeecd-26f2-4175-8be4-5d3f6dfc4a6f",
   "metadata": {},
   "outputs": [
    {
     "data": {
      "text/plain": [
       "True"
      ]
     },
     "execution_count": 8,
     "metadata": {},
     "output_type": "execute_result"
    }
   ],
   "source": [
    "a == 3"
   ]
  },
  {
   "cell_type": "markdown",
   "id": "bc142bd0-d88e-4947-be2b-30eb9ac28f62",
   "metadata": {},
   "source": [
    "The main numerical comparisons are:\n",
    "\n",
    "* `==` - Equal\n",
    "* `!=` - Not Equal\n",
    "* `<`, `>`, `<=`, `>=` - Inequalities"
   ]
  },
  {
   "cell_type": "markdown",
   "id": "5a644e07-2f3d-43b8-9ebb-857e79afca8c",
   "metadata": {},
   "source": [
    "### Exercise 4:\n",
    "\n",
    "Create a variable `b` and make it equal to `7`. See if `b` is greater than or equal to `7`."
   ]
  },
  {
   "cell_type": "code",
   "execution_count": 12,
   "id": "8c9da728-c44c-4d9e-893f-e17a43e9c264",
   "metadata": {
    "scrolled": true
   },
   "outputs": [
    {
     "data": {
      "text/plain": [
       "True"
      ]
     },
     "execution_count": 12,
     "metadata": {},
     "output_type": "execute_result"
    }
   ],
   "source": [
    "b = 7;\n",
    "b >= 7"
   ]
  },
  {
   "cell_type": "markdown",
   "id": "accf777d-924b-4655-9acf-53096369f0bf",
   "metadata": {},
   "source": [
    "**Important** : Python does not know about variables before you tell it:"
   ]
  },
  {
   "cell_type": "code",
   "execution_count": 1,
   "id": "1bce40a8-e41c-477b-b85e-c11ca31f6fc3",
   "metadata": {},
   "outputs": [
    {
     "ename": "NameError",
     "evalue": "name 'x' is not defined",
     "output_type": "error",
     "traceback": [
      "\u001b[1;31m---------------------------------------------------------------------------\u001b[0m",
      "\u001b[1;31mNameError\u001b[0m                                 Traceback (most recent call last)",
      "Cell \u001b[1;32mIn[1], line 1\u001b[0m\n\u001b[1;32m----> 1\u001b[0m \u001b[43mx\u001b[49m\n",
      "\u001b[1;31mNameError\u001b[0m: name 'x' is not defined"
     ]
    }
   ],
   "source": [
    "x"
   ]
  },
  {
   "cell_type": "markdown",
   "id": "5008ef87-83af-4e1e-86a2-6bd4697df3dd",
   "metadata": {},
   "source": [
    "## Conditional jump\n",
    "\n",
    "In python, conditional jumps can be written with the following syntax :"
   ]
  },
  {
   "cell_type": "code",
   "execution_count": 1,
   "id": "31df02ca-d9e3-42ae-8b5b-f18f82cbe32c",
   "metadata": {},
   "outputs": [
    {
     "name": "stdout",
     "output_type": "stream",
     "text": [
      "a is even.\n"
     ]
    }
   ],
   "source": [
    "a = 30\n",
    "if( a % 2 == 0 ):\n",
    "    print( \"a is even.\" )\n",
    "else:\n",
    "    print( \"a is odd.\" )"
   ]
  },
  {
   "cell_type": "markdown",
   "id": "4d9d68bb-6e5d-4c58-b3a5-13169f0997b7",
   "metadata": {},
   "source": [
    "### Exercise 5:\n",
    "\n",
    "Let `a` be the age of an human, give an algorithm that returns :\n",
    "\n",
    "-   \"child\", if it's age is lesser than 13\n",
    "-   \"teenager\", if it's age is greater that 13 and lesser than 18\n",
    "-   \"adult\", if it's age is greater or equal to 18\n",
    "-   \"Alien\", otherwise."
   ]
  },
  {
   "cell_type": "code",
   "execution_count": 2,
   "id": "6d768658-362c-4a26-9f17-db867b417ff3",
   "metadata": {},
   "outputs": [
    {
     "name": "stdout",
     "output_type": "stream",
     "text": [
      "alien\n"
     ]
    }
   ],
   "source": [
    "a = -3\n",
    "if a > 0 and a < 13:\n",
    "   print('child')\n",
    "elif a >= 13 and a< 18:\n",
    "   print('teenager')\n",
    "elif a>=18:\n",
    "   print('adult')\n",
    "else:\n",
    "   print('alien')"
   ]
  },
  {
   "cell_type": "markdown",
   "id": "008eccf6-252e-46a6-897a-2329f7bc3a8f",
   "metadata": {},
   "source": [
    "## Loops\n",
    "\n",
    "Find in the documentation how to use the function `range()`, you can use Google, or type `range?`."
   ]
  },
  {
   "cell_type": "code",
   "execution_count": 10,
   "id": "818af327-8dca-4107-87a3-fb50cfaff9bd",
   "metadata": {},
   "outputs": [
    {
     "data": {
      "text/plain": [
       "range(0, 10)"
      ]
     },
     "execution_count": 10,
     "metadata": {},
     "output_type": "execute_result"
    }
   ],
   "source": [
    "range(10)  # returns the integers between 0 and 9"
   ]
  },
  {
   "cell_type": "markdown",
   "id": "fecfbc18-32ec-4710-b8fd-41699fb61c8b",
   "metadata": {},
   "source": [
    "## The FOR loop:\n",
    "\n",
    "In python, we can repeat the execution of some code. We call a loop each run of that code.\n",
    "\n",
    "Writing loop can be done in the following way :\n"
   ]
  },
  {
   "cell_type": "code",
   "execution_count": 4,
   "id": "8ddafcbc-da0b-40ff-bd22-cacfb1a741d7",
   "metadata": {},
   "outputs": [
    {
     "name": "stdout",
     "output_type": "stream",
     "text": [
      "0\n",
      "1\n",
      "2\n",
      "3\n",
      "4\n",
      "5\n",
      "6\n",
      "7\n",
      "8\n",
      "9\n",
      "This is the end\n",
      "9\n"
     ]
    }
   ],
   "source": [
    "i=2\n",
    "n=10\n",
    "for i in range(n):\n",
    "    print(i)\n",
    "print(\"This is the end\")\n",
    "print(i)"
   ]
  },
  {
   "cell_type": "markdown",
   "id": "1a624c51-2295-4bac-84e5-b8cec05832de",
   "metadata": {},
   "source": [
    "Notice that `i` still has a value after the loop finished. If needed, you can delete the value using the `del` function (this is not necessary)."
   ]
  },
  {
   "cell_type": "code",
   "execution_count": 5,
   "id": "944b6b91-dcbc-4bff-8c9e-85bff7a057d9",
   "metadata": {
    "scrolled": true
   },
   "outputs": [
    {
     "ename": "NameError",
     "evalue": "name 'i' is not defined",
     "output_type": "error",
     "traceback": [
      "\u001b[1;31m---------------------------------------------------------------------------\u001b[0m",
      "\u001b[1;31mNameError\u001b[0m                                 Traceback (most recent call last)",
      "Cell \u001b[1;32mIn[5], line 2\u001b[0m\n\u001b[0;32m      1\u001b[0m \u001b[38;5;28;01mdel\u001b[39;00m(i)\n\u001b[1;32m----> 2\u001b[0m \u001b[38;5;28mprint\u001b[39m(\u001b[43mi\u001b[49m)\n",
      "\u001b[1;31mNameError\u001b[0m: name 'i' is not defined"
     ]
    }
   ],
   "source": [
    "del(i)\n",
    "print(i)"
   ]
  },
  {
   "cell_type": "markdown",
   "id": "210beec7-b60b-4601-95cd-715b60aeeaba",
   "metadata": {},
   "source": [
    "### Exercise 6:\n",
    "\n",
    "Write a FOR loop that print all the integers divisible by 4 between 0 and 35"
   ]
  },
  {
   "cell_type": "code",
   "execution_count": 6,
   "id": "fe2b0bcd-91a0-4611-9eb3-9bcabca9e7bc",
   "metadata": {},
   "outputs": [
    {
     "name": "stdout",
     "output_type": "stream",
     "text": [
      "0\n",
      "4\n",
      "8\n",
      "12\n",
      "16\n",
      "20\n",
      "24\n",
      "28\n",
      "32\n"
     ]
    }
   ],
   "source": [
    "for _ in range(36):\n",
    "    if _ % 4 == 0:\n",
    "        print(_)"
   ]
  },
  {
   "cell_type": "markdown",
   "id": "82ad2495-baf5-4679-9d3e-6e5b58380369",
   "metadata": {},
   "source": [
    "## Lists\n",
    "\n",
    "In python, lists are written by using with brackets. For example, the list \\[1, 2, 3, 4\\] can be coded with those lines :"
   ]
  },
  {
   "cell_type": "code",
   "execution_count": 7,
   "id": "b71700a8-581b-4f6b-9018-e765e4438e95",
   "metadata": {},
   "outputs": [
    {
     "data": {
      "text/plain": [
       "[1, 2, 3, 4, 10]"
      ]
     },
     "execution_count": 7,
     "metadata": {},
     "output_type": "execute_result"
    }
   ],
   "source": [
    "l = [1,2,3,4]\n",
    "l\n",
    "l.append(10)\n",
    "l"
   ]
  },
  {
   "cell_type": "markdown",
   "id": "97f94ed6-f72a-4106-9909-7259e13e0c53",
   "metadata": {},
   "source": [
    "You can get the length of the list like so:"
   ]
  },
  {
   "cell_type": "code",
   "execution_count": 8,
   "id": "3f538731-83a6-454d-98bb-70e60768fe21",
   "metadata": {},
   "outputs": [
    {
     "data": {
      "text/plain": [
       "5"
      ]
     },
     "execution_count": 8,
     "metadata": {},
     "output_type": "execute_result"
    }
   ],
   "source": [
    "len(l)"
   ]
  },
  {
   "cell_type": "markdown",
   "id": "dc459441-ecd2-486a-ac8d-a154e492b8a1",
   "metadata": {},
   "source": [
    "It is possible to use loops and conditional jumps inside lists. In the next example, we select all the odd numbers between 0 and 19:"
   ]
  },
  {
   "cell_type": "code",
   "execution_count": 9,
   "id": "f9ef2864-2eac-44cd-a83e-e68d0a019531",
   "metadata": {},
   "outputs": [
    {
     "data": {
      "text/plain": [
       "[1, 3, 5, 7, 9, 11, 13, 15, 17, 19]"
      ]
     },
     "execution_count": 9,
     "metadata": {},
     "output_type": "execute_result"
    }
   ],
   "source": [
    "[_ for _ in range(20) if _ % 2 == 1]"
   ]
  },
  {
   "cell_type": "markdown",
   "id": "a7858c9d-cb21-4855-8e9b-1c531e555ccb",
   "metadata": {},
   "source": [
    "Note that the character `_`is often used to iterate through a list, so that it does not use a common letter, `x`, `a` etc."
   ]
  },
  {
   "cell_type": "markdown",
   "id": "65b42fee-2599-4f87-8303-c7093ea4d618",
   "metadata": {},
   "source": [
    "### Exercise 7:\n",
    "\n",
    "List, by using the function `range`, all the odd values running from -5 to 21."
   ]
  },
  {
   "cell_type": "code",
   "execution_count": 10,
   "id": "c7a30053-1d2f-4816-8a5c-fb44ac375f4a",
   "metadata": {},
   "outputs": [
    {
     "data": {
      "text/plain": [
       "[-5, -3, -1, 1, 3, 5, 7, 9, 11, 13, 15, 17, 19, 21]"
      ]
     },
     "execution_count": 10,
     "metadata": {},
     "output_type": "execute_result"
    }
   ],
   "source": [
    "[i for i in range(-5,22) if i % 2 == 1]"
   ]
  },
  {
   "cell_type": "markdown",
   "id": "372f09d7-98e7-4e8a-959d-272b156f3f22",
   "metadata": {},
   "source": [
    "We can write some lists by using loops :"
   ]
  },
  {
   "cell_type": "code",
   "execution_count": 11,
   "id": "d7224593-1c43-45b6-80f0-0701d44d203e",
   "metadata": {},
   "outputs": [
    {
     "data": {
      "text/plain": [
       "[1, 2, 5, 10, 17, 26, 37, 50, 65, 82]"
      ]
     },
     "execution_count": 11,
     "metadata": {},
     "output_type": "execute_result"
    }
   ],
   "source": [
    "l = []\n",
    "for i in range(10):\n",
    "   l.append(i**2+1)\n",
    "l"
   ]
  },
  {
   "cell_type": "markdown",
   "id": "36742a6a-dfb8-4ca8-a853-1ea2bf96c299",
   "metadata": {},
   "source": [
    "We can also do it in one line:"
   ]
  },
  {
   "cell_type": "code",
   "execution_count": 12,
   "id": "0cfc0abb-4e45-4325-9dd5-1e1a421198ae",
   "metadata": {},
   "outputs": [
    {
     "data": {
      "text/plain": [
       "[1, 2, 5, 10, 17, 26, 37, 50, 65, 82]"
      ]
     },
     "execution_count": 12,
     "metadata": {},
     "output_type": "execute_result"
    }
   ],
   "source": [
    "[i**2+1 for i in range(10)]"
   ]
  },
  {
   "cell_type": "markdown",
   "id": "c3e861f8-f66f-4746-9519-baa759a101c7",
   "metadata": {},
   "source": [
    "Compare it with:"
   ]
  },
  {
   "cell_type": "code",
   "execution_count": 13,
   "id": "e3b261b9-6fcc-48ed-8377-f34c830ad739",
   "metadata": {},
   "outputs": [
    {
     "data": {
      "text/plain": [
       "[3, 2, 1, 0, 7, 6, 5, 4, 11, 10]"
      ]
     },
     "execution_count": 13,
     "metadata": {},
     "output_type": "execute_result"
    }
   ],
   "source": [
    "[i^2+1 for i in range(10)]"
   ]
  },
  {
   "cell_type": "markdown",
   "id": "c9fffe04-b2fb-4ff9-bb54-1f491488b919",
   "metadata": {},
   "source": [
    "The operator `^` in python is a bitwise `XOR` (exclusive OR).\n",
    "\n",
    "It evaluates to `True` if and only if its arguments differ (one is `True`, any other value is `False`).\n",
    "\n",
    "To demonstrate:"
   ]
  },
  {
   "cell_type": "code",
   "execution_count": 14,
   "id": "dcfea661-6a44-431f-a14f-a02e6b756169",
   "metadata": {},
   "outputs": [
    {
     "data": {
      "text/plain": [
       "0"
      ]
     },
     "execution_count": 14,
     "metadata": {},
     "output_type": "execute_result"
    }
   ],
   "source": [
    "1^1"
   ]
  },
  {
   "cell_type": "code",
   "execution_count": 15,
   "id": "058d7cde-5f77-4d72-9c53-358960e756e6",
   "metadata": {},
   "outputs": [
    {
     "data": {
      "text/plain": [
       "1"
      ]
     },
     "execution_count": 15,
     "metadata": {},
     "output_type": "execute_result"
    }
   ],
   "source": [
    "1^0"
   ]
  },
  {
   "cell_type": "code",
   "execution_count": 16,
   "id": "047eb174-dbed-471d-b72a-8818b0d342fc",
   "metadata": {},
   "outputs": [
    {
     "data": {
      "text/plain": [
       "0"
      ]
     },
     "execution_count": 16,
     "metadata": {},
     "output_type": "execute_result"
    }
   ],
   "source": [
    "0^0"
   ]
  },
  {
   "cell_type": "code",
   "execution_count": 17,
   "id": "0250e6b5-0dea-4bc6-b618-ff35f653e691",
   "metadata": {},
   "outputs": [
    {
     "data": {
      "text/plain": [
       "1"
      ]
     },
     "execution_count": 17,
     "metadata": {},
     "output_type": "execute_result"
    }
   ],
   "source": [
    "0^1"
   ]
  },
  {
   "cell_type": "code",
   "execution_count": 18,
   "id": "238fc108-5acf-4063-9b63-49cf1fcc2928",
   "metadata": {},
   "outputs": [
    {
     "data": {
      "text/plain": [
       "7"
      ]
     },
     "execution_count": 18,
     "metadata": {},
     "output_type": "execute_result"
    }
   ],
   "source": [
    "3^4"
   ]
  },
  {
   "cell_type": "markdown",
   "id": "56902e60-6b91-4eec-bd58-f2a3511635e8",
   "metadata": {},
   "source": [
    "## The WHILE loop:\n",
    "\n",
    "Loops can be written with the following format:"
   ]
  },
  {
   "cell_type": "code",
   "execution_count": 19,
   "id": "4545b9f2-a474-4601-85a8-450602cc6793",
   "metadata": {},
   "outputs": [
    {
     "name": "stdout",
     "output_type": "stream",
     "text": [
      "2\n",
      "3\n",
      "4\n",
      "5\n",
      "6\n",
      "7\n",
      "8\n",
      "9\n",
      "output i : 10\n"
     ]
    }
   ],
   "source": [
    "n=10\n",
    "i=2\n",
    "while i < n:\n",
    "    print(i)\n",
    "    i = i+1\n",
    "print(\"output i : \" + str(i))"
   ]
  },
  {
   "cell_type": "markdown",
   "id": "11410a88-2b1a-43b0-ab8d-ae30903b4d10",
   "metadata": {},
   "source": [
    "### Exercise 8:\n",
    "\n",
    "In a randomized order of the numbers from 0 to 999, find the first number in `my_list` which is divisible by 17 and not divisible by 3."
   ]
  },
  {
   "cell_type": "code",
   "execution_count": 20,
   "id": "1b9ac36f-9403-4b0a-a212-9ddc17d2d7b4",
   "metadata": {},
   "outputs": [],
   "source": [
    "from random import shuffle\n",
    "my_list = list(range(1000))\n",
    "shuffle(my_list)"
   ]
  },
  {
   "cell_type": "code",
   "execution_count": 21,
   "id": "8d297909-5ca4-4e09-9cf9-1dd519b7fe64",
   "metadata": {},
   "outputs": [
    {
     "name": "stdout",
     "output_type": "stream",
     "text": [
      "28 782\n"
     ]
    }
   ],
   "source": [
    "index = 0\n",
    "found = False\n",
    "while not found:\n",
    "    test = my_list[index]\n",
    "    if test % 17 == 0 and test % 3 != 0:\n",
    "        found = True\n",
    "    else:\n",
    "        index += 1\n",
    "print(index, my_list[index])"
   ]
  },
  {
   "cell_type": "markdown",
   "id": "298a9f85-365c-450b-821d-481a2c0251b7",
   "metadata": {},
   "source": [
    "## Functions :\n",
    "\n",
    "A function can be declared with the keyword **def**. Come back to the last exercise and create a function $characteristic(age)$ that takes as parameter the age of an human and returns the previous characteristic."
   ]
  },
  {
   "cell_type": "markdown",
   "id": "fbe112e8-1ca3-45de-b62b-b03e59dd29c1",
   "metadata": {},
   "source": [
    "### Exercise 9:\n",
    "\n",
    "Write a function that takes, in parameter, a real $x$ and then returns the maximum between $x^2$ and $2x+1$"
   ]
  },
  {
   "cell_type": "code",
   "execution_count": 22,
   "id": "b195bd4d-13db-400f-aa91-e6af808bdb82",
   "metadata": {},
   "outputs": [],
   "source": [
    "def some_max(x):\n",
    "    return max([x^2,2*x+1])"
   ]
  },
  {
   "cell_type": "markdown",
   "id": "67586cac-f7ea-4cc8-b429-fcaab3bb905d",
   "metadata": {},
   "source": [
    "### Exercise 10:\n",
    "\n",
    "Write a function `f` that takes an integer $n$ and then returns the value $u_n$ defined by $u_n=u_{n-1}+u_{n-2}$ with $u_{0}=0$ and $u_1=1$."
   ]
  },
  {
   "cell_type": "code",
   "execution_count": 23,
   "id": "9cf4d380-e033-4610-9645-68fcd221816a",
   "metadata": {},
   "outputs": [],
   "source": [
    "def f(n):\n",
    "    if n == 0:\n",
    "        return 0\n",
    "    elif n == 1:\n",
    "        return 1\n",
    "    else:\n",
    "        return f(n-1) + f(n-2)"
   ]
  },
  {
   "cell_type": "markdown",
   "id": "f4afc13a-0022-4d48-bff6-a68ce23f0519",
   "metadata": {},
   "source": [
    "### Exercise 11:\n",
    "\n",
    "Give a function that takes an integer $n$ as parameter and return the integer part of $\\log_2(n)$."
   ]
  },
  {
   "cell_type": "code",
   "execution_count": 24,
   "id": "5920ef3b-83db-4b68-ae3c-587471b14f1c",
   "metadata": {},
   "outputs": [],
   "source": [
    "def a_function(n):\n",
    "    return floor(log(n)/log(2))"
   ]
  },
  {
   "cell_type": "markdown",
   "id": "416f1c33-0338-42bc-ad04-0bac629b5eac",
   "metadata": {},
   "source": [
    "### Exercise 12:\n",
    "\n",
    "By using the previous examples, write a function that gives the list of all even integers that are lesser than `n` that are not divisible by 11."
   ]
  },
  {
   "cell_type": "code",
   "execution_count": 25,
   "id": "bfd4d567-3de4-422f-9660-7c2fd126394b",
   "metadata": {},
   "outputs": [],
   "source": [
    "def another(n):\n",
    "    return [_ for _ in range(n) if _ % 11 != 0]"
   ]
  },
  {
   "cell_type": "markdown",
   "id": "6790112e-65b2-4521-b876-6abf2e0ac70a",
   "metadata": {},
   "source": [
    "### Exercise 13:\n",
    "\n",
    "Propose an algorithm that computes the binomial $\\binom{n}{k}$ by using the Pascal triangle : $\\binom{n+1}{k}=\\binom{n}{k}+\\binom{n}{k-1}$."
   ]
  },
  {
   "cell_type": "code",
   "execution_count": 1,
   "id": "e50e2a11-013c-40d9-8075-00af00e1fd0b",
   "metadata": {},
   "outputs": [],
   "source": [
    "def pascal(n,k):\n",
    "    if k == 0:\n",
    "        return 1\n",
    "    elif k == 1:\n",
    "        return n\n",
    "    elif k == n:\n",
    "        return 1\n",
    "    elif k+1 == n:\n",
    "        return n\n",
    "    else:\n",
    "        return pascal(n-1,k) + pascal(n-1,k-1)"
   ]
  },
  {
   "cell_type": "markdown",
   "id": "6c12a706-78f3-4ed1-923f-a854e8855073",
   "metadata": {},
   "source": [
    "## Dictionaries\n",
    "\n",
    "Dictionaries are data structures that allow to associate an object called `key` to another object called `value`. In a dictionary, all keys are different. In fact a dictionary is a map with finite support."
   ]
  },
  {
   "cell_type": "code",
   "execution_count": 27,
   "id": "38350ed9-1879-4ca6-93e3-75895dd12b14",
   "metadata": {},
   "outputs": [
    {
     "data": {
      "text/plain": [
       "{'dog': 4, 'cat': 6, 'lamp': True, 'ambulance': 6}"
      ]
     },
     "execution_count": 27,
     "metadata": {},
     "output_type": "execute_result"
    }
   ],
   "source": [
    "D = {\"dog\":4, \"cat\":6, \"lamp\":True, \"ambulance\":6}\n",
    "D"
   ]
  },
  {
   "cell_type": "code",
   "execution_count": 28,
   "id": "ce38c8f2-911d-4019-b6d7-87b55950e712",
   "metadata": {},
   "outputs": [
    {
     "data": {
      "text/plain": [
       "dict_keys(['dog', 'cat', 'lamp', 'ambulance'])"
      ]
     },
     "execution_count": 28,
     "metadata": {},
     "output_type": "execute_result"
    }
   ],
   "source": [
    "D.keys()"
   ]
  },
  {
   "cell_type": "markdown",
   "id": "ef51a72c-0ca2-499a-a857-143033354a05",
   "metadata": {},
   "source": [
    "### Exercise 14:\n",
    "\n",
    "How do you proceed to :\n",
    "\n",
    "-   determine if a dictionary contains a particular key;\n",
    "-   get a value associated to a key;\n",
    "-   get the number of keys."
   ]
  },
  {
   "cell_type": "code",
   "execution_count": 29,
   "id": "26d274ea-b5d8-4d3f-a3e4-7b7c365a2e42",
   "metadata": {},
   "outputs": [
    {
     "data": {
      "text/plain": [
       "\u001b[1;31mType:\u001b[0m        dict\n",
       "\u001b[1;31mString form:\u001b[0m {'dog': 4, 'cat': 6, 'lamp': True, 'ambulance': 6}\n",
       "\u001b[1;31mLength:\u001b[0m      4\n",
       "\u001b[1;31mDocstring:\u001b[0m  \n",
       "dict() -> new empty dictionary\n",
       "dict(mapping) -> new dictionary initialized from a mapping object's\n",
       "    (key, value) pairs\n",
       "dict(iterable) -> new dictionary initialized as if via:\n",
       "    d = {}\n",
       "    for k, v in iterable:\n",
       "        d[k] = v\n",
       "dict(**kwargs) -> new dictionary initialized with the name=value pairs\n",
       "    in the keyword argument list.  For example:  dict(one=1, two=2)"
      ]
     },
     "metadata": {},
     "output_type": "display_data"
    }
   ],
   "source": [
    "D?"
   ]
  },
  {
   "cell_type": "markdown",
   "id": "69ff6311-45f8-474b-818d-bfe9ff10cb43",
   "metadata": {},
   "source": [
    "Use the `tab` completion to help you:"
   ]
  },
  {
   "cell_type": "code",
   "execution_count": 30,
   "id": "ba2843ad-abc8-48e3-8573-3f633b7035ff",
   "metadata": {},
   "outputs": [
    {
     "data": {
      "text/plain": [
       "4"
      ]
     },
     "execution_count": 30,
     "metadata": {},
     "output_type": "execute_result"
    }
   ],
   "source": [
    "D['dog']"
   ]
  },
  {
   "cell_type": "code",
   "execution_count": 31,
   "id": "35770079-5c7f-47b0-887a-d5a771c7d9fe",
   "metadata": {
    "scrolled": true
   },
   "outputs": [
    {
     "data": {
      "text/plain": [
       "4"
      ]
     },
     "execution_count": 31,
     "metadata": {},
     "output_type": "execute_result"
    }
   ],
   "source": [
    "len(D.keys())"
   ]
  },
  {
   "cell_type": "markdown",
   "id": "ca635b12-dbe9-4acd-aaaa-9feeefdb9c4e",
   "metadata": {},
   "source": [
    "### Exercise 15:\n",
    "\n",
    "Write a function that takes as parameter a list of integers and returns a dictionary where\n",
    "\n",
    "-   keys are all the integers present inside the list\n",
    "-   values, associated with the key, are the number of key repetitions inside the list."
   ]
  },
  {
   "cell_type": "code",
   "execution_count": 32,
   "id": "5a1905f5-6e77-4b75-91b7-d72b4af06206",
   "metadata": {},
   "outputs": [],
   "source": [
    "def num_occur(the_list):\n",
    "    d = {}\n",
    "    for _ in the_list:\n",
    "        if _ not in d:\n",
    "            d[_] = 1\n",
    "        else:\n",
    "            d[_] += 1\n",
    "    return d"
   ]
  },
  {
   "cell_type": "markdown",
   "id": "17536c97-d7e0-457f-9879-4ff68bfc817b",
   "metadata": {},
   "source": [
    "## Generators/Iterators\n",
    "\n",
    "Generators are programs that are useful to enumerate objects on demand. We obtain that generator by typing :"
   ]
  },
  {
   "cell_type": "code",
   "execution_count": 33,
   "id": "e86454f3-9e51-47e5-b629-c052be8e2aec",
   "metadata": {},
   "outputs": [],
   "source": [
    "generator = iter([2,5,21,0])"
   ]
  },
  {
   "cell_type": "markdown",
   "id": "011da9a0-6386-42f5-92a6-41f74afc9a23",
   "metadata": {},
   "source": [
    "We can enumerate those permutations by writing :"
   ]
  },
  {
   "cell_type": "code",
   "execution_count": 34,
   "id": "c69768fb-711c-453d-ba00-06b8b8e6a35d",
   "metadata": {},
   "outputs": [
    {
     "data": {
      "text/plain": [
       "2"
      ]
     },
     "execution_count": 34,
     "metadata": {},
     "output_type": "execute_result"
    }
   ],
   "source": [
    "next(generator)"
   ]
  },
  {
   "cell_type": "code",
   "execution_count": 35,
   "id": "962cb9e4-833d-47ef-8475-14aafaf20bef",
   "metadata": {},
   "outputs": [
    {
     "data": {
      "text/plain": [
       "5"
      ]
     },
     "execution_count": 35,
     "metadata": {},
     "output_type": "execute_result"
    }
   ],
   "source": [
    "next(generator)"
   ]
  },
  {
   "cell_type": "code",
   "execution_count": 36,
   "id": "6919c2c3-8da0-4de3-8e35-d97a21e6aed2",
   "metadata": {},
   "outputs": [
    {
     "data": {
      "text/plain": [
       "21"
      ]
     },
     "execution_count": 36,
     "metadata": {},
     "output_type": "execute_result"
    }
   ],
   "source": [
    "next(generator)"
   ]
  },
  {
   "cell_type": "code",
   "execution_count": 37,
   "id": "bbb0627d",
   "metadata": {},
   "outputs": [
    {
     "data": {
      "text/plain": [
       "0"
      ]
     },
     "execution_count": 37,
     "metadata": {},
     "output_type": "execute_result"
    }
   ],
   "source": [
    "next(generator)"
   ]
  },
  {
   "cell_type": "markdown",
   "id": "16b339bf-dd8e-4aa2-9b02-298aae8ad129",
   "metadata": {},
   "source": [
    "An error is raised when iterator reach the end of the iterator function."
   ]
  },
  {
   "cell_type": "code",
   "execution_count": 38,
   "id": "c2d6b08d-4f5d-456e-aa02-4475ce3bb138",
   "metadata": {},
   "outputs": [
    {
     "ename": "StopIteration",
     "evalue": "",
     "output_type": "error",
     "traceback": [
      "\u001b[1;31m---------------------------------------------------------------------------\u001b[0m",
      "\u001b[1;31mStopIteration\u001b[0m                             Traceback (most recent call last)",
      "Cell \u001b[1;32mIn[38], line 1\u001b[0m\n\u001b[1;32m----> 1\u001b[0m \u001b[38;5;28;43mnext\u001b[39;49m\u001b[43m(\u001b[49m\u001b[43mgenerator\u001b[49m\u001b[43m)\u001b[49m\n",
      "\u001b[1;31mStopIteration\u001b[0m: "
     ]
    }
   ],
   "source": [
    "next(generator)"
   ]
  },
  {
   "cell_type": "markdown",
   "id": "2289ce30-f089-4b9a-a813-dbf8e9a486cf",
   "metadata": {},
   "source": [
    "Generators allow to obtain object one by one without computing a list of all the elements. This is useful when the list is big or infinite.\n",
    "\n",
    "You can implement your own generator. It suffices, during the enumeration, to return the current value by using the keyword `yield`. At the first use of `yield`, python will create a generator that stores in memory all the states of the calculus. At each `next` the generator will continue the calculus and will return the next value of the enumeration."
   ]
  },
  {
   "cell_type": "code",
   "execution_count": 39,
   "id": "3a5f0057-49a7-43ff-86c0-1acae010614e",
   "metadata": {},
   "outputs": [
    {
     "name": "stdout",
     "output_type": "stream",
     "text": [
      "0\n",
      "1\n",
      "4\n",
      "9\n",
      "16\n",
      "25\n"
     ]
    }
   ],
   "source": [
    "def generator( n ):\n",
    "     for i in range(n):\n",
    "         yield i**2\n",
    "gen = generator( 30 )\n",
    "print( next(gen) )\n",
    "print( next(gen) )\n",
    "print( next(gen) )\n",
    "print( next(gen) )\n",
    "print( next(gen) )\n",
    "print( next(gen) )"
   ]
  },
  {
   "cell_type": "markdown",
   "id": "51f56421-76fb-48bc-be69-8afe0ae7a3af",
   "metadata": {},
   "source": [
    "### Exercises 16:\n",
    "\n",
    "Write a generator that enumerates all numbers divisible by 3 that are not divisible by 5."
   ]
  },
  {
   "cell_type": "code",
   "execution_count": 40,
   "id": "6b35c882-88f5-4a37-98c3-185b772cba74",
   "metadata": {},
   "outputs": [],
   "source": [
    "def the_gen():\n",
    "    index = 0\n",
    "    while True:\n",
    "        if index % 3 == 0 and index % 5 != 0:\n",
    "            yield index\n",
    "        index += 1\n",
    "g = the_gen()"
   ]
  },
  {
   "cell_type": "code",
   "execution_count": 41,
   "id": "a09d1a16-2c6f-4132-a300-6d5412da7ff0",
   "metadata": {},
   "outputs": [
    {
     "data": {
      "text/plain": [
       "3"
      ]
     },
     "execution_count": 41,
     "metadata": {},
     "output_type": "execute_result"
    }
   ],
   "source": [
    "next(g)"
   ]
  },
  {
   "cell_type": "markdown",
   "id": "3cf538f3-395e-49be-ad5a-bbdcfc32b3d3",
   "metadata": {},
   "source": [
    "## Euler project\n",
    "\n",
    "You can train yourself by solving problems from the Euler Project Website :\n",
    "\n",
    "<https://projecteuler.net/>"
   ]
  },
  {
   "cell_type": "markdown",
   "id": "21ed1da6-d4f7-46e2-9614-3ed47ce6e33d",
   "metadata": {},
   "source": [
    "For more information on Python and lots of examples, see <https://www.w3schools.com/python/default.asp>"
   ]
  },
  {
   "cell_type": "code",
   "execution_count": null,
   "id": "c9a4f760-c9f5-440c-99b2-fcbf34f91362",
   "metadata": {},
   "outputs": [],
   "source": []
  }
 ],
 "metadata": {
  "kernelspec": {
   "display_name": "Python 3",
   "language": "python",
   "name": "python3"
  },
  "language_info": {
   "codemirror_mode": {
    "name": "ipython",
    "version": 3
   },
   "file_extension": ".py",
   "mimetype": "text/x-python",
   "name": "python",
   "nbconvert_exporter": "python",
   "pygments_lexer": "ipython3",
   "version": "3.11.8"
  }
 },
 "nbformat": 4,
 "nbformat_minor": 5
}
