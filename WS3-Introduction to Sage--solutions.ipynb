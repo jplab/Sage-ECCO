{
 "cells": [
  {
   "cell_type": "markdown",
   "id": "c6402f6b-86fa-4f28-b5a9-0fa2826e1fd7",
   "metadata": {},
   "source": [
    "# Introduction to Sage (using Jupyter/Cocalc)\n",
    "\n",
    "#### This is an introduction to the basic functionality of Sage, with an emphasis on seeing how to handle a worksheet and how to get more detailed help.\n",
    "    \n",
    "#### Sage can be seen as a <span style=\"color:red\">modified python language for mathematicians</span> with a <span style=\"color:red\">HUGE distribution of softwares</span> and a <span style=\"color:red\">HUGE library of mathematical functions</span>.\n",
    "\n",
    "+ The list of packages (included softwares) can be found here: <https://doc.sagemath.org/html/en/reference/spkg/>\n",
    "+ The comprehensive Reference Manual can be found here: <https://doc.sagemath.org/html/en/reference/index.html>"
   ]
  },
  {
   "cell_type": "markdown",
   "id": "1ff2f7cc-bae0-4375-87ec-d29c305535f4",
   "metadata": {},
   "source": [
    "## Some quotes"
   ]
  },
  {
   "cell_type": "markdown",
   "id": "1f7df296-02c3-462c-8a02-75185f38a7b1",
   "metadata": {},
   "source": [
    "### \"You can read Sylow’s Theorem and its proof in Huppert’s book in the library [...] then you can use Sylow’s Theorem for the rest of your life free of charge, but for many computer algebra systems license fees have to be paid regularly [...].\n",
    "\n",
    "### With this situation two of the most basic rules of conduct in mathematics are violated: \n",
    "\n",
    "### - In mathematics <span style=\"color:red\">information is passed on free of charge and everything is laid open for checking</span>. Not applying these rules to computer algebra systems that are made for mathematical research [...] means moving in a most undesirable direction.\n",
    "\n",
    "### Most important: \n",
    "\n",
    "### - Can we expect somebody to <span style=\"color:red\">believe a result of a program that he is not allowed to see</span>?\"\n",
    "\n",
    "### <div style=\"text-align: right\">– J. Neubüser in 1993 (he started GAP in 1986).</div>"
   ]
  },
  {
   "cell_type": "markdown",
   "id": "ff5a6d4d-c92d-47bb-9eae-5dace5f9ba7e",
   "metadata": {},
   "source": [
    "### “I think, fundamentally, open source does tend to be more stable software. It’s the right way to do things. I compare it to <span style=\"color:red\">science versus witchcraft</span>.\n",
    "\n",
    "### In science, the whole system builds on people looking at other people’s results and building on top of them. \n",
    "\n",
    "### In witchcraft, somebody had a small secret and guarded it—but never allowed others to really understand it and build on it.”\n",
    "\n",
    "### <div style=\"text-align: right\">—Linus Torvalds.</div>"
   ]
  },
  {
   "cell_type": "markdown",
   "id": "a40f91ce-27ef-4907-b4d6-18b8345caf71",
   "metadata": {},
   "source": [
    "## Python+Sage = Python with a math brain\n",
    "\n",
    "The language of SAGE is a slightly modified Python language. Python is an object oriented and therefore everything in SAGE are objects."
   ]
  },
  {
   "cell_type": "markdown",
   "id": "4118d0c6-f090-44b5-82d4-aa574ca47b49",
   "metadata": {},
   "source": [
    "### Mathematical functions\n",
    "\n",
    "There are a lot of usual mathematical functions already implemented in Sage:"
   ]
  },
  {
   "cell_type": "markdown",
   "id": "a42f3227-fed1-44db-8514-7674dda29455",
   "metadata": {},
   "source": [
    "#### Mathematical Constants and functions"
   ]
  },
  {
   "cell_type": "code",
   "execution_count": 1,
   "id": "3023e31f-2eae-43b9-b7d4-8ec0cd2ee50a",
   "metadata": {},
   "outputs": [
    {
     "data": {
      "text/plain": [
       "(pi, e, golden_ratio, euler_gamma, I, +Infinity)"
      ]
     },
     "execution_count": 1,
     "metadata": {},
     "output_type": "execute_result"
    }
   ],
   "source": [
    "pi,e,golden_ratio,euler_gamma,i,infinity"
   ]
  },
  {
   "cell_type": "code",
   "execution_count": 2,
   "id": "bff97107-92b2-49a4-a59a-979f7b013118",
   "metadata": {},
   "outputs": [
    {
     "data": {
      "text/plain": [
       "-1"
      ]
     },
     "execution_count": 2,
     "metadata": {},
     "output_type": "execute_result"
    }
   ],
   "source": [
    "e^(i*pi)"
   ]
  },
  {
   "cell_type": "code",
   "execution_count": 3,
   "id": "2236b3ac-ef7a-49c8-a0ff-0c270cae20fc",
   "metadata": {},
   "outputs": [
    {
     "data": {
      "text/plain": [
       "(log(57), e^3, 3, 120)"
      ]
     },
     "execution_count": 3,
     "metadata": {},
     "output_type": "execute_result"
    }
   ],
   "source": [
    "log(57), exp(3), gcd(345,11142), lcm(20,24)"
   ]
  },
  {
   "cell_type": "markdown",
   "id": "8778c3ca-eb74-4b2f-97de-54137295cb00",
   "metadata": {},
   "source": [
    "#### Trigonometry:"
   ]
  },
  {
   "cell_type": "code",
   "execution_count": 4,
   "id": "259782a2-3d40-4c56-8e22-66672ce2013c",
   "metadata": {},
   "outputs": [
    {
     "data": {
      "text/plain": [
       "[arccos(1/4*pi), 0, 1]"
      ]
     },
     "execution_count": 4,
     "metadata": {},
     "output_type": "execute_result"
    }
   ],
   "source": [
    "[arccos(pi/4),tan(pi),sin(pi/2)]"
   ]
  },
  {
   "cell_type": "markdown",
   "id": "80cd3ba0-df29-4dfd-bc11-1c016b7e2200",
   "metadata": {},
   "source": [
    "#### Combinatorial tools"
   ]
  },
  {
   "cell_type": "code",
   "execution_count": 5,
   "id": "7c928c99-7ada-4f29-a09f-dfb981845b46",
   "metadata": {},
   "outputs": [
    {
     "data": {
      "text/plain": [
       "(6, 14, 720, 3, 27720)"
      ]
     },
     "execution_count": 5,
     "metadata": {},
     "output_type": "execute_result"
    }
   ],
   "source": [
    "binomial(4,2),catalan_number(4),factorial(6),fibonacci(4),multinomial(3,4,5)"
   ]
  },
  {
   "cell_type": "markdown",
   "id": "853ee0e0-7de2-44c6-add7-efd953fe839c",
   "metadata": {},
   "source": [
    "#### Calculus"
   ]
  },
  {
   "cell_type": "code",
   "execution_count": 6,
   "id": "ee070661-8bd3-4941-b915-782aada583ef",
   "metadata": {},
   "outputs": [
    {
     "data": {
      "text/plain": [
       "(0, cos(x), log(sec(x)))"
      ]
     },
     "execution_count": 6,
     "metadata": {},
     "output_type": "execute_result"
    }
   ],
   "source": [
    "limit(1/x,x=infinity), derivative(sin(x),x),integrate(tan(x),x)"
   ]
  },
  {
   "cell_type": "markdown",
   "id": "3bb24dc7-e5e7-457c-b93c-e5c75eb8809a",
   "metadata": {},
   "source": [
    "#### Linear Algebra"
   ]
  },
  {
   "cell_type": "code",
   "execution_count": 7,
   "id": "3954a0b6-04e8-4b4e-b466-9726dc0f13ec",
   "metadata": {
    "scrolled": true
   },
   "outputs": [
    {
     "data": {
      "text/plain": [
       "-1"
      ]
     },
     "execution_count": 7,
     "metadata": {},
     "output_type": "execute_result"
    }
   ],
   "source": [
    "M = matrix([[2,3],[7,10]])\n",
    "det(M)"
   ]
  },
  {
   "cell_type": "code",
   "execution_count": 8,
   "id": "c450b3ba-8cee-47c5-866e-1a7b6048e065",
   "metadata": {},
   "outputs": [
    {
     "data": {
      "text/plain": [
       "[1 0 0 0]\n",
       "[0 1 0 0]\n",
       "[0 0 1 0]\n",
       "[0 0 0 1]"
      ]
     },
     "execution_count": 8,
     "metadata": {},
     "output_type": "execute_result"
    }
   ],
   "source": [
    "identity_matrix(4)"
   ]
  },
  {
   "cell_type": "code",
   "execution_count": 9,
   "id": "088ea4f1-ccdb-4a5f-8aba-c66c98571145",
   "metadata": {},
   "outputs": [
    {
     "data": {
      "text/plain": [
       "[0 0 0]\n",
       "[0 0 0]\n",
       "[0 0 0]"
      ]
     },
     "execution_count": 9,
     "metadata": {},
     "output_type": "execute_result"
    }
   ],
   "source": [
    "zero_matrix(3)"
   ]
  },
  {
   "cell_type": "markdown",
   "id": "65819e4f-cbb7-4a35-92e7-75ecae8bfcac",
   "metadata": {},
   "source": [
    "#### Algebra"
   ]
  },
  {
   "cell_type": "code",
   "execution_count": 10,
   "id": "6488d7ae-df2d-42d5-a75e-a183b6d513f8",
   "metadata": {},
   "outputs": [
    {
     "name": "stdout",
     "output_type": "stream",
     "text": [
      "x^2 + 6*x + 9\n",
      "3 * 37\n"
     ]
    }
   ],
   "source": [
    "print(expand((x+3)^2))\n",
    "print(factor(111))"
   ]
  },
  {
   "cell_type": "code",
   "execution_count": 11,
   "id": "ebb6e814-5020-44f8-9e30-9e3412892547",
   "metadata": {},
   "outputs": [
    {
     "data": {
      "text/plain": [
       "[[x < 2.675888665325285]]"
      ]
     },
     "execution_count": 11,
     "metadata": {},
     "output_type": "execute_result"
    }
   ],
   "source": [
    "solve(x^2+7 > x^3-5,x)"
   ]
  },
  {
   "cell_type": "markdown",
   "id": "27e521e0-bdba-48bf-92b3-ce489472fea9",
   "metadata": {},
   "source": [
    "### New default classes and parsing\n",
    "\n",
    "Sage comes with a new layer of classes on top of python. The most prominent example is the class `Integer`, which has more functionality:"
   ]
  },
  {
   "cell_type": "code",
   "execution_count": 12,
   "id": "fe3f0751-cf71-4a46-af39-46cb4dee3a88",
   "metadata": {},
   "outputs": [],
   "source": [
    "Mcinco = -5"
   ]
  },
  {
   "cell_type": "code",
   "execution_count": 13,
   "id": "05f83c97-df1f-4b94-b18e-6d4d94b54635",
   "metadata": {},
   "outputs": [
    {
     "data": {
      "text/plain": [
       "<class 'sage.rings.integer.Integer'>"
      ]
     },
     "execution_count": 13,
     "metadata": {},
     "output_type": "execute_result"
    }
   ],
   "source": [
    "type(Mcinco)"
   ]
  },
  {
   "cell_type": "markdown",
   "id": "a1637131-7bd9-4203-80c7-6ae97ea2c247",
   "metadata": {},
   "source": [
    "Notice that this is a **new class** that did not exist in python. The `int` still exists:"
   ]
  },
  {
   "cell_type": "code",
   "execution_count": 14,
   "id": "9fc6ca88-cc58-4f1b-b808-6eab8cd6c4a2",
   "metadata": {},
   "outputs": [
    {
     "data": {
      "text/plain": [
       "<class 'int'>"
      ]
     },
     "execution_count": 14,
     "metadata": {},
     "output_type": "execute_result"
    }
   ],
   "source": [
    "int_mcinco = int(-5)\n",
    "type(int_mcinco)"
   ]
  },
  {
   "cell_type": "markdown",
   "id": "781ada6e-5e0e-4be5-ac3d-bc75c79db7f4",
   "metadata": {},
   "source": [
    "You can compare the available methods for both objects and see the difference using the `tab` completion (press the `tab` key in the next two cells and compare):"
   ]
  },
  {
   "cell_type": "code",
   "execution_count": 15,
   "id": "1f963712-3ae3-4c8e-b20f-c73e1a9db27d",
   "metadata": {},
   "outputs": [
    {
     "ename": "SyntaxError",
     "evalue": "invalid syntax (3090997185.py, line 1)",
     "output_type": "error",
     "traceback": [
      "\u001b[1;36m  Cell \u001b[1;32mIn[15], line 1\u001b[1;36m\u001b[0m\n\u001b[1;33m    Mcinco.\u001b[0m\n\u001b[1;37m           ^\u001b[0m\n\u001b[1;31mSyntaxError\u001b[0m\u001b[1;31m:\u001b[0m invalid syntax\n"
     ]
    }
   ],
   "source": [
    "Mcinco."
   ]
  },
  {
   "cell_type": "code",
   "execution_count": 16,
   "id": "dd39ba49-6ea9-4138-ac40-89fddb84f873",
   "metadata": {},
   "outputs": [
    {
     "ename": "SyntaxError",
     "evalue": "invalid syntax (3106799166.py, line 1)",
     "output_type": "error",
     "traceback": [
      "\u001b[1;36m  Cell \u001b[1;32mIn[16], line 1\u001b[1;36m\u001b[0m\n\u001b[1;33m    int_mcinco.\u001b[0m\n\u001b[1;37m               ^\u001b[0m\n\u001b[1;31mSyntaxError\u001b[0m\u001b[1;31m:\u001b[0m invalid syntax\n"
     ]
    }
   ],
   "source": [
    "int_mcinco."
   ]
  },
  {
   "cell_type": "markdown",
   "id": "3896ce51-09ca-4abf-9379-f848c0373035",
   "metadata": {},
   "source": [
    "Which one offers more?\n",
    "\n",
    "Of course, Sage knows about numbers and how to do the basic operations with them. It will always try to find the least complicated structure (rings, fields, groups, vector spaces, etc.) that allows to do the operation.\n",
    "\n",
    "For example:"
   ]
  },
  {
   "cell_type": "code",
   "execution_count": 17,
   "id": "27406574-26de-421f-bf4c-a65a4d194340",
   "metadata": {},
   "outputs": [
    {
     "name": "stdout",
     "output_type": "stream",
     "text": [
      "21/11\n",
      "<class 'sage.rings.rational.Rational'>\n"
     ]
    }
   ],
   "source": [
    "F = 3 * 7/11\n",
    "print(F) # Returns a rational number\n",
    "print(type(F))"
   ]
  },
  {
   "cell_type": "markdown",
   "id": "87a6f594-eb9c-459f-8bbe-44f57b45e21e",
   "metadata": {},
   "source": [
    "This is called \"parsing\". Sage **parses** the input you give it, and tries to interpret as reasonably as possible what is meant."
   ]
  },
  {
   "cell_type": "code",
   "execution_count": 18,
   "id": "08a191d4-d71e-44d5-8a04-8b28395cc990",
   "metadata": {},
   "outputs": [
    {
     "name": "stdout",
     "output_type": "stream",
     "text": [
      "77\n",
      "<class 'sage.rings.rational.Rational'>\n"
     ]
    }
   ],
   "source": [
    "G = 49 * 11/7\n",
    "print(G) # Returns an integer!!!\n",
    "print(type(G)) # But the type remains a rational because rational numbers were used to obtain it"
   ]
  },
  {
   "cell_type": "markdown",
   "id": "2d0f0a0c-13fc-453a-80ea-18aaf420505e",
   "metadata": {},
   "source": [
    "See the difference if we use a decimal number:"
   ]
  },
  {
   "cell_type": "code",
   "execution_count": 19,
   "id": "888f3d1d-cb83-4918-8ac0-3778bd9d46c8",
   "metadata": {},
   "outputs": [
    {
     "name": "stdout",
     "output_type": "stream",
     "text": [
      "30.0000000000000\n",
      "<class 'sage.rings.real_mpfr.RealNumber'>\n"
     ]
    }
   ],
   "source": [
    "H = 7.5 * 16/4\n",
    "print(H) # Returns a decimal number!!!\n",
    "print(type(H)) # But the type is a real number because decimal numbers were used to obtain it"
   ]
  },
  {
   "cell_type": "markdown",
   "id": "e1adcd62-12a7-44b6-a01b-f5f5cc6b40b3",
   "metadata": {},
   "source": [
    "#### Python parser vs Sage parser \n",
    "\n",
    "One of the big differences is the difference when interpreting the `^` operator:"
   ]
  },
  {
   "cell_type": "code",
   "execution_count": 20,
   "id": "cea575ae-b17e-464a-81cd-291d7c4a182a",
   "metadata": {},
   "outputs": [
    {
     "name": "stdout",
     "output_type": "stream",
     "text": [
      "[0, 1, 4, 9, 16, 25, 36, 49, 64, 81]\n",
      "[0, 1, 4, 9, 16, 25, 36, 49, 64, 81]\n"
     ]
    }
   ],
   "source": [
    "print([i**2 for i in range(10)])\n",
    "print([i^2 for i in range(10)])"
   ]
  },
  {
   "cell_type": "markdown",
   "id": "299797b4-765b-4843-9737-f956e0bbb8a4",
   "metadata": {},
   "source": [
    "Sage **interprets** `^` as exponentiation and not as a `XOR` operator, so there is no difference between the two lists above.\n",
    "\n",
    "Sage also always comes with `x` defined as a variable (this is not the case in python):"
   ]
  },
  {
   "cell_type": "code",
   "execution_count": 21,
   "id": "36ab9824-6e64-4fab-b19c-d0f44f081096",
   "metadata": {},
   "outputs": [
    {
     "name": "stdout",
     "output_type": "stream",
     "text": [
      "x <class 'sage.symbolic.expression.Expression'>\n"
     ]
    }
   ],
   "source": [
    "print(x,type(x))"
   ]
  },
  {
   "cell_type": "markdown",
   "id": "03c99236-2e17-41d1-9ac2-dabf2f90e5a8",
   "metadata": {},
   "source": [
    "### Coersion of classes (we do this all the time in math classes)\n",
    "\n",
    "You can transform both G and H back into integers:"
   ]
  },
  {
   "cell_type": "code",
   "execution_count": 22,
   "id": "5678333e-2811-4835-bc88-3531cab51a7c",
   "metadata": {},
   "outputs": [
    {
     "name": "stdout",
     "output_type": "stream",
     "text": [
      "<class 'sage.rings.integer.Integer'>\n",
      "<class 'sage.rings.integer.Integer'>\n"
     ]
    }
   ],
   "source": [
    "IntG = Integer(G)\n",
    "print(type(IntG))\n",
    "IntH = Integer(H)\n",
    "print(type(IntH))"
   ]
  },
  {
   "cell_type": "markdown",
   "id": "0a90b346-9f1e-4c28-b682-dedaedf3dbde",
   "metadata": {},
   "source": [
    "This is called **coersion**. Sage has a framework that allows to smoothly pass from a data structure (a rational number) to another (an integer) as long as it knows the recipe and the requirements (that the denominator should be \"1\" for example).\n",
    "\n",
    "On a chalkboard, we do this all the time. And Sage does its best to do this as well. A good example is with the interplay between scalars, vectors and matrices (we'll see this later).\n",
    "\n",
    "So, Sage is somehow the python language and a **math brain** on top of it.\n",
    "\n",
    "As we saw above, sage likes to try and keep things in fraction format. But sometimes we don't want that. There's two different ways to get around that, we can either use `RR` to convert it to a real number or we can use `.n()` to convert it. The benefits of using `.n()` is we can specify the number of digits. Let's see how these work."
   ]
  },
  {
   "cell_type": "code",
   "execution_count": 23,
   "id": "e5bbd831-27e8-4432-8ef6-dfe0c274f91b",
   "metadata": {},
   "outputs": [
    {
     "data": {
      "text/plain": [
       "3/4"
      ]
     },
     "execution_count": 23,
     "metadata": {},
     "output_type": "execute_result"
    }
   ],
   "source": [
    "3/4"
   ]
  },
  {
   "cell_type": "code",
   "execution_count": 24,
   "id": "39d42d06-c80c-4d6a-9833-03470b6ca24f",
   "metadata": {},
   "outputs": [
    {
     "data": {
      "text/plain": [
       "0.750000000000000"
      ]
     },
     "execution_count": 24,
     "metadata": {},
     "output_type": "execute_result"
    }
   ],
   "source": [
    "0.75"
   ]
  },
  {
   "cell_type": "code",
   "execution_count": 25,
   "id": "5d56f56e-82b4-448e-9e52-7b44e64ba91c",
   "metadata": {},
   "outputs": [
    {
     "data": {
      "text/plain": [
       "0.750000000000000"
      ]
     },
     "execution_count": 25,
     "metadata": {},
     "output_type": "execute_result"
    }
   ],
   "source": [
    "RR(3/4)"
   ]
  },
  {
   "cell_type": "code",
   "execution_count": 26,
   "id": "9059e26e-05b3-4476-8976-b70a85dc7c9e",
   "metadata": {},
   "outputs": [
    {
     "data": {
      "text/plain": [
       "0.750000000000000"
      ]
     },
     "execution_count": 26,
     "metadata": {},
     "output_type": "execute_result"
    }
   ],
   "source": [
    "(3/4).n()"
   ]
  },
  {
   "cell_type": "code",
   "execution_count": 27,
   "id": "24411434-91ed-4f98-9c01-f12431dae745",
   "metadata": {},
   "outputs": [
    {
     "data": {
      "text/plain": [
       "0.75"
      ]
     },
     "execution_count": 27,
     "metadata": {},
     "output_type": "execute_result"
    }
   ],
   "source": [
    "(3/4).n(digits=2)"
   ]
  },
  {
   "cell_type": "markdown",
   "id": "566c989d-b49b-401b-9e6f-86bb5159c429",
   "metadata": {},
   "source": [
    "We can also go back by going to the rational numbers using `QQ` as described above."
   ]
  },
  {
   "cell_type": "code",
   "execution_count": 28,
   "id": "3e1a4ac9-74d2-458c-8eaa-b00565e47313",
   "metadata": {},
   "outputs": [
    {
     "data": {
      "text/plain": [
       "3/4"
      ]
     },
     "execution_count": 28,
     "metadata": {},
     "output_type": "execute_result"
    }
   ],
   "source": [
    "QQ(0.75)"
   ]
  },
  {
   "cell_type": "markdown",
   "id": "0974714b-6fa6-469a-9685-cae5ef0b36b0",
   "metadata": {},
   "source": [
    "#### Exercise 1:\n",
    "\n",
    "Display the number `2/3` as a fraction, as a real number and as a real number with max 4 digits."
   ]
  },
  {
   "cell_type": "code",
   "execution_count": 29,
   "id": "75e33c85-6c57-4601-ab6e-f36ee3c5b2fc",
   "metadata": {},
   "outputs": [
    {
     "name": "stdout",
     "output_type": "stream",
     "text": [
      "2/3\n",
      "0.666666666666667\n",
      "0.6667\n"
     ]
    }
   ],
   "source": [
    "number = 2/3\n",
    "print(number)\n",
    "print(RR(number))\n",
    "print(number.n(digits=4))"
   ]
  },
  {
   "cell_type": "markdown",
   "id": "b0af9c62-61c5-4835-9e3e-41fadb3d7596",
   "metadata": {},
   "source": [
    "#### Exercise 2:\n",
    "\n",
    "Convert `e^(i*pi)` from an expression to a complex number (using `ComplexNumber`) and then to a Sage integer."
   ]
  },
  {
   "cell_type": "code",
   "execution_count": 30,
   "id": "eabf2906-cf55-4cba-a6fa-bf50c4ecd032",
   "metadata": {},
   "outputs": [
    {
     "name": "stdout",
     "output_type": "stream",
     "text": [
      "<class 'sage.symbolic.expression.Expression'>\n",
      "-1.00000000000000\n",
      "-1\n"
     ]
    }
   ],
   "source": [
    "number = e^(i*pi)\n",
    "print(type(number))\n",
    "print(ComplexNumber(number))\n",
    "print(Integer(number))"
   ]
  },
  {
   "cell_type": "markdown",
   "id": "fffd6063-0c31-4bc7-b4e0-79ad507899a8",
   "metadata": {},
   "source": [
    "### Examples of defaults classes known by Sage\n",
    "\n",
    "Sage knows many many mathematical structures *out of the box*. They are typically named using a capitalized letter to differentiate them."
   ]
  },
  {
   "cell_type": "markdown",
   "id": "fd37457d-587c-4a19-92fd-3062cacfda06",
   "metadata": {},
   "source": [
    "#### Subsets\n",
    "\n",
    "You can define the subsets of the set {1,2,3,4}:"
   ]
  },
  {
   "cell_type": "code",
   "execution_count": 31,
   "id": "396e5404-1361-4ebd-a9f7-8a8221260267",
   "metadata": {},
   "outputs": [
    {
     "name": "stdout",
     "output_type": "stream",
     "text": [
      "Subsets of {1, 2, 3, 4}\n"
     ]
    }
   ],
   "source": [
    "SS = Subsets(4); print(SS)"
   ]
  },
  {
   "cell_type": "markdown",
   "id": "3ea0cfe1-1c02-485c-9cc5-e8173c3415d5",
   "metadata": {},
   "source": [
    "And enumerate it:"
   ]
  },
  {
   "cell_type": "code",
   "execution_count": 32,
   "id": "6ab1eeb4-b174-4cb8-b7d2-6fe380c863c2",
   "metadata": {},
   "outputs": [
    {
     "data": {
      "text/plain": [
       "[{},\n",
       " {1},\n",
       " {2},\n",
       " {3},\n",
       " {4},\n",
       " {1, 2},\n",
       " {1, 3},\n",
       " {1, 4},\n",
       " {2, 3},\n",
       " {2, 4},\n",
       " {3, 4},\n",
       " {1, 2, 3},\n",
       " {1, 2, 4},\n",
       " {1, 3, 4},\n",
       " {2, 3, 4},\n",
       " {1, 2, 3, 4}]"
      ]
     },
     "execution_count": 32,
     "metadata": {},
     "output_type": "execute_result"
    }
   ],
   "source": [
    "list(SS)"
   ]
  },
  {
   "cell_type": "markdown",
   "id": "3d4ce45a-c314-4933-a244-fe6dda4ce430",
   "metadata": {},
   "source": [
    "#### Permutations\n",
    "\n",
    "You can define the permutations of a certain size:"
   ]
  },
  {
   "cell_type": "code",
   "execution_count": 33,
   "id": "70380d60-1499-4b23-93e9-7ad1e088e7dd",
   "metadata": {},
   "outputs": [
    {
     "data": {
      "text/plain": [
       "Standard permutations of 4"
      ]
     },
     "execution_count": 33,
     "metadata": {},
     "output_type": "execute_result"
    }
   ],
   "source": [
    "P = Permutations(4);P"
   ]
  },
  {
   "cell_type": "code",
   "execution_count": 34,
   "id": "1b55e9f5-1b7b-49c0-9bc2-338b74a29791",
   "metadata": {},
   "outputs": [
    {
     "data": {
      "text/plain": [
       "[[1, 2, 3, 4],\n",
       " [1, 2, 4, 3],\n",
       " [1, 3, 2, 4],\n",
       " [1, 3, 4, 2],\n",
       " [1, 4, 2, 3],\n",
       " [1, 4, 3, 2],\n",
       " [2, 1, 3, 4],\n",
       " [2, 1, 4, 3],\n",
       " [2, 3, 1, 4],\n",
       " [2, 3, 4, 1],\n",
       " [2, 4, 1, 3],\n",
       " [2, 4, 3, 1],\n",
       " [3, 1, 2, 4],\n",
       " [3, 1, 4, 2],\n",
       " [3, 2, 1, 4],\n",
       " [3, 2, 4, 1],\n",
       " [3, 4, 1, 2],\n",
       " [3, 4, 2, 1],\n",
       " [4, 1, 2, 3],\n",
       " [4, 1, 3, 2],\n",
       " [4, 2, 1, 3],\n",
       " [4, 2, 3, 1],\n",
       " [4, 3, 1, 2],\n",
       " [4, 3, 2, 1]]"
      ]
     },
     "execution_count": 34,
     "metadata": {},
     "output_type": "execute_result"
    }
   ],
   "source": [
    "list(P)"
   ]
  },
  {
   "cell_type": "markdown",
   "id": "b3ed3957-d890-4381-90ec-06a6cca3acab",
   "metadata": {},
   "source": [
    "##### Exercise 3:\n",
    "\n",
    "List the permutations of {1,2,3,4,5} that finish with an inversion. Recall that $i$ is a inversion in a permutation $p$ if $p(i) \\ge p(i+1)$."
   ]
  },
  {
   "cell_type": "code",
   "execution_count": 35,
   "id": "de127f9c-42f0-4258-94f9-030e0d66bb5a",
   "metadata": {},
   "outputs": [
    {
     "data": {
      "text/plain": [
       "[[1, 2, 3, 5, 4],\n",
       " [1, 2, 4, 5, 3],\n",
       " [1, 2, 5, 4, 3],\n",
       " [1, 3, 2, 5, 4],\n",
       " [1, 3, 4, 5, 2],\n",
       " [1, 3, 5, 4, 2],\n",
       " [1, 4, 2, 5, 3],\n",
       " [1, 4, 3, 5, 2],\n",
       " [1, 4, 5, 3, 2],\n",
       " [1, 5, 2, 4, 3],\n",
       " [1, 5, 3, 4, 2],\n",
       " [1, 5, 4, 3, 2],\n",
       " [2, 1, 3, 5, 4],\n",
       " [2, 1, 4, 5, 3],\n",
       " [2, 1, 5, 4, 3],\n",
       " [2, 3, 1, 5, 4],\n",
       " [2, 3, 4, 5, 1],\n",
       " [2, 3, 5, 4, 1],\n",
       " [2, 4, 1, 5, 3],\n",
       " [2, 4, 3, 5, 1],\n",
       " [2, 4, 5, 3, 1],\n",
       " [2, 5, 1, 4, 3],\n",
       " [2, 5, 3, 4, 1],\n",
       " [2, 5, 4, 3, 1],\n",
       " [3, 1, 2, 5, 4],\n",
       " [3, 1, 4, 5, 2],\n",
       " [3, 1, 5, 4, 2],\n",
       " [3, 2, 1, 5, 4],\n",
       " [3, 2, 4, 5, 1],\n",
       " [3, 2, 5, 4, 1],\n",
       " [3, 4, 1, 5, 2],\n",
       " [3, 4, 2, 5, 1],\n",
       " [3, 4, 5, 2, 1],\n",
       " [3, 5, 1, 4, 2],\n",
       " [3, 5, 2, 4, 1],\n",
       " [3, 5, 4, 2, 1],\n",
       " [4, 1, 2, 5, 3],\n",
       " [4, 1, 3, 5, 2],\n",
       " [4, 1, 5, 3, 2],\n",
       " [4, 2, 1, 5, 3],\n",
       " [4, 2, 3, 5, 1],\n",
       " [4, 2, 5, 3, 1],\n",
       " [4, 3, 1, 5, 2],\n",
       " [4, 3, 2, 5, 1],\n",
       " [4, 3, 5, 2, 1],\n",
       " [4, 5, 1, 3, 2],\n",
       " [4, 5, 2, 3, 1],\n",
       " [4, 5, 3, 2, 1],\n",
       " [5, 1, 2, 4, 3],\n",
       " [5, 1, 3, 4, 2],\n",
       " [5, 1, 4, 3, 2],\n",
       " [5, 2, 1, 4, 3],\n",
       " [5, 2, 3, 4, 1],\n",
       " [5, 2, 4, 3, 1],\n",
       " [5, 3, 1, 4, 2],\n",
       " [5, 3, 2, 4, 1],\n",
       " [5, 3, 4, 2, 1],\n",
       " [5, 4, 1, 3, 2],\n",
       " [5, 4, 2, 3, 1],\n",
       " [5, 4, 3, 2, 1]]"
      ]
     },
     "execution_count": 35,
     "metadata": {},
     "output_type": "execute_result"
    }
   ],
   "source": [
    "[p for p in Permutations(5) if p(4)>p(5) ]"
   ]
  },
  {
   "cell_type": "markdown",
   "id": "3da9cc5f-c9d5-45be-95b7-ab95767d2b15",
   "metadata": {},
   "source": [
    "##### Exercise 4:\n",
    "\n",
    "Write a function to list all fixed points of a given permutation. Then, write another function `der(n)` that lists all permutations of {1,2,...,n} without fixed point."
   ]
  },
  {
   "cell_type": "code",
   "execution_count": 36,
   "id": "634a7714-23f5-4450-a10e-6c53b817c053",
   "metadata": {},
   "outputs": [],
   "source": [
    "def list_fp(permu):\n",
    "    return [_+1 for _ in range(len(permu)) if permu[_] == _+1 ]\n",
    "\n",
    "def der(n):\n",
    "    list_der = []\n",
    "    for permu in Permutations(n):\n",
    "        if len(list_fp(permu)) == 0: # There is no fixed points\n",
    "            list_der += [permu]\n",
    "    return list_der"
   ]
  },
  {
   "cell_type": "code",
   "execution_count": 37,
   "id": "a1805fc2-2384-40f1-967a-387e6993423d",
   "metadata": {},
   "outputs": [
    {
     "data": {
      "text/plain": [
       "[[2, 1, 4, 3],\n",
       " [2, 3, 4, 1],\n",
       " [2, 4, 1, 3],\n",
       " [3, 1, 4, 2],\n",
       " [3, 4, 1, 2],\n",
       " [3, 4, 2, 1],\n",
       " [4, 1, 2, 3],\n",
       " [4, 3, 1, 2],\n",
       " [4, 3, 2, 1]]"
      ]
     },
     "execution_count": 37,
     "metadata": {},
     "output_type": "execute_result"
    }
   ],
   "source": [
    "der(4)"
   ]
  },
  {
   "cell_type": "markdown",
   "id": "96bc6067-d42e-4c33-ab1e-63fabdaec862",
   "metadata": {},
   "source": [
    "We can collect the sequence and obtain information about that sequence with OEIS."
   ]
  },
  {
   "cell_type": "code",
   "execution_count": 38,
   "id": "122abc24-5ffc-4569-a27d-abb7659efad9",
   "metadata": {},
   "outputs": [
    {
     "data": {
      "text/plain": [
       "0: A000166: Subfactorial or rencontres numbers, or derangements: number of permutations of n elements with no fixed points.\n",
       "1: A260081: Number of permutations p of [n] with no fixed points and cyclic displacement of elements restricted by three: p(i)<>i and (i-p(i) mod n <= 3 or p(i)-i mod n <= 3).\n",
       "2: A257953: Number of permutations p of [n] with no fixed points and cyclic displacement of elements restricted by nine: p(i)<>i and (i-p(i) mod n <= 9 or p(i)-i mod n <= 9)."
      ]
     },
     "execution_count": 38,
     "metadata": {},
     "output_type": "execute_result"
    }
   ],
   "source": [
    "oeis([ len(der(n)) for n in range(8) ])"
   ]
  },
  {
   "cell_type": "markdown",
   "id": "7218455c-48c3-43a2-b948-09f6f4bc3536",
   "metadata": {},
   "source": [
    "## Learning Sage by finding Help"
   ]
  },
  {
   "cell_type": "markdown",
   "id": "9bec1983-e944-4219-9b4c-3be8bd29cbcc",
   "metadata": {},
   "source": [
    "### Help within Sage\n",
    "\n",
    "To find help, just type the name of the mathematical concept/object that you wish to use (with first letter in upper and lower case) followed by the question mark and press `Shift+Enter`."
   ]
  },
  {
   "cell_type": "code",
   "execution_count": 39,
   "id": "9e3017db-94f6-41bf-a072-fa38705e7571",
   "metadata": {},
   "outputs": [
    {
     "data": {
      "text/plain": [
       "\u001b[1;31mSignature:\u001b[0m      \u001b[0mMatrix\u001b[0m\u001b[1;33m(\u001b[0m\u001b[1;33m*\u001b[0m\u001b[0margs\u001b[0m\u001b[1;33m,\u001b[0m \u001b[1;33m**\u001b[0m\u001b[0mkwds\u001b[0m\u001b[1;33m)\u001b[0m\u001b[1;33m\u001b[0m\u001b[1;33m\u001b[0m\u001b[0m\n",
       "\u001b[1;31mCall signature:\u001b[0m \u001b[0mMatrix\u001b[0m\u001b[1;33m(\u001b[0m\u001b[1;33m*\u001b[0m\u001b[0margs\u001b[0m\u001b[1;33m,\u001b[0m \u001b[1;33m**\u001b[0m\u001b[0mkwargs\u001b[0m\u001b[1;33m)\u001b[0m\u001b[1;33m\u001b[0m\u001b[1;33m\u001b[0m\u001b[0m\n",
       "\u001b[1;31mType:\u001b[0m           cython_function_or_method\n",
       "\u001b[1;31mString form:\u001b[0m    <cyfunction matrix at 0x7f1511afd8a0>\n",
       "\u001b[1;31mFile:\u001b[0m           ~/sage/src/sage/matrix/constructor.pyx\n",
       "\u001b[1;31mDocstring:\u001b[0m     \n",
       "   Create a matrix.\n",
       "\n",
       "   This implements the \"matrix\" constructor:\n",
       "\n",
       "      sage: matrix([[1,2],[3,4]])\n",
       "      [1 2]\n",
       "      [3 4]\n",
       "\n",
       "   It also contains methods to create special types of matrices, see\n",
       "   \"matrix.[tab]\" for more options. For example:\n",
       "\n",
       "      sage: matrix.identity(2)\n",
       "      [1 0]\n",
       "      [0 1]\n",
       "\n",
       "   INPUT:\n",
       "\n",
       "   The \"matrix()\" command takes the entries of a matrix, optionally\n",
       "   preceded by a ring and the dimensions of the matrix, and returns a\n",
       "   matrix.\n",
       "\n",
       "   The entries of a matrix can be specified as a flat list of\n",
       "   elements, a list of lists (i.e., a list of rows), a list of Sage\n",
       "   vectors, a callable object, or a dictionary having positions as\n",
       "   keys and matrix entries as values (see the examples). If you pass\n",
       "   in a callable object, then you must specify the number of rows and\n",
       "   columns. You can create a matrix of zeros by passing an empty list\n",
       "   or the integer zero for the entries.  To construct a multiple of\n",
       "   the identity (cI), you can specify square dimensions and pass in c.\n",
       "   Calling \"matrix()\" with a Sage object may return something that\n",
       "   makes sense. Calling \"matrix()\" with a NumPy array will convert the\n",
       "   array to a matrix.\n",
       "\n",
       "   All arguments (even the positional ones) are optional.\n",
       "\n",
       "   Positional and keyword arguments:\n",
       "\n",
       "   * \"base_ring\" -- parent of the entries of the matrix (despite the\n",
       "     name, this is not a priori required to be a ring). By default,\n",
       "     determine this from the given entries, falling back to \"ZZ\" if no\n",
       "     entries are given.\n",
       "\n",
       "   * \"nrows\" -- the number of rows in the matrix, or a finite or\n",
       "     enumerated family of arbitrary objects that index the rows of the\n",
       "     matrix\n",
       "\n",
       "   * \"ncols\" -- the number of columns in the matrix, or a finite or\n",
       "     enumerated family of arbitrary objects that index the columns of\n",
       "     the matrix\n",
       "\n",
       "   * \"entries\" -- see examples below.\n",
       "\n",
       "   If any of \"nrows\", \"ncols\", \"row_keys\", \"column_keys\" is given as\n",
       "   keyword argument, then none of these may be given as positional\n",
       "   arguments.\n",
       "\n",
       "   Keyword-only arguments:\n",
       "\n",
       "   * \"sparse\" -- (boolean) create a sparse matrix. This defaults to\n",
       "     \"True\" when the entries are given as a dictionary, otherwise\n",
       "     defaults to \"False\".\n",
       "\n",
       "   * \"row_keys\" -- a finite or enumerated family of arbitrary objects\n",
       "     that index the rows of the matrix\n",
       "\n",
       "   * \"column_keys\" -- a finite or enumerated family of arbitrary\n",
       "     objects that index the columns of the matrix\n",
       "\n",
       "   * \"space\" -- matrix space which will be the parent of the output\n",
       "     matrix. This determines \"base_ring\", \"nrows\", \"row_keys\",\n",
       "     \"ncols\", \"column_keys\", and \"sparse\".\n",
       "\n",
       "   * \"immutable\" -- (boolean) make the matrix immutable. By default,\n",
       "     the output matrix is mutable.\n",
       "\n",
       "   OUTPUT: a matrix or, more generally, a homomorphism between free\n",
       "   modules\n",
       "\n",
       "   EXAMPLES:\n",
       "\n",
       "      sage: m = matrix(2); m; m.parent()\n",
       "      [0 0]\n",
       "      [0 0]\n",
       "      Full MatrixSpace of 2 by 2 dense matrices over Integer Ring\n",
       "\n",
       "      sage: m = matrix(2, 3); m; m.parent()\n",
       "      [0 0 0]\n",
       "      [0 0 0]\n",
       "      Full MatrixSpace of 2 by 3 dense matrices over Integer Ring\n",
       "\n",
       "      sage: m = matrix(QQ, [[1,2,3], [4,5,6]]); m; m.parent()\n",
       "      [1 2 3]\n",
       "      [4 5 6]\n",
       "      Full MatrixSpace of 2 by 3 dense matrices over Rational Field\n",
       "\n",
       "      sage: m = matrix(QQ, 3, 3, lambda i, j: i + j); m\n",
       "      [0 1 2]\n",
       "      [1 2 3]\n",
       "      [2 3 4]\n",
       "      sage: m = matrix(3, lambda i, j: i - j); m\n",
       "      [ 0 -1 -2]\n",
       "      [ 1  0 -1]\n",
       "      [ 2  1  0]\n",
       "\n",
       "      sage: matrix(QQ, 2, 3, lambda x, y: x + y)\n",
       "      [0 1 2]\n",
       "      [1 2 3]\n",
       "      sage: matrix(QQ, 5, 5, lambda x, y: (x+1) / (y+1))\n",
       "      [  1 1/2 1/3 1/4 1/5]\n",
       "      [  2   1 2/3 1/2 2/5]\n",
       "      [  3 3/2   1 3/4 3/5]\n",
       "      [  4   2 4/3   1 4/5]\n",
       "      [  5 5/2 5/3 5/4   1]\n",
       "\n",
       "      sage: v1 = vector((1,2,3))\n",
       "      sage: v2 = vector((4,5,6))\n",
       "      sage: m = matrix([v1,v2]); m; m.parent()\n",
       "      [1 2 3]\n",
       "      [4 5 6]\n",
       "      Full MatrixSpace of 2 by 3 dense matrices over Integer Ring\n",
       "\n",
       "      sage: m = matrix(QQ, 2, [1,2,3,4,5,6]); m; m.parent()\n",
       "      [1 2 3]\n",
       "      [4 5 6]\n",
       "      Full MatrixSpace of 2 by 3 dense matrices over Rational Field\n",
       "\n",
       "      sage: m = matrix(QQ, 2, 3, [1,2,3,4,5,6]); m; m.parent()\n",
       "      [1 2 3]\n",
       "      [4 5 6]\n",
       "      Full MatrixSpace of 2 by 3 dense matrices over Rational Field\n",
       "\n",
       "      sage: m = matrix({(0,1): 2, (1,1): 2/5}); m; m.parent()\n",
       "      [  0   2]\n",
       "      [  0 2/5]\n",
       "      Full MatrixSpace of 2 by 2 sparse matrices over Rational Field\n",
       "\n",
       "      sage: m = matrix(QQ, 2, 3, {(1,1): 2}); m; m.parent()\n",
       "      [0 0 0]\n",
       "      [0 2 0]\n",
       "      Full MatrixSpace of 2 by 3 sparse matrices over Rational Field\n",
       "\n",
       "      sage: import numpy\n",
       "      sage: n = numpy.array([[1,2], [3,4]], float)\n",
       "      sage: m = matrix(n); m; m.parent()\n",
       "      [1.0 2.0]\n",
       "      [3.0 4.0]\n",
       "      Full MatrixSpace of 2 by 2 dense matrices over Real Double Field\n",
       "\n",
       "      sage: v = vector(ZZ, [1, 10, 100])\n",
       "      sage: m = matrix(v); m; m.parent()\n",
       "      [  1  10 100]\n",
       "      Full MatrixSpace of 1 by 3 dense matrices over Integer Ring\n",
       "      sage: m = matrix(GF(7), v); m; m.parent()\n",
       "      [1 3 2]\n",
       "      Full MatrixSpace of 1 by 3 dense matrices over Finite Field of size 7\n",
       "      sage: m = matrix(GF(7), 3, 1, v); m; m.parent()\n",
       "      [1]\n",
       "      [3]\n",
       "      [2]\n",
       "      Full MatrixSpace of 3 by 1 dense matrices over Finite Field of size 7\n",
       "\n",
       "      sage: matrix(pari.mathilbert(3))\n",
       "      [  1 1/2 1/3]\n",
       "      [1/2 1/3 1/4]\n",
       "      [1/3 1/4 1/5]\n",
       "\n",
       "      sage: g = graphs.PetersenGraph()\n",
       "      sage: m = matrix(g); m; m.parent()\n",
       "      [0 1 0 0 1 1 0 0 0 0]\n",
       "      [1 0 1 0 0 0 1 0 0 0]\n",
       "      [0 1 0 1 0 0 0 1 0 0]\n",
       "      [0 0 1 0 1 0 0 0 1 0]\n",
       "      [1 0 0 1 0 0 0 0 0 1]\n",
       "      [1 0 0 0 0 0 0 1 1 0]\n",
       "      [0 1 0 0 0 0 0 0 1 1]\n",
       "      [0 0 1 0 0 1 0 0 0 1]\n",
       "      [0 0 0 1 0 1 1 0 0 0]\n",
       "      [0 0 0 0 1 0 1 1 0 0]\n",
       "      Full MatrixSpace of 10 by 10 dense matrices over Integer Ring\n",
       "\n",
       "      sage: matrix(ZZ, 10, 10, range(100), sparse=True).parent()\n",
       "      Full MatrixSpace of 10 by 10 sparse matrices over Integer Ring\n",
       "\n",
       "      sage: R = PolynomialRing(QQ, 9, 'x')\n",
       "      sage: A = matrix(R, 3, 3, R.gens()); A\n",
       "      [x0 x1 x2]\n",
       "      [x3 x4 x5]\n",
       "      [x6 x7 x8]\n",
       "      sage: det(A)\n",
       "      -x2*x4*x6 + x1*x5*x6 + x2*x3*x7 - x0*x5*x7 - x1*x3*x8 + x0*x4*x8\n",
       "\n",
       "      sage: M = Matrix([[1,2,3], [4,5,6], [7,8,9]], immutable=True)\n",
       "      sage: M[0] = [9,9,9]\n",
       "      Traceback (most recent call last):\n",
       "      ...\n",
       "      ValueError: matrix is immutable; please change a copy instead\n",
       "      (i.e., use copy(M) to change a copy of M).\n",
       "\n",
       "   Using \"row_keys\" and \"column_keys\":\n",
       "\n",
       "      sage: M = matrix([[1,2,3], [4,5,6]],\n",
       "      ....:            column_keys=['a','b','c'], row_keys=['u','v']); M\n",
       "      Generic morphism:\n",
       "        From: Free module generated by {'a', 'b', 'c'} over Integer Ring\n",
       "        To:   Free module generated by {'u', 'v'} over Integer Ring\n",
       "      sage: print(M._unicode_art_matrix())\n",
       "        a b c\n",
       "      u⎛1 2 3⎞\n",
       "      v⎝4 5 6⎠\n",
       "\n",
       "   It is allowed to specify dimensions redundantly:\n",
       "\n",
       "      sage: M = matrix(2, 3, [[1,2,3], [4,5,6]],\n",
       "      ....:            column_keys=['a','b','c'], row_keys=['u','v']); M\n",
       "      Generic morphism:\n",
       "      From: Free module generated by {'a', 'b', 'c'} over Integer Ring\n",
       "      To:   Free module generated by {'u', 'v'} over Integer Ring\n",
       "\n",
       "   AUTHORS:\n",
       "\n",
       "   * William Stein: Initial implementation\n",
       "\n",
       "   * Jason Grout (2008-03): almost a complete rewrite, with bits and\n",
       "     pieces from the original implementation\n",
       "\n",
       "   * Jeroen Demeyer (2016-02-05): major clean up, see\n",
       "     https://github.com/sagemath/sage/issues/20015 and\n",
       "     https://github.com/sagemath/sage/issues/20016\n",
       "\n",
       "   * Jeroen Demeyer (2018-02-20): completely rewritten using\n",
       "     \"MatrixArgs\", see https://github.com/sagemath/sage/issues/24742\n",
       "\u001b[1;31mInit docstring:\u001b[0m Initialize self.  See help(type(self)) for accurate signature.\n",
       "\u001b[1;31mCall docstring:\u001b[0m Call self as a function."
      ]
     },
     "metadata": {},
     "output_type": "display_data"
    }
   ],
   "source": [
    "Matrix?"
   ]
  },
  {
   "cell_type": "markdown",
   "id": "b76f8224-6da6-49f1-ad24-87a1004e75f5",
   "metadata": {},
   "source": [
    "This gives you the documentation for the function and many examples that you can copy/paste"
   ]
  },
  {
   "cell_type": "code",
   "execution_count": 40,
   "id": "34794daf-46fe-4181-8c1a-b2cf364845b1",
   "metadata": {},
   "outputs": [],
   "source": [
    "M = Matrix([[1,2],[7,10]])"
   ]
  },
  {
   "cell_type": "markdown",
   "id": "12c9541a-d126-43c1-8cc3-e82ae2c8358e",
   "metadata": {},
   "source": [
    "Now suppose we would like to change the base ring of the matrix, and we would like to learn how Sage does that.\n",
    "You can start typing `M.change` and then hit `TAB` and see if sage offers you something."
   ]
  },
  {
   "cell_type": "code",
   "execution_count": 41,
   "id": "99ef9425-7205-4e94-9d14-ac4fac83d37b",
   "metadata": {},
   "outputs": [
    {
     "ename": "AttributeError",
     "evalue": "'sage.matrix.matrix_integer_dense.Matrix_integer_dense' object has no attribute 'change'",
     "output_type": "error",
     "traceback": [
      "\u001b[1;31m---------------------------------------------------------------------------\u001b[0m",
      "\u001b[1;31mAttributeError\u001b[0m                            Traceback (most recent call last)",
      "Cell \u001b[1;32mIn[41], line 1\u001b[0m\n\u001b[1;32m----> 1\u001b[0m \u001b[43mM\u001b[49m\u001b[38;5;241;43m.\u001b[39;49m\u001b[43mchange\u001b[49m\n",
      "File \u001b[1;32m~/sage/src/sage/structure/element.pyx:489\u001b[0m, in \u001b[0;36msage.structure.element.Element.__getattr__\u001b[1;34m()\u001b[0m\n\u001b[0;32m    487\u001b[0m         AttributeError: 'LeftZeroSemigroup_with_category.element_class' object has no attribute 'blah_blah'...\n\u001b[0;32m    488\u001b[0m     \"\"\"\n\u001b[1;32m--> 489\u001b[0m     return self.getattr_from_category(name)\n\u001b[0;32m    490\u001b[0m \n\u001b[0;32m    491\u001b[0m cdef getattr_from_category(self, name):\n",
      "File \u001b[1;32m~/sage/src/sage/structure/element.pyx:502\u001b[0m, in \u001b[0;36msage.structure.element.Element.getattr_from_category\u001b[1;34m()\u001b[0m\n\u001b[0;32m    500\u001b[0m     else:\n\u001b[0;32m    501\u001b[0m         cls = P._abstract_element_class\n\u001b[1;32m--> 502\u001b[0m     return getattr_from_other_class(self, cls, name)\n\u001b[0;32m    503\u001b[0m \n\u001b[0;32m    504\u001b[0m def __dir__(self):\n",
      "File \u001b[1;32m~/sage/src/sage/cpython/getattr.pyx:362\u001b[0m, in \u001b[0;36msage.cpython.getattr.getattr_from_other_class\u001b[1;34m()\u001b[0m\n\u001b[0;32m    360\u001b[0m     dummy_error_message.cls = type(self)\n\u001b[0;32m    361\u001b[0m     dummy_error_message.name = name\n\u001b[1;32m--> 362\u001b[0m     raise AttributeError(dummy_error_message)\n\u001b[0;32m    363\u001b[0m attribute = <object>attr\n\u001b[0;32m    364\u001b[0m # Check for a descriptor (__get__ in Python)\n",
      "\u001b[1;31mAttributeError\u001b[0m: 'sage.matrix.matrix_integer_dense.Matrix_integer_dense' object has no attribute 'change'"
     ]
    }
   ],
   "source": [
    "M.change"
   ]
  },
  {
   "cell_type": "markdown",
   "id": "b05048cf-5949-47ed-b68d-53a19866e110",
   "metadata": {},
   "source": [
    "Then, you can add `??` after the function and you will be able to see the **source code** of the function. This is a great way to learn coding."
   ]
  },
  {
   "cell_type": "code",
   "execution_count": 42,
   "id": "ba25acf2-f67f-4db5-9d0d-27303478e665",
   "metadata": {},
   "outputs": [
    {
     "data": {
      "text/plain": [
       "\u001b[1;31mDocstring:\u001b[0m\n",
       "   Return the matrix obtained by coercing the entries of this matrix\n",
       "   into the given ring.\n",
       "\n",
       "   Always returns a copy (unless self is immutable, in which case\n",
       "   returns self).\n",
       "\n",
       "   EXAMPLES:\n",
       "\n",
       "      sage: A = Matrix(QQ, 2, 2, [1/2, 1/3, 1/3, 1/4])\n",
       "      sage: A.parent()\n",
       "      Full MatrixSpace of 2 by 2 dense matrices over Rational Field\n",
       "      sage: A.change_ring(GF(25,'a'))\n",
       "      [3 2]\n",
       "      [2 4]\n",
       "      sage: A.change_ring(GF(25,'a')).parent()\n",
       "      Full MatrixSpace of 2 by 2 dense matrices\n",
       "       over Finite Field in a of size 5^2\n",
       "      sage: A.change_ring(ZZ)\n",
       "      Traceback (most recent call last):\n",
       "      ...\n",
       "      TypeError: matrix has denominators so can...t change to ZZ\n",
       "\n",
       "   Changing rings preserves subdivisions:\n",
       "\n",
       "      sage: A.subdivide([1], []); A\n",
       "      [1/2 1/3]\n",
       "      [-------]\n",
       "      [1/3 1/4]\n",
       "      sage: A.change_ring(GF(25,'a'))\n",
       "      [3 2]\n",
       "      [---]\n",
       "      [2 4]\n",
       "\u001b[1;31mSource:\u001b[0m   \n",
       "    \u001b[1;32mdef\u001b[0m \u001b[0mchange_ring\u001b[0m\u001b[1;33m(\u001b[0m\u001b[0mself\u001b[0m\u001b[1;33m,\u001b[0m \u001b[0mring\u001b[0m\u001b[1;33m)\u001b[0m\u001b[1;33m:\u001b[0m\u001b[1;33m\u001b[0m\n",
       "\u001b[1;33m\u001b[0m        \u001b[1;34m\"\"\"\u001b[0m\n",
       "\u001b[1;34m        Return the matrix obtained by coercing the entries of this matrix\u001b[0m\n",
       "\u001b[1;34m        into the given ring.\u001b[0m\n",
       "\u001b[1;34m\u001b[0m\n",
       "\u001b[1;34m        Always returns a copy (unless self is immutable, in which case\u001b[0m\n",
       "\u001b[1;34m        returns self).\u001b[0m\n",
       "\u001b[1;34m\u001b[0m\n",
       "\u001b[1;34m        EXAMPLES::\u001b[0m\n",
       "\u001b[1;34m\u001b[0m\n",
       "\u001b[1;34m            sage: A = Matrix(QQ, 2, 2, [1/2, 1/3, 1/3, 1/4])\u001b[0m\n",
       "\u001b[1;34m            sage: A.parent()\u001b[0m\n",
       "\u001b[1;34m            Full MatrixSpace of 2 by 2 dense matrices over Rational Field\u001b[0m\n",
       "\u001b[1;34m            sage: A.change_ring(GF(25,'a'))                                             # needs sage.rings.finite_rings\u001b[0m\n",
       "\u001b[1;34m            [3 2]\u001b[0m\n",
       "\u001b[1;34m            [2 4]\u001b[0m\n",
       "\u001b[1;34m            sage: A.change_ring(GF(25,'a')).parent()                                    # needs sage.rings.finite_rings\u001b[0m\n",
       "\u001b[1;34m            Full MatrixSpace of 2 by 2 dense matrices\u001b[0m\n",
       "\u001b[1;34m             over Finite Field in a of size 5^2\u001b[0m\n",
       "\u001b[1;34m            sage: A.change_ring(ZZ)                                                     # needs sage.rings.finite_rings\u001b[0m\n",
       "\u001b[1;34m            Traceback (most recent call last):\u001b[0m\n",
       "\u001b[1;34m            ...\u001b[0m\n",
       "\u001b[1;34m            TypeError: matrix has denominators so can...t change to ZZ\u001b[0m\n",
       "\u001b[1;34m\u001b[0m\n",
       "\u001b[1;34m        Changing rings preserves subdivisions::\u001b[0m\n",
       "\u001b[1;34m\u001b[0m\n",
       "\u001b[1;34m            sage: A.subdivide([1], []); A\u001b[0m\n",
       "\u001b[1;34m            [1/2 1/3]\u001b[0m\n",
       "\u001b[1;34m            [-------]\u001b[0m\n",
       "\u001b[1;34m            [1/3 1/4]\u001b[0m\n",
       "\u001b[1;34m            sage: A.change_ring(GF(25,'a'))                                             # needs sage.rings.finite_rings\u001b[0m\n",
       "\u001b[1;34m            [3 2]\u001b[0m\n",
       "\u001b[1;34m            [---]\u001b[0m\n",
       "\u001b[1;34m            [2 4]\u001b[0m\n",
       "\u001b[1;34m        \"\"\"\u001b[0m\u001b[1;33m\u001b[0m\n",
       "\u001b[1;33m\u001b[0m        \u001b[1;32mif\u001b[0m \u001b[0mring\u001b[0m \u001b[1;32mnot\u001b[0m \u001b[1;32min\u001b[0m \u001b[0mRings\u001b[0m\u001b[1;33m(\u001b[0m\u001b[1;33m)\u001b[0m\u001b[1;33m:\u001b[0m\u001b[1;33m\u001b[0m\n",
       "\u001b[1;33m\u001b[0m            \u001b[1;32mraise\u001b[0m \u001b[0mTypeError\u001b[0m\u001b[1;33m(\u001b[0m\u001b[1;34m\"ring must be a ring\"\u001b[0m\u001b[1;33m)\u001b[0m\u001b[1;33m\u001b[0m\n",
       "\u001b[1;33m\u001b[0m\u001b[1;33m\u001b[0m\n",
       "\u001b[1;33m\u001b[0m        \u001b[1;32mif\u001b[0m \u001b[0mring\u001b[0m \u001b[1;32mis\u001b[0m \u001b[0mself\u001b[0m\u001b[1;33m.\u001b[0m\u001b[0m_base_ring\u001b[0m\u001b[1;33m:\u001b[0m\u001b[1;33m\u001b[0m\n",
       "\u001b[1;33m\u001b[0m            \u001b[1;32mif\u001b[0m \u001b[0mself\u001b[0m\u001b[1;33m.\u001b[0m\u001b[0m_is_immutable\u001b[0m\u001b[1;33m:\u001b[0m\u001b[1;33m\u001b[0m\n",
       "\u001b[1;33m\u001b[0m                \u001b[1;32mreturn\u001b[0m \u001b[0mself\u001b[0m\u001b[1;33m\u001b[0m\n",
       "\u001b[1;33m\u001b[0m            \u001b[1;32mreturn\u001b[0m \u001b[0mself\u001b[0m\u001b[1;33m.\u001b[0m\u001b[0m__copy__\u001b[0m\u001b[1;33m(\u001b[0m\u001b[1;33m)\u001b[0m\u001b[1;33m\u001b[0m\n",
       "\u001b[1;33m\u001b[0m\u001b[1;33m\u001b[0m\n",
       "\u001b[1;33m\u001b[0m        \u001b[1;32mtry\u001b[0m\u001b[1;33m:\u001b[0m\u001b[1;33m\u001b[0m\n",
       "\u001b[1;33m\u001b[0m            \u001b[1;32mreturn\u001b[0m \u001b[0mself\u001b[0m\u001b[1;33m.\u001b[0m\u001b[0m_change_ring\u001b[0m\u001b[1;33m(\u001b[0m\u001b[0mring\u001b[0m\u001b[1;33m)\u001b[0m\u001b[1;33m\u001b[0m\n",
       "\u001b[1;33m\u001b[0m        \u001b[1;32mexcept\u001b[0m \u001b[1;33m(\u001b[0m\u001b[0mAttributeError\u001b[0m\u001b[1;33m,\u001b[0m \u001b[0mNotImplementedError\u001b[0m\u001b[1;33m)\u001b[0m\u001b[1;33m:\u001b[0m\u001b[1;33m\u001b[0m\n",
       "\u001b[1;33m\u001b[0m            \u001b[0mM\u001b[0m \u001b[1;33m=\u001b[0m \u001b[0msage\u001b[0m\u001b[1;33m.\u001b[0m\u001b[0mmatrix\u001b[0m\u001b[1;33m.\u001b[0m\u001b[0mmatrix_space\u001b[0m\u001b[1;33m.\u001b[0m\u001b[0mMatrixSpace\u001b[0m\u001b[1;33m(\u001b[0m\u001b[0mring\u001b[0m\u001b[1;33m,\u001b[0m \u001b[0mself\u001b[0m\u001b[1;33m.\u001b[0m\u001b[0m_nrows\u001b[0m\u001b[1;33m,\u001b[0m \u001b[0mself\u001b[0m\u001b[1;33m.\u001b[0m\u001b[0m_ncols\u001b[0m\u001b[1;33m,\u001b[0m \u001b[0msparse\u001b[0m\u001b[1;33m=\u001b[0m\u001b[0mself\u001b[0m\u001b[1;33m.\u001b[0m\u001b[0mis_sparse\u001b[0m\u001b[1;33m(\u001b[0m\u001b[1;33m)\u001b[0m\u001b[1;33m)\u001b[0m\u001b[1;33m\u001b[0m\n",
       "\u001b[1;33m\u001b[0m            \u001b[0mmat\u001b[0m \u001b[1;33m=\u001b[0m \u001b[0mM\u001b[0m\u001b[1;33m(\u001b[0m\u001b[0mself\u001b[0m\u001b[1;33m.\u001b[0m\u001b[0mlist\u001b[0m\u001b[1;33m(\u001b[0m\u001b[1;33m)\u001b[0m\u001b[1;33m,\u001b[0m \u001b[0mcoerce\u001b[0m\u001b[1;33m=\u001b[0m\u001b[1;32mTrue\u001b[0m\u001b[1;33m,\u001b[0m \u001b[0mcopy\u001b[0m\u001b[1;33m=\u001b[0m\u001b[1;32mFalse\u001b[0m\u001b[1;33m)\u001b[0m\u001b[1;33m\u001b[0m\n",
       "\u001b[1;33m\u001b[0m            \u001b[1;32mif\u001b[0m \u001b[0mself\u001b[0m\u001b[1;33m.\u001b[0m\u001b[0m_subdivisions\u001b[0m \u001b[1;32mis\u001b[0m \u001b[1;32mnot\u001b[0m \u001b[1;32mNone\u001b[0m\u001b[1;33m:\u001b[0m\u001b[1;33m\u001b[0m\n",
       "\u001b[1;33m\u001b[0m                \u001b[0mmat\u001b[0m\u001b[1;33m.\u001b[0m\u001b[0msubdivide\u001b[0m\u001b[1;33m(\u001b[0m\u001b[0mself\u001b[0m\u001b[1;33m.\u001b[0m\u001b[0msubdivisions\u001b[0m\u001b[1;33m(\u001b[0m\u001b[1;33m)\u001b[0m\u001b[1;33m)\u001b[0m\u001b[1;33m\u001b[0m\n",
       "\u001b[1;33m\u001b[0m            \u001b[1;32mreturn\u001b[0m \u001b[0mmat\u001b[0m\u001b[1;33m\u001b[0m\u001b[1;33m\u001b[0m\u001b[0m\n",
       "\u001b[1;31mFile:\u001b[0m      ~/sage/src/sage/matrix/matrix0.pyx\n",
       "\u001b[1;31mType:\u001b[0m      builtin_function_or_method"
      ]
     },
     "metadata": {},
     "output_type": "display_data"
    }
   ],
   "source": [
    "M.change_ring??"
   ]
  },
  {
   "cell_type": "markdown",
   "id": "6dc83d06-13aa-4bf0-a45e-16bc86951aaf",
   "metadata": {},
   "source": [
    "### Search engines\n",
    "\n",
    "There are 3 search engines that can help finding certain functions or methods in Sage:\n",
    "\n",
    "+ `search_def` : searching within the name of function\n",
    "+ `search_doc` : searching within the documentation strings of all sage functions\n",
    "+ `search_src` : searching within ALL the source code of Sage"
   ]
  },
  {
   "cell_type": "code",
   "execution_count": 43,
   "id": "ffd0e895-1995-44f9-948f-99054164b9ff",
   "metadata": {},
   "outputs": [
    {
     "data": {
      "text/plain": [
       "matrix/special.py:1553:def _determine_block_matrix_grid(sub_matrices):\n",
       "matrix/special.py:1630:def _determine_block_matrix_rows(sub_matrices):\n",
       "matrix/special.py:1765:def block_matrix(*args, **kwds):"
      ]
     },
     "metadata": {},
     "output_type": "display_data"
    }
   ],
   "source": [
    "search_def(\"block_matrix\")"
   ]
  },
  {
   "cell_type": "code",
   "execution_count": 44,
   "id": "93a77a3a-1634-458b-a6f0-6589501a5aa1",
   "metadata": {},
   "outputs": [
    {
     "data": {
      "text/plain": [
       "en/constructions/linear_algebra.html:934:<span id=\"index-3\"></span><h2>Solving systems of linear equations<a class=\"headerlink\" href=\"#solving-systems-of-linear-equations\" title=\"Link to this heading\">#</a></h2>\n",
       "en/constructions/linear_algebra.html:1096:<li><a class=\"reference internal\" href=\"#solving-systems-of-linear-equations\">Solving systems of linear equations</a></li>\n",
       "en/constructions/index.html:289:<li class=\"toctree-l2\"><a class=\"reference internal\" href=\"linear_algebra.html#solving-systems-of-linear-equations\">Solving systems of linear equations</a></li>\n",
       "en/reference/polynomial_rings/sage/rings/polynomial/multi_polynomial_sequence.html:2030:dedicated to solving systems of boolean equations. Depending on\n",
       "en/reference/interfaces/sage/interfaces/octave.html:277:routines for integrating, solving systems of equations, special\n",
       "en/reference/categories/sage/categories/finite_dimensional_algebras_with_basis.html:1194:diagonal. In the context of solving systems of\n",
       "en/reference/matrices/sage/matrix/matrix2.html:8987:This makes it an appropriate candidate for solving systems\n",
       "en/reference/misc/sage/misc/misc.html:378:<p>Implements Matlab-style backslash operator for solving systems:</p>"
      ]
     },
     "metadata": {},
     "output_type": "display_data"
    }
   ],
   "source": [
    "search_doc(\"solving systems\")"
   ]
  },
  {
   "cell_type": "code",
   "execution_count": 45,
   "id": "583b8144-57c1-434a-a1e8-544754f46627",
   "metadata": {},
   "outputs": [
    {
     "data": {
      "text/plain": [
       "graphs/graph_coloring.pyx:2145:        raise RuntimeError(\"this should not happen, please report a bug!\")\n",
       "sets/non_negative_integers.py:187:            #     raise ValueError(\"Infinite loop during DEBUG! TODO:remove me\")\n",
       "crypto/boolean_function.pyx:1094:        assert False, \"you just found a bug!\"\n",
       "misc/random_testing.py:102:        Please report this bug!  You may be the first\n",
       "misc/random_testing.py:109:        Please report this bug!  You may be the first\n",
       "misc/random_testing.py:154:                print(\"Please report this bug!  You may be the first\")\n",
       "misc/random_testing.py:217:        Please report this bug!  You may be the first\n",
       "misc/random_testing.py:233:        Please report this bug!  You may be the first\n",
       "misc/random_testing.py:249:        Please report this bug!  You may be the first\n",
       "modular/modsym/space.py:501:        assert d % n == 0, \"the dimension of intersection must be a multiple of dimension of simple space.  bug!\"\n",
       "modular/btquotients/btquotient.py:3704:                print('You found a bug! Please report!')\n",
       "modular/arithgroup/congroup.pyx:252:                raise RuntimeError(\"bug!!\")"
      ]
     },
     "metadata": {},
     "output_type": "display_data"
    }
   ],
   "source": [
    "search_src(\"BUG!\")"
   ]
  },
  {
   "cell_type": "markdown",
   "id": "baae0c4e-02ca-4aa0-99d2-4d6350befbeb",
   "metadata": {},
   "source": [
    "### Help within Jupyter Notebook\n",
    "\n",
    "To discover how Jupyter works you can click `Help -> Show keyboard shortcuts` or `Help -> Tutorials, SymPy, Singular, IPython, matplotlib, etc.`\n",
    "\n",
    "You also have direct access to the reference manual of many libraries."
   ]
  },
  {
   "cell_type": "markdown",
   "id": "72ddb496-1451-48e1-9744-3726ba7398d8",
   "metadata": {},
   "source": [
    "### Thematic tutorials of Sage\n",
    "\n",
    "Sage's webpage hosts **MANY** thematic tutorials aimed at teaching how certain functionalities of Sage work:\n",
    "\n",
    "https://doc.sagemath.org/html/en/thematic_tutorials/index.html\n",
    "\n",
    "You can go there and follow the tutorials by copy/pasting and looking how they work."
   ]
  },
  {
   "cell_type": "markdown",
   "id": "776cdce7-37e8-4600-a8a5-d5b0f13a561c",
   "metadata": {},
   "source": [
    "### Asking the Community\n",
    "\n",
    "If you have general question or problems, you can write on the **Sage-Support** Google group:\n",
    "\n",
    "* sage-support: [http://groups.google.com/group/sage-support](http://groups.google.com/group/sage-support)\n",
    "\n",
    "First, you can do a search within the group to see if someone asked a similar question and otherwise ask your question.\n",
    "\n",
    "* A second option is to use **AskSage**: [http://ask.sagemath.org/](http://ask.sagemath.org) (This is similar to Mathoverflow)"
   ]
  },
  {
   "cell_type": "markdown",
   "id": "baf774fb-b679-4904-986c-0fa5d9190016",
   "metadata": {},
   "source": [
    "## Other interesting features in Sage"
   ]
  },
  {
   "cell_type": "markdown",
   "id": "a025de9c-94d8-466a-acb5-ed9c3405b570",
   "metadata": {},
   "source": [
    "### Symbolic manipulations\n",
    "\n",
    "We can do usual symbolic manipulations"
   ]
  },
  {
   "cell_type": "code",
   "execution_count": 46,
   "id": "3eb75a9b-a20d-4853-980d-e01c17ab6572",
   "metadata": {},
   "outputs": [
    {
     "data": {
      "text/plain": [
       "-9*x/(x^3 - x)"
      ]
     },
     "execution_count": 46,
     "metadata": {},
     "output_type": "execute_result"
    }
   ],
   "source": [
    "f = (9*x) / (x - x^3)\n",
    "f"
   ]
  },
  {
   "cell_type": "markdown",
   "id": "ae0d4688-44da-4a23-83ec-9a337a297e45",
   "metadata": {},
   "source": [
    "Notice how in this case, `x` is a variable in the mathematical sense rather than a programming language sense. We normally call this type of variable a \"symbolic variable\". \n",
    "\n",
    "If we want, we can declare more than one variable at a time and get a function in multiple variables. We can even do inequalities if we want."
   ]
  },
  {
   "cell_type": "code",
   "execution_count": 47,
   "id": "26f26556-acd8-4cdf-880e-fcaa41b71ca2",
   "metadata": {},
   "outputs": [
    {
     "data": {
      "text/plain": [
       "-7*i + 9*x > -21*u + 9*x"
      ]
     },
     "execution_count": 47,
     "metadata": {},
     "output_type": "execute_result"
    }
   ],
   "source": [
    "var('x','i','u')\n",
    "f = (9*x - 7*i > 3 * (3*x - 7*u))\n",
    "f"
   ]
  },
  {
   "cell_type": "markdown",
   "id": "8a28a6ac-97c6-4ec4-806c-7269e4ba0d97",
   "metadata": {},
   "source": [
    "The nice thing is we can even solve these equations!"
   ]
  },
  {
   "cell_type": "code",
   "execution_count": 48,
   "id": "d279f262-c5e8-4f81-b898-7e91582823ae",
   "metadata": {},
   "outputs": [
    {
     "data": {
      "text/plain": [
       "1/3*i < u"
      ]
     },
     "execution_count": 48,
     "metadata": {},
     "output_type": "execute_result"
    }
   ],
   "source": [
    "f.solve(i)[0][0]"
   ]
  },
  {
   "cell_type": "markdown",
   "id": "55ea437f-25a1-4a71-adde-6a8425079b8c",
   "metadata": {},
   "source": [
    "We can also simplify things (among many things, you cna check all we can do using `tab` completion on the next expression:"
   ]
  },
  {
   "cell_type": "code",
   "execution_count": 49,
   "id": "8e7605a2-ec96-49c0-ab6f-48b6f7490e89",
   "metadata": {},
   "outputs": [
    {
     "name": "stdout",
     "output_type": "stream",
     "text": [
      "2*(x^3 + 1)^4 + 2*x - 2*sin(x)/tan(x)\n"
     ]
    }
   ],
   "source": [
    "complicated = 2*x-2*sin(x)/tan(x)+2*(x^3+1)^4\n",
    "print(complicated)"
   ]
  },
  {
   "cell_type": "code",
   "execution_count": 50,
   "id": "29be251b-26c5-4297-b515-6200d73ad7eb",
   "metadata": {},
   "outputs": [
    {
     "data": {
      "text/plain": [
       "2*x^12 + 8*x^9 + 12*x^6 + 8*x^3 + 2*x - 2*cos(x) + 2"
      ]
     },
     "execution_count": 50,
     "metadata": {},
     "output_type": "execute_result"
    }
   ],
   "source": [
    "complicated.simplify_full()"
   ]
  },
  {
   "cell_type": "markdown",
   "id": "7f2ddfef-baf8-434a-a6e8-dc47b4221950",
   "metadata": {},
   "source": [
    "### Method types in Sage (optional):\n",
    "\n",
    "Only do this if you want a more in-depth understanding of creating classes. Other than that, you can skip this section and move onto the next part.\n",
    "\n",
    "There are 4 types of methods for an object:\n",
    "1. `a.function()` - These are normal methods and are the functions which are normally used when programming.\n",
    "2. `a._hidden_attribute` - These are normally attributes that are hidden. They are created by the developer of the object for the developer\n",
    "3. `a._private_` - (Only one `_` on both sides) These are hidden methods that are used by sage to manipulate the object.\n",
    "4. `a.__private__` - (Two `_` on both sides) These are hidden methods that are used by python to manipulate the object.\n"
   ]
  },
  {
   "cell_type": "markdown",
   "id": "e084f205-ff04-4522-8c98-e67cad0b025d",
   "metadata": {},
   "source": [
    "#### Usual methods `a.function()`\n",
    "These methods are the main method that you need to care about when working with sage. When you're normally working with objects you'll use these methods. This like the `name()` method we already defined previously.\n",
    "\n",
    "We'll see examples using an object already defined in sage:"
   ]
  },
  {
   "cell_type": "code",
   "execution_count": 51,
   "id": "02573602-e101-4e6b-bfb8-fd15bbde1ba3",
   "metadata": {},
   "outputs": [
    {
     "data": {
      "text/plain": [
       "<class 'sage.graphs.digraph.DiGraph'>"
      ]
     },
     "execution_count": 51,
     "metadata": {},
     "output_type": "execute_result"
    }
   ],
   "source": [
    "D = DiGraph([(1,2),(2,1),(3,2)])\n",
    "type(D)"
   ]
  },
  {
   "cell_type": "code",
   "execution_count": 52,
   "id": "7758007e-585b-4008-85e6-a8dec7abea88",
   "metadata": {},
   "outputs": [
    {
     "data": {
      "text/plain": [
       "[2, 3, 1]"
      ]
     },
     "execution_count": 52,
     "metadata": {},
     "output_type": "execute_result"
    }
   ],
   "source": [
    "# The degree is the number of edges that touch a vertex.\n",
    "D.degree()"
   ]
  },
  {
   "cell_type": "markdown",
   "id": "9a63d4cc-03af-4915-9972-802810b6d22f",
   "metadata": {},
   "source": [
    "#### Hidden attributes `a._hidden`\n",
    "These attributes are there for the person who is developing the object. It allows the developer to store something in a variable for the object. You **should never edit these attributes directly**."
   ]
  },
  {
   "cell_type": "code",
   "execution_count": 53,
   "id": "0e8082b2-5d88-4fa8-9c62-4293ad9f352b",
   "metadata": {},
   "outputs": [
    {
     "data": {
      "text/plain": [
       "True"
      ]
     },
     "execution_count": 53,
     "metadata": {},
     "output_type": "execute_result"
    }
   ],
   "source": [
    "# An attribute that sees if the graph is directed or not\n",
    "D._directed"
   ]
  },
  {
   "cell_type": "markdown",
   "id": "11cfd481-0ff8-4580-83c7-bfe5fc98da8d",
   "metadata": {},
   "source": [
    "#### Private functions `a._private_()`\n",
    "\n",
    "In python, private functions start with two \"\\_\". To differentiate `python` private functions and `Sage` private functions, those starting with only one \"\\_\" are from `Sage`.\n",
    "\n",
    "The attributes/functions that start with \"\\_\" and end by \"\\_\" are functions used by the system Sage to manipulate the object.\n",
    "\n",
    "For example, `_latex_` is a function that returns the latex code of the object. If this function exists in an object, Sage knows how to convert it to latex. It will use that function.\n",
    "\n",
    "For example, \"\\_\\_str\\_\\_\" is the function that returns the string associated to an object. It is used by python to print the object in the terminal."
   ]
  },
  {
   "cell_type": "code",
   "execution_count": 54,
   "id": "47110f5a-72d5-4efa-8eaa-f0e90f85459d",
   "metadata": {},
   "outputs": [
    {
     "data": {
      "text/plain": [
       "'\\\\left(\\\\begin{array}{rrr}\\n1 & 2 & 3 \\\\\\\\\\n4 & 5 & 6\\n\\\\end{array}\\\\right)'"
      ]
     },
     "execution_count": 54,
     "metadata": {},
     "output_type": "execute_result"
    }
   ],
   "source": [
    "M = Matrix([[1,2,3],[4,5,6]])\n",
    "M._latex_()"
   ]
  },
  {
   "cell_type": "markdown",
   "id": "98481261-915d-4ffe-9cd1-2b5066956fd0",
   "metadata": {},
   "source": [
    "Having the definition of `_latex_` in the Matrix class allows for the following function call to work:"
   ]
  },
  {
   "cell_type": "code",
   "execution_count": 55,
   "id": "38579121-ed48-4d7f-add3-5878443b4485",
   "metadata": {},
   "outputs": [
    {
     "data": {
      "text/plain": [
       "\\left(\\begin{array}{rrr}\n",
       "1 & 2 & 3 \\\\\n",
       "4 & 5 & 6\n",
       "\\end{array}\\right)"
      ]
     },
     "execution_count": 55,
     "metadata": {},
     "output_type": "execute_result"
    }
   ],
   "source": [
    "latex(M) # Sage private function"
   ]
  },
  {
   "cell_type": "code",
   "execution_count": 56,
   "id": "551c4ac1-e5e5-466e-8f2f-851c56bdf16c",
   "metadata": {},
   "outputs": [
    {
     "data": {
      "text/plain": [
       "'[1 2 3]\\n[4 5 6]'"
      ]
     },
     "execution_count": 56,
     "metadata": {},
     "output_type": "execute_result"
    }
   ],
   "source": [
    "str(M) # Python private function"
   ]
  },
  {
   "cell_type": "markdown",
   "id": "e1dd47db-fdbd-4099-8d54-03235459c03e",
   "metadata": {},
   "source": [
    "These methods are hidden methods that are there mainly for sage. It basically exists to help sage know what to do when a certain operation happens. For example. `D._matrix_()` is a function that exists so that if you call the function `matrix` on a digraph, sage knows what to do. For example:"
   ]
  },
  {
   "cell_type": "markdown",
   "id": "7dc15b2e-0416-49a7-a7c5-0907baf2a3bd",
   "metadata": {},
   "source": [
    "Makes it so that you can do the following:"
   ]
  },
  {
   "cell_type": "code",
   "execution_count": 57,
   "id": "58e8fda1-372f-407a-bbd0-892fdf0c0910",
   "metadata": {},
   "outputs": [
    {
     "data": {
      "text/plain": [
       "[0 1 0]\n",
       "[1 0 0]\n",
       "[0 1 0]"
      ]
     },
     "execution_count": 57,
     "metadata": {},
     "output_type": "execute_result"
    }
   ],
   "source": [
    "matrix(D) # obtain a matrix via a directed graph via a private function call"
   ]
  },
  {
   "cell_type": "markdown",
   "id": "da3e10fc-9952-4893-b73b-7a5fd2e45485",
   "metadata": {},
   "source": [
    "There are a ton of other sage methods that do similar things. Some examples include:\n",
    "* \\_ascii\\_art\\_\n",
    "* \\_latex\\_\n",
    "* \\_matrix\\_\n",
    "* \\_add\\_, \\_mul\\_, etc.\n",
    "* \\_repr\\_"
   ]
  },
  {
   "cell_type": "markdown",
   "id": "ffa13e82-272d-4092-80e3-8e3720ba3d91",
   "metadata": {},
   "source": [
    "#### Python private functions `a.__hidden__()`\n",
    "These methods are also hidden methods, but are there mainly for python. A very similar thing happens between python and the object. These are called **special method names** and is also known as **operator overloading**. So see all possible methods, you can view the [documentation here](https://docs.python.org/3.8/reference/datamodel.html#special-method-names)"
   ]
  },
  {
   "cell_type": "code",
   "execution_count": 58,
   "id": "cb4d8f2f-0186-4320-8470-0f57a138885d",
   "metadata": {},
   "outputs": [
    {
     "data": {
      "text/plain": [
       "'Digraph on 3 vertices'"
      ]
     },
     "execution_count": 58,
     "metadata": {},
     "output_type": "execute_result"
    }
   ],
   "source": [
    "D.__str__()"
   ]
  },
  {
   "cell_type": "code",
   "execution_count": 59,
   "id": "a57b31f7-c103-4581-a3b3-bc54e4e90934",
   "metadata": {},
   "outputs": [
    {
     "data": {
      "text/plain": [
       "'Digraph on 3 vertices'"
      ]
     },
     "execution_count": 59,
     "metadata": {},
     "output_type": "execute_result"
    }
   ],
   "source": [
    "str(D)"
   ]
  },
  {
   "cell_type": "markdown",
   "id": "18039557-644e-4214-9ae5-856171ce995a",
   "metadata": {},
   "source": [
    "### Latex\n",
    "\n",
    "Using latex outputs within Sage and getting latex code for Sage objects.\n",
    "\n",
    "First, you can change the display format in the notebook to render it nicely, similar to latex.\n",
    "\n",
    "Compare:"
   ]
  },
  {
   "cell_type": "code",
   "execution_count": 60,
   "id": "f2baaadd-45ff-4b1d-af59-d0bdabf9add1",
   "metadata": {},
   "outputs": [
    {
     "data": {
      "text/plain": [
       "x3^6 + 2*x1*x2^3 + 3*x1^2*x3 + x1^2"
      ]
     },
     "execution_count": 60,
     "metadata": {},
     "output_type": "execute_result"
    }
   ],
   "source": [
    "var('x1,x2,x3')\n",
    "poly = x1^2+2*x1*x2^3+x3^6+3*x1^2*x3\n",
    "poly"
   ]
  },
  {
   "cell_type": "markdown",
   "id": "20851d08-7d19-49cf-bfc9-146ad6d15ba2",
   "metadata": {},
   "source": [
    "with:"
   ]
  },
  {
   "cell_type": "code",
   "execution_count": 61,
   "id": "066ddd6b-01d9-40ee-88bc-f4d92b06d5bf",
   "metadata": {},
   "outputs": [],
   "source": [
    "%display latex"
   ]
  },
  {
   "cell_type": "markdown",
   "id": "ee78401b-c23a-4377-ac63-57d432dd0154",
   "metadata": {},
   "source": [
    "followed by:"
   ]
  },
  {
   "cell_type": "code",
   "execution_count": 62,
   "id": "e967538c-0a66-499e-993a-c2c4846d38f1",
   "metadata": {},
   "outputs": [
    {
     "data": {
      "text/html": [
       "<html>\\(\\displaystyle x_{3}^{6} + 2 \\, x_{1} x_{2}^{3} + 3 \\, x_{1}^{2} x_{3} + x_{1}^{2}\\)</html>"
      ],
      "text/latex": [
       "$\\displaystyle x_{3}^{6} + 2 \\, x_{1} x_{2}^{3} + 3 \\, x_{1}^{2} x_{3} + x_{1}^{2}$"
      ],
      "text/plain": [
       "x3^6 + 2*x1*x2^3 + 3*x1^2*x3 + x1^2"
      ]
     },
     "execution_count": 62,
     "metadata": {},
     "output_type": "execute_result"
    }
   ],
   "source": [
    "poly"
   ]
  },
  {
   "cell_type": "markdown",
   "id": "63b05c5a-deb9-47e8-9d79-b0339498a25c",
   "metadata": {},
   "source": [
    "It is much easier to read! Remember the matrix M above? Execute the following line"
   ]
  },
  {
   "cell_type": "code",
   "execution_count": 63,
   "id": "4b0f993f-cd33-447b-a86f-9aff827fdb44",
   "metadata": {},
   "outputs": [
    {
     "data": {
      "text/html": [
       "<html>\\(\\displaystyle \\left(\\begin{array}{rrr}\n",
       "1 & 2 & 3 \\\\\n",
       "4 & 5 & 6\n",
       "\\end{array}\\right)\\)</html>"
      ],
      "text/latex": [
       "$\\displaystyle \\left(\\begin{array}{rrr}\n",
       "1 & 2 & 3 \\\\\n",
       "4 & 5 & 6\n",
       "\\end{array}\\right)$"
      ],
      "text/plain": [
       "[1 2 3]\n",
       "[4 5 6]"
      ]
     },
     "execution_count": 63,
     "metadata": {},
     "output_type": "execute_result"
    }
   ],
   "source": [
    "M"
   ]
  },
  {
   "cell_type": "markdown",
   "id": "8af91be6-c777-4daf-b411-fd88369692ee",
   "metadata": {},
   "source": [
    "You can come back to the plain display mode by typing:"
   ]
  },
  {
   "cell_type": "code",
   "execution_count": 64,
   "id": "17cdb653-ce87-42f3-95dc-18a50e6564e4",
   "metadata": {},
   "outputs": [],
   "source": [
    "%display plain"
   ]
  },
  {
   "cell_type": "code",
   "execution_count": 65,
   "id": "1ddad9d1-d183-4533-b186-1f7b12d45611",
   "metadata": {},
   "outputs": [
    {
     "data": {
      "text/plain": [
       "[1 2 3]\n",
       "[4 5 6]"
      ]
     },
     "execution_count": 65,
     "metadata": {},
     "output_type": "execute_result"
    }
   ],
   "source": [
    "M"
   ]
  },
  {
   "cell_type": "markdown",
   "id": "4d902cc8-4ee3-4a87-a272-6ef52474453d",
   "metadata": {},
   "source": [
    "Imagine now that you would like to add the square of `poly` to a latex document. We really don't want to rewrite this because we are definitely going to make a mistake. Instead, we can have sage give us the latex and then we can copy+paste."
   ]
  },
  {
   "cell_type": "code",
   "execution_count": 66,
   "id": "e9a4cca2-1fb1-4ac1-a997-9c91c88536e6",
   "metadata": {},
   "outputs": [
    {
     "data": {
      "text/plain": [
       "x_{3}^{12} + 4 \\, x_{1} x_{2}^{3} x_{3}^{6} + 6 \\, x_{1}^{2} x_{3}^{7} + 4 \\, x_{1}^{2} x_{2}^{6} + 2 \\, x_{1}^{2} x_{3}^{6} + 12 \\, x_{1}^{3} x_{2}^{3} x_{3} + 4 \\, x_{1}^{3} x_{2}^{3} + 9 \\, x_{1}^{4} x_{3}^{2} + 6 \\, x_{1}^{4} x_{3} + x_{1}^{4}"
      ]
     },
     "execution_count": 66,
     "metadata": {},
     "output_type": "execute_result"
    }
   ],
   "source": [
    "latex(expand(poly^2))"
   ]
  },
  {
   "cell_type": "markdown",
   "id": "43fd571c-58f1-4065-81ca-21a19ebae567",
   "metadata": {},
   "source": [
    "And now we see that we can copy this and paste it into latex with no problem 😊"
   ]
  },
  {
   "cell_type": "markdown",
   "id": "2e6a9012-4810-416b-8d26-345885618a00",
   "metadata": {},
   "source": [
    "### Can we latex more complicated objects? Like polytopes?\n",
    "\n",
    "We can latex almost evertything! In essence, any object that has the method `_latex_` can give latex. Let's see some examples."
   ]
  },
  {
   "cell_type": "code",
   "execution_count": 67,
   "id": "ea3f870b-a387-4178-a99f-ac2e71dc59a8",
   "metadata": {},
   "outputs": [
    {
     "data": {
      "text/html": [
       "<html>\\(\\displaystyle \\left(\\begin{array}{rrrrrrrrr}\n",
       "1 & 1 & 1 & 1 & 1 & 1 & 1 & 1 & 1 \\\\\n",
       "2 & 4 & 8 & 16 & 32 & 64 & 128 & 256 & 512 \\\\\n",
       "3 & 9 & 27 & 81 & 243 & 729 & 2187 & 6561 & 19683 \\\\\n",
       "4 & 16 & 64 & 256 & 1024 & 4096 & 16384 & 65536 & 262144 \\\\\n",
       "5 & 25 & 125 & 625 & 3125 & 15625 & 78125 & 390625 & 1953125 \\\\\n",
       "6 & 36 & 216 & 1296 & 7776 & 46656 & 279936 & 1679616 & 10077696 \\\\\n",
       "7 & 49 & 343 & 2401 & 16807 & 117649 & 823543 & 5764801 & 40353607 \\\\\n",
       "8 & 64 & 512 & 4096 & 32768 & 262144 & 2097152 & 16777216 & 134217728 \\\\\n",
       "9 & 81 & 729 & 6561 & 59049 & 531441 & 4782969 & 43046721 & 387420489\n",
       "\\end{array}\\right)\\)</html>"
      ],
      "text/latex": [
       "$\\displaystyle \\left(\\begin{array}{rrrrrrrrr}\n",
       "1 & 1 & 1 & 1 & 1 & 1 & 1 & 1 & 1 \\\\\n",
       "2 & 4 & 8 & 16 & 32 & 64 & 128 & 256 & 512 \\\\\n",
       "3 & 9 & 27 & 81 & 243 & 729 & 2187 & 6561 & 19683 \\\\\n",
       "4 & 16 & 64 & 256 & 1024 & 4096 & 16384 & 65536 & 262144 \\\\\n",
       "5 & 25 & 125 & 625 & 3125 & 15625 & 78125 & 390625 & 1953125 \\\\\n",
       "6 & 36 & 216 & 1296 & 7776 & 46656 & 279936 & 1679616 & 10077696 \\\\\n",
       "7 & 49 & 343 & 2401 & 16807 & 117649 & 823543 & 5764801 & 40353607 \\\\\n",
       "8 & 64 & 512 & 4096 & 32768 & 262144 & 2097152 & 16777216 & 134217728 \\\\\n",
       "9 & 81 & 729 & 6561 & 59049 & 531441 & 4782969 & 43046721 & 387420489\n",
       "\\end{array}\\right)$"
      ],
      "text/plain": [
       "[        1         1         1         1         1         1         1         1         1]\n",
       "[        2         4         8        16        32        64       128       256       512]\n",
       "[        3         9        27        81       243       729      2187      6561     19683]\n",
       "[        4        16        64       256      1024      4096     16384     65536    262144]\n",
       "[        5        25       125       625      3125     15625     78125    390625   1953125]\n",
       "[        6        36       216      1296      7776     46656    279936   1679616  10077696]\n",
       "[        7        49       343      2401     16807    117649    823543   5764801  40353607]\n",
       "[        8        64       512      4096     32768    262144   2097152  16777216 134217728]\n",
       "[        9        81       729      6561     59049    531441   4782969  43046721 387420489]"
      ]
     },
     "execution_count": 67,
     "metadata": {},
     "output_type": "execute_result"
    }
   ],
   "source": [
    "%display latex\n",
    "M = matrix([[i^j for j in range(1,10)] for i in range(1,10)])\n",
    "M"
   ]
  },
  {
   "cell_type": "code",
   "execution_count": 68,
   "id": "7731df68-838c-49b3-8fe8-2c7dd9c3e81b",
   "metadata": {},
   "outputs": [
    {
     "data": {
      "text/plain": [
       "\\left(\\begin{array}{rrrrrrrrr}\n",
       "1 & 1 & 1 & 1 & 1 & 1 & 1 & 1 & 1 \\\\\n",
       "2 & 4 & 8 & 16 & 32 & 64 & 128 & 256 & 512 \\\\\n",
       "3 & 9 & 27 & 81 & 243 & 729 & 2187 & 6561 & 19683 \\\\\n",
       "4 & 16 & 64 & 256 & 1024 & 4096 & 16384 & 65536 & 262144 \\\\\n",
       "5 & 25 & 125 & 625 & 3125 & 15625 & 78125 & 390625 & 1953125 \\\\\n",
       "6 & 36 & 216 & 1296 & 7776 & 46656 & 279936 & 1679616 & 10077696 \\\\\n",
       "7 & 49 & 343 & 2401 & 16807 & 117649 & 823543 & 5764801 & 40353607 \\\\\n",
       "8 & 64 & 512 & 4096 & 32768 & 262144 & 2097152 & 16777216 & 134217728 \\\\\n",
       "9 & 81 & 729 & 6561 & 59049 & 531441 & 4782969 & 43046721 & 387420489\n",
       "\\end{array}\\right)"
      ]
     },
     "execution_count": 68,
     "metadata": {},
     "output_type": "execute_result"
    }
   ],
   "source": [
    "%display plain\n",
    "latex(M)"
   ]
  },
  {
   "cell_type": "code",
   "execution_count": 69,
   "id": "21c2e284-931a-48c6-9c88-a82d1dd165ea",
   "metadata": {},
   "outputs": [
    {
     "data": {
      "image/png": "[encoded data removed]",
      "text/plain": [
       "Digraph on 3 vertices"
      ]
     },
     "execution_count": 69,
     "metadata": {},
     "output_type": "execute_result"
    }
   ],
   "source": [
    "%display latex\n",
    "D = DiGraph([(1,2), (2,1), (3,2)])\n",
    "D"
   ]
  },
  {
   "cell_type": "code",
   "execution_count": 70,
   "id": "a3e5e968-5634-487a-8fc7-b36c2d5913cc",
   "metadata": {},
   "outputs": [
    {
     "data": {
      "text/plain": [
       "\\begin{tikzpicture}\n",
       "\\definecolor{cv0}{rgb}{0.0,0.0,0.0}\n",
       "\\definecolor{cfv0}{rgb}{1.0,1.0,1.0}\n",
       "\\definecolor{clv0}{rgb}{0.0,0.0,0.0}\n",
       "\\definecolor{cv1}{rgb}{0.0,0.0,0.0}\n",
       "\\definecolor{cfv1}{rgb}{1.0,1.0,1.0}\n",
       "\\definecolor{clv1}{rgb}{0.0,0.0,0.0}\n",
       "\\definecolor{cv2}{rgb}{0.0,0.0,0.0}\n",
       "\\definecolor{cfv2}{rgb}{1.0,1.0,1.0}\n",
       "\\definecolor{clv2}{rgb}{0.0,0.0,0.0}\n",
       "\\definecolor{cv0v1}{rgb}{0.0,0.0,0.0}\n",
       "\\definecolor{cv1v0}{rgb}{0.0,0.0,0.0}\n",
       "\\definecolor{cv2v1}{rgb}{0.0,0.0,0.0}\n",
       "%\n",
       "\\Vertex[style={minimum size=1.0cm,draw=cv0,fill=cfv0,text=clv0,shape=circle},LabelOut=false,L=\\hbox{$1$},x=0.0cm,y=5.0cm]{v0}\n",
       "\\Vertex[style={minimum size=1.0cm,draw=cv1,fill=cfv1,text=clv1,shape=circle},LabelOut=false,L=\\hbox{$2$},x=2.4566cm,y=2.5434cm]{v1}\n",
       "\\Vertex[style={minimum size=1.0cm,draw=cv2,fill=cfv2,text=clv2,shape=circle},LabelOut=false,L=\\hbox{$3$},x=5.0cm,y=0.0cm]{v2}\n",
       "%\n",
       "\\Edge[lw=0.1cm,style={post, bend right,color=cv0v1,},](v0)(v1)\n",
       "\\Edge[lw=0.1cm,style={post, bend right,color=cv1v0,},](v1)(v0)\n",
       "\\Edge[lw=0.1cm,style={post, bend right,color=cv2v1,},](v2)(v1)\n",
       "%\n",
       "\\end{tikzpicture}"
      ]
     },
     "execution_count": 70,
     "metadata": {},
     "output_type": "execute_result"
    }
   ],
   "source": [
    "%display plain\n",
    "latex(D)"
   ]
  },
  {
   "cell_type": "markdown",
   "id": "0d540a19-930c-428a-9fce-760c816c6f4c",
   "metadata": {},
   "source": [
    "It is also possible to visualize the latex code with the command `view` (might not work on cocalc or if you do not have a latex compiler installed)."
   ]
  },
  {
   "cell_type": "code",
   "execution_count": 71,
   "id": "4c2238e5-a146-4495-b90e-526b91949f05",
   "metadata": {},
   "outputs": [],
   "source": [
    "view(latex(D))"
   ]
  },
  {
   "cell_type": "markdown",
   "id": "99cdb82d-9dd1-4ae9-9685-5438b8b34b95",
   "metadata": {},
   "source": [
    "But! We can't do it for everything."
   ]
  },
  {
   "cell_type": "code",
   "execution_count": 72,
   "id": "685eea0d-c2b9-4d4f-960d-1a8ce3b9753b",
   "metadata": {},
   "outputs": [
    {
     "data": {
      "image/png": "[encoded data removed]",
      "text/plain": [
       "A 1-dimensional polyhedron in ZZ^2 defined as the convex hull of 2 vertices"
      ]
     },
     "execution_count": 72,
     "metadata": {},
     "output_type": "execute_result"
    }
   ],
   "source": [
    "%display latex\n",
    "P = Polyhedron(vertices=[(1,0), (0,1)])\n",
    "P"
   ]
  },
  {
   "cell_type": "code",
   "execution_count": 73,
   "id": "d3436156-87c0-4aaf-8a09-520f2cd1fd0d",
   "metadata": {},
   "outputs": [
    {
     "data": {
      "text/plain": [
       "\\text{\\texttt{A{ }1{-}dimensional{ }polyhedron{ }in{ }ZZ{\\char`\\^}2{ }defined{ }as{ }the{ }convex{ }hull{ }of{ }2{ }vertices}}"
      ]
     },
     "execution_count": 73,
     "metadata": {},
     "output_type": "execute_result"
    }
   ],
   "source": [
    "%display plain\n",
    "latex(P)"
   ]
  },
  {
   "cell_type": "markdown",
   "id": "f8a55a3d-6882-4da4-af22-04363fa08f85",
   "metadata": {},
   "source": [
    "Notice that the latex is just giving us the latex string and not the plot itself. In *this* case there is a way around this, but we aren't always so lucky. For this particular example we can use a latex of the plot in order to get latex:"
   ]
  },
  {
   "cell_type": "code",
   "execution_count": 74,
   "id": "7e8bdc21-8b78-4309-a667-ab3924322198",
   "metadata": {},
   "outputs": [
    {
     "data": {
      "text/plain": [
       "%% Creator: Matplotlib, PGF backend\n",
       "%%\n",
       "%% To include the figure in your LaTeX document, write\n",
       "%%   \\input{<filename>.pgf}\n",
       "%%\n",
       "%% Make sure the required packages are loaded in your preamble\n",
       "%%   \\usepackage{pgf}\n",
       "%%\n",
       "%% Also ensure that all the required font packages are loaded; for instance,\n",
       "%% the lmodern package is sometimes necessary when using math font.\n",
       "%%   \\usepackage{lmodern}\n",
       "%%\n",
       "%% Figures using additional raster images can only be included by \\input if\n",
       "%% they are in the same directory as the main LaTeX file. For loading figures\n",
       "%% from other directories you can use the `import` package\n",
       "%%   \\usepackage{import}\n",
       "%%\n",
       "%% and then include the figures with\n",
       "%%   \\import{<path to file>}{<filename>.pgf}\n",
       "%%\n",
       "%% Matplotlib used the following preamble\n",
       "%%   \\def\\mathdefault#1{#1}\n",
       "%%   \\everymath=\\expandafter{\\the\\everymath\\displaystyle}\n",
       "%%   \n",
       "%%   \\usepackage{fontspec}\n",
       "%%   \\setmainfont{DejaVuSerif.ttf}[Path=\\detokenize{/home/jplabbe/sage/local/var/lib/sage/venv-python3.11.8/lib/python3.11/site-packages/matplotlib/mpl-data/fonts/ttf/}]\n",
       "%%   \\setsansfont{DejaVuSans.ttf}[Path=\\detokenize{/home/jplabbe/sage/local/var/lib/sage/venv-python3.11.8/lib/python3.11/site-packages/matplotlib/mpl-data/fonts/ttf/}]\n",
       "%%   \\setmonofont{DejaVuSansMono.ttf}[Path=\\detokenize{/home/jplabbe/sage/local/var/lib/sage/venv-python3.11.8/lib/python3.11/site-packages/matplotlib/mpl-data/fonts/ttf/}]\n",
       "%%   \\makeatletter\\@ifpackageloaded{underscore}{}{\\usepackage[strings]{underscore}}\\makeatother\n",
       "%%\n",
       "\\begingroup%\n",
       "\\makeatletter%\n",
       "\\begin{pgfpicture}%\n",
       "\\pgfpathrectangle{\\pgfpointorigin}{\\pgfqpoint{6.267594in}{4.687626in}}%\n",
       "\\pgfusepath{use as bounding box, clip}%\n",
       "\\begin{pgfscope}%\n",
       "\\pgfsetbuttcap%\n",
       "\\pgfsetmiterjoin%\n",
       "\\definecolor{currentfill}{rgb}{1.000000,1.000000,1.000000}%\n",
       "\\pgfsetfillcolor{currentfill}%\n",
       "\\pgfsetlinewidth{0.000000pt}%\n",
       "\\definecolor{currentstroke}{rgb}{1.000000,1.000000,1.000000}%\n",
       "\\pgfsetstrokecolor{currentstroke}%\n",
       "\\pgfsetdash{}{0pt}%\n",
       "\\pgfpathmoveto{\\pgfqpoint{0.000000in}{0.000000in}}%\n",
       "\\pgfpathlineto{\\pgfqpoint{6.267594in}{0.000000in}}%\n",
       "\\pgfpathlineto{\\pgfqpoint{6.267594in}{4.687626in}}%\n",
       "\\pgfpathlineto{\\pgfqpoint{0.000000in}{4.687626in}}%\n",
       "\\pgfpathlineto{\\pgfqpoint{0.000000in}{0.000000in}}%\n",
       "\\pgfpathclose%\n",
       "\\pgfusepath{fill}%\n",
       "\\end{pgfscope}%\n",
       "\\begin{pgfscope}%\n",
       "\\pgfsetbuttcap%\n",
       "\\pgfsetmiterjoin%\n",
       "\\definecolor{currentfill}{rgb}{1.000000,1.000000,1.000000}%\n",
       "\\pgfsetfillcolor{currentfill}%\n",
       "\\pgfsetlinewidth{0.000000pt}%\n",
       "\\definecolor{currentstroke}{rgb}{0.000000,0.000000,0.000000}%\n",
       "\\pgfsetstrokecolor{currentstroke}%\n",
       "\\pgfsetstrokeopacity{0.000000}%\n",
       "\\pgfsetdash{}{0pt}%\n",
       "\\pgfpathmoveto{\\pgfqpoint{0.305367in}{0.248184in}}%\n",
       "\\pgfpathlineto{\\pgfqpoint{6.167594in}{0.248184in}}%\n",
       "\\pgfpathlineto{\\pgfqpoint{6.167594in}{4.587626in}}%\n",
       "\\pgfpathlineto{\\pgfqpoint{0.305367in}{4.587626in}}%\n",
       "\\pgfpathlineto{\\pgfqpoint{0.305367in}{0.248184in}}%\n",
       "\\pgfpathclose%\n",
       "\\pgfusepath{fill}%\n",
       "\\end{pgfscope}%\n",
       "\\begin{pgfscope}%\n",
       "\\pgfpathrectangle{\\pgfqpoint{0.305367in}{0.248184in}}{\\pgfqpoint{5.862228in}{4.339442in}}%\n",
       "\\pgfusepath{clip}%\n",
       "\\pgfsetrectcap%\n",
       "\\pgfsetroundjoin%\n",
       "\\pgfsetlinewidth{1.003750pt}%\n",
       "\\definecolor{currentstroke}{rgb}{0.000000,0.501961,0.000000}%\n",
       "\\pgfsetstrokecolor{currentstroke}%\n",
       "\\pgfsetdash{}{0pt}%\n",
       "\\pgfpathmoveto{\\pgfqpoint{0.418102in}{4.504175in}}%\n",
       "\\pgfpathlineto{\\pgfqpoint{6.054859in}{0.331635in}}%\n",
       "\\pgfusepath{stroke}%\n",
       "\\end{pgfscope}%\n",
       "\\begin{pgfscope}%\n",
       "\\pgfsetbuttcap%\n",
       "\\pgfsetroundjoin%\n",
       "\\definecolor{currentfill}{rgb}{0.000000,0.000000,0.000000}%\n",
       "\\pgfsetfillcolor{currentfill}%\n",
       "\\pgfsetlinewidth{0.803000pt}%\n",
       "\\definecolor{currentstroke}{rgb}{0.000000,0.000000,0.000000}%\n",
       "\\pgfsetstrokecolor{currentstroke}%\n",
       "\\pgfsetdash{}{0pt}%\n",
       "\\pgfsys@defobject{currentmarker}{\\pgfqpoint{0.000000in}{-0.048611in}}{\\pgfqpoint{0.000000in}{0.000000in}}{%\n",
       "\\pgfpathmoveto{\\pgfqpoint{0.000000in}{0.000000in}}%\n",
       "\\pgfpathlineto{\\pgfqpoint{0.000000in}{-0.048611in}}%\n",
       "\\pgfusepath{stroke,fill}%\n",
       "}%\n",
       "\\begin{pgfscope}%\n",
       "\\pgfsys@transformshift{0.418102in}{0.331635in}%\n",
       "\\pgfsys@useobject{currentmarker}{}%\n",
       "\\end{pgfscope}%\n",
       "\\end{pgfscope}%\n",
       "\\begin{pgfscope}%\n",
       "\\pgfsetbuttcap%\n",
       "\\pgfsetroundjoin%\n",
       "\\definecolor{currentfill}{rgb}{0.000000,0.000000,0.000000}%\n",
       "\\pgfsetfillcolor{currentfill}%\n",
       "\\pgfsetlinewidth{0.803000pt}%\n",
       "\\definecolor{currentstroke}{rgb}{0.000000,0.000000,0.000000}%\n",
       "\\pgfsetstrokecolor{currentstroke}%\n",
       "\\pgfsetdash{}{0pt}%\n",
       "\\pgfsys@defobject{currentmarker}{\\pgfqpoint{0.000000in}{-0.048611in}}{\\pgfqpoint{0.000000in}{0.000000in}}{%\n",
       "\\pgfpathmoveto{\\pgfqpoint{0.000000in}{0.000000in}}%\n",
       "\\pgfpathlineto{\\pgfqpoint{0.000000in}{-0.048611in}}%\n",
       "\\pgfusepath{stroke,fill}%\n",
       "}%\n",
       "\\begin{pgfscope}%\n",
       "\\pgfsys@transformshift{1.545453in}{0.331635in}%\n",
       "\\pgfsys@useobject{currentmarker}{}%\n",
       "\\end{pgfscope}%\n",
       "\\end{pgfscope}%\n",
       "\\begin{pgfscope}%\n",
       "\\definecolor{textcolor}{rgb}{0.000000,0.000000,0.000000}%\n",
       "\\pgfsetstrokecolor{textcolor}%\n",
       "\\pgfsetfillcolor{textcolor}%\n",
       "\\pgftext[x=1.545453in,y=0.234413in,,top]{\\color{textcolor}{\\sffamily\\fontsize{10.000000}{12.000000}\\selectfont\\catcode`\\^=\\active\\def^{\\ifmmode\\sp\\else\\^{}\\fi}\\catcode`\\%=\\active\\def%{\\%}0.2}}%\n",
       "\\end{pgfscope}%\n",
       "\\begin{pgfscope}%\n",
       "\\pgfsetbuttcap%\n",
       "\\pgfsetroundjoin%\n",
       "\\definecolor{currentfill}{rgb}{0.000000,0.000000,0.000000}%\n",
       "\\pgfsetfillcolor{currentfill}%\n",
       "\\pgfsetlinewidth{0.803000pt}%\n",
       "\\definecolor{currentstroke}{rgb}{0.000000,0.000000,0.000000}%\n",
       "\\pgfsetstrokecolor{currentstroke}%\n",
       "\\pgfsetdash{}{0pt}%\n",
       "\\pgfsys@defobject{currentmarker}{\\pgfqpoint{0.000000in}{-0.048611in}}{\\pgfqpoint{0.000000in}{0.000000in}}{%\n",
       "\\pgfpathmoveto{\\pgfqpoint{0.000000in}{0.000000in}}%\n",
       "\\pgfpathlineto{\\pgfqpoint{0.000000in}{-0.048611in}}%\n",
       "\\pgfusepath{stroke,fill}%\n",
       "}%\n",
       "\\begin{pgfscope}%\n",
       "\\pgfsys@transformshift{2.672805in}{0.331635in}%\n",
       "\\pgfsys@useobject{currentmarker}{}%\n",
       "\\end{pgfscope}%\n",
       "\\end{pgfscope}%\n",
       "\\begin{pgfscope}%\n",
       "\\definecolor{textcolor}{rgb}{0.000000,0.000000,0.000000}%\n",
       "\\pgfsetstrokecolor{textcolor}%\n",
       "\\pgfsetfillcolor{textcolor}%\n",
       "\\pgftext[x=2.672805in,y=0.234413in,,top]{\\color{textcolor}{\\sffamily\\fontsize{10.000000}{12.000000}\\selectfont\\catcode`\\^=\\active\\def^{\\ifmmode\\sp\\else\\^{}\\fi}\\catcode`\\%=\\active\\def%{\\%}0.4}}%\n",
       "\\end{pgfscope}%\n",
       "\\begin{pgfscope}%\n",
       "\\pgfsetbuttcap%\n",
       "\\pgfsetroundjoin%\n",
       "\\definecolor{currentfill}{rgb}{0.000000,0.000000,0.000000}%\n",
       "\\pgfsetfillcolor{currentfill}%\n",
       "\\pgfsetlinewidth{0.803000pt}%\n",
       "\\definecolor{currentstroke}{rgb}{0.000000,0.000000,0.000000}%\n",
       "\\pgfsetstrokecolor{currentstroke}%\n",
       "\\pgfsetdash{}{0pt}%\n",
       "\\pgfsys@defobject{currentmarker}{\\pgfqpoint{0.000000in}{-0.048611in}}{\\pgfqpoint{0.000000in}{0.000000in}}{%\n",
       "\\pgfpathmoveto{\\pgfqpoint{0.000000in}{0.000000in}}%\n",
       "\\pgfpathlineto{\\pgfqpoint{0.000000in}{-0.048611in}}%\n",
       "\\pgfusepath{stroke,fill}%\n",
       "}%\n",
       "\\begin{pgfscope}%\n",
       "\\pgfsys@transformshift{3.800156in}{0.331635in}%\n",
       "\\pgfsys@useobject{currentmarker}{}%\n",
       "\\end{pgfscope}%\n",
       "\\end{pgfscope}%\n",
       "\\begin{pgfscope}%\n",
       "\\definecolor{textcolor}{rgb}{0.000000,0.000000,0.000000}%\n",
       "\\pgfsetstrokecolor{textcolor}%\n",
       "\\pgfsetfillcolor{textcolor}%\n",
       "\\pgftext[x=3.800156in,y=0.234413in,,top]{\\color{textcolor}{\\sffamily\\fontsize{10.000000}{12.000000}\\selectfont\\catcode`\\^=\\active\\def^{\\ifmmode\\sp\\else\\^{}\\fi}\\catcode`\\%=\\active\\def%{\\%}0.6}}%\n",
       "\\end{pgfscope}%\n",
       "\\begin{pgfscope}%\n",
       "\\pgfsetbuttcap%\n",
       "\\pgfsetroundjoin%\n",
       "\\definecolor{currentfill}{rgb}{0.000000,0.000000,0.000000}%\n",
       "\\pgfsetfillcolor{currentfill}%\n",
       "\\pgfsetlinewidth{0.803000pt}%\n",
       "\\definecolor{currentstroke}{rgb}{0.000000,0.000000,0.000000}%\n",
       "\\pgfsetstrokecolor{currentstroke}%\n",
       "\\pgfsetdash{}{0pt}%\n",
       "\\pgfsys@defobject{currentmarker}{\\pgfqpoint{0.000000in}{-0.048611in}}{\\pgfqpoint{0.000000in}{0.000000in}}{%\n",
       "\\pgfpathmoveto{\\pgfqpoint{0.000000in}{0.000000in}}%\n",
       "\\pgfpathlineto{\\pgfqpoint{0.000000in}{-0.048611in}}%\n",
       "\\pgfusepath{stroke,fill}%\n",
       "}%\n",
       "\\begin{pgfscope}%\n",
       "\\pgfsys@transformshift{4.927508in}{0.331635in}%\n",
       "\\pgfsys@useobject{currentmarker}{}%\n",
       "\\end{pgfscope}%\n",
       "\\end{pgfscope}%\n",
       "\\begin{pgfscope}%\n",
       "\\definecolor{textcolor}{rgb}{0.000000,0.000000,0.000000}%\n",
       "\\pgfsetstrokecolor{textcolor}%\n",
       "\\pgfsetfillcolor{textcolor}%\n",
       "\\pgftext[x=4.927508in,y=0.234413in,,top]{\\color{textcolor}{\\sffamily\\fontsize{10.000000}{12.000000}\\selectfont\\catcode`\\^=\\active\\def^{\\ifmmode\\sp\\else\\^{}\\fi}\\catcode`\\%=\\active\\def%{\\%}0.8}}%\n",
       "\\end{pgfscope}%\n",
       "\\begin{pgfscope}%\n",
       "\\pgfsetbuttcap%\n",
       "\\pgfsetroundjoin%\n",
       "\\definecolor{currentfill}{rgb}{0.000000,0.000000,0.000000}%\n",
       "\\pgfsetfillcolor{currentfill}%\n",
       "\\pgfsetlinewidth{0.803000pt}%\n",
       "\\definecolor{currentstroke}{rgb}{0.000000,0.000000,0.000000}%\n",
       "\\pgfsetstrokecolor{currentstroke}%\n",
       "\\pgfsetdash{}{0pt}%\n",
       "\\pgfsys@defobject{currentmarker}{\\pgfqpoint{0.000000in}{-0.048611in}}{\\pgfqpoint{0.000000in}{0.000000in}}{%\n",
       "\\pgfpathmoveto{\\pgfqpoint{0.000000in}{0.000000in}}%\n",
       "\\pgfpathlineto{\\pgfqpoint{0.000000in}{-0.048611in}}%\n",
       "\\pgfusepath{stroke,fill}%\n",
       "}%\n",
       "\\begin{pgfscope}%\n",
       "\\pgfsys@transformshift{6.054859in}{0.331635in}%\n",
       "\\pgfsys@useobject{currentmarker}{}%\n",
       "\\end{pgfscope}%\n",
       "\\end{pgfscope}%\n",
       "\\begin{pgfscope}%\n",
       "\\definecolor{textcolor}{rgb}{0.000000,0.000000,0.000000}%\n",
       "\\pgfsetstrokecolor{textcolor}%\n",
       "\\pgfsetfillcolor{textcolor}%\n",
       "\\pgftext[x=6.054859in,y=0.234413in,,top]{\\color{textcolor}{\\sffamily\\fontsize{10.000000}{12.000000}\\selectfont\\catcode`\\^=\\active\\def^{\\ifmmode\\sp\\else\\^{}\\fi}\\catcode`\\%=\\active\\def%{\\%}1.0}}%\n",
       "\\end{pgfscope}%\n",
       "\\begin{pgfscope}%\n",
       "\\pgfsetbuttcap%\n",
       "\\pgfsetroundjoin%\n",
       "\\definecolor{currentfill}{rgb}{0.000000,0.000000,0.000000}%\n",
       "\\pgfsetfillcolor{currentfill}%\n",
       "\\pgfsetlinewidth{0.602250pt}%\n",
       "\\definecolor{currentstroke}{rgb}{0.000000,0.000000,0.000000}%\n",
       "\\pgfsetstrokecolor{currentstroke}%\n",
       "\\pgfsetdash{}{0pt}%\n",
       "\\pgfsys@defobject{currentmarker}{\\pgfqpoint{0.000000in}{-0.027778in}}{\\pgfqpoint{0.000000in}{0.000000in}}{%\n",
       "\\pgfpathmoveto{\\pgfqpoint{0.000000in}{0.000000in}}%\n",
       "\\pgfpathlineto{\\pgfqpoint{0.000000in}{-0.027778in}}%\n",
       "\\pgfusepath{stroke,fill}%\n",
       "}%\n",
       "\\begin{pgfscope}%\n",
       "\\pgfsys@transformshift{0.699940in}{0.331635in}%\n",
       "\\pgfsys@useobject{currentmarker}{}%\n",
       "\\end{pgfscope}%\n",
       "\\end{pgfscope}%\n",
       "\\begin{pgfscope}%\n",
       "\\pgfsetbuttcap%\n",
       "\\pgfsetroundjoin%\n",
       "\\definecolor{currentfill}{rgb}{0.000000,0.000000,0.000000}%\n",
       "\\pgfsetfillcolor{currentfill}%\n",
       "\\pgfsetlinewidth{0.602250pt}%\n",
       "\\definecolor{currentstroke}{rgb}{0.000000,0.000000,0.000000}%\n",
       "\\pgfsetstrokecolor{currentstroke}%\n",
       "\\pgfsetdash{}{0pt}%\n",
       "\\pgfsys@defobject{currentmarker}{\\pgfqpoint{0.000000in}{-0.027778in}}{\\pgfqpoint{0.000000in}{0.000000in}}{%\n",
       "\\pgfpathmoveto{\\pgfqpoint{0.000000in}{0.000000in}}%\n",
       "\\pgfpathlineto{\\pgfqpoint{0.000000in}{-0.027778in}}%\n",
       "\\pgfusepath{stroke,fill}%\n",
       "}%\n",
       "\\begin{pgfscope}%\n",
       "\\pgfsys@transformshift{0.981777in}{0.331635in}%\n",
       "\\pgfsys@useobject{currentmarker}{}%\n",
       "\\end{pgfscope}%\n",
       "\\end{pgfscope}%\n",
       "\\begin{pgfscope}%\n",
       "\\pgfsetbuttcap%\n",
       "\\pgfsetroundjoin%\n",
       "\\definecolor{currentfill}{rgb}{0.000000,0.000000,0.000000}%\n",
       "\\pgfsetfillcolor{currentfill}%\n",
       "\\pgfsetlinewidth{0.602250pt}%\n",
       "\\definecolor{currentstroke}{rgb}{0.000000,0.000000,0.000000}%\n",
       "\\pgfsetstrokecolor{currentstroke}%\n",
       "\\pgfsetdash{}{0pt}%\n",
       "\\pgfsys@defobject{currentmarker}{\\pgfqpoint{0.000000in}{-0.027778in}}{\\pgfqpoint{0.000000in}{0.000000in}}{%\n",
       "\\pgfpathmoveto{\\pgfqpoint{0.000000in}{0.000000in}}%\n",
       "\\pgfpathlineto{\\pgfqpoint{0.000000in}{-0.027778in}}%\n",
       "\\pgfusepath{stroke,fill}%\n",
       "}%\n",
       "\\begin{pgfscope}%\n",
       "\\pgfsys@transformshift{1.263615in}{0.331635in}%\n",
       "\\pgfsys@useobject{currentmarker}{}%\n",
       "\\end{pgfscope}%\n",
       "\\end{pgfscope}%\n",
       "\\begin{pgfscope}%\n",
       "\\pgfsetbuttcap%\n",
       "\\pgfsetroundjoin%\n",
       "\\definecolor{currentfill}{rgb}{0.000000,0.000000,0.000000}%\n",
       "\\pgfsetfillcolor{currentfill}%\n",
       "\\pgfsetlinewidth{0.602250pt}%\n",
       "\\definecolor{currentstroke}{rgb}{0.000000,0.000000,0.000000}%\n",
       "\\pgfsetstrokecolor{currentstroke}%\n",
       "\\pgfsetdash{}{0pt}%\n",
       "\\pgfsys@defobject{currentmarker}{\\pgfqpoint{0.000000in}{-0.027778in}}{\\pgfqpoint{0.000000in}{0.000000in}}{%\n",
       "\\pgfpathmoveto{\\pgfqpoint{0.000000in}{0.000000in}}%\n",
       "\\pgfpathlineto{\\pgfqpoint{0.000000in}{-0.027778in}}%\n",
       "\\pgfusepath{stroke,fill}%\n",
       "}%\n",
       "\\begin{pgfscope}%\n",
       "\\pgfsys@transformshift{1.827291in}{0.331635in}%\n",
       "\\pgfsys@useobject{currentmarker}{}%\n",
       "\\end{pgfscope}%\n",
       "\\end{pgfscope}%\n",
       "\\begin{pgfscope}%\n",
       "\\pgfsetbuttcap%\n",
       "\\pgfsetroundjoin%\n",
       "\\definecolor{currentfill}{rgb}{0.000000,0.000000,0.000000}%\n",
       "\\pgfsetfillcolor{currentfill}%\n",
       "\\pgfsetlinewidth{0.602250pt}%\n",
       "\\definecolor{currentstroke}{rgb}{0.000000,0.000000,0.000000}%\n",
       "\\pgfsetstrokecolor{currentstroke}%\n",
       "\\pgfsetdash{}{0pt}%\n",
       "\\pgfsys@defobject{currentmarker}{\\pgfqpoint{0.000000in}{-0.027778in}}{\\pgfqpoint{0.000000in}{0.000000in}}{%\n",
       "\\pgfpathmoveto{\\pgfqpoint{0.000000in}{0.000000in}}%\n",
       "\\pgfpathlineto{\\pgfqpoint{0.000000in}{-0.027778in}}%\n",
       "\\pgfusepath{stroke,fill}%\n",
       "}%\n",
       "\\begin{pgfscope}%\n",
       "\\pgfsys@transformshift{2.109129in}{0.331635in}%\n",
       "\\pgfsys@useobject{currentmarker}{}%\n",
       "\\end{pgfscope}%\n",
       "\\end{pgfscope}%\n",
       "\\begin{pgfscope}%\n",
       "\\pgfsetbuttcap%\n",
       "\\pgfsetroundjoin%\n",
       "\\definecolor{currentfill}{rgb}{0.000000,0.000000,0.000000}%\n",
       "\\pgfsetfillcolor{currentfill}%\n",
       "\\pgfsetlinewidth{0.602250pt}%\n",
       "\\definecolor{currentstroke}{rgb}{0.000000,0.000000,0.000000}%\n",
       "\\pgfsetstrokecolor{currentstroke}%\n",
       "\\pgfsetdash{}{0pt}%\n",
       "\\pgfsys@defobject{currentmarker}{\\pgfqpoint{0.000000in}{-0.027778in}}{\\pgfqpoint{0.000000in}{0.000000in}}{%\n",
       "\\pgfpathmoveto{\\pgfqpoint{0.000000in}{0.000000in}}%\n",
       "\\pgfpathlineto{\\pgfqpoint{0.000000in}{-0.027778in}}%\n",
       "\\pgfusepath{stroke,fill}%\n",
       "}%\n",
       "\\begin{pgfscope}%\n",
       "\\pgfsys@transformshift{2.390967in}{0.331635in}%\n",
       "\\pgfsys@useobject{currentmarker}{}%\n",
       "\\end{pgfscope}%\n",
       "\\end{pgfscope}%\n",
       "\\begin{pgfscope}%\n",
       "\\pgfsetbuttcap%\n",
       "\\pgfsetroundjoin%\n",
       "\\definecolor{currentfill}{rgb}{0.000000,0.000000,0.000000}%\n",
       "\\pgfsetfillcolor{currentfill}%\n",
       "\\pgfsetlinewidth{0.602250pt}%\n",
       "\\definecolor{currentstroke}{rgb}{0.000000,0.000000,0.000000}%\n",
       "\\pgfsetstrokecolor{currentstroke}%\n",
       "\\pgfsetdash{}{0pt}%\n",
       "\\pgfsys@defobject{currentmarker}{\\pgfqpoint{0.000000in}{-0.027778in}}{\\pgfqpoint{0.000000in}{0.000000in}}{%\n",
       "\\pgfpathmoveto{\\pgfqpoint{0.000000in}{0.000000in}}%\n",
       "\\pgfpathlineto{\\pgfqpoint{0.000000in}{-0.027778in}}%\n",
       "\\pgfusepath{stroke,fill}%\n",
       "}%\n",
       "\\begin{pgfscope}%\n",
       "\\pgfsys@transformshift{2.954643in}{0.331635in}%\n",
       "\\pgfsys@useobject{currentmarker}{}%\n",
       "\\end{pgfscope}%\n",
       "\\end{pgfscope}%\n",
       "\\begin{pgfscope}%\n",
       "\\pgfsetbuttcap%\n",
       "\\pgfsetroundjoin%\n",
       "\\definecolor{currentfill}{rgb}{0.000000,0.000000,0.000000}%\n",
       "\\pgfsetfillcolor{currentfill}%\n",
       "\\pgfsetlinewidth{0.602250pt}%\n",
       "\\definecolor{currentstroke}{rgb}{0.000000,0.000000,0.000000}%\n",
       "\\pgfsetstrokecolor{currentstroke}%\n",
       "\\pgfsetdash{}{0pt}%\n",
       "\\pgfsys@defobject{currentmarker}{\\pgfqpoint{0.000000in}{-0.027778in}}{\\pgfqpoint{0.000000in}{0.000000in}}{%\n",
       "\\pgfpathmoveto{\\pgfqpoint{0.000000in}{0.000000in}}%\n",
       "\\pgfpathlineto{\\pgfqpoint{0.000000in}{-0.027778in}}%\n",
       "\\pgfusepath{stroke,fill}%\n",
       "}%\n",
       "\\begin{pgfscope}%\n",
       "\\pgfsys@transformshift{3.236480in}{0.331635in}%\n",
       "\\pgfsys@useobject{currentmarker}{}%\n",
       "\\end{pgfscope}%\n",
       "\\end{pgfscope}%\n",
       "\\begin{pgfscope}%\n",
       "\\pgfsetbuttcap%\n",
       "\\pgfsetroundjoin%\n",
       "\\definecolor{currentfill}{rgb}{0.000000,0.000000,0.000000}%\n",
       "\\pgfsetfillcolor{currentfill}%\n",
       "\\pgfsetlinewidth{0.602250pt}%\n",
       "\\definecolor{currentstroke}{rgb}{0.000000,0.000000,0.000000}%\n",
       "\\pgfsetstrokecolor{currentstroke}%\n",
       "\\pgfsetdash{}{0pt}%\n",
       "\\pgfsys@defobject{currentmarker}{\\pgfqpoint{0.000000in}{-0.027778in}}{\\pgfqpoint{0.000000in}{0.000000in}}{%\n",
       "\\pgfpathmoveto{\\pgfqpoint{0.000000in}{0.000000in}}%\n",
       "\\pgfpathlineto{\\pgfqpoint{0.000000in}{-0.027778in}}%\n",
       "\\pgfusepath{stroke,fill}%\n",
       "}%\n",
       "\\begin{pgfscope}%\n",
       "\\pgfsys@transformshift{3.518318in}{0.331635in}%\n",
       "\\pgfsys@useobject{currentmarker}{}%\n",
       "\\end{pgfscope}%\n",
       "\\end{pgfscope}%\n",
       "\\begin{pgfscope}%\n",
       "\\pgfsetbuttcap%\n",
       "\\pgfsetroundjoin%\n",
       "\\definecolor{currentfill}{rgb}{0.000000,0.000000,0.000000}%\n",
       "\\pgfsetfillcolor{currentfill}%\n",
       "\\pgfsetlinewidth{0.602250pt}%\n",
       "\\definecolor{currentstroke}{rgb}{0.000000,0.000000,0.000000}%\n",
       "\\pgfsetstrokecolor{currentstroke}%\n",
       "\\pgfsetdash{}{0pt}%\n",
       "\\pgfsys@defobject{currentmarker}{\\pgfqpoint{0.000000in}{-0.027778in}}{\\pgfqpoint{0.000000in}{0.000000in}}{%\n",
       "\\pgfpathmoveto{\\pgfqpoint{0.000000in}{0.000000in}}%\n",
       "\\pgfpathlineto{\\pgfqpoint{0.000000in}{-0.027778in}}%\n",
       "\\pgfusepath{stroke,fill}%\n",
       "}%\n",
       "\\begin{pgfscope}%\n",
       "\\pgfsys@transformshift{4.081994in}{0.331635in}%\n",
       "\\pgfsys@useobject{currentmarker}{}%\n",
       "\\end{pgfscope}%\n",
       "\\end{pgfscope}%\n",
       "\\begin{pgfscope}%\n",
       "\\pgfsetbuttcap%\n",
       "\\pgfsetroundjoin%\n",
       "\\definecolor{currentfill}{rgb}{0.000000,0.000000,0.000000}%\n",
       "\\pgfsetfillcolor{currentfill}%\n",
       "\\pgfsetlinewidth{0.602250pt}%\n",
       "\\definecolor{currentstroke}{rgb}{0.000000,0.000000,0.000000}%\n",
       "\\pgfsetstrokecolor{currentstroke}%\n",
       "\\pgfsetdash{}{0pt}%\n",
       "\\pgfsys@defobject{currentmarker}{\\pgfqpoint{0.000000in}{-0.027778in}}{\\pgfqpoint{0.000000in}{0.000000in}}{%\n",
       "\\pgfpathmoveto{\\pgfqpoint{0.000000in}{0.000000in}}%\n",
       "\\pgfpathlineto{\\pgfqpoint{0.000000in}{-0.027778in}}%\n",
       "\\pgfusepath{stroke,fill}%\n",
       "}%\n",
       "\\begin{pgfscope}%\n",
       "\\pgfsys@transformshift{4.363832in}{0.331635in}%\n",
       "\\pgfsys@useobject{currentmarker}{}%\n",
       "\\end{pgfscope}%\n",
       "\\end{pgfscope}%\n",
       "\\begin{pgfscope}%\n",
       "\\pgfsetbuttcap%\n",
       "\\pgfsetroundjoin%\n",
       "\\definecolor{currentfill}{rgb}{0.000000,0.000000,0.000000}%\n",
       "\\pgfsetfillcolor{currentfill}%\n",
       "\\pgfsetlinewidth{0.602250pt}%\n",
       "\\definecolor{currentstroke}{rgb}{0.000000,0.000000,0.000000}%\n",
       "\\pgfsetstrokecolor{currentstroke}%\n",
       "\\pgfsetdash{}{0pt}%\n",
       "\\pgfsys@defobject{currentmarker}{\\pgfqpoint{0.000000in}{-0.027778in}}{\\pgfqpoint{0.000000in}{0.000000in}}{%\n",
       "\\pgfpathmoveto{\\pgfqpoint{0.000000in}{0.000000in}}%\n",
       "\\pgfpathlineto{\\pgfqpoint{0.000000in}{-0.027778in}}%\n",
       "\\pgfusepath{stroke,fill}%\n",
       "}%\n",
       "\\begin{pgfscope}%\n",
       "\\pgfsys@transformshift{4.645670in}{0.331635in}%\n",
       "\\pgfsys@useobject{currentmarker}{}%\n",
       "\\end{pgfscope}%\n",
       "\\end{pgfscope}%\n",
       "\\begin{pgfscope}%\n",
       "\\pgfsetbuttcap%\n",
       "\\pgfsetroundjoin%\n",
       "\\definecolor{currentfill}{rgb}{0.000000,0.000000,0.000000}%\n",
       "\\pgfsetfillcolor{currentfill}%\n",
       "\\pgfsetlinewidth{0.602250pt}%\n",
       "\\definecolor{currentstroke}{rgb}{0.000000,0.000000,0.000000}%\n",
       "\\pgfsetstrokecolor{currentstroke}%\n",
       "\\pgfsetdash{}{0pt}%\n",
       "\\pgfsys@defobject{currentmarker}{\\pgfqpoint{0.000000in}{-0.027778in}}{\\pgfqpoint{0.000000in}{0.000000in}}{%\n",
       "\\pgfpathmoveto{\\pgfqpoint{0.000000in}{0.000000in}}%\n",
       "\\pgfpathlineto{\\pgfqpoint{0.000000in}{-0.027778in}}%\n",
       "\\pgfusepath{stroke,fill}%\n",
       "}%\n",
       "\\begin{pgfscope}%\n",
       "\\pgfsys@transformshift{5.209346in}{0.331635in}%\n",
       "\\pgfsys@useobject{currentmarker}{}%\n",
       "\\end{pgfscope}%\n",
       "\\end{pgfscope}%\n",
       "\\begin{pgfscope}%\n",
       "\\pgfsetbuttcap%\n",
       "\\pgfsetroundjoin%\n",
       "\\definecolor{currentfill}{rgb}{0.000000,0.000000,0.000000}%\n",
       "\\pgfsetfillcolor{currentfill}%\n",
       "\\pgfsetlinewidth{0.602250pt}%\n",
       "\\definecolor{currentstroke}{rgb}{0.000000,0.000000,0.000000}%\n",
       "\\pgfsetstrokecolor{currentstroke}%\n",
       "\\pgfsetdash{}{0pt}%\n",
       "\\pgfsys@defobject{currentmarker}{\\pgfqpoint{0.000000in}{-0.027778in}}{\\pgfqpoint{0.000000in}{0.000000in}}{%\n",
       "\\pgfpathmoveto{\\pgfqpoint{0.000000in}{0.000000in}}%\n",
       "\\pgfpathlineto{\\pgfqpoint{0.000000in}{-0.027778in}}%\n",
       "\\pgfusepath{stroke,fill}%\n",
       "}%\n",
       "\\begin{pgfscope}%\n",
       "\\pgfsys@transformshift{5.491183in}{0.331635in}%\n",
       "\\pgfsys@useobject{currentmarker}{}%\n",
       "\\end{pgfscope}%\n",
       "\\end{pgfscope}%\n",
       "\\begin{pgfscope}%\n",
       "\\pgfsetbuttcap%\n",
       "\\pgfsetroundjoin%\n",
       "\\definecolor{currentfill}{rgb}{0.000000,0.000000,0.000000}%\n",
       "\\pgfsetfillcolor{currentfill}%\n",
       "\\pgfsetlinewidth{0.602250pt}%\n",
       "\\definecolor{currentstroke}{rgb}{0.000000,0.000000,0.000000}%\n",
       "\\pgfsetstrokecolor{currentstroke}%\n",
       "\\pgfsetdash{}{0pt}%\n",
       "\\pgfsys@defobject{currentmarker}{\\pgfqpoint{0.000000in}{-0.027778in}}{\\pgfqpoint{0.000000in}{0.000000in}}{%\n",
       "\\pgfpathmoveto{\\pgfqpoint{0.000000in}{0.000000in}}%\n",
       "\\pgfpathlineto{\\pgfqpoint{0.000000in}{-0.027778in}}%\n",
       "\\pgfusepath{stroke,fill}%\n",
       "}%\n",
       "\\begin{pgfscope}%\n",
       "\\pgfsys@transformshift{5.773021in}{0.331635in}%\n",
       "\\pgfsys@useobject{currentmarker}{}%\n",
       "\\end{pgfscope}%\n",
       "\\end{pgfscope}%\n",
       "\\begin{pgfscope}%\n",
       "\\pgfsetbuttcap%\n",
       "\\pgfsetroundjoin%\n",
       "\\definecolor{currentfill}{rgb}{0.000000,0.000000,0.000000}%\n",
       "\\pgfsetfillcolor{currentfill}%\n",
       "\\pgfsetlinewidth{0.803000pt}%\n",
       "\\definecolor{currentstroke}{rgb}{0.000000,0.000000,0.000000}%\n",
       "\\pgfsetstrokecolor{currentstroke}%\n",
       "\\pgfsetdash{}{0pt}%\n",
       "\\pgfsys@defobject{currentmarker}{\\pgfqpoint{-0.048611in}{0.000000in}}{\\pgfqpoint{-0.000000in}{0.000000in}}{%\n",
       "\\pgfpathmoveto{\\pgfqpoint{-0.000000in}{0.000000in}}%\n",
       "\\pgfpathlineto{\\pgfqpoint{-0.048611in}{0.000000in}}%\n",
       "\\pgfusepath{stroke,fill}%\n",
       "}%\n",
       "\\begin{pgfscope}%\n",
       "\\pgfsys@transformshift{0.418102in}{0.331635in}%\n",
       "\\pgfsys@useobject{currentmarker}{}%\n",
       "\\end{pgfscope}%\n",
       "\\end{pgfscope}%\n",
       "\\begin{pgfscope}%\n",
       "\\pgfsetbuttcap%\n",
       "\\pgfsetroundjoin%\n",
       "\\definecolor{currentfill}{rgb}{0.000000,0.000000,0.000000}%\n",
       "\\pgfsetfillcolor{currentfill}%\n",
       "\\pgfsetlinewidth{0.803000pt}%\n",
       "\\definecolor{currentstroke}{rgb}{0.000000,0.000000,0.000000}%\n",
       "\\pgfsetstrokecolor{currentstroke}%\n",
       "\\pgfsetdash{}{0pt}%\n",
       "\\pgfsys@defobject{currentmarker}{\\pgfqpoint{-0.048611in}{0.000000in}}{\\pgfqpoint{-0.000000in}{0.000000in}}{%\n",
       "\\pgfpathmoveto{\\pgfqpoint{-0.000000in}{0.000000in}}%\n",
       "\\pgfpathlineto{\\pgfqpoint{-0.048611in}{0.000000in}}%\n",
       "\\pgfusepath{stroke,fill}%\n",
       "}%\n",
       "\\begin{pgfscope}%\n",
       "\\pgfsys@transformshift{0.418102in}{1.166143in}%\n",
       "\\pgfsys@useobject{currentmarker}{}%\n",
       "\\end{pgfscope}%\n",
       "\\end{pgfscope}%\n",
       "\\begin{pgfscope}%\n",
       "\\definecolor{textcolor}{rgb}{0.000000,0.000000,0.000000}%\n",
       "\\pgfsetstrokecolor{textcolor}%\n",
       "\\pgfsetfillcolor{textcolor}%\n",
       "\\pgftext[x=0.100000in, y=1.113382in, left, base]{\\color{textcolor}{\\sffamily\\fontsize{10.000000}{12.000000}\\selectfont\\catcode`\\^=\\active\\def^{\\ifmmode\\sp\\else\\^{}\\fi}\\catcode`\\%=\\active\\def%{\\%}0.2}}%\n",
       "\\end{pgfscope}%\n",
       "\\begin{pgfscope}%\n",
       "\\pgfsetbuttcap%\n",
       "\\pgfsetroundjoin%\n",
       "\\definecolor{currentfill}{rgb}{0.000000,0.000000,0.000000}%\n",
       "\\pgfsetfillcolor{currentfill}%\n",
       "\\pgfsetlinewidth{0.803000pt}%\n",
       "\\definecolor{currentstroke}{rgb}{0.000000,0.000000,0.000000}%\n",
       "\\pgfsetstrokecolor{currentstroke}%\n",
       "\\pgfsetdash{}{0pt}%\n",
       "\\pgfsys@defobject{currentmarker}{\\pgfqpoint{-0.048611in}{0.000000in}}{\\pgfqpoint{-0.000000in}{0.000000in}}{%\n",
       "\\pgfpathmoveto{\\pgfqpoint{-0.000000in}{0.000000in}}%\n",
       "\\pgfpathlineto{\\pgfqpoint{-0.048611in}{0.000000in}}%\n",
       "\\pgfusepath{stroke,fill}%\n",
       "}%\n",
       "\\begin{pgfscope}%\n",
       "\\pgfsys@transformshift{0.418102in}{2.000651in}%\n",
       "\\pgfsys@useobject{currentmarker}{}%\n",
       "\\end{pgfscope}%\n",
       "\\end{pgfscope}%\n",
       "\\begin{pgfscope}%\n",
       "\\definecolor{textcolor}{rgb}{0.000000,0.000000,0.000000}%\n",
       "\\pgfsetstrokecolor{textcolor}%\n",
       "\\pgfsetfillcolor{textcolor}%\n",
       "\\pgftext[x=0.100000in, y=1.947890in, left, base]{\\color{textcolor}{\\sffamily\\fontsize{10.000000}{12.000000}\\selectfont\\catcode`\\^=\\active\\def^{\\ifmmode\\sp\\else\\^{}\\fi}\\catcode`\\%=\\active\\def%{\\%}0.4}}%\n",
       "\\end{pgfscope}%\n",
       "\\begin{pgfscope}%\n",
       "\\pgfsetbuttcap%\n",
       "\\pgfsetroundjoin%\n",
       "\\definecolor{currentfill}{rgb}{0.000000,0.000000,0.000000}%\n",
       "\\pgfsetfillcolor{currentfill}%\n",
       "\\pgfsetlinewidth{0.803000pt}%\n",
       "\\definecolor{currentstroke}{rgb}{0.000000,0.000000,0.000000}%\n",
       "\\pgfsetstrokecolor{currentstroke}%\n",
       "\\pgfsetdash{}{0pt}%\n",
       "\\pgfsys@defobject{currentmarker}{\\pgfqpoint{-0.048611in}{0.000000in}}{\\pgfqpoint{-0.000000in}{0.000000in}}{%\n",
       "\\pgfpathmoveto{\\pgfqpoint{-0.000000in}{0.000000in}}%\n",
       "\\pgfpathlineto{\\pgfqpoint{-0.048611in}{0.000000in}}%\n",
       "\\pgfusepath{stroke,fill}%\n",
       "}%\n",
       "\\begin{pgfscope}%\n",
       "\\pgfsys@transformshift{0.418102in}{2.835159in}%\n",
       "\\pgfsys@useobject{currentmarker}{}%\n",
       "\\end{pgfscope}%\n",
       "\\end{pgfscope}%\n",
       "\\begin{pgfscope}%\n",
       "\\definecolor{textcolor}{rgb}{0.000000,0.000000,0.000000}%\n",
       "\\pgfsetstrokecolor{textcolor}%\n",
       "\\pgfsetfillcolor{textcolor}%\n",
       "\\pgftext[x=0.100000in, y=2.782398in, left, base]{\\color{textcolor}{\\sffamily\\fontsize{10.000000}{12.000000}\\selectfont\\catcode`\\^=\\active\\def^{\\ifmmode\\sp\\else\\^{}\\fi}\\catcode`\\%=\\active\\def%{\\%}0.6}}%\n",
       "\\end{pgfscope}%\n",
       "\\begin{pgfscope}%\n",
       "\\pgfsetbuttcap%\n",
       "\\pgfsetroundjoin%\n",
       "\\definecolor{currentfill}{rgb}{0.000000,0.000000,0.000000}%\n",
       "\\pgfsetfillcolor{currentfill}%\n",
       "\\pgfsetlinewidth{0.803000pt}%\n",
       "\\definecolor{currentstroke}{rgb}{0.000000,0.000000,0.000000}%\n",
       "\\pgfsetstrokecolor{currentstroke}%\n",
       "\\pgfsetdash{}{0pt}%\n",
       "\\pgfsys@defobject{currentmarker}{\\pgfqpoint{-0.048611in}{0.000000in}}{\\pgfqpoint{-0.000000in}{0.000000in}}{%\n",
       "\\pgfpathmoveto{\\pgfqpoint{-0.000000in}{0.000000in}}%\n",
       "\\pgfpathlineto{\\pgfqpoint{-0.048611in}{0.000000in}}%\n",
       "\\pgfusepath{stroke,fill}%\n",
       "}%\n",
       "\\begin{pgfscope}%\n",
       "\\pgfsys@transformshift{0.418102in}{3.669667in}%\n",
       "\\pgfsys@useobject{currentmarker}{}%\n",
       "\\end{pgfscope}%\n",
       "\\end{pgfscope}%\n",
       "\\begin{pgfscope}%\n",
       "\\definecolor{textcolor}{rgb}{0.000000,0.000000,0.000000}%\n",
       "\\pgfsetstrokecolor{textcolor}%\n",
       "\\pgfsetfillcolor{textcolor}%\n",
       "\\pgftext[x=0.100000in, y=3.616906in, left, base]{\\color{textcolor}{\\sffamily\\fontsize{10.000000}{12.000000}\\selectfont\\catcode`\\^=\\active\\def^{\\ifmmode\\sp\\else\\^{}\\fi}\\catcode`\\%=\\active\\def%{\\%}0.8}}%\n",
       "\\end{pgfscope}%\n",
       "\\begin{pgfscope}%\n",
       "\\pgfsetbuttcap%\n",
       "\\pgfsetroundjoin%\n",
       "\\definecolor{currentfill}{rgb}{0.000000,0.000000,0.000000}%\n",
       "\\pgfsetfillcolor{currentfill}%\n",
       "\\pgfsetlinewidth{0.803000pt}%\n",
       "\\definecolor{currentstroke}{rgb}{0.000000,0.000000,0.000000}%\n",
       "\\pgfsetstrokecolor{currentstroke}%\n",
       "\\pgfsetdash{}{0pt}%\n",
       "\\pgfsys@defobject{currentmarker}{\\pgfqpoint{-0.048611in}{0.000000in}}{\\pgfqpoint{-0.000000in}{0.000000in}}{%\n",
       "\\pgfpathmoveto{\\pgfqpoint{-0.000000in}{0.000000in}}%\n",
       "\\pgfpathlineto{\\pgfqpoint{-0.048611in}{0.000000in}}%\n",
       "\\pgfusepath{stroke,fill}%\n",
       "}%\n",
       "\\begin{pgfscope}%\n",
       "\\pgfsys@transformshift{0.418102in}{4.504175in}%\n",
       "\\pgfsys@useobject{currentmarker}{}%\n",
       "\\end{pgfscope}%\n",
       "\\end{pgfscope}%\n",
       "\\begin{pgfscope}%\n",
       "\\definecolor{textcolor}{rgb}{0.000000,0.000000,0.000000}%\n",
       "\\pgfsetstrokecolor{textcolor}%\n",
       "\\pgfsetfillcolor{textcolor}%\n",
       "\\pgftext[x=0.100000in, y=4.451414in, left, base]{\\color{textcolor}{\\sffamily\\fontsize{10.000000}{12.000000}\\selectfont\\catcode`\\^=\\active\\def^{\\ifmmode\\sp\\else\\^{}\\fi}\\catcode`\\%=\\active\\def%{\\%}1.0}}%\n",
       "\\end{pgfscope}%\n",
       "\\begin{pgfscope}%\n",
       "\\pgfsetbuttcap%\n",
       "\\pgfsetroundjoin%\n",
       "\\definecolor{currentfill}{rgb}{0.000000,0.000000,0.000000}%\n",
       "\\pgfsetfillcolor{currentfill}%\n",
       "\\pgfsetlinewidth{0.602250pt}%\n",
       "\\definecolor{currentstroke}{rgb}{0.000000,0.000000,0.000000}%\n",
       "\\pgfsetstrokecolor{currentstroke}%\n",
       "\\pgfsetdash{}{0pt}%\n",
       "\\pgfsys@defobject{currentmarker}{\\pgfqpoint{-0.027778in}{0.000000in}}{\\pgfqpoint{-0.000000in}{0.000000in}}{%\n",
       "\\pgfpathmoveto{\\pgfqpoint{-0.000000in}{0.000000in}}%\n",
       "\\pgfpathlineto{\\pgfqpoint{-0.027778in}{0.000000in}}%\n",
       "\\pgfusepath{stroke,fill}%\n",
       "}%\n",
       "\\begin{pgfscope}%\n",
       "\\pgfsys@transformshift{0.418102in}{0.540262in}%\n",
       "\\pgfsys@useobject{currentmarker}{}%\n",
       "\\end{pgfscope}%\n",
       "\\end{pgfscope}%\n",
       "\\begin{pgfscope}%\n",
       "\\pgfsetbuttcap%\n",
       "\\pgfsetroundjoin%\n",
       "\\definecolor{currentfill}{rgb}{0.000000,0.000000,0.000000}%\n",
       "\\pgfsetfillcolor{currentfill}%\n",
       "\\pgfsetlinewidth{0.602250pt}%\n",
       "\\definecolor{currentstroke}{rgb}{0.000000,0.000000,0.000000}%\n",
       "\\pgfsetstrokecolor{currentstroke}%\n",
       "\\pgfsetdash{}{0pt}%\n",
       "\\pgfsys@defobject{currentmarker}{\\pgfqpoint{-0.027778in}{0.000000in}}{\\pgfqpoint{-0.000000in}{0.000000in}}{%\n",
       "\\pgfpathmoveto{\\pgfqpoint{-0.000000in}{0.000000in}}%\n",
       "\\pgfpathlineto{\\pgfqpoint{-0.027778in}{0.000000in}}%\n",
       "\\pgfusepath{stroke,fill}%\n",
       "}%\n",
       "\\begin{pgfscope}%\n",
       "\\pgfsys@transformshift{0.418102in}{0.748889in}%\n",
       "\\pgfsys@useobject{currentmarker}{}%\n",
       "\\end{pgfscope}%\n",
       "\\end{pgfscope}%\n",
       "\\begin{pgfscope}%\n",
       "\\pgfsetbuttcap%\n",
       "\\pgfsetroundjoin%\n",
       "\\definecolor{currentfill}{rgb}{0.000000,0.000000,0.000000}%\n",
       "\\pgfsetfillcolor{currentfill}%\n",
       "\\pgfsetlinewidth{0.602250pt}%\n",
       "\\definecolor{currentstroke}{rgb}{0.000000,0.000000,0.000000}%\n",
       "\\pgfsetstrokecolor{currentstroke}%\n",
       "\\pgfsetdash{}{0pt}%\n",
       "\\pgfsys@defobject{currentmarker}{\\pgfqpoint{-0.027778in}{0.000000in}}{\\pgfqpoint{-0.000000in}{0.000000in}}{%\n",
       "\\pgfpathmoveto{\\pgfqpoint{-0.000000in}{0.000000in}}%\n",
       "\\pgfpathlineto{\\pgfqpoint{-0.027778in}{0.000000in}}%\n",
       "\\pgfusepath{stroke,fill}%\n",
       "}%\n",
       "\\begin{pgfscope}%\n",
       "\\pgfsys@transformshift{0.418102in}{0.957516in}%\n",
       "\\pgfsys@useobject{currentmarker}{}%\n",
       "\\end{pgfscope}%\n",
       "\\end{pgfscope}%\n",
       "\\begin{pgfscope}%\n",
       "\\pgfsetbuttcap%\n",
       "\\pgfsetroundjoin%\n",
       "\\definecolor{currentfill}{rgb}{0.000000,0.000000,0.000000}%\n",
       "\\pgfsetfillcolor{currentfill}%\n",
       "\\pgfsetlinewidth{0.602250pt}%\n",
       "\\definecolor{currentstroke}{rgb}{0.000000,0.000000,0.000000}%\n",
       "\\pgfsetstrokecolor{currentstroke}%\n",
       "\\pgfsetdash{}{0pt}%\n",
       "\\pgfsys@defobject{currentmarker}{\\pgfqpoint{-0.027778in}{0.000000in}}{\\pgfqpoint{-0.000000in}{0.000000in}}{%\n",
       "\\pgfpathmoveto{\\pgfqpoint{-0.000000in}{0.000000in}}%\n",
       "\\pgfpathlineto{\\pgfqpoint{-0.027778in}{0.000000in}}%\n",
       "\\pgfusepath{stroke,fill}%\n",
       "}%\n",
       "\\begin{pgfscope}%\n",
       "\\pgfsys@transformshift{0.418102in}{1.374770in}%\n",
       "\\pgfsys@useobject{currentmarker}{}%\n",
       "\\end{pgfscope}%\n",
       "\\end{pgfscope}%\n",
       "\\begin{pgfscope}%\n",
       "\\pgfsetbuttcap%\n",
       "\\pgfsetroundjoin%\n",
       "\\definecolor{currentfill}{rgb}{0.000000,0.000000,0.000000}%\n",
       "\\pgfsetfillcolor{currentfill}%\n",
       "\\pgfsetlinewidth{0.602250pt}%\n",
       "\\definecolor{currentstroke}{rgb}{0.000000,0.000000,0.000000}%\n",
       "\\pgfsetstrokecolor{currentstroke}%\n",
       "\\pgfsetdash{}{0pt}%\n",
       "\\pgfsys@defobject{currentmarker}{\\pgfqpoint{-0.027778in}{0.000000in}}{\\pgfqpoint{-0.000000in}{0.000000in}}{%\n",
       "\\pgfpathmoveto{\\pgfqpoint{-0.000000in}{0.000000in}}%\n",
       "\\pgfpathlineto{\\pgfqpoint{-0.027778in}{0.000000in}}%\n",
       "\\pgfusepath{stroke,fill}%\n",
       "}%\n",
       "\\begin{pgfscope}%\n",
       "\\pgfsys@transformshift{0.418102in}{1.583397in}%\n",
       "\\pgfsys@useobject{currentmarker}{}%\n",
       "\\end{pgfscope}%\n",
       "\\end{pgfscope}%\n",
       "\\begin{pgfscope}%\n",
       "\\pgfsetbuttcap%\n",
       "\\pgfsetroundjoin%\n",
       "\\definecolor{currentfill}{rgb}{0.000000,0.000000,0.000000}%\n",
       "\\pgfsetfillcolor{currentfill}%\n",
       "\\pgfsetlinewidth{0.602250pt}%\n",
       "\\definecolor{currentstroke}{rgb}{0.000000,0.000000,0.000000}%\n",
       "\\pgfsetstrokecolor{currentstroke}%\n",
       "\\pgfsetdash{}{0pt}%\n",
       "\\pgfsys@defobject{currentmarker}{\\pgfqpoint{-0.027778in}{0.000000in}}{\\pgfqpoint{-0.000000in}{0.000000in}}{%\n",
       "\\pgfpathmoveto{\\pgfqpoint{-0.000000in}{0.000000in}}%\n",
       "\\pgfpathlineto{\\pgfqpoint{-0.027778in}{0.000000in}}%\n",
       "\\pgfusepath{stroke,fill}%\n",
       "}%\n",
       "\\begin{pgfscope}%\n",
       "\\pgfsys@transformshift{0.418102in}{1.792024in}%\n",
       "\\pgfsys@useobject{currentmarker}{}%\n",
       "\\end{pgfscope}%\n",
       "\\end{pgfscope}%\n",
       "\\begin{pgfscope}%\n",
       "\\pgfsetbuttcap%\n",
       "\\pgfsetroundjoin%\n",
       "\\definecolor{currentfill}{rgb}{0.000000,0.000000,0.000000}%\n",
       "\\pgfsetfillcolor{currentfill}%\n",
       "\\pgfsetlinewidth{0.602250pt}%\n",
       "\\definecolor{currentstroke}{rgb}{0.000000,0.000000,0.000000}%\n",
       "\\pgfsetstrokecolor{currentstroke}%\n",
       "\\pgfsetdash{}{0pt}%\n",
       "\\pgfsys@defobject{currentmarker}{\\pgfqpoint{-0.027778in}{0.000000in}}{\\pgfqpoint{-0.000000in}{0.000000in}}{%\n",
       "\\pgfpathmoveto{\\pgfqpoint{-0.000000in}{0.000000in}}%\n",
       "\\pgfpathlineto{\\pgfqpoint{-0.027778in}{0.000000in}}%\n",
       "\\pgfusepath{stroke,fill}%\n",
       "}%\n",
       "\\begin{pgfscope}%\n",
       "\\pgfsys@transformshift{0.418102in}{2.209278in}%\n",
       "\\pgfsys@useobject{currentmarker}{}%\n",
       "\\end{pgfscope}%\n",
       "\\end{pgfscope}%\n",
       "\\begin{pgfscope}%\n",
       "\\pgfsetbuttcap%\n",
       "\\pgfsetroundjoin%\n",
       "\\definecolor{currentfill}{rgb}{0.000000,0.000000,0.000000}%\n",
       "\\pgfsetfillcolor{currentfill}%\n",
       "\\pgfsetlinewidth{0.602250pt}%\n",
       "\\definecolor{currentstroke}{rgb}{0.000000,0.000000,0.000000}%\n",
       "\\pgfsetstrokecolor{currentstroke}%\n",
       "\\pgfsetdash{}{0pt}%\n",
       "\\pgfsys@defobject{currentmarker}{\\pgfqpoint{-0.027778in}{0.000000in}}{\\pgfqpoint{-0.000000in}{0.000000in}}{%\n",
       "\\pgfpathmoveto{\\pgfqpoint{-0.000000in}{0.000000in}}%\n",
       "\\pgfpathlineto{\\pgfqpoint{-0.027778in}{0.000000in}}%\n",
       "\\pgfusepath{stroke,fill}%\n",
       "}%\n",
       "\\begin{pgfscope}%\n",
       "\\pgfsys@transformshift{0.418102in}{2.417905in}%\n",
       "\\pgfsys@useobject{currentmarker}{}%\n",
       "\\end{pgfscope}%\n",
       "\\end{pgfscope}%\n",
       "\\begin{pgfscope}%\n",
       "\\pgfsetbuttcap%\n",
       "\\pgfsetroundjoin%\n",
       "\\definecolor{currentfill}{rgb}{0.000000,0.000000,0.000000}%\n",
       "\\pgfsetfillcolor{currentfill}%\n",
       "\\pgfsetlinewidth{0.602250pt}%\n",
       "\\definecolor{currentstroke}{rgb}{0.000000,0.000000,0.000000}%\n",
       "\\pgfsetstrokecolor{currentstroke}%\n",
       "\\pgfsetdash{}{0pt}%\n",
       "\\pgfsys@defobject{currentmarker}{\\pgfqpoint{-0.027778in}{0.000000in}}{\\pgfqpoint{-0.000000in}{0.000000in}}{%\n",
       "\\pgfpathmoveto{\\pgfqpoint{-0.000000in}{0.000000in}}%\n",
       "\\pgfpathlineto{\\pgfqpoint{-0.027778in}{0.000000in}}%\n",
       "\\pgfusepath{stroke,fill}%\n",
       "}%\n",
       "\\begin{pgfscope}%\n",
       "\\pgfsys@transformshift{0.418102in}{2.626532in}%\n",
       "\\pgfsys@useobject{currentmarker}{}%\n",
       "\\end{pgfscope}%\n",
       "\\end{pgfscope}%\n",
       "\\begin{pgfscope}%\n",
       "\\pgfsetbuttcap%\n",
       "\\pgfsetroundjoin%\n",
       "\\definecolor{currentfill}{rgb}{0.000000,0.000000,0.000000}%\n",
       "\\pgfsetfillcolor{currentfill}%\n",
       "\\pgfsetlinewidth{0.602250pt}%\n",
       "\\definecolor{currentstroke}{rgb}{0.000000,0.000000,0.000000}%\n",
       "\\pgfsetstrokecolor{currentstroke}%\n",
       "\\pgfsetdash{}{0pt}%\n",
       "\\pgfsys@defobject{currentmarker}{\\pgfqpoint{-0.027778in}{0.000000in}}{\\pgfqpoint{-0.000000in}{0.000000in}}{%\n",
       "\\pgfpathmoveto{\\pgfqpoint{-0.000000in}{0.000000in}}%\n",
       "\\pgfpathlineto{\\pgfqpoint{-0.027778in}{0.000000in}}%\n",
       "\\pgfusepath{stroke,fill}%\n",
       "}%\n",
       "\\begin{pgfscope}%\n",
       "\\pgfsys@transformshift{0.418102in}{3.043786in}%\n",
       "\\pgfsys@useobject{currentmarker}{}%\n",
       "\\end{pgfscope}%\n",
       "\\end{pgfscope}%\n",
       "\\begin{pgfscope}%\n",
       "\\pgfsetbuttcap%\n",
       "\\pgfsetroundjoin%\n",
       "\\definecolor{currentfill}{rgb}{0.000000,0.000000,0.000000}%\n",
       "\\pgfsetfillcolor{currentfill}%\n",
       "\\pgfsetlinewidth{0.602250pt}%\n",
       "\\definecolor{currentstroke}{rgb}{0.000000,0.000000,0.000000}%\n",
       "\\pgfsetstrokecolor{currentstroke}%\n",
       "\\pgfsetdash{}{0pt}%\n",
       "\\pgfsys@defobject{currentmarker}{\\pgfqpoint{-0.027778in}{0.000000in}}{\\pgfqpoint{-0.000000in}{0.000000in}}{%\n",
       "\\pgfpathmoveto{\\pgfqpoint{-0.000000in}{0.000000in}}%\n",
       "\\pgfpathlineto{\\pgfqpoint{-0.027778in}{0.000000in}}%\n",
       "\\pgfusepath{stroke,fill}%\n",
       "}%\n",
       "\\begin{pgfscope}%\n",
       "\\pgfsys@transformshift{0.418102in}{3.252413in}%\n",
       "\\pgfsys@useobject{currentmarker}{}%\n",
       "\\end{pgfscope}%\n",
       "\\end{pgfscope}%\n",
       "\\begin{pgfscope}%\n",
       "\\pgfsetbuttcap%\n",
       "\\pgfsetroundjoin%\n",
       "\\definecolor{currentfill}{rgb}{0.000000,0.000000,0.000000}%\n",
       "\\pgfsetfillcolor{currentfill}%\n",
       "\\pgfsetlinewidth{0.602250pt}%\n",
       "\\definecolor{currentstroke}{rgb}{0.000000,0.000000,0.000000}%\n",
       "\\pgfsetstrokecolor{currentstroke}%\n",
       "\\pgfsetdash{}{0pt}%\n",
       "\\pgfsys@defobject{currentmarker}{\\pgfqpoint{-0.027778in}{0.000000in}}{\\pgfqpoint{-0.000000in}{0.000000in}}{%\n",
       "\\pgfpathmoveto{\\pgfqpoint{-0.000000in}{0.000000in}}%\n",
       "\\pgfpathlineto{\\pgfqpoint{-0.027778in}{0.000000in}}%\n",
       "\\pgfusepath{stroke,fill}%\n",
       "}%\n",
       "\\begin{pgfscope}%\n",
       "\\pgfsys@transformshift{0.418102in}{3.461040in}%\n",
       "\\pgfsys@useobject{currentmarker}{}%\n",
       "\\end{pgfscope}%\n",
       "\\end{pgfscope}%\n",
       "\\begin{pgfscope}%\n",
       "\\pgfsetbuttcap%\n",
       "\\pgfsetroundjoin%\n",
       "\\definecolor{currentfill}{rgb}{0.000000,0.000000,0.000000}%\n",
       "\\pgfsetfillcolor{currentfill}%\n",
       "\\pgfsetlinewidth{0.602250pt}%\n",
       "\\definecolor{currentstroke}{rgb}{0.000000,0.000000,0.000000}%\n",
       "\\pgfsetstrokecolor{currentstroke}%\n",
       "\\pgfsetdash{}{0pt}%\n",
       "\\pgfsys@defobject{currentmarker}{\\pgfqpoint{-0.027778in}{0.000000in}}{\\pgfqpoint{-0.000000in}{0.000000in}}{%\n",
       "\\pgfpathmoveto{\\pgfqpoint{-0.000000in}{0.000000in}}%\n",
       "\\pgfpathlineto{\\pgfqpoint{-0.027778in}{0.000000in}}%\n",
       "\\pgfusepath{stroke,fill}%\n",
       "}%\n",
       "\\begin{pgfscope}%\n",
       "\\pgfsys@transformshift{0.418102in}{3.878294in}%\n",
       "\\pgfsys@useobject{currentmarker}{}%\n",
       "\\end{pgfscope}%\n",
       "\\end{pgfscope}%\n",
       "\\begin{pgfscope}%\n",
       "\\pgfsetbuttcap%\n",
       "\\pgfsetroundjoin%\n",
       "\\definecolor{currentfill}{rgb}{0.000000,0.000000,0.000000}%\n",
       "\\pgfsetfillcolor{currentfill}%\n",
       "\\pgfsetlinewidth{0.602250pt}%\n",
       "\\definecolor{currentstroke}{rgb}{0.000000,0.000000,0.000000}%\n",
       "\\pgfsetstrokecolor{currentstroke}%\n",
       "\\pgfsetdash{}{0pt}%\n",
       "\\pgfsys@defobject{currentmarker}{\\pgfqpoint{-0.027778in}{0.000000in}}{\\pgfqpoint{-0.000000in}{0.000000in}}{%\n",
       "\\pgfpathmoveto{\\pgfqpoint{-0.000000in}{0.000000in}}%\n",
       "\\pgfpathlineto{\\pgfqpoint{-0.027778in}{0.000000in}}%\n",
       "\\pgfusepath{stroke,fill}%\n",
       "}%\n",
       "\\begin{pgfscope}%\n",
       "\\pgfsys@transformshift{0.418102in}{4.086921in}%\n",
       "\\pgfsys@useobject{currentmarker}{}%\n",
       "\\end{pgfscope}%\n",
       "\\end{pgfscope}%\n",
       "\\begin{pgfscope}%\n",
       "\\pgfsetbuttcap%\n",
       "\\pgfsetroundjoin%\n",
       "\\definecolor{currentfill}{rgb}{0.000000,0.000000,0.000000}%\n",
       "\\pgfsetfillcolor{currentfill}%\n",
       "\\pgfsetlinewidth{0.602250pt}%\n",
       "\\definecolor{currentstroke}{rgb}{0.000000,0.000000,0.000000}%\n",
       "\\pgfsetstrokecolor{currentstroke}%\n",
       "\\pgfsetdash{}{0pt}%\n",
       "\\pgfsys@defobject{currentmarker}{\\pgfqpoint{-0.027778in}{0.000000in}}{\\pgfqpoint{-0.000000in}{0.000000in}}{%\n",
       "\\pgfpathmoveto{\\pgfqpoint{-0.000000in}{0.000000in}}%\n",
       "\\pgfpathlineto{\\pgfqpoint{-0.027778in}{0.000000in}}%\n",
       "\\pgfusepath{stroke,fill}%\n",
       "}%\n",
       "\\begin{pgfscope}%\n",
       "\\pgfsys@transformshift{0.418102in}{4.295548in}%\n",
       "\\pgfsys@useobject{currentmarker}{}%\n",
       "\\end{pgfscope}%\n",
       "\\end{pgfscope}%\n",
       "\\begin{pgfscope}%\n",
       "\\pgfpathrectangle{\\pgfqpoint{0.305367in}{0.248184in}}{\\pgfqpoint{5.862228in}{4.339442in}}%\n",
       "\\pgfusepath{clip}%\n",
       "\\pgfsetbuttcap%\n",
       "\\pgfsetroundjoin%\n",
       "\\definecolor{currentfill}{rgb}{0.000000,0.000000,1.000000}%\n",
       "\\pgfsetfillcolor{currentfill}%\n",
       "\\pgfsetlinewidth{0.000000pt}%\n",
       "\\definecolor{currentstroke}{rgb}{0.000000,0.000000,0.000000}%\n",
       "\\pgfsetstrokecolor{currentstroke}%\n",
       "\\pgfsetdash{}{0pt}%\n",
       "\\pgfpathmoveto{\\pgfqpoint{0.418102in}{4.482215in}}%\n",
       "\\pgfpathcurveto{\\pgfqpoint{0.423926in}{4.482215in}}{\\pgfqpoint{0.429512in}{4.484529in}}{\\pgfqpoint{0.433630in}{4.488647in}}%\n",
       "\\pgfpathcurveto{\\pgfqpoint{0.437748in}{4.492765in}}{\\pgfqpoint{0.440062in}{4.498351in}}{\\pgfqpoint{0.440062in}{4.504175in}}%\n",
       "\\pgfpathcurveto{\\pgfqpoint{0.440062in}{4.509999in}}{\\pgfqpoint{0.437748in}{4.515585in}}{\\pgfqpoint{0.433630in}{4.519704in}}%\n",
       "\\pgfpathcurveto{\\pgfqpoint{0.429512in}{4.523822in}}{\\pgfqpoint{0.423926in}{4.526136in}}{\\pgfqpoint{0.418102in}{4.526136in}}%\n",
       "\\pgfpathcurveto{\\pgfqpoint{0.412278in}{4.526136in}}{\\pgfqpoint{0.406692in}{4.523822in}}{\\pgfqpoint{0.402573in}{4.519704in}}%\n",
       "\\pgfpathcurveto{\\pgfqpoint{0.398455in}{4.515585in}}{\\pgfqpoint{0.396141in}{4.509999in}}{\\pgfqpoint{0.396141in}{4.504175in}}%\n",
       "\\pgfpathcurveto{\\pgfqpoint{0.396141in}{4.498351in}}{\\pgfqpoint{0.398455in}{4.492765in}}{\\pgfqpoint{0.402573in}{4.488647in}}%\n",
       "\\pgfpathcurveto{\\pgfqpoint{0.406692in}{4.484529in}}{\\pgfqpoint{0.412278in}{4.482215in}}{\\pgfqpoint{0.418102in}{4.482215in}}%\n",
       "\\pgfpathlineto{\\pgfqpoint{0.418102in}{4.482215in}}%\n",
       "\\pgfpathclose%\n",
       "\\pgfusepath{fill}%\n",
       "\\end{pgfscope}%\n",
       "\\begin{pgfscope}%\n",
       "\\pgfpathrectangle{\\pgfqpoint{0.305367in}{0.248184in}}{\\pgfqpoint{5.862228in}{4.339442in}}%\n",
       "\\pgfusepath{clip}%\n",
       "\\pgfsetbuttcap%\n",
       "\\pgfsetroundjoin%\n",
       "\\definecolor{currentfill}{rgb}{0.000000,0.000000,1.000000}%\n",
       "\\pgfsetfillcolor{currentfill}%\n",
       "\\pgfsetlinewidth{0.000000pt}%\n",
       "\\definecolor{currentstroke}{rgb}{0.000000,0.000000,0.000000}%\n",
       "\\pgfsetstrokecolor{currentstroke}%\n",
       "\\pgfsetdash{}{0pt}%\n",
       "\\pgfpathmoveto{\\pgfqpoint{6.054859in}{0.309675in}}%\n",
       "\\pgfpathcurveto{\\pgfqpoint{6.060683in}{0.309675in}}{\\pgfqpoint{6.066269in}{0.311989in}}{\\pgfqpoint{6.070387in}{0.316107in}}%\n",
       "\\pgfpathcurveto{\\pgfqpoint{6.074506in}{0.320225in}}{\\pgfqpoint{6.076819in}{0.325811in}}{\\pgfqpoint{6.076819in}{0.331635in}}%\n",
       "\\pgfpathcurveto{\\pgfqpoint{6.076819in}{0.337459in}}{\\pgfqpoint{6.074506in}{0.343045in}}{\\pgfqpoint{6.070387in}{0.347163in}}%\n",
       "\\pgfpathcurveto{\\pgfqpoint{6.066269in}{0.351281in}}{\\pgfqpoint{6.060683in}{0.353595in}}{\\pgfqpoint{6.054859in}{0.353595in}}%\n",
       "\\pgfpathcurveto{\\pgfqpoint{6.049035in}{0.353595in}}{\\pgfqpoint{6.043449in}{0.351281in}}{\\pgfqpoint{6.039331in}{0.347163in}}%\n",
       "\\pgfpathcurveto{\\pgfqpoint{6.035213in}{0.343045in}}{\\pgfqpoint{6.032899in}{0.337459in}}{\\pgfqpoint{6.032899in}{0.331635in}}%\n",
       "\\pgfpathcurveto{\\pgfqpoint{6.032899in}{0.325811in}}{\\pgfqpoint{6.035213in}{0.320225in}}{\\pgfqpoint{6.039331in}{0.316107in}}%\n",
       "\\pgfpathcurveto{\\pgfqpoint{6.043449in}{0.311989in}}{\\pgfqpoint{6.049035in}{0.309675in}}{\\pgfqpoint{6.054859in}{0.309675in}}%\n",
       "\\pgfpathlineto{\\pgfqpoint{6.054859in}{0.309675in}}%\n",
       "\\pgfpathclose%\n",
       "\\pgfusepath{fill}%\n",
       "\\end{pgfscope}%\n",
       "\\begin{pgfscope}%\n",
       "\\pgfsetrectcap%\n",
       "\\pgfsetmiterjoin%\n",
       "\\pgfsetlinewidth{0.803000pt}%\n",
       "\\definecolor{currentstroke}{rgb}{0.000000,0.000000,0.000000}%\n",
       "\\pgfsetstrokecolor{currentstroke}%\n",
       "\\pgfsetdash{}{0pt}%\n",
       "\\pgfpathmoveto{\\pgfqpoint{0.418102in}{0.248184in}}%\n",
       "\\pgfpathlineto{\\pgfqpoint{0.418102in}{4.587626in}}%\n",
       "\\pgfusepath{stroke}%\n",
       "\\end{pgfscope}%\n",
       "\\begin{pgfscope}%\n",
       "\\pgfsetrectcap%\n",
       "\\pgfsetmiterjoin%\n",
       "\\pgfsetlinewidth{0.803000pt}%\n",
       "\\definecolor{currentstroke}{rgb}{0.000000,0.000000,0.000000}%\n",
       "\\pgfsetstrokecolor{currentstroke}%\n",
       "\\pgfsetdash{}{0pt}%\n",
       "\\pgfpathmoveto{\\pgfqpoint{0.305367in}{0.331635in}}%\n",
       "\\pgfpathlineto{\\pgfqpoint{6.167594in}{0.331635in}}%\n",
       "\\pgfusepath{stroke}%\n",
       "\\end{pgfscope}%\n",
       "\\end{pgfpicture}%\n",
       "\\makeatother%\n",
       "\\endgroup%\n"
      ]
     },
     "execution_count": 74,
     "metadata": {},
     "output_type": "execute_result"
    }
   ],
   "source": [
    "latex(P.plot())"
   ]
  },
  {
   "cell_type": "markdown",
   "id": "81dcd7b6-f5b7-4953-a9e4-e5160f84477a",
   "metadata": {},
   "source": [
    "Notice how complicated this is. So it's not necessarily the best way to go around it, but it definitely is easier than trying to do everything by hand. We'll see where this becomes more useful in the following section.\n",
    "\n",
    "One thing to notice is that this doesn't work once we go into three dimensions:"
   ]
  },
  {
   "cell_type": "code",
   "execution_count": 75,
   "id": "d75a6a0c-b9ab-4ca7-82b9-546075a2a587",
   "metadata": {},
   "outputs": [
    {
     "data": {
      "text/plain": [
       "\\text{\\texttt{Graphics3d{ }Object}}"
      ]
     },
     "execution_count": 75,
     "metadata": {},
     "output_type": "execute_result"
    }
   ],
   "source": [
    "P = Polyhedron([(1,0,0), (0,1,0), (0,0,1)])\n",
    "latex(P.plot())"
   ]
  },
  {
   "cell_type": "markdown",
   "id": "91d77d8b-474a-4ddf-b2f8-2b54860f711f",
   "metadata": {},
   "source": [
    "### **But!!!!** There is a `tikz` generator for polytopes!!!"
   ]
  },
  {
   "cell_type": "code",
   "execution_count": 76,
   "id": "5a51396c-8cfe-4c0c-b97f-7c999b466a5a",
   "metadata": {},
   "outputs": [
    {
     "name": "stderr",
     "output_type": "stream",
     "text": [
      "/home/jplabbe/sage/src/sage/geometry/polyhedron/base6.py:616: DeprecationWarning: The default type of the returned object will soon be changed from `sage.misc.latex.LatexExpr` to `sage.misc.latex_standalone.TikzPicture`.  Please update your code to specify the desired output type as `.tikz(output_type='LatexExpr')` to keep the old behavior or `.tikz(output_type='TikzPicture')` to use the future default behavior.\n",
      "See https://github.com/sagemath/sage/issues/33002 for details.\n",
      "  return self.projection().tikz(view, angle, scale,\n"
     ]
    },
    {
     "data": {
      "text/plain": [
       "\\begin{tikzpicture}%\n",
       "\t[x={(1.000000cm, 0.000000cm)},\n",
       "\ty={(-0.000000cm, 1.000000cm)},\n",
       "\tz={(0.000000cm, -0.000000cm)},\n",
       "\tscale=1.000000,\n",
       "\tback/.style={loosely dotted, thin},\n",
       "\tedge/.style={color=blue!95!black, thick},\n",
       "\tfacet/.style={fill=blue!95!black,fill opacity=0.800000},\n",
       "\tvertex/.style={inner sep=1pt,circle,draw=green!25!black,fill=green!75!black,thick}]\n",
       "%\n",
       "%\n",
       "%% This TikZ-picture was produced with Sagemath version 10.4.beta8\n",
       "%% with the command: ._tikz_2d_in_3d and parameters:\n",
       "%% view = [0, 0, 1]\n",
       "%% angle = 0\n",
       "%% scale = 1\n",
       "%% edge_color = blue!95!black\n",
       "%% facet_color = blue!95!black\n",
       "%% opacity = 0.8\n",
       "%% vertex_color = green\n",
       "%% axis = False\n",
       "%%\n",
       "%% Coordinate of the vertices:\n",
       "%%\n",
       "\\coordinate (0.00000, 0.00000, 1.00000) at (0.00000, 0.00000, 1.00000);\n",
       "\\coordinate (0.00000, 1.00000, 0.00000) at (0.00000, 1.00000, 0.00000);\n",
       "\\coordinate (1.00000, 0.00000, 0.00000) at (1.00000, 0.00000, 0.00000);\n",
       "%%\n",
       "%%\n",
       "%% Drawing the interior\n",
       "%%\n",
       "\\fill[facet] (1.00000, 0.00000, 0.00000) -- (0.00000, 0.00000, 1.00000) -- (0.00000, 1.00000, 0.00000) -- cycle {};\n",
       "%%\n",
       "%%\n",
       "%% Drawing edges\n",
       "%%\n",
       "\\draw[edge] (0.00000, 0.00000, 1.00000) -- (0.00000, 1.00000, 0.00000);\n",
       "\\draw[edge] (0.00000, 0.00000, 1.00000) -- (1.00000, 0.00000, 0.00000);\n",
       "\\draw[edge] (0.00000, 1.00000, 0.00000) -- (1.00000, 0.00000, 0.00000);\n",
       "%%\n",
       "%%\n",
       "%% Drawing the vertices\n",
       "%%\n",
       "\\node[vertex] at (0.00000, 0.00000, 1.00000)     {};\n",
       "\\node[vertex] at (0.00000, 1.00000, 0.00000)     {};\n",
       "\\node[vertex] at (1.00000, 0.00000, 0.00000)     {};\n",
       "%%\n",
       "%%\n",
       "\\end{tikzpicture}"
      ]
     },
     "execution_count": 76,
     "metadata": {},
     "output_type": "execute_result"
    }
   ],
   "source": [
    "P.tikz()"
   ]
  },
  {
   "cell_type": "markdown",
   "id": "8eb4ee1c-74a6-435f-9024-82557722bb43",
   "metadata": {},
   "source": [
    "#### For more on this, see the tutorial online: <https://doc.sagemath.org/html/en/thematic_tutorials/geometry/polytope_tikz.html>"
   ]
  },
  {
   "cell_type": "markdown",
   "id": "286cbce6-b039-4354-9927-54a6a307b06e",
   "metadata": {},
   "source": [
    "### Many variables, all at once\n",
    "\n",
    "If you want to create $10$ variables all at the same time, all with the same prefix, you can use `var` to do that for you. For example:"
   ]
  },
  {
   "cell_type": "code",
   "execution_count": 77,
   "id": "3569d2db-0f4a-44e0-be3a-65c0ce464752",
   "metadata": {},
   "outputs": [
    {
     "data": {
      "text/plain": [
       "(x0, x1, x2, x3, x4, x5, x6, x7, x8, x9)"
      ]
     },
     "execution_count": 77,
     "metadata": {},
     "output_type": "execute_result"
    }
   ],
   "source": [
    "my_variables = var('x', n=10);my_variables"
   ]
  },
  {
   "cell_type": "markdown",
   "id": "5b1f8ad6-8eb5-4418-b497-5dcb1060c3c5",
   "metadata": {},
   "source": [
    "### How to reconstruct objects?\n",
    "\n",
    "Say you've done a million things and get to an object that you don't know how to create. You can use `sage_input` to tell you how to create this object."
   ]
  },
  {
   "cell_type": "code",
   "execution_count": 78,
   "id": "01a30912-f1e6-466f-80a6-c7fede1d5aed",
   "metadata": {},
   "outputs": [
    {
     "data": {
      "text/plain": [
       "matrix(ZZ, [[1, 1, 1, 1, 1, 1, 1, 1, 1], [2, 4, 8, 16, 32, 64, 128, 256, 512], [3, 9, 27, 81, 243, 729, 2187, 6561, 19683], [4, 16, 64, 256, 1024, 4096, 16384, 65536, 262144], [5, 25, 125, 625, 3125, 15625, 78125, 390625, 1953125], [6, 36, 216, 1296, 7776, 46656, 279936, 1679616, 10077696], [7, 49, 343, 2401, 16807, 117649, 823543, 5764801, 40353607], [8, 64, 512, 4096, 32768, 262144, 2097152, 16777216, 134217728], [9, 81, 729, 6561, 59049, 531441, 4782969, 43046721, 387420489]])"
      ]
     },
     "execution_count": 78,
     "metadata": {},
     "output_type": "execute_result"
    }
   ],
   "source": [
    "sage_input(M)"
   ]
  },
  {
   "cell_type": "code",
   "execution_count": 79,
   "id": "80d6136b-f430-49fb-97f1-f22d8dfac5a0",
   "metadata": {},
   "outputs": [
    {
     "data": {
      "text/plain": [
       "0.006133663908296074?"
      ]
     },
     "execution_count": 79,
     "metadata": {},
     "output_type": "execute_result"
    }
   ],
   "source": [
    "e = M.eigenvalues()[0]\n",
    "e"
   ]
  },
  {
   "cell_type": "code",
   "execution_count": 80,
   "id": "39274068-4a45-49b7-b733-0973ada1b128",
   "metadata": {},
   "outputs": [
    {
     "data": {
      "text/plain": [
       "R.<x> = QQbar[]\n",
       "QQbar.polynomial_root(AA.common_polynomial(x^9 - 405071317*x^8 + 864297227343336*x^7 - 25256152543939916688*x^6 + 20609017561350538001280*x^5 - 909545284940048444620800*x^4 + 4172169726831000783052800*x^3 - 3098609363021404151808000*x^2 + 318006885258551623680000*x - 1834933472251084800000), CIF(RIF(RR(0.0061336639082960739), RR(0.0061336639082960748)), RIF(RR(0))))"
      ]
     },
     "execution_count": 80,
     "metadata": {},
     "output_type": "execute_result"
    }
   ],
   "source": [
    "%display plain\n",
    "sage_input(e)"
   ]
  },
  {
   "cell_type": "markdown",
   "id": "303b397b-aac0-4ec3-9a29-3171eaf63bbd",
   "metadata": {},
   "source": [
    "Why is this so complicated?\n",
    "\n",
    "Because the type of `e` isn't an integer:"
   ]
  },
  {
   "cell_type": "code",
   "execution_count": 81,
   "id": "48a13be2-ed4c-473e-925d-6f9edc0b1369",
   "metadata": {},
   "outputs": [
    {
     "data": {
      "text/plain": [
       "<class 'sage.rings.qqbar.AlgebraicNumber'>"
      ]
     },
     "execution_count": 81,
     "metadata": {},
     "output_type": "execute_result"
    }
   ],
   "source": [
    "type(e)"
   ]
  },
  {
   "cell_type": "markdown",
   "id": "78def732-726f-4dde-a935-659e8097c6b7",
   "metadata": {},
   "source": [
    "## More exercises"
   ]
  },
  {
   "cell_type": "markdown",
   "id": "35ecf766-5d46-4440-8887-1901979043fb",
   "metadata": {},
   "source": [
    "### Polynomials"
   ]
  },
  {
   "cell_type": "markdown",
   "id": "0aaf01ff-998b-4c04-bd9a-57f2695f9273",
   "metadata": {},
   "source": [
    "#### Roots of a polynomial\n",
    " \n",
    " Look in the documentation how to write a polynomial and define the following one.\n",
    " $$\n",
    " P = x^3- 3\\cdot x^2 + 1.\n",
    " $$\n"
   ]
  },
  {
   "cell_type": "code",
   "execution_count": 82,
   "id": "e5a52907-eec4-4d18-8dbb-e43f9171a4b9",
   "metadata": {},
   "outputs": [],
   "source": [
    "P = x^3 - 3*x^2 + 1"
   ]
  },
  {
   "cell_type": "markdown",
   "id": "ad1cdfcd-dd10-4bbd-8cce-21847500efed",
   "metadata": {},
   "source": [
    "Draw this polynomial on the interval $[1,3]$."
   ]
  },
  {
   "cell_type": "code",
   "execution_count": 83,
   "id": "ec0bcb26-bdb8-4116-9113-505bd9bc5ffa",
   "metadata": {},
   "outputs": [
    {
     "data": {
      "image/png": "[encoded data removed]",
      "text/plain": [
       "Graphics object consisting of 1 graphics primitive"
      ]
     },
     "execution_count": 83,
     "metadata": {},
     "output_type": "execute_result"
    }
   ],
   "source": [
    "P.plot(1,3)"
   ]
  },
  {
   "cell_type": "markdown",
   "id": "fc2bbb9a-21ae-44a7-89b8-8e5bfcdd1701",
   "metadata": {},
   "source": [
    "Determine the roots of this polynomial."
   ]
  },
  {
   "cell_type": "code",
   "execution_count": 84,
   "id": "4fc5b53e-7486-4bdf-8932-0528018803cd",
   "metadata": {},
   "outputs": [
    {
     "data": {
      "text/plain": [
       "[(-1/2*(I*sqrt(3) + 1)*(1/2*I*sqrt(3) + 1/2)^(1/3) - 1/2*(-I*sqrt(3) + 1)/(1/2*I*sqrt(3) + 1/2)^(1/3) + 1,\n",
       "  1),\n",
       " (-1/2*(1/2*I*sqrt(3) + 1/2)^(1/3)*(-I*sqrt(3) + 1) - 1/2*(I*sqrt(3) + 1)/(1/2*I*sqrt(3) + 1/2)^(1/3) + 1,\n",
       "  1),\n",
       " ((1/2*I*sqrt(3) + 1/2)^(1/3) + 1/(1/2*I*sqrt(3) + 1/2)^(1/3) + 1, 1)]"
      ]
     },
     "execution_count": 84,
     "metadata": {},
     "output_type": "execute_result"
    }
   ],
   "source": [
    "P.roots()"
   ]
  },
  {
   "cell_type": "markdown",
   "id": "91e7f6d6-2c86-4d68-95a8-ad04bcbdf8bd",
   "metadata": {},
   "source": [
    "What do you notice? Do you find this normal?\n",
    "\n",
    "Answer: We see radicals and complex numbers, but in the plot we saw that there is (at least) one real root."
   ]
  },
  {
   "cell_type": "markdown",
   "id": "02ddb859-98b5-496f-b99c-c49642e732a4",
   "metadata": {},
   "source": [
    "It is also possible to find the approximated values of roots when we specify the interval where to look for the root. Look for the function that allows to do this and determine an approximate value of the three roots by specifying the three intervals."
   ]
  },
  {
   "cell_type": "code",
   "execution_count": 85,
   "id": "357f0ad2-e0b4-498a-9d85-0d97aaae3a45",
   "metadata": {},
   "outputs": [
    {
     "data": {
      "text/plain": [
       "2.8793852415719243"
      ]
     },
     "execution_count": 85,
     "metadata": {},
     "output_type": "execute_result"
    }
   ],
   "source": [
    "P.find_root(2.5,3)"
   ]
  },
  {
   "cell_type": "code",
   "execution_count": 86,
   "id": "892c42bb-b951-4eb2-aa01-447ee6a80dbe",
   "metadata": {},
   "outputs": [
    {
     "data": {
      "text/plain": [
       "0.6527036446661393"
      ]
     },
     "execution_count": 86,
     "metadata": {},
     "output_type": "execute_result"
    }
   ],
   "source": [
    "P.find_root(0,1)"
   ]
  },
  {
   "cell_type": "code",
   "execution_count": 87,
   "id": "624173b2-c6fb-486a-9329-af125bd4464d",
   "metadata": {},
   "outputs": [
    {
     "data": {
      "text/plain": [
       "-0.532088886237956"
      ]
     },
     "execution_count": 87,
     "metadata": {},
     "output_type": "execute_result"
    }
   ],
   "source": [
    "P.find_root(-1,0)"
   ]
  },
  {
   "cell_type": "markdown",
   "id": "f188ca3e-115d-4077-bb9a-63cdaa1b17ab",
   "metadata": {},
   "source": [
    "#### Polynomial interpolation\n",
    " \n",
    "Find the (minimal degree) polynomial that passes through the following points: $[1,2]$, $[3,2]$, $[-1,-1]$ and $[4,3]$.\n"
   ]
  },
  {
   "cell_type": "code",
   "execution_count": 88,
   "id": "79d6197f-6efb-4f47-8c57-a19980ddd828",
   "metadata": {},
   "outputs": [
    {
     "data": {
      "text/plain": [
       "17/120*x^3 - 4/5*x^2 + 163/120*x + 13/10"
      ]
     },
     "execution_count": 88,
     "metadata": {},
     "output_type": "execute_result"
    }
   ],
   "source": [
    "T.<x> = PolynomialRing(QQ);\n",
    "T.lagrange_polynomial([[1,2],[3,2],[-1,-1],[4,3]])"
   ]
  },
  {
   "cell_type": "markdown",
   "id": "e6ef657a-b570-4257-a60c-c33731e2fedb",
   "metadata": {},
   "source": [
    "#### Polynomial factorization\n",
    "\n",
    "Find the factorizations of the polynomial $54\\cdot x^4+36\\cdot x^3-102\\cdot x^2-72\\cdot x-12$ over the following rings: $\\mathbb{Z}, \\mathbb{Q}$, and the algebraic numbers. With a bit more search, for $\\mathbb{Q}[\\sqrt{2}], GF(5)$."
   ]
  },
  {
   "cell_type": "code",
   "execution_count": 89,
   "id": "7171a3d0-0129-4600-895f-7b145fcb8eb9",
   "metadata": {},
   "outputs": [
    {
     "data": {
      "text/plain": [
       "(54) * (x - 1.414213562373095?) * (x + 1.414213562373095?) * (x + 0.3333333333333334?)^2"
      ]
     },
     "execution_count": 89,
     "metadata": {},
     "output_type": "execute_result"
    }
   ],
   "source": [
    "# A.<x> = PolynomialRing(QQ)\n",
    "# A.<x> = PolynomialRing(ZZ)\n",
    "A.<x> = PolynomialRing(QQbar)\n",
    "F = 54*x^4 + 36*x^3 - 102*x^2 - 72*x - 12\n",
    "F.factor()"
   ]
  },
  {
   "cell_type": "code",
   "execution_count": 90,
   "id": "51dcdd36-2aa1-4d3e-8830-16efae0c527e",
   "metadata": {},
   "outputs": [
    {
     "data": {
      "text/plain": [
       "(54) * (x - a) * (x + a) * (x + 1/3)^2"
      ]
     },
     "execution_count": 90,
     "metadata": {},
     "output_type": "execute_result"
    }
   ],
   "source": [
    "t = var('t') # to reset the variable from the above 't'\n",
    "B.<a> = QQ.extension(t^2 - 2); # 'a' is the new value added representing 'sqrt(2)'\n",
    "A.<x> = PolynomialRing(B) # creating the polynomial ring\n",
    "F = A(54*x^4 + 36*x^3 - 102*x^2 - 72*x - 12) # making sure that the polynomial lives in 'A'\n",
    "F.factor()"
   ]
  },
  {
   "cell_type": "code",
   "execution_count": null,
   "id": "c98fed71-a76c-47d0-9555-cda45d0c98a1",
   "metadata": {},
   "outputs": [],
   "source": []
  },
  {
   "cell_type": "markdown",
   "id": "3ab0df51-53eb-4935-b113-95557ef6a741",
   "metadata": {},
   "source": [
    "### Multivariate polynomials\n",
    "\n",
    "Find in the documentation the way to define the ring of polynomials $R$ with two variables $y$ and $t$ with rationals coefficients."
   ]
  },
  {
   "cell_type": "code",
   "execution_count": 91,
   "id": "b6f5bc98-de11-40df-99e0-27accb261d64",
   "metadata": {},
   "outputs": [
    {
     "data": {
      "text/plain": [
       "Multivariate Polynomial Ring in y, t over Rational Field"
      ]
     },
     "execution_count": 91,
     "metadata": {},
     "output_type": "execute_result"
    }
   ],
   "source": [
    "R.<y,t> = PolynomialRing(QQ);R"
   ]
  },
  {
   "cell_type": "markdown",
   "id": "cf50417d-d2f7-4397-a408-2ef512417e8d",
   "metadata": {},
   "source": [
    "Define the polynomial $Q = y^2 - 1 - 2\\cdot t + t^3$."
   ]
  },
  {
   "cell_type": "code",
   "execution_count": 92,
   "id": "7bc0df39-64d2-4517-bc53-73d011178ad0",
   "metadata": {},
   "outputs": [
    {
     "data": {
      "text/plain": [
       "t^3 + y^2 - 2*t - 1"
      ]
     },
     "execution_count": 92,
     "metadata": {},
     "output_type": "execute_result"
    }
   ],
   "source": [
    "Q = y^2-1-2*t+t^3;Q"
   ]
  },
  {
   "cell_type": "markdown",
   "id": "f91df2fd-e1b7-4a12-abe4-9cd54bfd01a3",
   "metadata": {},
   "source": [
    "Show it in 3 dimensions."
   ]
  },
  {
   "cell_type": "code",
   "execution_count": 93,
   "id": "2c1a6512-e8dc-4df5-b309-c98afaa9751a",
   "metadata": {},
   "outputs": [
    {
     "data": {
      "text/html": [
       "\n",
       "<iframe srcdoc=\"&lt;!DOCTYPE html&gt;\n",
       "&lt;html&gt;\n",
       "&lt;head&gt;\n",
       "&lt;title&gt;&lt;/title&gt;\n",
       "&lt;meta charset=&quot;utf-8&quot;&gt;\n",
       "&lt;meta name=viewport content=&quot;width=device-width, user-scalable=no, minimum-scale=1.0, maximum-scale=1.0&quot;&gt;\n",
       "&lt;style&gt;\n",
       "\n",
       "    body { margin: 0px; overflow: hidden; }\n",
       "\n",
       "    #menu-container { position: absolute; bottom: 30px; right: 40px; cursor: default; }\n",
       "\n",
       "    #menu-message { position: absolute; bottom: 0px; right: 0px; white-space: nowrap;\n",
       "                    display: none; background-color: #F5F5F5; padding: 10px; }\n",
       "\n",
       "    #menu-content { position: absolute; bottom: 0px; right: 0px;\n",
       "                    display: none; background-color: #F5F5F5; border-bottom: 1px solid black;\n",
       "                    border-right: 1px solid black; border-left: 1px solid black; }\n",
       "\n",
       "    #menu-content div { border-top: 1px solid black; padding: 10px; white-space: nowrap; }\n",
       "\n",
       "    #menu-content div:hover { background-color: #FEFEFE; }\n",
       "\n",
       "    .dark-theme #menu-container { color: white; }\n",
       "\n",
       "    .dark-theme #menu-message { background-color: #181818; }\n",
       "\n",
       "    .dark-theme #menu-content { background-color: #181818; border-color: white; }\n",
       "\n",
       "    .dark-theme #menu-content div { border-color: white; }\n",
       "\n",
       "    .dark-theme #menu-content div:hover { background-color: #303030; }\n",
       "\n",
       "&lt;/style&gt;\n",
       "\n",
       "&lt;/head&gt;\n",
       "\n",
       "&lt;body&gt;\n",
       "\n",
       "&lt;script src=&quot;/nbextensions/threejs-sage/r122/three.min.js&quot;&gt;&lt;/script&gt;\n",
       "&lt;script&gt;\n",
       "  if ( !window.THREE ) document.write(&#x27; \\\n",
       "&lt;script src=&quot;https://cdn.jsdelivr.net/gh/sagemath/threejs-sage@r122/build/three.min.js&quot;&gt;&lt;\\/script&gt; \\\n",
       "            &#x27;);\n",
       "&lt;/script&gt;\n",
       "        \n",
       "&lt;script&gt;\n",
       "\n",
       "    var options = {&quot;animate&quot;: false, &quot;animationControls&quot;: true, &quot;aspectRatio&quot;: [1.0, 1.0, 1.0], &quot;autoScaling&quot;: [false, false, false], &quot;autoPlay&quot;: true, &quot;axes&quot;: false, &quot;axesLabels&quot;: [&quot;x&quot;, &quot;y&quot;, &quot;z&quot;], &quot;axesLabelsStyle&quot;: null, &quot;decimals&quot;: 2, &quot;delay&quot;: 20, &quot;frame&quot;: true, &quot;loop&quot;: true, &quot;projection&quot;: &quot;perspective&quot;, &quot;theme&quot;: &quot;light&quot;, &quot;viewpoint&quot;: false};\n",
       "    var animate = options.animate;\n",
       "\n",
       "    if ( options.theme === &#x27;dark&#x27; )\n",
       "        document.body.className = &#x27;dark-theme&#x27;;\n",
       "\n",
       "    var scene = new THREE.Scene();\n",
       "\n",
       "    var renderer = new THREE.WebGLRenderer( { antialias: true, preserveDrawingBuffer: true } );\n",
       "    renderer.setPixelRatio( window.devicePixelRatio );\n",
       "    renderer.setSize( window.innerWidth, window.innerHeight );\n",
       "    renderer.setClearColor( options.theme === &#x27;dark&#x27; ? 0 : 0xffffff, 1 );\n",
       "    document.body.appendChild( renderer.domElement );\n",
       "\n",
       "    var b = [{&quot;x&quot;:-2.0, &quot;y&quot;:-2.0, &quot;z&quot;:-4.997370151216305}, {&quot;x&quot;:2.0, &quot;y&quot;:2.0, &quot;z&quot;:7.0}]; // bounds\n",
       "\n",
       "    if ( b[0].x === b[1].x ) {\n",
       "        b[0].x -= 1;\n",
       "        b[1].x += 1;\n",
       "    }\n",
       "    if ( b[0].y === b[1].y ) {\n",
       "        b[0].y -= 1;\n",
       "        b[1].y += 1;\n",
       "    }\n",
       "    if ( b[0].z === b[1].z ) {\n",
       "        b[0].z -= 1;\n",
       "        b[1].z += 1;\n",
       "    }\n",
       "\n",
       "    var rxRange = Math.sqrt( Math.pow( b[1].z - b[0].z, 2 )\n",
       "                            + Math.pow( b[1].y - b[0].y, 2 ) );\n",
       "    var ryRange = Math.sqrt( Math.pow( b[1].x - b[0].x, 2 )\n",
       "                            + Math.pow( b[1].z - b[0].z, 2 ) );\n",
       "    var rzRange = Math.sqrt( Math.pow( b[1].x - b[0].x, 2 )\n",
       "                            + Math.pow( b[1].y - b[0].y, 2 ) );\n",
       "    var xRange = b[1].x - b[0].x;\n",
       "    var yRange = b[1].y - b[0].y;\n",
       "    var zRange = b[1].z - b[0].z;\n",
       "\n",
       "    var ar = options.aspectRatio;\n",
       "    var a = [ ar[0], ar[1], ar[2] ]; // aspect multipliers\n",
       "\n",
       "    var autoScaling = options.autoScaling;\n",
       "    var autoAspect = 2.5;\n",
       "    if ( xRange &gt; autoAspect * rxRange &amp;&amp; autoScaling[0] ) a[0] = autoAspect * rxRange / xRange;\n",
       "    if ( yRange &gt; autoAspect * ryRange &amp;&amp; autoScaling[1] ) a[1] = autoAspect * ryRange / yRange;\n",
       "    if ( zRange &gt; autoAspect * rzRange &amp;&amp; autoScaling[2] ) a[2] = autoAspect * rzRange / zRange;\n",
       "\n",
       "    // Distance from (xMid,yMid,zMid) to any corner of the bounding box, after applying aspectRatio\n",
       "    var midToCorner = Math.sqrt( a[0]*a[0]*xRange*xRange + a[1]*a[1]*yRange*yRange + a[2]*a[2]*zRange*zRange ) / 2;\n",
       "\n",
       "    var xMid = ( b[0].x + b[1].x ) / 2;\n",
       "    var yMid = ( b[0].y + b[1].y ) / 2;\n",
       "    var zMid = ( b[0].z + b[1].z ) / 2;\n",
       "\n",
       "    var box = new THREE.Geometry();\n",
       "    box.vertices.push( new THREE.Vector3( a[0]*b[0].x, a[1]*b[0].y, a[2]*b[0].z ) );\n",
       "    box.vertices.push( new THREE.Vector3( a[0]*b[1].x, a[1]*b[1].y, a[2]*b[1].z ) );\n",
       "    var boxMesh = new THREE.Line( box );\n",
       "    var boxColor = options.theme === &#x27;dark&#x27; ? &#x27;white&#x27; : &#x27;black&#x27;;\n",
       "    if ( options.frame ) scene.add( new THREE.BoxHelper( boxMesh, boxColor ) );\n",
       "\n",
       "    if ( options.axesLabels ) {\n",
       "\n",
       "        var d = options.decimals; // decimals\n",
       "        var offsetRatio = 0.1;\n",
       "        var al = options.axesLabels;\n",
       "        var als = options.axesLabelsStyle || [{}, {}, {}];\n",
       "\n",
       "        var offset = offsetRatio * a[1]*( b[1].y - b[0].y );\n",
       "        var xm = xMid.toFixed(d);\n",
       "        if ( /^-0.?0*$/.test(xm) ) xm = xm.substr(1);\n",
       "        addLabel( al[0] + &#x27;=&#x27; + xm, a[0]*xMid, a[1]*b[1].y+offset, a[2]*b[0].z, als[0] );\n",
       "        addLabel( ( b[0].x ).toFixed(d), a[0]*b[0].x, a[1]*b[1].y+offset, a[2]*b[0].z, als[0] );\n",
       "        addLabel( ( b[1].x ).toFixed(d), a[0]*b[1].x, a[1]*b[1].y+offset, a[2]*b[0].z, als[0] );\n",
       "\n",
       "        var offset = offsetRatio * a[0]*( b[1].x - b[0].x );\n",
       "        var ym = yMid.toFixed(d);\n",
       "        if ( /^-0.?0*$/.test(ym) ) ym = ym.substr(1);\n",
       "        addLabel( al[1] + &#x27;=&#x27; + ym, a[0]*b[1].x+offset, a[1]*yMid, a[2]*b[0].z, als[1] );\n",
       "        addLabel( ( b[0].y ).toFixed(d), a[0]*b[1].x+offset, a[1]*b[0].y, a[2]*b[0].z, als[1] );\n",
       "        addLabel( ( b[1].y ).toFixed(d), a[0]*b[1].x+offset, a[1]*b[1].y, a[2]*b[0].z, als[1] );\n",
       "\n",
       "        var offset = offsetRatio * a[1]*( b[1].y - b[0].y );\n",
       "        var zm = zMid.toFixed(d);\n",
       "        if ( /^-0.?0*$/.test(zm) ) zm = zm.substr(1);\n",
       "        addLabel( al[2] + &#x27;=&#x27; + zm, a[0]*b[1].x, a[1]*b[0].y-offset, a[2]*zMid, als[2] );\n",
       "        addLabel( ( b[0].z ).toFixed(d), a[0]*b[1].x, a[1]*b[0].y-offset, a[2]*b[0].z, als[2] );\n",
       "        addLabel( ( b[1].z ).toFixed(d), a[0]*b[1].x, a[1]*b[0].y-offset, a[2]*b[1].z, als[2] );\n",
       "\n",
       "    }\n",
       "\n",
       "    function addLabel( text, x, y, z, style ) {\n",
       "\n",
       "        var color = style.color || &#x27;black&#x27;;\n",
       "        var fontSize = style.fontSize || 14;\n",
       "        var fontFamily = style.fontFamily || &#x27;monospace&#x27;;\n",
       "        var fontStyle = style.fontStyle || &#x27;normal&#x27;;\n",
       "        var fontWeight = style.fontWeight || &#x27;normal&#x27;;\n",
       "        var opacity = style.opacity || 1;\n",
       "\n",
       "        if ( options.theme === &#x27;dark&#x27; )\n",
       "            if ( color === &#x27;black&#x27; || color === &#x27;#000000&#x27; )\n",
       "                color = &#x27;white&#x27;;\n",
       "\n",
       "        if ( Array.isArray( fontStyle ) ) {\n",
       "            fontFamily = fontFamily.map( function( f ) {\n",
       "                // Need to put quotes around fonts that have whitespace in their names.\n",
       "                return /\\s/.test( f ) ? &#x27;&quot;&#x27; + f + &#x27;&quot;&#x27; : f;\n",
       "            }).join(&#x27;, &#x27;);\n",
       "        }\n",
       "\n",
       "        var canvas = document.createElement( &#x27;canvas&#x27; );\n",
       "        var context = canvas.getContext( &#x27;2d&#x27; );\n",
       "        var pixelRatio = Math.round( window.devicePixelRatio );\n",
       "\n",
       "        // For example: italic bold 20px &quot;Times New Roman&quot;, Georgia, serif\n",
       "        var font = [fontStyle, fontWeight, fontSize + &#x27;px&#x27;, fontFamily].join(&#x27; &#x27;);\n",
       "\n",
       "        context.font = font;\n",
       "        var width = context.measureText( text ).width;\n",
       "        var height = fontSize;\n",
       "\n",
       "        // The dimensions of the canvas&#x27;s underlying image data need to be powers\n",
       "        // of two in order for the resulting texture to support mipmapping.\n",
       "        canvas.width = THREE.MathUtils.ceilPowerOfTwo( width * pixelRatio );\n",
       "        canvas.height = THREE.MathUtils.ceilPowerOfTwo( height * pixelRatio );\n",
       "\n",
       "        // Re-compute the unscaled dimensions after the power of two conversion.\n",
       "        width = canvas.width / pixelRatio;\n",
       "        height = canvas.height / pixelRatio;\n",
       "\n",
       "        canvas.style.width = width + &#x27;px&#x27;;\n",
       "        canvas.style.height = height + &#x27;px&#x27;;\n",
       "\n",
       "        context.scale( pixelRatio, pixelRatio );\n",
       "        context.fillStyle = color;\n",
       "        context.font = font; // Must be set again after measureText.\n",
       "        context.textAlign = &#x27;center&#x27;;\n",
       "        context.textBaseline = &#x27;middle&#x27;;\n",
       "        context.fillText( text, width/2, height/2 );\n",
       "\n",
       "        var texture = new THREE.Texture( canvas );\n",
       "        texture.needsUpdate = true;\n",
       "\n",
       "        var materialOptions = { map: texture, sizeAttenuation: false, depthWrite: false };\n",
       "        if ( opacity &lt; 1 ) {\n",
       "            // Setting opacity=1 would cause the texture&#x27;s alpha component to be\n",
       "            // discarded, giving the text a black background instead of the\n",
       "            // background being transparent.\n",
       "            materialOptions.opacity = opacity;\n",
       "        }\n",
       "        var sprite = new THREE.Sprite( new THREE.SpriteMaterial( materialOptions ) );\n",
       "        sprite.position.set( x, y, z );\n",
       "\n",
       "        // Scaling factor, chosen somewhat arbitrarily so that the size of the text\n",
       "        // is consistent with previously generated plots.\n",
       "        var scale = 1/625;\n",
       "        if ( options.projection === &#x27;orthographic&#x27; ) {\n",
       "            scale = midToCorner/256; // Needs to scale along with the plot itself.\n",
       "        }\n",
       "        sprite.scale.set( scale * width, scale * height, 1 );\n",
       "\n",
       "        scene.add( sprite );\n",
       "\n",
       "        return sprite;\n",
       "\n",
       "    }\n",
       "\n",
       "    if ( options.axes ) scene.add( new THREE.AxesHelper( Math.min( a[0]*b[1].x, a[1]*b[1].y, a[2]*b[1].z ) ) );\n",
       "\n",
       "    var camera = createCamera();\n",
       "    camera.up.set( 0, 0, 1 );\n",
       "    camera.position.set( a[0]*xMid, a[1]*yMid, a[2]*zMid );\n",
       "\n",
       "    // camera is positioned so that the line from the camera to the center\n",
       "    // of the bounding sphere of the objects makes an angle of 60 degrees with x-axis\n",
       "    // and an angle of 30 degrees with z-axis and the field of view of the camera looking\n",
       "    // at the center has an angle of 45 degrees.\n",
       "    const sin8 = Math.sin(Math.PI / 8);\n",
       "    const sin5 = Math.sin(Math.PI / 5);\n",
       "    const cos5 = Math.cos(Math.PI / 5);\n",
       "    const sin3 = Math.sin(Math.PI / 3);\n",
       "    const cos3 = Math.cos(Math.PI / 3);\n",
       "    var r = midToCorner / sin8;\n",
       "    var offset = new THREE.Vector3( r * sin3 * cos5, r * sin3 * sin5, r * cos3 );\n",
       "\n",
       "    if ( options.viewpoint ) {\n",
       "\n",
       "        var aa = options.viewpoint;\n",
       "        var axis = new THREE.Vector3( aa[0][0], aa[0][1], aa[0][2] ).normalize();\n",
       "        var angle = aa[1] * Math.PI / 180;\n",
       "        var q = new THREE.Quaternion().setFromAxisAngle( axis, angle ).inverse();\n",
       "\n",
       "        offset.set( 0, 0, offset.length() );\n",
       "        offset.applyQuaternion( q );\n",
       "\n",
       "    }\n",
       "\n",
       "    camera.position.add( offset );\n",
       "\n",
       "    function createCamera() {\n",
       "\n",
       "        var aspect = window.innerWidth / window.innerHeight;\n",
       "\n",
       "        // Scale the near and far clipping planes along with the overall plot size.\n",
       "        var nearClip = 0.01 * midToCorner;\n",
       "        var farClip = 100 * midToCorner;\n",
       "\n",
       "        if ( options.projection === &#x27;orthographic&#x27; ) {\n",
       "            var camera = new THREE.OrthographicCamera( -1, 1, 1, -1, -farClip, farClip );\n",
       "            updateCameraAspect( camera, aspect );\n",
       "            return camera;\n",
       "        }\n",
       "\n",
       "        return new THREE.PerspectiveCamera( 45, aspect, nearClip, farClip );\n",
       "\n",
       "    }\n",
       "\n",
       "    function updateCameraAspect( camera, aspect ) {\n",
       "\n",
       "        if ( camera.isPerspectiveCamera ) {\n",
       "            camera.aspect = aspect;\n",
       "        } else if ( camera.isOrthographicCamera ) {\n",
       "            // Fit the camera frustum to the bounding box&#x27;s diagonal so that the entire plot fits\n",
       "            // within at the default zoom level and camera position.\n",
       "            if ( aspect &gt; 1 ) { // Wide window\n",
       "                camera.top = midToCorner;\n",
       "                camera.right = midToCorner * aspect;\n",
       "            } else { // Tall or square window\n",
       "                camera.top = midToCorner / aspect;\n",
       "                camera.right = midToCorner;\n",
       "            }\n",
       "            camera.bottom = -camera.top;\n",
       "            camera.left = -camera.right;\n",
       "        }\n",
       "\n",
       "        camera.updateProjectionMatrix();\n",
       "\n",
       "    }\n",
       "\n",
       "    var lights = [{&quot;x&quot;:-5, &quot;y&quot;:3, &quot;z&quot;:0, &quot;color&quot;:&quot;#7f7f7f&quot;, &quot;parent&quot;:&quot;camera&quot;}];\n",
       "    for ( var i=0 ; i &lt; lights.length ; i++ ) {\n",
       "        var light = new THREE.DirectionalLight( lights[i].color, 1 );\n",
       "        light.position.set( a[0]*lights[i].x, a[1]*lights[i].y, a[2]*lights[i].z );\n",
       "        if ( lights[i].parent === &#x27;camera&#x27; ) {\n",
       "            light.target.position.set( a[0]*xMid, a[1]*yMid, a[2]*zMid );\n",
       "            scene.add( light.target );\n",
       "            camera.add( light );\n",
       "        } else scene.add( light );\n",
       "    }\n",
       "    scene.add( camera );\n",
       "\n",
       "    var ambient = {&quot;color&quot;:&quot;#7f7f7f&quot;};\n",
       "    scene.add( new THREE.AmbientLight( ambient.color, 1 ) );\n",
       "\n",
       "    var controls = new THREE.OrbitControls( camera, renderer.domElement );\n",
       "    controls.target.set( a[0]*xMid, a[1]*yMid, a[2]*zMid );\n",
       "    controls.addEventListener( &#x27;change&#x27;, function() { if ( !animate ) render(); } );\n",
       "\n",
       "    window.addEventListener( &#x27;resize&#x27;, function() {\n",
       "\n",
       "        renderer.setSize( window.innerWidth, window.innerHeight );\n",
       "        updateCameraAspect( camera, window.innerWidth / window.innerHeight );\n",
       "        if ( window.rescaleFatLines ) rescaleFatLines();\n",
       "        if ( !animate ) render();\n",
       "\n",
       "    } );\n",
       "\n",
       "    var texts = [];\n",
       "    for ( var i=0 ; i &lt; texts.length ; i++ ) addText( texts[i] );\n",
       "\n",
       "    function addText( json ) {\n",
       "        var sprite = addLabel( json.text, a[0]*json.x, a[1]*json.y, a[2]*json.z, json );\n",
       "        sprite.userData = json;\n",
       "    }\n",
       "\n",
       "    var points = [];\n",
       "    for ( var i=0 ; i &lt; points.length ; i++ ) addPoint( points[i] );\n",
       "\n",
       "    function addPoint( json ) {\n",
       "\n",
       "        var geometry = new THREE.Geometry();\n",
       "        var v = json.point;\n",
       "        geometry.vertices.push( new THREE.Vector3( a[0]*v[0], a[1]*v[1], a[2]*v[2] ) );\n",
       "\n",
       "        var canvas = document.createElement( &#x27;canvas&#x27; );\n",
       "        canvas.width = 128;\n",
       "        canvas.height = 128;\n",
       "\n",
       "        var context = canvas.getContext( &#x27;2d&#x27; );\n",
       "        context.arc( 64, 64, 64, 0, 2 * Math.PI );\n",
       "        context.fillStyle = json.color;\n",
       "        context.fill();\n",
       "\n",
       "        var texture = new THREE.Texture( canvas );\n",
       "        texture.needsUpdate = true;\n",
       "\n",
       "        var transparent = json.opacity &lt; 1 ? true : false;\n",
       "        var size = camera.isOrthographicCamera ? json.size : json.size/100;\n",
       "        var material = new THREE.PointsMaterial( { size: size, map: texture,\n",
       "                                                   transparent: transparent, opacity: json.opacity,\n",
       "                                                   alphaTest: .1 } );\n",
       "\n",
       "        var c = new THREE.Vector3();\n",
       "        geometry.computeBoundingBox();\n",
       "        geometry.boundingBox.getCenter( c );\n",
       "        geometry.translate( -c.x, -c.y, -c.z );\n",
       "\n",
       "        var mesh = new THREE.Points( geometry, material );\n",
       "        mesh.position.set( c.x, c.y, c.z );\n",
       "        mesh.userData = json;\n",
       "        scene.add( mesh );\n",
       "\n",
       "    }\n",
       "\n",
       "    var lines = [];\n",
       "    for ( var i=0 ; i &lt; lines.length ; i++ ) addLine( lines[i] );\n",
       "\n",
       "    function addLine( json ) {\n",
       "\n",
       "        var geometry = new THREE.Geometry();\n",
       "        for ( var i=0 ; i &lt; json.points.length ; i++ ) {\n",
       "            var v = json.points[i];\n",
       "            geometry.vertices.push( new THREE.Vector3( a[0]*v[0], a[1]*v[1], a[2]*v[2] ) );\n",
       "        }\n",
       "\n",
       "        var c = new THREE.Vector3();\n",
       "        geometry.computeBoundingBox();\n",
       "        geometry.boundingBox.getCenter( c );\n",
       "        geometry.translate( -c.x, -c.y, -c.z );\n",
       "\n",
       "        var transparent = json.opacity &lt; 1 ? true : false;\n",
       "        var materialOptions = { color: json.color, linewidth: json.linewidth,\n",
       "                                transparent: transparent, opacity: json.opacity };\n",
       "\n",
       "        var mesh;\n",
       "        if ( json.linewidth &gt; 1 &amp;&amp; window.createFatLineStrip ) {\n",
       "            mesh = createFatLineStrip( geometry, materialOptions );\n",
       "        } else {\n",
       "            var material = new THREE.LineBasicMaterial( materialOptions );\n",
       "            mesh = new THREE.Line( geometry, material );\n",
       "        }\n",
       "\n",
       "        mesh.position.set( c.x, c.y, c.z );\n",
       "        mesh.userData = json;\n",
       "        scene.add( mesh );\n",
       "\n",
       "    }\n",
       "\n",
       "    var surfaces = [{&quot;vertices&quot;: [{&quot;x&quot;: -2.0, &quot;y&quot;: -2.0, &quot;z&quot;: -1.0}, {&quot;x&quot;: -2.0, &quot;y&quot;: -1.8974358974358974, &quot;z&quot;: -1.3997370151216302}, {&quot;x&quot;: -1.8974358974358974, &quot;y&quot;: -1.8974358974358974, &quot;z&quot;: -0.4361334479677672}, {&quot;x&quot;: -1.8974358974358974, &quot;y&quot;: -2.0, &quot;z&quot;: -0.036396432846136584}, {&quot;x&quot;: -2.0, &quot;y&quot;: -1.7948717948717947, &quot;z&quot;: -1.7784352399737022}, {&quot;x&quot;: -1.8974358974358974, &quot;y&quot;: -1.7948717948717947, &quot;z&quot;: -0.8148316728198388}, {&quot;x&quot;: -2.0, &quot;y&quot;: -1.692307692307692, &quot;z&quot;: -2.1360946745562135}, {&quot;x&quot;: -1.8974358974358974, &quot;y&quot;: -1.692307692307692, &quot;z&quot;: -1.1724911074023505}, {&quot;x&quot;: -2.0, &quot;y&quot;: -1.5897435897435894, &quot;z&quot;: -2.4727153188691666}, {&quot;x&quot;: -1.8974358974358974, &quot;y&quot;: -1.5897435897435894, &quot;z&quot;: -1.5091117517153032}, {&quot;x&quot;: -2.0, &quot;y&quot;: -1.4871794871794868, &quot;z&quot;: -2.788297172912559}, {&quot;x&quot;: -1.8974358974358974, &quot;y&quot;: -1.4871794871794868, &quot;z&quot;: -1.8246936057586955}, {&quot;x&quot;: -2.0, &quot;y&quot;: -1.3846153846153841, &quot;z&quot;: -3.0828402366863923}, {&quot;x&quot;: -1.8974358974358974, &quot;y&quot;: -1.3846153846153841, &quot;z&quot;: -2.119236669532529}, {&quot;x&quot;: -2.0, &quot;y&quot;: -1.2820512820512815, &quot;z&quot;: -3.3563445101906657}, {&quot;x&quot;: -1.8974358974358974, &quot;y&quot;: -1.2820512820512815, &quot;z&quot;: -2.3927409430368023}, {&quot;x&quot;: -2.0, &quot;y&quot;: -1.1794871794871788, &quot;z&quot;: -3.6088099934253792}, {&quot;x&quot;: -1.8974358974358974, &quot;y&quot;: -1.1794871794871788, &quot;z&quot;: -2.645206426271516}, {&quot;x&quot;: -2.0, &quot;y&quot;: -1.0769230769230762, &quot;z&quot;: -3.8402366863905346}, {&quot;x&quot;: -1.8974358974358974, &quot;y&quot;: -1.0769230769230762, &quot;z&quot;: -2.876633119236671}, {&quot;x&quot;: -2.0, &quot;y&quot;: -0.9743589743589737, &quot;z&quot;: -4.050624589086129}, {&quot;x&quot;: -1.8974358974358974, &quot;y&quot;: -0.9743589743589737, &quot;z&quot;: -3.087021021932266}, {&quot;x&quot;: -2.0, &quot;y&quot;: -0.8717948717948711, &quot;z&quot;: -4.239973701512164}, {&quot;x&quot;: -1.8974358974358974, &quot;y&quot;: -0.8717948717948711, &quot;z&quot;: -3.2763701343583005}, {&quot;x&quot;: -2.0, &quot;y&quot;: -0.7692307692307686, &quot;z&quot;: -4.4082840236686405}, {&quot;x&quot;: -1.8974358974358974, &quot;y&quot;: -0.7692307692307686, &quot;z&quot;: -3.444680456514777}, {&quot;x&quot;: -2.0, &quot;y&quot;: -0.6666666666666661, &quot;z&quot;: -4.555555555555556}, {&quot;x&quot;: -1.8974358974358974, &quot;y&quot;: -0.6666666666666661, &quot;z&quot;: -3.591951988401693}, {&quot;x&quot;: -2.0, &quot;y&quot;: -0.5641025641025635, &quot;z&quot;: -4.681788297172913}, {&quot;x&quot;: -1.8974358974358974, &quot;y&quot;: -0.5641025641025635, &quot;z&quot;: -3.7181847300190496}, {&quot;x&quot;: -2.0, &quot;y&quot;: -0.461538461538461, &quot;z&quot;: -4.786982248520711}, {&quot;x&quot;: -1.8974358974358974, &quot;y&quot;: -0.461538461538461, &quot;z&quot;: -3.8233786813668473}, {&quot;x&quot;: -2.0, &quot;y&quot;: -0.3589743589743585, &quot;z&quot;: -4.871137409598949}, {&quot;x&quot;: -1.8974358974358974, &quot;y&quot;: -0.3589743589743585, &quot;z&quot;: -3.907533842445085}, {&quot;x&quot;: -2.0, &quot;y&quot;: -0.25641025641025594, &quot;z&quot;: -4.9342537804076265}, {&quot;x&quot;: -1.8974358974358974, &quot;y&quot;: -0.25641025641025594, &quot;z&quot;: -3.970650213253763}, {&quot;x&quot;: -2.0, &quot;y&quot;: -0.15384615384615338, &quot;z&quot;: -4.976331360946745}, {&quot;x&quot;: -1.8974358974358974, &quot;y&quot;: -0.15384615384615338, &quot;z&quot;: -4.012727793792882}, {&quot;x&quot;: -2.0, &quot;y&quot;: -0.05128205128205082, &quot;z&quot;: -4.997370151216305}, {&quot;x&quot;: -1.8974358974358974, &quot;y&quot;: -0.05128205128205082, &quot;z&quot;: -4.033766584062442}, {&quot;x&quot;: -2.0, &quot;y&quot;: 0.05128205128205174, &quot;z&quot;: -4.997370151216305}, {&quot;x&quot;: -1.8974358974358974, &quot;y&quot;: 0.05128205128205174, &quot;z&quot;: -4.033766584062442}, {&quot;x&quot;: -2.0, &quot;y&quot;: 0.1538461538461543, &quot;z&quot;: -4.976331360946745}, {&quot;x&quot;: -1.8974358974358974, &quot;y&quot;: 0.1538461538461543, &quot;z&quot;: -4.012727793792882}, {&quot;x&quot;: -2.0, &quot;y&quot;: 0.25641025641025683, &quot;z&quot;: -4.9342537804076265}, {&quot;x&quot;: -1.8974358974358974, &quot;y&quot;: 0.25641025641025683, &quot;z&quot;: -3.970650213253763}, {&quot;x&quot;: -2.0, &quot;y&quot;: 0.35897435897435936, &quot;z&quot;: -4.871137409598948}, {&quot;x&quot;: -1.8974358974358974, &quot;y&quot;: 0.35897435897435936, &quot;z&quot;: -3.9075338424450843}, {&quot;x&quot;: -2.0, &quot;y&quot;: 0.4615384615384619, &quot;z&quot;: -4.78698224852071}, {&quot;x&quot;: -1.8974358974358974, &quot;y&quot;: 0.4615384615384619, &quot;z&quot;: -3.8233786813668464}, {&quot;x&quot;: -2.0, &quot;y&quot;: 0.5641025641025644, &quot;z&quot;: -4.681788297172912}, {&quot;x&quot;: -1.8974358974358974, &quot;y&quot;: 0.5641025641025644, &quot;z&quot;: -3.7181847300190487}, {&quot;x&quot;: -2.0, &quot;y&quot;: 0.666666666666667, &quot;z&quot;: -4.555555555555555}, {&quot;x&quot;: -1.8974358974358974, &quot;y&quot;: 0.666666666666667, &quot;z&quot;: -3.591951988401692}, {&quot;x&quot;: -2.0, &quot;y&quot;: 0.7692307692307695, &quot;z&quot;: -4.408284023668639}, {&quot;x&quot;: -1.8974358974358974, &quot;y&quot;: 0.7692307692307695, &quot;z&quot;: -3.4446804565147753}, {&quot;x&quot;: -2.0, &quot;y&quot;: 0.871794871794872, &quot;z&quot;: -4.239973701512163}, {&quot;x&quot;: -1.8974358974358974, &quot;y&quot;: 0.871794871794872, &quot;z&quot;: -3.2763701343582996}, {&quot;x&quot;: -2.0, &quot;y&quot;: 0.9743589743589746, &quot;z&quot;: -4.050624589086127}, {&quot;x&quot;: -1.8974358974358974, &quot;y&quot;: 0.9743589743589746, &quot;z&quot;: -3.087021021932264}, {&quot;x&quot;: -2.0, &quot;y&quot;: 1.076923076923077, &quot;z&quot;: -3.840236686390532}, {&quot;x&quot;: -1.8974358974358974, &quot;y&quot;: 1.076923076923077, &quot;z&quot;: -2.8766331192366685}, {&quot;x&quot;: -2.0, &quot;y&quot;: 1.1794871794871797, &quot;z&quot;: -3.6088099934253774}, {&quot;x&quot;: -1.8974358974358974, &quot;y&quot;: 1.1794871794871797, &quot;z&quot;: -2.645206426271514}, {&quot;x&quot;: -2.0, &quot;y&quot;: 1.2820512820512824, &quot;z&quot;: -3.356344510190663}, {&quot;x&quot;: -1.8974358974358974, &quot;y&quot;: 1.2820512820512824, &quot;z&quot;: -2.3927409430367996}, {&quot;x&quot;: -2.0, &quot;y&quot;: 1.384615384615385, &quot;z&quot;: -3.0828402366863896}, {&quot;x&quot;: -1.8974358974358974, &quot;y&quot;: 1.384615384615385, &quot;z&quot;: -2.119236669532526}, {&quot;x&quot;: -2.0, &quot;y&quot;: 1.4871794871794877, &quot;z&quot;: -2.7882971729125554}, {&quot;x&quot;: -1.8974358974358974, &quot;y&quot;: 1.4871794871794877, &quot;z&quot;: -1.824693605758692}, {&quot;x&quot;: -2.0, &quot;y&quot;: 1.5897435897435903, &quot;z&quot;: -2.472715318869163}, {&quot;x&quot;: -1.8974358974358974, &quot;y&quot;: 1.5897435897435903, &quot;z&quot;: -1.5091117517152997}, {&quot;x&quot;: -2.0, &quot;y&quot;: 1.692307692307693, &quot;z&quot;: -2.136094674556211}, {&quot;x&quot;: -1.8974358974358974, &quot;y&quot;: 1.692307692307693, &quot;z&quot;: -1.1724911074023474}, {&quot;x&quot;: -2.0, &quot;y&quot;: 1.7948717948717956, &quot;z&quot;: -1.7784352399736987}, {&quot;x&quot;: -1.8974358974358974, &quot;y&quot;: 1.7948717948717956, &quot;z&quot;: -0.8148316728198353}, {&quot;x&quot;: -2.0, &quot;y&quot;: 1.8974358974358982, &quot;z&quot;: -1.3997370151216275}, {&quot;x&quot;: -1.8974358974358974, &quot;y&quot;: 1.8974358974358982, &quot;z&quot;: -0.4361334479677641}, {&quot;x&quot;: -2.0, &quot;y&quot;: 2.0, &quot;z&quot;: -1.0}, {&quot;x&quot;: -1.8974358974358974, &quot;y&quot;: 2.0, &quot;z&quot;: -0.036396432846136584}, {&quot;x&quot;: -1.7948717948717947, &quot;y&quot;: -1.8974358974358974, &quot;z&quot;: 0.40771085149783515}, {&quot;x&quot;: -1.7948717948717947, &quot;y&quot;: -2.0, &quot;z&quot;: 0.8074478666194658}, {&quot;x&quot;: -1.7948717948717947, &quot;y&quot;: -1.7948717948717947, &quot;z&quot;: 0.02901262664576354}, {&quot;x&quot;: -1.7948717948717947, &quot;y&quot;: -1.692307692307692, &quot;z&quot;: -0.32864680793674816}, {&quot;x&quot;: -1.7948717948717947, &quot;y&quot;: -1.5897435897435894, &quot;z&quot;: -0.6652674522497004}, {&quot;x&quot;: -1.7948717948717947, &quot;y&quot;: -1.4871794871794868, &quot;z&quot;: -0.9808493062930927}, {&quot;x&quot;: -1.7948717948717947, &quot;y&quot;: -1.3846153846153841, &quot;z&quot;: -1.275392370066926}, {&quot;x&quot;: -1.7948717948717947, &quot;y&quot;: -1.2820512820512815, &quot;z&quot;: -1.5488966435712}, {&quot;x&quot;: -1.7948717948717947, &quot;y&quot;: -1.1794871794871788, &quot;z&quot;: -1.8013621268059135}, {&quot;x&quot;: -1.7948717948717947, &quot;y&quot;: -1.0769230769230762, &quot;z&quot;: -2.032788819771069}, {&quot;x&quot;: -1.7948717948717947, &quot;y&quot;: -0.9743589743589737, &quot;z&quot;: -2.2431767224666634}, {&quot;x&quot;: -1.7948717948717947, &quot;y&quot;: -0.8717948717948711, &quot;z&quot;: -2.432525834892698}, {&quot;x&quot;: -1.7948717948717947, &quot;y&quot;: -0.7692307692307686, &quot;z&quot;: -2.6008361570491747}, {&quot;x&quot;: -1.7948717948717947, &quot;y&quot;: -0.6666666666666661, &quot;z&quot;: -2.7481076889360905}, {&quot;x&quot;: -1.7948717948717947, &quot;y&quot;: -0.5641025641025635, &quot;z&quot;: -2.8743404305534472}, {&quot;x&quot;: -1.7948717948717947, &quot;y&quot;: -0.461538461538461, &quot;z&quot;: -2.979534381901245}, {&quot;x&quot;: -1.7948717948717947, &quot;y&quot;: -0.3589743589743585, &quot;z&quot;: -3.063689542979483}, {&quot;x&quot;: -1.7948717948717947, &quot;y&quot;: -0.25641025641025594, &quot;z&quot;: -3.1268059137881608}, {&quot;x&quot;: -1.7948717948717947, &quot;y&quot;: -0.15384615384615338, &quot;z&quot;: -3.1688834943272797}, {&quot;x&quot;: -1.7948717948717947, &quot;y&quot;: -0.05128205128205082, &quot;z&quot;: -3.1899222845968396}, {&quot;x&quot;: -1.7948717948717947, &quot;y&quot;: 0.05128205128205174, &quot;z&quot;: -3.1899222845968396}, {&quot;x&quot;: -1.7948717948717947, &quot;y&quot;: 0.1538461538461543, &quot;z&quot;: -3.1688834943272797}, {&quot;x&quot;: -1.7948717948717947, &quot;y&quot;: 0.25641025641025683, &quot;z&quot;: -3.1268059137881608}, {&quot;x&quot;: -1.7948717948717947, &quot;y&quot;: 0.35897435897435936, &quot;z&quot;: -3.063689542979482}, {&quot;x&quot;: -1.7948717948717947, &quot;y&quot;: 0.4615384615384619, &quot;z&quot;: -2.979534381901244}, {&quot;x&quot;: -1.7948717948717947, &quot;y&quot;: 0.5641025641025644, &quot;z&quot;: -2.8743404305534463}, {&quot;x&quot;: -1.7948717948717947, &quot;y&quot;: 0.666666666666667, &quot;z&quot;: -2.7481076889360896}, {&quot;x&quot;: -1.7948717948717947, &quot;y&quot;: 0.7692307692307695, &quot;z&quot;: -2.600836157049173}, {&quot;x&quot;: -1.7948717948717947, &quot;y&quot;: 0.871794871794872, &quot;z&quot;: -2.4325258348926972}, {&quot;x&quot;: -1.7948717948717947, &quot;y&quot;: 0.9743589743589746, &quot;z&quot;: -2.2431767224666617}, {&quot;x&quot;: -1.7948717948717947, &quot;y&quot;: 1.076923076923077, &quot;z&quot;: -2.032788819771066}, {&quot;x&quot;: -1.7948717948717947, &quot;y&quot;: 1.1794871794871797, &quot;z&quot;: -1.8013621268059117}, {&quot;x&quot;: -1.7948717948717947, &quot;y&quot;: 1.2820512820512824, &quot;z&quot;: -1.5488966435711973}, {&quot;x&quot;: -1.7948717948717947, &quot;y&quot;: 1.384615384615385, &quot;z&quot;: -1.2753923700669239}, {&quot;x&quot;: -1.7948717948717947, &quot;y&quot;: 1.4871794871794877, &quot;z&quot;: -0.9808493062930901}, {&quot;x&quot;: -1.7948717948717947, &quot;y&quot;: 1.5897435897435903, &quot;z&quot;: -0.6652674522496973}, {&quot;x&quot;: -1.7948717948717947, &quot;y&quot;: 1.692307692307693, &quot;z&quot;: -0.32864680793674506}, {&quot;x&quot;: -1.7948717948717947, &quot;y&quot;: 1.7948717948717956, &quot;z&quot;: 0.029012626645767092}, {&quot;x&quot;: -1.7948717948717947, &quot;y&quot;: 1.8974358974358982, &quot;z&quot;: 0.40771085149783826}, {&quot;x&quot;: -1.7948717948717947, &quot;y&quot;: 2.0, &quot;z&quot;: 0.8074478666194658}, {&quot;x&quot;: -1.692307692307692, &quot;y&quot;: -1.8974358974358974, &quot;z&quot;: 1.1382693572042704}, {&quot;x&quot;: -1.692307692307692, &quot;y&quot;: -2.0, &quot;z&quot;: 1.538006372325901}, {&quot;x&quot;: -1.692307692307692, &quot;y&quot;: -1.7948717948717947, &quot;z&quot;: 0.7595711323521988}, {&quot;x&quot;: -1.692307692307692, &quot;y&quot;: -1.692307692307692, &quot;z&quot;: 0.40191169776968705}, {&quot;x&quot;: -1.692307692307692, &quot;y&quot;: -1.5897435897435894, &quot;z&quot;: 0.0652910534567348}, {&quot;x&quot;: -1.692307692307692, &quot;y&quot;: -1.4871794871794868, &quot;z&quot;: -0.25029080058665754}, {&quot;x&quot;: -1.692307692307692, &quot;y&quot;: -1.3846153846153841, &quot;z&quot;: -0.5448338643604909}, {&quot;x&quot;: -1.692307692307692, &quot;y&quot;: -1.2820512820512815, &quot;z&quot;: -0.8183381378647647}, {&quot;x&quot;: -1.692307692307692, &quot;y&quot;: -1.1794871794871788, &quot;z&quot;: -1.0708036210994782}, {&quot;x&quot;: -1.692307692307692, &quot;y&quot;: -1.0769230769230762, &quot;z&quot;: -1.3022303140646332}, {&quot;x&quot;: -1.692307692307692, &quot;y&quot;: -0.9743589743589737, &quot;z&quot;: -1.5126182167602278}, {&quot;x&quot;: -1.692307692307692, &quot;y&quot;: -0.8717948717948711, &quot;z&quot;: -1.701967329186263}, {&quot;x&quot;: -1.692307692307692, &quot;y&quot;: -0.7692307692307686, &quot;z&quot;: -1.8702776513427386}, {&quot;x&quot;: -1.692307692307692, &quot;y&quot;: -0.6666666666666661, &quot;z&quot;: -2.0175491832296553}, {&quot;x&quot;: -1.692307692307692, &quot;y&quot;: -0.5641025641025635, &quot;z&quot;: -2.143781924847012}, {&quot;x&quot;: -1.692307692307692, &quot;y&quot;: -0.461538461538461, &quot;z&quot;: -2.2489758761948098}, {&quot;x&quot;: -1.692307692307692, &quot;y&quot;: -0.3589743589743585, &quot;z&quot;: -2.3331310372730476}, {&quot;x&quot;: -1.692307692307692, &quot;y&quot;: -0.25641025641025594, &quot;z&quot;: -2.3962474080817255}, {&quot;x&quot;: -1.692307692307692, &quot;y&quot;: -0.15384615384615338, &quot;z&quot;: -2.4383249886208445}, {&quot;x&quot;: -1.692307692307692, &quot;y&quot;: -0.05128205128205082, &quot;z&quot;: -2.4593637788904044}, {&quot;x&quot;: -1.692307692307692, &quot;y&quot;: 0.05128205128205174, &quot;z&quot;: -2.4593637788904044}, {&quot;x&quot;: -1.692307692307692, &quot;y&quot;: 0.1538461538461543, &quot;z&quot;: -2.4383249886208445}, {&quot;x&quot;: -1.692307692307692, &quot;y&quot;: 0.25641025641025683, &quot;z&quot;: -2.3962474080817255}, {&quot;x&quot;: -1.692307692307692, &quot;y&quot;: 0.35897435897435936, &quot;z&quot;: -2.3331310372730467}, {&quot;x&quot;: -1.692307692307692, &quot;y&quot;: 0.4615384615384619, &quot;z&quot;: -2.248975876194809}, {&quot;x&quot;: -1.692307692307692, &quot;y&quot;: 0.5641025641025644, &quot;z&quot;: -2.143781924847011}, {&quot;x&quot;: -1.692307692307692, &quot;y&quot;: 0.666666666666667, &quot;z&quot;: -2.0175491832296544}, {&quot;x&quot;: -1.692307692307692, &quot;y&quot;: 0.7692307692307695, &quot;z&quot;: -1.8702776513427377}, {&quot;x&quot;: -1.692307692307692, &quot;y&quot;: 0.871794871794872, &quot;z&quot;: -1.701967329186262}, {&quot;x&quot;: -1.692307692307692, &quot;y&quot;: 0.9743589743589746, &quot;z&quot;: -1.512618216760226}, {&quot;x&quot;: -1.692307692307692, &quot;y&quot;: 1.076923076923077, &quot;z&quot;: -1.302230314064631}, {&quot;x&quot;: -1.692307692307692, &quot;y&quot;: 1.1794871794871797, &quot;z&quot;: -1.0708036210994765}, {&quot;x&quot;: -1.692307692307692, &quot;y&quot;: 1.2820512820512824, &quot;z&quot;: -0.8183381378647621}, {&quot;x&quot;: -1.692307692307692, &quot;y&quot;: 1.384615384615385, &quot;z&quot;: -0.5448338643604886}, {&quot;x&quot;: -1.692307692307692, &quot;y&quot;: 1.4871794871794877, &quot;z&quot;: -0.25029080058665487}, {&quot;x&quot;: -1.692307692307692, &quot;y&quot;: 1.5897435897435903, &quot;z&quot;: 0.06529105345673791}, {&quot;x&quot;: -1.692307692307692, &quot;y&quot;: 1.692307692307693, &quot;z&quot;: 0.40191169776969016}, {&quot;x&quot;: -1.692307692307692, &quot;y&quot;: 1.7948717948717956, &quot;z&quot;: 0.7595711323522023}, {&quot;x&quot;: -1.692307692307692, &quot;y&quot;: 1.8974358974358982, &quot;z&quot;: 1.1382693572042735}, {&quot;x&quot;: -1.692307692307692, &quot;y&quot;: 2.0, &quot;z&quot;: 1.538006372325901}, {&quot;x&quot;: -1.5897435897435894, &quot;y&quot;: -1.8974358974358974, &quot;z&quot;: 1.7620155430806341}, {&quot;x&quot;: -1.5897435897435894, &quot;y&quot;: -2.0, &quot;z&quot;: 2.1617525582022648}, {&quot;x&quot;: -1.5897435897435894, &quot;y&quot;: -1.7948717948717947, &quot;z&quot;: 1.3833173182285625}, {&quot;x&quot;: -1.5897435897435894, &quot;y&quot;: -1.692307692307692, &quot;z&quot;: 1.0256578836460508}, {&quot;x&quot;: -1.5897435897435894, &quot;y&quot;: -1.5897435897435894, &quot;z&quot;: 0.6890372393330986}, {&quot;x&quot;: -1.5897435897435894, &quot;y&quot;: -1.4871794871794868, &quot;z&quot;: 0.37345538528970623}, {&quot;x&quot;: -1.5897435897435894, &quot;y&quot;: -1.3846153846153841, &quot;z&quot;: 0.07891232151587291}, {&quot;x&quot;: -1.5897435897435894, &quot;y&quot;: -1.2820512820512815, &quot;z&quot;: -0.19459195198840096}, {&quot;x&quot;: -1.5897435897435894, &quot;y&quot;: -1.1794871794871788, &quot;z&quot;: -0.4470574352231145}, {&quot;x&quot;: -1.5897435897435894, &quot;y&quot;: -1.0769230769230762, &quot;z&quot;: -0.6784841281882694}, {&quot;x&quot;: -1.5897435897435894, &quot;y&quot;: -0.9743589743589737, &quot;z&quot;: -0.888872030883864}, {&quot;x&quot;: -1.5897435897435894, &quot;y&quot;: -0.8717948717948711, &quot;z&quot;: -1.0782211433098996}, {&quot;x&quot;: -1.5897435897435894, &quot;y&quot;: -0.7692307692307686, &quot;z&quot;: -1.2465314654663753}, {&quot;x&quot;: -1.5897435897435894, &quot;y&quot;: -0.6666666666666661, &quot;z&quot;: -1.3938029973532915}, {&quot;x&quot;: -1.5897435897435894, &quot;y&quot;: -0.5641025641025635, &quot;z&quot;: -1.5200357389706483}, {&quot;x&quot;: -1.5897435897435894, &quot;y&quot;: -0.461538461538461, &quot;z&quot;: -1.625229690318446}, {&quot;x&quot;: -1.5897435897435894, &quot;y&quot;: -0.3589743589743585, &quot;z&quot;: -1.7093848513966838}, {&quot;x&quot;: -1.5897435897435894, &quot;y&quot;: -0.25641025641025594, &quot;z&quot;: -1.7725012222053622}, {&quot;x&quot;: -1.5897435897435894, &quot;y&quot;: -0.15384615384615338, &quot;z&quot;: -1.8145788027444811}, {&quot;x&quot;: -1.5897435897435894, &quot;y&quot;: -0.05128205128205082, &quot;z&quot;: -1.8356175930140406}, {&quot;x&quot;: -1.5897435897435894, &quot;y&quot;: 0.05128205128205174, &quot;z&quot;: -1.8356175930140406}, {&quot;x&quot;: -1.5897435897435894, &quot;y&quot;: 0.1538461538461543, &quot;z&quot;: -1.8145788027444807}, {&quot;x&quot;: -1.5897435897435894, &quot;y&quot;: 0.25641025641025683, &quot;z&quot;: -1.7725012222053618}, {&quot;x&quot;: -1.5897435897435894, &quot;y&quot;: 0.35897435897435936, &quot;z&quot;: -1.709384851396683}, {&quot;x&quot;: -1.5897435897435894, &quot;y&quot;: 0.4615384615384619, &quot;z&quot;: -1.625229690318445}, {&quot;x&quot;: -1.5897435897435894, &quot;y&quot;: 0.5641025641025644, &quot;z&quot;: -1.5200357389706474}, {&quot;x&quot;: -1.5897435897435894, &quot;y&quot;: 0.666666666666667, &quot;z&quot;: -1.3938029973532906}, {&quot;x&quot;: -1.5897435897435894, &quot;y&quot;: 0.7692307692307695, &quot;z&quot;: -1.246531465466374}, {&quot;x&quot;: -1.5897435897435894, &quot;y&quot;: 0.871794871794872, &quot;z&quot;: -1.0782211433098978}, {&quot;x&quot;: -1.5897435897435894, &quot;y&quot;: 0.9743589743589746, &quot;z&quot;: -0.8888720308838622}, {&quot;x&quot;: -1.5897435897435894, &quot;y&quot;: 1.076923076923077, &quot;z&quot;: -0.6784841281882672}, {&quot;x&quot;: -1.5897435897435894, &quot;y&quot;: 1.1794871794871797, &quot;z&quot;: -0.4470574352231127}, {&quot;x&quot;: -1.5897435897435894, &quot;y&quot;: 1.2820512820512824, &quot;z&quot;: -0.1945919519883983}, {&quot;x&quot;: -1.5897435897435894, &quot;y&quot;: 1.384615384615385, &quot;z&quot;: 0.07891232151587513}, {&quot;x&quot;: -1.5897435897435894, &quot;y&quot;: 1.4871794871794877, &quot;z&quot;: 0.3734553852897089}, {&quot;x&quot;: -1.5897435897435894, &quot;y&quot;: 1.5897435897435903, &quot;z&quot;: 0.6890372393331017}, {&quot;x&quot;: -1.5897435897435894, &quot;y&quot;: 1.692307692307693, &quot;z&quot;: 1.025657883646054}, {&quot;x&quot;: -1.5897435897435894, &quot;y&quot;: 1.7948717948717956, &quot;z&quot;: 1.383317318228566}, {&quot;x&quot;: -1.5897435897435894, &quot;y&quot;: 1.8974358974358982, &quot;z&quot;: 1.7620155430806372}, {&quot;x&quot;: -1.5897435897435894, &quot;y&quot;: 2.0, &quot;z&quot;: 2.1617525582022648}, {&quot;x&quot;: -1.4871794871794868, &quot;y&quot;: -1.8974358974358974, &quot;z&quot;: 2.2854228830560204}, {&quot;x&quot;: -1.4871794871794868, &quot;y&quot;: -2.0, &quot;z&quot;: 2.685159898177651}, {&quot;x&quot;: -1.4871794871794868, &quot;y&quot;: -1.7948717948717947, &quot;z&quot;: 1.9067246582039488}, {&quot;x&quot;: -1.4871794871794868, &quot;y&quot;: -1.692307692307692, &quot;z&quot;: 1.549065223621437}, {&quot;x&quot;: -1.4871794871794868, &quot;y&quot;: -1.5897435897435894, &quot;z&quot;: 1.2124445793084848}, {&quot;x&quot;: -1.4871794871794868, &quot;y&quot;: -1.4871794871794868, &quot;z&quot;: 0.8968627252650925}, {&quot;x&quot;: -1.4871794871794868, &quot;y&quot;: -1.3846153846153841, &quot;z&quot;: 0.6023196614912592}, {&quot;x&quot;: -1.4871794871794868, &quot;y&quot;: -1.2820512820512815, &quot;z&quot;: 0.3288153879869855}, {&quot;x&quot;: -1.4871794871794868, &quot;y&quot;: -1.1794871794871788, &quot;z&quot;: 0.07634990475227155}, {&quot;x&quot;: -1.4871794871794868, &quot;y&quot;: -1.0769230769230762, &quot;z&quot;: -0.15507678821288318}, {&quot;x&quot;: -1.4871794871794868, &quot;y&quot;: -0.9743589743589737, &quot;z&quot;: -0.3654646909084778}, {&quot;x&quot;: -1.4871794871794868, &quot;y&quot;: -0.8717948717948711, &quot;z&quot;: -0.5548138033345134}, {&quot;x&quot;: -1.4871794871794868, &quot;y&quot;: -0.7692307692307686, &quot;z&quot;: -0.723124125490989}, {&quot;x&quot;: -1.4871794871794868, &quot;y&quot;: -0.6666666666666661, &quot;z&quot;: -0.8703956573779053}, {&quot;x&quot;: -1.4871794871794868, &quot;y&quot;: -0.5641025641025635, &quot;z&quot;: -0.996628398995262}, {&quot;x&quot;: -1.4871794871794868, &quot;y&quot;: -0.461538461538461, &quot;z&quot;: -1.1018223503430598}, {&quot;x&quot;: -1.4871794871794868, &quot;y&quot;: -0.3589743589743585, &quot;z&quot;: -1.1859775114212976}, {&quot;x&quot;: -1.4871794871794868, &quot;y&quot;: -0.25641025641025594, &quot;z&quot;: -1.249093882229976}, {&quot;x&quot;: -1.4871794871794868, &quot;y&quot;: -0.15384615384615338, &quot;z&quot;: -1.291171462769095}, {&quot;x&quot;: -1.4871794871794868, &quot;y&quot;: -0.05128205128205082, &quot;z&quot;: -1.312210253038654}, {&quot;x&quot;: -1.4871794871794868, &quot;y&quot;: 0.05128205128205174, &quot;z&quot;: -1.312210253038654}, {&quot;x&quot;: -1.4871794871794868, &quot;y&quot;: 0.1538461538461543, &quot;z&quot;: -1.2911714627690944}, {&quot;x&quot;: -1.4871794871794868, &quot;y&quot;: 0.25641025641025683, &quot;z&quot;: -1.2490938822299755}, {&quot;x&quot;: -1.4871794871794868, &quot;y&quot;: 0.35897435897435936, &quot;z&quot;: -1.1859775114212967}, {&quot;x&quot;: -1.4871794871794868, &quot;y&quot;: 0.4615384615384619, &quot;z&quot;: -1.1018223503430589}, {&quot;x&quot;: -1.4871794871794868, &quot;y&quot;: 0.5641025641025644, &quot;z&quot;: -0.9966283989952611}, {&quot;x&quot;: -1.4871794871794868, &quot;y&quot;: 0.666666666666667, &quot;z&quot;: -0.8703956573779044}, {&quot;x&quot;: -1.4871794871794868, &quot;y&quot;: 0.7692307692307695, &quot;z&quot;: -0.7231241254909877}, {&quot;x&quot;: -1.4871794871794868, &quot;y&quot;: 0.871794871794872, &quot;z&quot;: -0.5548138033345116}, {&quot;x&quot;: -1.4871794871794868, &quot;y&quot;: 0.9743589743589746, &quot;z&quot;: -0.365464690908476}, {&quot;x&quot;: -1.4871794871794868, &quot;y&quot;: 1.076923076923077, &quot;z&quot;: -0.15507678821288096}, {&quot;x&quot;: -1.4871794871794868, &quot;y&quot;: 1.1794871794871797, &quot;z&quot;: 0.07634990475227355}, {&quot;x&quot;: -1.4871794871794868, &quot;y&quot;: 1.2820512820512824, &quot;z&quot;: 0.32881538798698773}, {&quot;x&quot;: -1.4871794871794868, &quot;y&quot;: 1.384615384615385, &quot;z&quot;: 0.6023196614912616}, {&quot;x&quot;: -1.4871794871794868, &quot;y&quot;: 1.4871794871794877, &quot;z&quot;: 0.8968627252650951}, {&quot;x&quot;: -1.4871794871794868, &quot;y&quot;: 1.5897435897435903, &quot;z&quot;: 1.212444579308488}, {&quot;x&quot;: -1.4871794871794868, &quot;y&quot;: 1.692307692307693, &quot;z&quot;: 1.5490652236214402}, {&quot;x&quot;: -1.4871794871794868, &quot;y&quot;: 1.7948717948717956, &quot;z&quot;: 1.9067246582039523}, {&quot;x&quot;: -1.4871794871794868, &quot;y&quot;: 1.8974358974358982, &quot;z&quot;: 2.2854228830560235}, {&quot;x&quot;: -1.4871794871794868, &quot;y&quot;: 2.0, &quot;z&quot;: 2.685159898177651}, {&quot;x&quot;: -1.3846153846153841, &quot;y&quot;: -1.8974358974358974, &quot;z&quot;: 2.7149648510595275}, {&quot;x&quot;: -1.3846153846153841, &quot;y&quot;: -2.0, &quot;z&quot;: 3.114701866181158}, {&quot;x&quot;: -1.3846153846153841, &quot;y&quot;: -1.7948717948717947, &quot;z&quot;: 2.336266626207456}, {&quot;x&quot;: -1.3846153846153841, &quot;y&quot;: -1.692307692307692, &quot;z&quot;: 1.9786071916249441}, {&quot;x&quot;: -1.3846153846153841, &quot;y&quot;: -1.5897435897435894, &quot;z&quot;: 1.641986547311992}, {&quot;x&quot;: -1.3846153846153841, &quot;y&quot;: -1.4871794871794868, &quot;z&quot;: 1.3264046932685996}, {&quot;x&quot;: -1.3846153846153841, &quot;y&quot;: -1.3846153846153841, &quot;z&quot;: 1.0318616294947662}, {&quot;x&quot;: -1.3846153846153841, &quot;y&quot;: -1.2820512820512815, &quot;z&quot;: 0.7583573559904926}, {&quot;x&quot;: -1.3846153846153841, &quot;y&quot;: -1.1794871794871788, &quot;z&quot;: 0.5058918727557786}, {&quot;x&quot;: -1.3846153846153841, &quot;y&quot;: -1.0769230769230762, &quot;z&quot;: 0.2744651797906239}, {&quot;x&quot;: -1.3846153846153841, &quot;y&quot;: -0.9743589743589737, &quot;z&quot;: 0.0640772770950293}, {&quot;x&quot;: -1.3846153846153841, &quot;y&quot;: -0.8717948717948711, &quot;z&quot;: -0.12527183533100628}, {&quot;x&quot;: -1.3846153846153841, &quot;y&quot;: -0.7692307692307686, &quot;z&quot;: -0.29358215748748195}, {&quot;x&quot;: -1.3846153846153841, &quot;y&quot;: -0.6666666666666661, &quot;z&quot;: -0.44085368937439817}, {&quot;x&quot;: -1.3846153846153841, &quot;y&quot;: -0.5641025641025635, &quot;z&quot;: -0.5670864309917549}, {&quot;x&quot;: -1.3846153846153841, &quot;y&quot;: -0.461538461538461, &quot;z&quot;: -0.6722803823395527}, {&quot;x&quot;: -1.3846153846153841, &quot;y&quot;: -0.3589743589743585, &quot;z&quot;: -0.7564355434177905}, {&quot;x&quot;: -1.3846153846153841, &quot;y&quot;: -0.25641025641025594, &quot;z&quot;: -0.8195519142264689}, {&quot;x&quot;: -1.3846153846153841, &quot;y&quot;: -0.15384615384615338, &quot;z&quot;: -0.8616294947655878}, {&quot;x&quot;: -1.3846153846153841, &quot;y&quot;: -0.05128205128205082, &quot;z&quot;: -0.8826682850351468}, {&quot;x&quot;: -1.3846153846153841, &quot;y&quot;: 0.05128205128205174, &quot;z&quot;: -0.8826682850351468}, {&quot;x&quot;: -1.3846153846153841, &quot;y&quot;: 0.1538461538461543, &quot;z&quot;: -0.8616294947655874}, {&quot;x&quot;: -1.3846153846153841, &quot;y&quot;: 0.25641025641025683, &quot;z&quot;: -0.8195519142264684}, {&quot;x&quot;: -1.3846153846153841, &quot;y&quot;: 0.35897435897435936, &quot;z&quot;: -0.7564355434177896}, {&quot;x&quot;: -1.3846153846153841, &quot;y&quot;: 0.4615384615384619, &quot;z&quot;: -0.6722803823395518}, {&quot;x&quot;: -1.3846153846153841, &quot;y&quot;: 0.5641025641025644, &quot;z&quot;: -0.567086430991754}, {&quot;x&quot;: -1.3846153846153841, &quot;y&quot;: 0.666666666666667, &quot;z&quot;: -0.4408536893743973}, {&quot;x&quot;: -1.3846153846153841, &quot;y&quot;: 0.7692307692307695, &quot;z&quot;: -0.2935821574874806}, {&quot;x&quot;: -1.3846153846153841, &quot;y&quot;: 0.871794871794872, &quot;z&quot;: -0.1252718353310045}, {&quot;x&quot;: -1.3846153846153841, &quot;y&quot;: 0.9743589743589746, &quot;z&quot;: 0.06407727709503108}, {&quot;x&quot;: -1.3846153846153841, &quot;y&quot;: 1.076923076923077, &quot;z&quot;: 0.2744651797906259}, {&quot;x&quot;: -1.3846153846153841, &quot;y&quot;: 1.1794871794871797, &quot;z&quot;: 0.5058918727557806}, {&quot;x&quot;: -1.3846153846153841, &quot;y&quot;: 1.2820512820512824, &quot;z&quot;: 0.7583573559904948}, {&quot;x&quot;: -1.3846153846153841, &quot;y&quot;: 1.384615384615385, &quot;z&quot;: 1.0318616294947685}, {&quot;x&quot;: -1.3846153846153841, &quot;y&quot;: 1.4871794871794877, &quot;z&quot;: 1.3264046932686022}, {&quot;x&quot;: -1.3846153846153841, &quot;y&quot;: 1.5897435897435903, &quot;z&quot;: 1.641986547311995}, {&quot;x&quot;: -1.3846153846153841, &quot;y&quot;: 1.692307692307693, &quot;z&quot;: 1.9786071916249472}, {&quot;x&quot;: -1.3846153846153841, &quot;y&quot;: 1.7948717948717956, &quot;z&quot;: 2.3362666262074594}, {&quot;x&quot;: -1.3846153846153841, &quot;y&quot;: 1.8974358974358982, &quot;z&quot;: 2.7149648510595306}, {&quot;x&quot;: -1.3846153846153841, &quot;y&quot;: 2.0, &quot;z&quot;: 3.114701866181158}, {&quot;x&quot;: -1.2820512820512815, &quot;y&quot;: -1.8974358974358974, &quot;z&quot;: 3.057114921020248}, {&quot;x&quot;: -1.2820512820512815, &quot;y&quot;: -2.0, &quot;z&quot;: 3.456851936141879}, {&quot;x&quot;: -1.2820512820512815, &quot;y&quot;: -1.7948717948717947, &quot;z&quot;: 2.6784166961681763}, {&quot;x&quot;: -1.2820512820512815, &quot;y&quot;: -1.692307692307692, &quot;z&quot;: 2.3207572615856646}, {&quot;x&quot;: -1.2820512820512815, &quot;y&quot;: -1.5897435897435894, &quot;z&quot;: 1.9841366172727124}, {&quot;x&quot;: -1.2820512820512815, &quot;y&quot;: -1.4871794871794868, &quot;z&quot;: 1.66855476322932}, {&quot;x&quot;: -1.2820512820512815, &quot;y&quot;: -1.3846153846153841, &quot;z&quot;: 1.3740116994554867}, {&quot;x&quot;: -1.2820512820512815, &quot;y&quot;: -1.2820512820512815, &quot;z&quot;: 1.1005074259512133}, {&quot;x&quot;: -1.2820512820512815, &quot;y&quot;: -1.1794871794871788, &quot;z&quot;: 0.8480419427164991}, {&quot;x&quot;: -1.2820512820512815, &quot;y&quot;: -1.0769230769230762, &quot;z&quot;: 0.6166152497513444}, {&quot;x&quot;: -1.2820512820512815, &quot;y&quot;: -0.9743589743589737, &quot;z&quot;: 0.4062273470557498}, {&quot;x&quot;: -1.2820512820512815, &quot;y&quot;: -0.8717948717948711, &quot;z&quot;: 0.21687823462971423}, {&quot;x&quot;: -1.2820512820512815, &quot;y&quot;: -0.7692307692307686, &quot;z&quot;: 0.04856791247323855}, {&quot;x&quot;: -1.2820512820512815, &quot;y&quot;: -0.6666666666666661, &quot;z&quot;: -0.09870361941367767}, {&quot;x&quot;: -1.2820512820512815, &quot;y&quot;: -0.5641025641025635, &quot;z&quot;: -0.22493636103103465}, {&quot;x&quot;: -1.2820512820512815, &quot;y&quot;: -0.461538461538461, &quot;z&quot;: -0.33013031237883195}, {&quot;x&quot;: -1.2820512820512815, &quot;y&quot;: -0.3589743589743585, &quot;z&quot;: -0.4142854734570698}, {&quot;x&quot;: -1.2820512820512815, &quot;y&quot;: -0.25641025641025594, &quot;z&quot;: -0.4774018442657484}, {&quot;x&quot;: -1.2820512820512815, &quot;y&quot;: -0.15384615384615338, &quot;z&quot;: -0.5194794248048673}, {&quot;x&quot;: -1.2820512820512815, &quot;y&quot;: -0.05128205128205082, &quot;z&quot;: -0.5405182150744263}, {&quot;x&quot;: -1.2820512820512815, &quot;y&quot;: 0.05128205128205174, &quot;z&quot;: -0.5405182150744263}, {&quot;x&quot;: -1.2820512820512815, &quot;y&quot;: 0.1538461538461543, &quot;z&quot;: -0.5194794248048669}, {&quot;x&quot;: -1.2820512820512815, &quot;y&quot;: 0.25641025641025683, &quot;z&quot;: -0.47740184426574794}, {&quot;x&quot;: -1.2820512820512815, &quot;y&quot;: 0.35897435897435936, &quot;z&quot;: -0.4142854734570691}, {&quot;x&quot;: -1.2820512820512815, &quot;y&quot;: 0.4615384615384619, &quot;z&quot;: -0.33013031237883106}, {&quot;x&quot;: -1.2820512820512815, &quot;y&quot;: 0.5641025641025644, &quot;z&quot;: -0.22493636103103354}, {&quot;x&quot;: -1.2820512820512815, &quot;y&quot;: 0.666666666666667, &quot;z&quot;: -0.09870361941367656}, {&quot;x&quot;: -1.2820512820512815, &quot;y&quot;: 0.7692307692307695, &quot;z&quot;: 0.04856791247323988}, {&quot;x&quot;: -1.2820512820512815, &quot;y&quot;: 0.871794871794872, &quot;z&quot;: 0.216878234629716}, {&quot;x&quot;: -1.2820512820512815, &quot;y&quot;: 0.9743589743589746, &quot;z&quot;: 0.4062273470557516}, {&quot;x&quot;: -1.2820512820512815, &quot;y&quot;: 1.076923076923077, &quot;z&quot;: 0.6166152497513464}, {&quot;x&quot;: -1.2820512820512815, &quot;y&quot;: 1.1794871794871797, &quot;z&quot;: 0.8480419427165011}, {&quot;x&quot;: -1.2820512820512815, &quot;y&quot;: 1.2820512820512824, &quot;z&quot;: 1.100507425951215}, {&quot;x&quot;: -1.2820512820512815, &quot;y&quot;: 1.384615384615385, &quot;z&quot;: 1.3740116994554894}, {&quot;x&quot;: -1.2820512820512815, &quot;y&quot;: 1.4871794871794877, &quot;z&quot;: 1.6685547632293227}, {&quot;x&quot;: -1.2820512820512815, &quot;y&quot;: 1.5897435897435903, &quot;z&quot;: 1.9841366172727155}, {&quot;x&quot;: -1.2820512820512815, &quot;y&quot;: 1.692307692307693, &quot;z&quot;: 2.3207572615856678}, {&quot;x&quot;: -1.2820512820512815, &quot;y&quot;: 1.7948717948717956, &quot;z&quot;: 2.67841669616818}, {&quot;x&quot;: -1.2820512820512815, &quot;y&quot;: 1.8974358974358982, &quot;z&quot;: 3.0571149210202506}, {&quot;x&quot;: -1.2820512820512815, &quot;y&quot;: 2.0, &quot;z&quot;: 3.456851936141879}, {&quot;x&quot;: -1.1794871794871788, &quot;y&quot;: -1.8974358974358974, &quot;z&quot;: 3.3183465668672785}, {&quot;x&quot;: -1.1794871794871788, &quot;y&quot;: -2.0, &quot;z&quot;: 3.7180835819889086}, {&quot;x&quot;: -1.1794871794871788, &quot;y&quot;: -1.7948717948717947, &quot;z&quot;: 2.9396483420152064}, {&quot;x&quot;: -1.1794871794871788, &quot;y&quot;: -1.692307692307692, &quot;z&quot;: 2.5819889074326947}, {&quot;x&quot;: -1.1794871794871788, &quot;y&quot;: -1.5897435897435894, &quot;z&quot;: 2.2453682631197425}, {&quot;x&quot;: -1.1794871794871788, &quot;y&quot;: -1.4871794871794868, &quot;z&quot;: 1.9297864090763501}, {&quot;x&quot;: -1.1794871794871788, &quot;y&quot;: -1.3846153846153841, &quot;z&quot;: 1.6352433453025168}, {&quot;x&quot;: -1.1794871794871788, &quot;y&quot;: -1.2820512820512815, &quot;z&quot;: 1.361739071798243}, {&quot;x&quot;: -1.1794871794871788, &quot;y&quot;: -1.1794871794871788, &quot;z&quot;: 1.1092735885635294}, {&quot;x&quot;: -1.1794871794871788, &quot;y&quot;: -1.0769230769230762, &quot;z&quot;: 0.8778468955983745}, {&quot;x&quot;: -1.1794871794871788, &quot;y&quot;: -0.9743589743589737, &quot;z&quot;: 0.6674589929027799}, {&quot;x&quot;: -1.1794871794871788, &quot;y&quot;: -0.8717948717948711, &quot;z&quot;: 0.4781098804767443}, {&quot;x&quot;: -1.1794871794871788, &quot;y&quot;: -0.7692307692307686, &quot;z&quot;: 0.3097995583202686}, {&quot;x&quot;: -1.1794871794871788, &quot;y&quot;: -0.6666666666666661, &quot;z&quot;: 0.1625280264333524}, {&quot;x&quot;: -1.1794871794871788, &quot;y&quot;: -0.5641025641025635, &quot;z&quot;: 0.03629528481599542}, {&quot;x&quot;: -1.1794871794871788, &quot;y&quot;: -0.461538461538461, &quot;z&quot;: -0.06889866653180188}, {&quot;x&quot;: -1.1794871794871788, &quot;y&quot;: -0.3589743589743585, &quot;z&quot;: -0.15305382761003972}, {&quot;x&quot;: -1.1794871794871788, &quot;y&quot;: -0.25641025641025594, &quot;z&quot;: -0.2161701984187181}, {&quot;x&quot;: -1.1794871794871788, &quot;y&quot;: -0.15384615384615338, &quot;z&quot;: -0.258247778957837}, {&quot;x&quot;: -1.1794871794871788, &quot;y&quot;: -0.05128205128205082, &quot;z&quot;: -0.2792865692273965}, {&quot;x&quot;: -1.1794871794871788, &quot;y&quot;: 0.05128205128205174, &quot;z&quot;: -0.2792865692273965}, {&quot;x&quot;: -1.1794871794871788, &quot;y&quot;: 0.1538461538461543, &quot;z&quot;: -0.2582477789578368}, {&quot;x&quot;: -1.1794871794871788, &quot;y&quot;: 0.25641025641025683, &quot;z&quot;: -0.21617019841871765}, {&quot;x&quot;: -1.1794871794871788, &quot;y&quot;: 0.35897435897435936, &quot;z&quot;: -0.15305382761003905}, {&quot;x&quot;: -1.1794871794871788, &quot;y&quot;: 0.4615384615384619, &quot;z&quot;: -0.06889866653180099}, {&quot;x&quot;: -1.1794871794871788, &quot;y&quot;: 0.5641025641025644, &quot;z&quot;: 0.03629528481599653}, {&quot;x&quot;: -1.1794871794871788, &quot;y&quot;: 0.666666666666667, &quot;z&quot;: 0.1625280264333535}, {&quot;x&quot;: -1.1794871794871788, &quot;y&quot;: 0.7692307692307695, &quot;z&quot;: 0.30979955832026995}, {&quot;x&quot;: -1.1794871794871788, &quot;y&quot;: 0.871794871794872, &quot;z&quot;: 0.4781098804767461}, {&quot;x&quot;: -1.1794871794871788, &quot;y&quot;: 0.9743589743589746, &quot;z&quot;: 0.6674589929027817}, {&quot;x&quot;: -1.1794871794871788, &quot;y&quot;: 1.076923076923077, &quot;z&quot;: 0.8778468955983765}, {&quot;x&quot;: -1.1794871794871788, &quot;y&quot;: 1.1794871794871797, &quot;z&quot;: 1.1092735885635312}, {&quot;x&quot;: -1.1794871794871788, &quot;y&quot;: 1.2820512820512824, &quot;z&quot;: 1.3617390717982456}, {&quot;x&quot;: -1.1794871794871788, &quot;y&quot;: 1.384615384615385, &quot;z&quot;: 1.635243345302519}, {&quot;x&quot;: -1.1794871794871788, &quot;y&quot;: 1.4871794871794877, &quot;z&quot;: 1.9297864090763528}, {&quot;x&quot;: -1.1794871794871788, &quot;y&quot;: 1.5897435897435903, &quot;z&quot;: 2.2453682631197456}, {&quot;x&quot;: -1.1794871794871788, &quot;y&quot;: 1.692307692307693, &quot;z&quot;: 2.581988907432698}, {&quot;x&quot;: -1.1794871794871788, &quot;y&quot;: 1.7948717948717956, &quot;z&quot;: 2.93964834201521}, {&quot;x&quot;: -1.1794871794871788, &quot;y&quot;: 1.8974358974358982, &quot;z&quot;: 3.318346566867281}, {&quot;x&quot;: -1.1794871794871788, &quot;y&quot;: 2.0, &quot;z&quot;: 3.7180835819889086}, {&quot;x&quot;: -1.0769230769230762, &quot;y&quot;: -1.8974358974358974, &quot;z&quot;: 3.5051332625297134}, {&quot;x&quot;: -1.0769230769230762, &quot;y&quot;: -2.0, &quot;z&quot;: 3.9048702776513444}, {&quot;x&quot;: -1.0769230769230762, &quot;y&quot;: -1.7948717948717947, &quot;z&quot;: 3.1264350376776413}, {&quot;x&quot;: -1.0769230769230762, &quot;y&quot;: -1.692307692307692, &quot;z&quot;: 2.76877560309513}, {&quot;x&quot;: -1.0769230769230762, &quot;y&quot;: -1.5897435897435894, &quot;z&quot;: 2.432154958782178}, {&quot;x&quot;: -1.0769230769230762, &quot;y&quot;: -1.4871794871794868, &quot;z&quot;: 2.1165731047387855}, {&quot;x&quot;: -1.0769230769230762, &quot;y&quot;: -1.3846153846153841, &quot;z&quot;: 1.8220300409649521}, {&quot;x&quot;: -1.0769230769230762, &quot;y&quot;: -1.2820512820512815, &quot;z&quot;: 1.5485257674606787}, {&quot;x&quot;: -1.0769230769230762, &quot;y&quot;: -1.1794871794871788, &quot;z&quot;: 1.2960602842259643}, {&quot;x&quot;: -1.0769230769230762, &quot;y&quot;: -1.0769230769230762, &quot;z&quot;: 1.0646335912608098}, {&quot;x&quot;: -1.0769230769230762, &quot;y&quot;: -0.9743589743589737, &quot;z&quot;: 0.8542456885652152}, {&quot;x&quot;: -1.0769230769230762, &quot;y&quot;: -0.8717948717948711, &quot;z&quot;: 0.6648965761391796}, {&quot;x&quot;: -1.0769230769230762, &quot;y&quot;: -0.7692307692307686, &quot;z&quot;: 0.49658625398270395}, {&quot;x&quot;: -1.0769230769230762, &quot;y&quot;: -0.6666666666666661, &quot;z&quot;: 0.34931472209578773}, {&quot;x&quot;: -1.0769230769230762, &quot;y&quot;: -0.5641025641025635, &quot;z&quot;: 0.22308198047843075}, {&quot;x&quot;: -1.0769230769230762, &quot;y&quot;: -0.461538461538461, &quot;z&quot;: 0.11788802913063345}, {&quot;x&quot;: -1.0769230769230762, &quot;y&quot;: -0.3589743589743585, &quot;z&quot;: 0.033732868052395615}, {&quot;x&quot;: -1.0769230769230762, &quot;y&quot;: -0.25641025641025594, &quot;z&quot;: -0.029383502756282764}, {&quot;x&quot;: -1.0769230769230762, &quot;y&quot;: -0.15384615384615338, &quot;z&quot;: -0.07146108329540168}, {&quot;x&quot;: -1.0769230769230762, &quot;y&quot;: -0.05128205128205082, &quot;z&quot;: -0.09249987356496114}, {&quot;x&quot;: -1.0769230769230762, &quot;y&quot;: 0.05128205128205174, &quot;z&quot;: -0.09249987356496114}, {&quot;x&quot;: -1.0769230769230762, &quot;y&quot;: 0.1538461538461543, &quot;z&quot;: -0.07146108329540146}, {&quot;x&quot;: -1.0769230769230762, &quot;y&quot;: 0.25641025641025683, &quot;z&quot;: -0.02938350275628232}, {&quot;x&quot;: -1.0769230769230762, &quot;y&quot;: 0.35897435897435936, &quot;z&quot;: 0.03373286805239628}, {&quot;x&quot;: -1.0769230769230762, &quot;y&quot;: 0.4615384615384619, &quot;z&quot;: 0.11788802913063434}, {&quot;x&quot;: -1.0769230769230762, &quot;y&quot;: 0.5641025641025644, &quot;z&quot;: 0.22308198047843186}, {&quot;x&quot;: -1.0769230769230762, &quot;y&quot;: 0.666666666666667, &quot;z&quot;: 0.34931472209578884}, {&quot;x&quot;: -1.0769230769230762, &quot;y&quot;: 0.7692307692307695, &quot;z&quot;: 0.4965862539827053}, {&quot;x&quot;: -1.0769230769230762, &quot;y&quot;: 0.871794871794872, &quot;z&quot;: 0.6648965761391814}, {&quot;x&quot;: -1.0769230769230762, &quot;y&quot;: 0.9743589743589746, &quot;z&quot;: 0.854245688565217}, {&quot;x&quot;: -1.0769230769230762, &quot;y&quot;: 1.076923076923077, &quot;z&quot;: 1.0646335912608116}, {&quot;x&quot;: -1.0769230769230762, &quot;y&quot;: 1.1794871794871797, &quot;z&quot;: 1.2960602842259665}, {&quot;x&quot;: -1.0769230769230762, &quot;y&quot;: 1.2820512820512824, &quot;z&quot;: 1.5485257674606805}, {&quot;x&quot;: -1.0769230769230762, &quot;y&quot;: 1.384615384615385, &quot;z&quot;: 1.8220300409649548}, {&quot;x&quot;: -1.0769230769230762, &quot;y&quot;: 1.4871794871794877, &quot;z&quot;: 2.116573104738788}, {&quot;x&quot;: -1.0769230769230762, &quot;y&quot;: 1.5897435897435903, &quot;z&quot;: 2.432154958782181}, {&quot;x&quot;: -1.0769230769230762, &quot;y&quot;: 1.692307692307693, &quot;z&quot;: 2.768775603095133}, {&quot;x&quot;: -1.0769230769230762, &quot;y&quot;: 1.7948717948717956, &quot;z&quot;: 3.126435037677645}, {&quot;x&quot;: -1.0769230769230762, &quot;y&quot;: 1.8974358974358982, &quot;z&quot;: 3.505133262529716}, {&quot;x&quot;: -1.0769230769230762, &quot;y&quot;: 2.0, &quot;z&quot;: 3.9048702776513444}, {&quot;x&quot;: -0.9743589743589737, &quot;y&quot;: -1.8974358974358974, &quot;z&quot;: 3.6239484819366483}, {&quot;x&quot;: -0.9743589743589737, &quot;y&quot;: -2.0, &quot;z&quot;: 4.0236854970582785}, {&quot;x&quot;: -0.9743589743589737, &quot;y&quot;: -1.7948717948717947, &quot;z&quot;: 3.2452502570845763}, {&quot;x&quot;: -0.9743589743589737, &quot;y&quot;: -1.692307692307692, &quot;z&quot;: 2.887590822502065}, {&quot;x&quot;: -0.9743589743589737, &quot;y&quot;: -1.5897435897435894, &quot;z&quot;: 2.5509701781891128}, {&quot;x&quot;: -0.9743589743589737, &quot;y&quot;: -1.4871794871794868, &quot;z&quot;: 2.2353883241457204}, {&quot;x&quot;: -0.9743589743589737, &quot;y&quot;: -1.3846153846153841, &quot;z&quot;: 1.940845260371887}, {&quot;x&quot;: -0.9743589743589737, &quot;y&quot;: -1.2820512820512815, &quot;z&quot;: 1.6673409868676132}, {&quot;x&quot;: -0.9743589743589737, &quot;y&quot;: -1.1794871794871788, &quot;z&quot;: 1.4148755036328993}, {&quot;x&quot;: -0.9743589743589737, &quot;y&quot;: -1.0769230769230762, &quot;z&quot;: 1.1834488106677448}, {&quot;x&quot;: -0.9743589743589737, &quot;y&quot;: -0.9743589743589737, &quot;z&quot;: 0.9730609079721497}, {&quot;x&quot;: -0.9743589743589737, &quot;y&quot;: -0.8717948717948711, &quot;z&quot;: 0.7837117955461146}, {&quot;x&quot;: -0.9743589743589737, &quot;y&quot;: -0.7692307692307686, &quot;z&quot;: 0.6154014733896387}, {&quot;x&quot;: -0.9743589743589737, &quot;y&quot;: -0.6666666666666661, &quot;z&quot;: 0.46812994150272225}, {&quot;x&quot;: -0.9743589743589737, &quot;y&quot;: -0.5641025641025635, &quot;z&quot;: 0.3418971998853655}, {&quot;x&quot;: -0.9743589743589737, &quot;y&quot;: -0.461538461538461, &quot;z&quot;: 0.2367032485375682}, {&quot;x&quot;: -0.9743589743589737, &quot;y&quot;: -0.3589743589743585, &quot;z&quot;: 0.15254808745933035}, {&quot;x&quot;: -0.9743589743589737, &quot;y&quot;: -0.25641025641025594, &quot;z&quot;: 0.08943171665065197}, {&quot;x&quot;: -0.9743589743589737, &quot;y&quot;: -0.15384615384615338, &quot;z&quot;: 0.04735413611153305}, {&quot;x&quot;: -0.9743589743589737, &quot;y&quot;: -0.05128205128205082, &quot;z&quot;: 0.026315345841973592}, {&quot;x&quot;: -0.9743589743589737, &quot;y&quot;: 0.05128205128205174, &quot;z&quot;: 0.026315345841973592}, {&quot;x&quot;: -0.9743589743589737, &quot;y&quot;: 0.1538461538461543, &quot;z&quot;: 0.047354136111533274}, {&quot;x&quot;: -0.9743589743589737, &quot;y&quot;: 0.25641025641025683, &quot;z&quot;: 0.08943171665065242}, {&quot;x&quot;: -0.9743589743589737, &quot;y&quot;: 0.35897435897435936, &quot;z&quot;: 0.1525480874593308}, {&quot;x&quot;: -0.9743589743589737, &quot;y&quot;: 0.4615384615384619, &quot;z&quot;: 0.23670324853756908}, {&quot;x&quot;: -0.9743589743589737, &quot;y&quot;: 0.5641025641025644, &quot;z&quot;: 0.3418971998853666}, {&quot;x&quot;: -0.9743589743589737, &quot;y&quot;: 0.666666666666667, &quot;z&quot;: 0.4681299415027236}, {&quot;x&quot;: -0.9743589743589737, &quot;y&quot;: 0.7692307692307695, &quot;z&quot;: 0.61540147338964}, {&quot;x&quot;: -0.9743589743589737, &quot;y&quot;: 0.871794871794872, &quot;z&quot;: 0.7837117955461159}, {&quot;x&quot;: -0.9743589743589737, &quot;y&quot;: 0.9743589743589746, &quot;z&quot;: 0.9730609079721515}, {&quot;x&quot;: -0.9743589743589737, &quot;y&quot;: 1.076923076923077, &quot;z&quot;: 1.1834488106677465}, {&quot;x&quot;: -0.9743589743589737, &quot;y&quot;: 1.1794871794871797, &quot;z&quot;: 1.414875503632901}, {&quot;x&quot;: -0.9743589743589737, &quot;y&quot;: 1.2820512820512824, &quot;z&quot;: 1.6673409868676154}, {&quot;x&quot;: -0.9743589743589737, &quot;y&quot;: 1.384615384615385, &quot;z&quot;: 1.9408452603718893}, {&quot;x&quot;: -0.9743589743589737, &quot;y&quot;: 1.4871794871794877, &quot;z&quot;: 2.235388324145723}, {&quot;x&quot;: -0.9743589743589737, &quot;y&quot;: 1.5897435897435903, &quot;z&quot;: 2.5509701781891154}, {&quot;x&quot;: -0.9743589743589737, &quot;y&quot;: 1.692307692307693, &quot;z&quot;: 2.8875908225020677}, {&quot;x&quot;: -0.9743589743589737, &quot;y&quot;: 1.7948717948717956, &quot;z&quot;: 3.24525025708458}, {&quot;x&quot;: -0.9743589743589737, &quot;y&quot;: 1.8974358974358982, &quot;z&quot;: 3.623948481936651}, {&quot;x&quot;: -0.9743589743589737, &quot;y&quot;: 2.0, &quot;z&quot;: 4.0236854970582785}, {&quot;x&quot;: -0.8717948717948711, &quot;y&quot;: -1.8974358974358974, &quot;z&quot;: 3.681265699017178}, {&quot;x&quot;: -0.8717948717948711, &quot;y&quot;: -2.0, &quot;z&quot;: 4.081002714138808}, {&quot;x&quot;: -0.8717948717948711, &quot;y&quot;: -1.7948717948717947, &quot;z&quot;: 3.302567474165107}, {&quot;x&quot;: -0.8717948717948711, &quot;y&quot;: -1.692307692307692, &quot;z&quot;: 2.9449080395825953}, {&quot;x&quot;: -0.8717948717948711, &quot;y&quot;: -1.5897435897435894, &quot;z&quot;: 2.6082873952696426}, {&quot;x&quot;: -0.8717948717948711, &quot;y&quot;: -1.4871794871794868, &quot;z&quot;: 2.2927055412262503}, {&quot;x&quot;: -0.8717948717948711, &quot;y&quot;: -1.3846153846153841, &quot;z&quot;: 1.998162477452417}, {&quot;x&quot;: -0.8717948717948711, &quot;y&quot;: -1.2820512820512815, &quot;z&quot;: 1.7246582039481435}, {&quot;x&quot;: -0.8717948717948711, &quot;y&quot;: -1.1794871794871788, &quot;z&quot;: 1.4721927207134295}, {&quot;x&quot;: -0.8717948717948711, &quot;y&quot;: -1.0769230769230762, &quot;z&quot;: 1.2407660277482746}, {&quot;x&quot;: -0.8717948717948711, &quot;y&quot;: -0.9743589743589737, &quot;z&quot;: 1.03037812505268}, {&quot;x&quot;: -0.8717948717948711, &quot;y&quot;: -0.8717948717948711, &quot;z&quot;: 0.8410290126266449}, {&quot;x&quot;: -0.8717948717948711, &quot;y&quot;: -0.7692307692307686, &quot;z&quot;: 0.672718690470169}, {&quot;x&quot;: -0.8717948717948711, &quot;y&quot;: -0.6666666666666661, &quot;z&quot;: 0.5254471585832525}, {&quot;x&quot;: -0.8717948717948711, &quot;y&quot;: -0.5641025641025635, &quot;z&quot;: 0.39921441696589577}, {&quot;x&quot;: -0.8717948717948711, &quot;y&quot;: -0.461538461538461, &quot;z&quot;: 0.29402046561809847}, {&quot;x&quot;: -0.8717948717948711, &quot;y&quot;: -0.3589743589743585, &quot;z&quot;: 0.20986530453986063}, {&quot;x&quot;: -0.8717948717948711, &quot;y&quot;: -0.25641025641025594, &quot;z&quot;: 0.14674893373118225}, {&quot;x&quot;: -0.8717948717948711, &quot;y&quot;: -0.15384615384615338, &quot;z&quot;: 0.10467135319206333}, {&quot;x&quot;: -0.8717948717948711, &quot;y&quot;: -0.05128205128205082, &quot;z&quot;: 0.08363256292250387}, {&quot;x&quot;: -0.8717948717948711, &quot;y&quot;: 0.05128205128205174, &quot;z&quot;: 0.08363256292250387}, {&quot;x&quot;: -0.8717948717948711, &quot;y&quot;: 0.1538461538461543, &quot;z&quot;: 0.10467135319206355}, {&quot;x&quot;: -0.8717948717948711, &quot;y&quot;: 0.25641025641025683, &quot;z&quot;: 0.1467489337311827}, {&quot;x&quot;: -0.8717948717948711, &quot;y&quot;: 0.35897435897435936, &quot;z&quot;: 0.20986530453986108}, {&quot;x&quot;: -0.8717948717948711, &quot;y&quot;: 0.4615384615384619, &quot;z&quot;: 0.29402046561809936}, {&quot;x&quot;: -0.8717948717948711, &quot;y&quot;: 0.5641025641025644, &quot;z&quot;: 0.3992144169658969}, {&quot;x&quot;: -0.8717948717948711, &quot;y&quot;: 0.666666666666667, &quot;z&quot;: 0.5254471585832539}, {&quot;x&quot;: -0.8717948717948711, &quot;y&quot;: 0.7692307692307695, &quot;z&quot;: 0.6727186904701703}, {&quot;x&quot;: -0.8717948717948711, &quot;y&quot;: 0.871794871794872, &quot;z&quot;: 0.8410290126266462}, {&quot;x&quot;: -0.8717948717948711, &quot;y&quot;: 0.9743589743589746, &quot;z&quot;: 1.0303781250526818}, {&quot;x&quot;: -0.8717948717948711, &quot;y&quot;: 1.076923076923077, &quot;z&quot;: 1.2407660277482768}, {&quot;x&quot;: -0.8717948717948711, &quot;y&quot;: 1.1794871794871797, &quot;z&quot;: 1.4721927207134318}, {&quot;x&quot;: -0.8717948717948711, &quot;y&quot;: 1.2820512820512824, &quot;z&quot;: 1.7246582039481457}, {&quot;x&quot;: -0.8717948717948711, &quot;y&quot;: 1.384615384615385, &quot;z&quot;: 1.9981624774524196}, {&quot;x&quot;: -0.8717948717948711, &quot;y&quot;: 1.4871794871794877, &quot;z&quot;: 2.292705541226253}, {&quot;x&quot;: -0.8717948717948711, &quot;y&quot;: 1.5897435897435903, &quot;z&quot;: 2.608287395269646}, {&quot;x&quot;: -0.8717948717948711, &quot;y&quot;: 1.692307692307693, &quot;z&quot;: 2.944908039582598}, {&quot;x&quot;: -0.8717948717948711, &quot;y&quot;: 1.7948717948717956, &quot;z&quot;: 3.3025674741651105}, {&quot;x&quot;: -0.8717948717948711, &quot;y&quot;: 1.8974358974358982, &quot;z&quot;: 3.6812656990171817}, {&quot;x&quot;: -0.8717948717948711, &quot;y&quot;: 2.0, &quot;z&quot;: 4.081002714138808}, {&quot;x&quot;: -0.7692307692307686, &quot;y&quot;: -1.8974358974358974, &quot;z&quot;: 3.6835583877003995}, {&quot;x&quot;: -0.7692307692307686, &quot;y&quot;: -2.0, &quot;z&quot;: 4.08329540282203}, {&quot;x&quot;: -0.7692307692307686, &quot;y&quot;: -1.7948717948717947, &quot;z&quot;: 3.3048601628483274}, {&quot;x&quot;: -0.7692307692307686, &quot;y&quot;: -1.692307692307692, &quot;z&quot;: 2.947200728265816}, {&quot;x&quot;: -0.7692307692307686, &quot;y&quot;: -1.5897435897435894, &quot;z&quot;: 2.610580083952864}, {&quot;x&quot;: -0.7692307692307686, &quot;y&quot;: -1.4871794871794868, &quot;z&quot;: 2.2949982299094716}, {&quot;x&quot;: -0.7692307692307686, &quot;y&quot;: -1.3846153846153841, &quot;z&quot;: 2.0004551661356382}, {&quot;x&quot;: -0.7692307692307686, &quot;y&quot;: -1.2820512820512815, &quot;z&quot;: 1.7269508926313644}, {&quot;x&quot;: -0.7692307692307686, &quot;y&quot;: -1.1794871794871788, &quot;z&quot;: 1.4744854093966504}, {&quot;x&quot;: -0.7692307692307686, &quot;y&quot;: -1.0769230769230762, &quot;z&quot;: 1.243058716431496}, {&quot;x&quot;: -0.7692307692307686, &quot;y&quot;: -0.9743589743589737, &quot;z&quot;: 1.0326708137359009}, {&quot;x&quot;: -0.7692307692307686, &quot;y&quot;: -0.8717948717948711, &quot;z&quot;: 0.8433217013098657}, {&quot;x&quot;: -0.7692307692307686, &quot;y&quot;: -0.7692307692307686, &quot;z&quot;: 0.6750113791533898}, {&quot;x&quot;: -0.7692307692307686, &quot;y&quot;: -0.6666666666666661, &quot;z&quot;: 0.5277398472664736}, {&quot;x&quot;: -0.7692307692307686, &quot;y&quot;: -0.5641025641025635, &quot;z&quot;: 0.4015071056491166}, {&quot;x&quot;: -0.7692307692307686, &quot;y&quot;: -0.461538461538461, &quot;z&quot;: 0.2963131543013193}, {&quot;x&quot;: -0.7692307692307686, &quot;y&quot;: -0.3589743589743585, &quot;z&quot;: 0.2121579932230815}, {&quot;x&quot;: -0.7692307692307686, &quot;y&quot;: -0.25641025641025594, &quot;z&quot;: 0.1490416224144031}, {&quot;x&quot;: -0.7692307692307686, &quot;y&quot;: -0.15384615384615338, &quot;z&quot;: 0.10696404187528419}, {&quot;x&quot;: -0.7692307692307686, &quot;y&quot;: -0.05128205128205082, &quot;z&quot;: 0.08592525160572473}, {&quot;x&quot;: -0.7692307692307686, &quot;y&quot;: 0.05128205128205174, &quot;z&quot;: 0.08592525160572495}, {&quot;x&quot;: -0.7692307692307686, &quot;y&quot;: 0.1538461538461543, &quot;z&quot;: 0.10696404187528441}, {&quot;x&quot;: -0.7692307692307686, &quot;y&quot;: 0.25641025641025683, &quot;z&quot;: 0.14904162241440355}, {&quot;x&quot;: -0.7692307692307686, &quot;y&quot;: 0.35897435897435936, &quot;z&quot;: 0.21215799322308215}, {&quot;x&quot;: -0.7692307692307686, &quot;y&quot;: 0.4615384615384619, &quot;z&quot;: 0.2963131543013202}, {&quot;x&quot;: -0.7692307692307686, &quot;y&quot;: 0.5641025641025644, &quot;z&quot;: 0.40150710564911773}, {&quot;x&quot;: -0.7692307692307686, &quot;y&quot;: 0.666666666666667, &quot;z&quot;: 0.5277398472664747}, {&quot;x&quot;: -0.7692307692307686, &quot;y&quot;: 0.7692307692307695, &quot;z&quot;: 0.6750113791533912}, {&quot;x&quot;: -0.7692307692307686, &quot;y&quot;: 0.871794871794872, &quot;z&quot;: 0.8433217013098673}, {&quot;x&quot;: -0.7692307692307686, &quot;y&quot;: 0.9743589743589746, &quot;z&quot;: 1.0326708137359026}, {&quot;x&quot;: -0.7692307692307686, &quot;y&quot;: 1.076923076923077, &quot;z&quot;: 1.2430587164314977}, {&quot;x&quot;: -0.7692307692307686, &quot;y&quot;: 1.1794871794871797, &quot;z&quot;: 1.4744854093966522}, {&quot;x&quot;: -0.7692307692307686, &quot;y&quot;: 1.2820512820512824, &quot;z&quot;: 1.7269508926313666}, {&quot;x&quot;: -0.7692307692307686, &quot;y&quot;: 1.384615384615385, &quot;z&quot;: 2.0004551661356405}, {&quot;x&quot;: -0.7692307692307686, &quot;y&quot;: 1.4871794871794877, &quot;z&quot;: 2.294998229909474}, {&quot;x&quot;: -0.7692307692307686, &quot;y&quot;: 1.5897435897435903, &quot;z&quot;: 2.6105800839528666}, {&quot;x&quot;: -0.7692307692307686, &quot;y&quot;: 1.692307692307693, &quot;z&quot;: 2.947200728265819}, {&quot;x&quot;: -0.7692307692307686, &quot;y&quot;: 1.7948717948717956, &quot;z&quot;: 3.304860162848331}, {&quot;x&quot;: -0.7692307692307686, &quot;y&quot;: 1.8974358974358982, &quot;z&quot;: 3.683558387700402}, {&quot;x&quot;: -0.7692307692307686, &quot;y&quot;: 2.0, &quot;z&quot;: 4.08329540282203}, {&quot;x&quot;: -0.6666666666666661, &quot;y&quot;: -1.8974358974358974, &quot;z&quot;: 3.637300021915406}, {&quot;x&quot;: -0.6666666666666661, &quot;y&quot;: -2.0, &quot;z&quot;: 4.037037037037036}, {&quot;x&quot;: -0.6666666666666661, &quot;y&quot;: -1.7948717948717947, &quot;z&quot;: 3.258601797063335}, {&quot;x&quot;: -0.6666666666666661, &quot;y&quot;: -1.692307692307692, &quot;z&quot;: 2.900942362480823}, {&quot;x&quot;: -0.6666666666666661, &quot;y&quot;: -1.5897435897435894, &quot;z&quot;: 2.5643217181678706}, {&quot;x&quot;: -0.6666666666666661, &quot;y&quot;: -1.4871794871794868, &quot;z&quot;: 2.2487398641244782}, {&quot;x&quot;: -0.6666666666666661, &quot;y&quot;: -1.3846153846153841, &quot;z&quot;: 1.954196800350645}, {&quot;x&quot;: -0.6666666666666661, &quot;y&quot;: -1.2820512820512815, &quot;z&quot;: 1.680692526846371}, {&quot;x&quot;: -0.6666666666666661, &quot;y&quot;: -1.1794871794871788, &quot;z&quot;: 1.428227043611657}, {&quot;x&quot;: -0.6666666666666661, &quot;y&quot;: -1.0769230769230762, &quot;z&quot;: 1.1968003506465026}, {&quot;x&quot;: -0.6666666666666661, &quot;y&quot;: -0.9743589743589737, &quot;z&quot;: 0.9864124479509078}, {&quot;x&quot;: -0.6666666666666661, &quot;y&quot;: -0.8717948717948711, &quot;z&quot;: 0.7970633355248724}, {&quot;x&quot;: -0.6666666666666661, &quot;y&quot;: -0.7692307692307686, &quot;z&quot;: 0.6287530133683967}, {&quot;x&quot;: -0.6666666666666661, &quot;y&quot;: -0.6666666666666661, &quot;z&quot;: 0.4814814814814803}, {&quot;x&quot;: -0.6666666666666661, &quot;y&quot;: -0.5641025641025635, &quot;z&quot;: 0.35524873986412353}, {&quot;x&quot;: -0.6666666666666661, &quot;y&quot;: -0.461538461538461, &quot;z&quot;: 0.250054788516326}, {&quot;x&quot;: -0.6666666666666661, &quot;y&quot;: -0.3589743589743585, &quot;z&quot;: 0.16589962743808817}, {&quot;x&quot;: -0.6666666666666661, &quot;y&quot;: -0.25641025641025594, &quot;z&quot;: 0.10278325662940979}, {&quot;x&quot;: -0.6666666666666661, &quot;y&quot;: -0.15384615384615338, &quot;z&quot;: 0.06070567609029087}, {&quot;x&quot;: -0.6666666666666661, &quot;y&quot;: -0.05128205128205082, &quot;z&quot;: 0.03966688582073141}, {&quot;x&quot;: -0.6666666666666661, &quot;y&quot;: 0.05128205128205174, &quot;z&quot;: 0.039666885820731634}, {&quot;x&quot;: -0.6666666666666661, &quot;y&quot;: 0.1538461538461543, &quot;z&quot;: 0.060705676090291316}, {&quot;x&quot;: -0.6666666666666661, &quot;y&quot;: 0.25641025641025683, &quot;z&quot;: 0.10278325662941024}, {&quot;x&quot;: -0.6666666666666661, &quot;y&quot;: 0.35897435897435936, &quot;z&quot;: 0.16589962743808884}, {&quot;x&quot;: -0.6666666666666661, &quot;y&quot;: 0.4615384615384619, &quot;z&quot;: 0.2500547885163269}, {&quot;x&quot;: -0.6666666666666661, &quot;y&quot;: 0.5641025641025644, &quot;z&quot;: 0.3552487398641244}, {&quot;x&quot;: -0.6666666666666661, &quot;y&quot;: 0.666666666666667, &quot;z&quot;: 0.4814814814814814}, {&quot;x&quot;: -0.6666666666666661, &quot;y&quot;: 0.7692307692307695, &quot;z&quot;: 0.6287530133683981}, {&quot;x&quot;: -0.6666666666666661, &quot;y&quot;: 0.871794871794872, &quot;z&quot;: 0.797063335524874}, {&quot;x&quot;: -0.6666666666666661, &quot;y&quot;: 0.9743589743589746, &quot;z&quot;: 0.9864124479509095}, {&quot;x&quot;: -0.6666666666666661, &quot;y&quot;: 1.076923076923077, &quot;z&quot;: 1.1968003506465044}, {&quot;x&quot;: -0.6666666666666661, &quot;y&quot;: 1.1794871794871797, &quot;z&quot;: 1.4282270436116593}, {&quot;x&quot;: -0.6666666666666661, &quot;y&quot;: 1.2820512820512824, &quot;z&quot;: 1.6806925268463733}, {&quot;x&quot;: -0.6666666666666661, &quot;y&quot;: 1.384615384615385, &quot;z&quot;: 1.9541968003506471}, {&quot;x&quot;: -0.6666666666666661, &quot;y&quot;: 1.4871794871794877, &quot;z&quot;: 2.248739864124481}, {&quot;x&quot;: -0.6666666666666661, &quot;y&quot;: 1.5897435897435903, &quot;z&quot;: 2.5643217181678737}, {&quot;x&quot;: -0.6666666666666661, &quot;y&quot;: 1.692307692307693, &quot;z&quot;: 2.900942362480826}, {&quot;x&quot;: -0.6666666666666661, &quot;y&quot;: 1.7948717948717956, &quot;z&quot;: 3.2586017970633385}, {&quot;x&quot;: -0.6666666666666661, &quot;y&quot;: 1.8974358974358982, &quot;z&quot;: 3.6373000219154097}, {&quot;x&quot;: -0.6666666666666661, &quot;y&quot;: 2.0, &quot;z&quot;: 4.037037037037036}, {&quot;x&quot;: -0.5641025641025635, &quot;y&quot;: -1.8974358974358974, &quot;z&quot;: 3.548964075591294}, {&quot;x&quot;: -0.5641025641025635, &quot;y&quot;: -2.0, &quot;z&quot;: 3.948701090712924}, {&quot;x&quot;: -0.5641025641025635, &quot;y&quot;: -1.7948717948717947, &quot;z&quot;: 3.170265850739222}, {&quot;x&quot;: -0.5641025641025635, &quot;y&quot;: -1.692307692307692, &quot;z&quot;: 2.8126064161567106}, {&quot;x&quot;: -0.5641025641025635, &quot;y&quot;: -1.5897435897435894, &quot;z&quot;: 2.4759857718437583}, {&quot;x&quot;: -0.5641025641025635, &quot;y&quot;: -1.4871794871794868, &quot;z&quot;: 2.160403917800366}, {&quot;x&quot;: -0.5641025641025635, &quot;y&quot;: -1.3846153846153841, &quot;z&quot;: 1.8658608540265327}, {&quot;x&quot;: -0.5641025641025635, &quot;y&quot;: -1.2820512820512815, &quot;z&quot;: 1.5923565805222593}, {&quot;x&quot;: -0.5641025641025635, &quot;y&quot;: -1.1794871794871788, &quot;z&quot;: 1.3398910972875449}, {&quot;x&quot;: -0.5641025641025635, &quot;y&quot;: -1.0769230769230762, &quot;z&quot;: 1.1084644043223904}, {&quot;x&quot;: -0.5641025641025635, &quot;y&quot;: -0.9743589743589737, &quot;z&quot;: 0.8980765016267955}, {&quot;x&quot;: -0.5641025641025635, &quot;y&quot;: -0.8717948717948711, &quot;z&quot;: 0.7087273892007602}, {&quot;x&quot;: -0.5641025641025635, &quot;y&quot;: -0.7692307692307686, &quot;z&quot;: 0.5404170670442845}, {&quot;x&quot;: -0.5641025641025635, &quot;y&quot;: -0.6666666666666661, &quot;z&quot;: 0.39314553515736805}, {&quot;x&quot;: -0.5641025641025635, &quot;y&quot;: -0.5641025641025635, &quot;z&quot;: 0.2669127935400113}, {&quot;x&quot;: -0.5641025641025635, &quot;y&quot;: -0.461538461538461, &quot;z&quot;: 0.16171884219221377}, {&quot;x&quot;: -0.5641025641025635, &quot;y&quot;: -0.3589743589743585, &quot;z&quot;: 0.07756368111397594}, {&quot;x&quot;: -0.5641025641025635, &quot;y&quot;: -0.25641025641025594, &quot;z&quot;: 0.014447310305297556}, {&quot;x&quot;: -0.5641025641025635, &quot;y&quot;: -0.15384615384615338, &quot;z&quot;: -0.027630270233821252}, {&quot;x&quot;: -0.5641025641025635, &quot;y&quot;: -0.05128205128205082, &quot;z&quot;: -0.04866906050338071}, {&quot;x&quot;: -0.5641025641025635, &quot;y&quot;: 0.05128205128205174, &quot;z&quot;: -0.0486690605033806}, {&quot;x&quot;: -0.5641025641025635, &quot;y&quot;: 0.1538461538461543, &quot;z&quot;: -0.02763027023382092}, {&quot;x&quot;: -0.5641025641025635, &quot;y&quot;: 0.25641025641025683, &quot;z&quot;: 0.014447310305298}, {&quot;x&quot;: -0.5641025641025635, &quot;y&quot;: 0.35897435897435936, &quot;z&quot;: 0.0775636811139766}, {&quot;x&quot;: -0.5641025641025635, &quot;y&quot;: 0.4615384615384619, &quot;z&quot;: 0.16171884219221466}, {&quot;x&quot;: -0.5641025641025635, &quot;y&quot;: 0.5641025641025644, &quot;z&quot;: 0.2669127935400122}, {&quot;x&quot;: -0.5641025641025635, &quot;y&quot;: 0.666666666666667, &quot;z&quot;: 0.39314553515736916}, {&quot;x&quot;: -0.5641025641025635, &quot;y&quot;: 0.7692307692307695, &quot;z&quot;: 0.5404170670442858}, {&quot;x&quot;: -0.5641025641025635, &quot;y&quot;: 0.871794871794872, &quot;z&quot;: 0.7087273892007617}, {&quot;x&quot;: -0.5641025641025635, &quot;y&quot;: 0.9743589743589746, &quot;z&quot;: 0.8980765016267973}, {&quot;x&quot;: -0.5641025641025635, &quot;y&quot;: 1.076923076923077, &quot;z&quot;: 1.1084644043223921}, {&quot;x&quot;: -0.5641025641025635, &quot;y&quot;: 1.1794871794871797, &quot;z&quot;: 1.339891097287547}, {&quot;x&quot;: -0.5641025641025635, &quot;y&quot;: 1.2820512820512824, &quot;z&quot;: 1.592356580522261}, {&quot;x&quot;: -0.5641025641025635, &quot;y&quot;: 1.384615384615385, &quot;z&quot;: 1.8658608540265353}, {&quot;x&quot;: -0.5641025641025635, &quot;y&quot;: 1.4871794871794877, &quot;z&quot;: 2.1604039178003687}, {&quot;x&quot;: -0.5641025641025635, &quot;y&quot;: 1.5897435897435903, &quot;z&quot;: 2.475985771843761}, {&quot;x&quot;: -0.5641025641025635, &quot;y&quot;: 1.692307692307693, &quot;z&quot;: 2.8126064161567133}, {&quot;x&quot;: -0.5641025641025635, &quot;y&quot;: 1.7948717948717956, &quot;z&quot;: 3.1702658507392254}, {&quot;x&quot;: -0.5641025641025635, &quot;y&quot;: 1.8974358974358982, &quot;z&quot;: 3.5489640755912966}, {&quot;x&quot;: -0.5641025641025635, &quot;y&quot;: 2.0, &quot;z&quot;: 3.948701090712924}, {&quot;x&quot;: -0.461538461538461, &quot;y&quot;: -1.8974358974358974, &quot;z&quot;: 3.4250240226571584}, {&quot;x&quot;: -0.461538461538461, &quot;y&quot;: -2.0, &quot;z&quot;: 3.8247610377787886}, {&quot;x&quot;: -0.461538461538461, &quot;y&quot;: -1.7948717948717947, &quot;z&quot;: 3.0463257978050864}, {&quot;x&quot;: -0.461538461538461, &quot;y&quot;: -1.692307692307692, &quot;z&quot;: 2.6886663632225747}, {&quot;x&quot;: -0.461538461538461, &quot;y&quot;: -1.5897435897435894, &quot;z&quot;: 2.3520457189096224}, {&quot;x&quot;: -0.461538461538461, &quot;y&quot;: -1.4871794871794868, &quot;z&quot;: 2.03646386486623}, {&quot;x&quot;: -0.461538461538461, &quot;y&quot;: -1.3846153846153841, &quot;z&quot;: 1.7419208010923968}, {&quot;x&quot;: -0.461538461538461, &quot;y&quot;: -1.2820512820512815, &quot;z&quot;: 1.468416527588123}, {&quot;x&quot;: -0.461538461538461, &quot;y&quot;: -1.1794871794871788, &quot;z&quot;: 1.2159510443534094}, {&quot;x&quot;: -0.461538461538461, &quot;y&quot;: -1.0769230769230762, &quot;z&quot;: 0.9845243513882544}, {&quot;x&quot;: -0.461538461538461, &quot;y&quot;: -0.9743589743589737, &quot;z&quot;: 0.7741364486926596}, {&quot;x&quot;: -0.461538461538461, &quot;y&quot;: -0.8717948717948711, &quot;z&quot;: 0.5847873362666243}, {&quot;x&quot;: -0.461538461538461, &quot;y&quot;: -0.7692307692307686, &quot;z&quot;: 0.4164770141101486}, {&quot;x&quot;: -0.461538461538461, &quot;y&quot;: -0.6666666666666661, &quot;z&quot;: 0.26920548222323215}, {&quot;x&quot;: -0.461538461538461, &quot;y&quot;: -0.5641025641025635, &quot;z&quot;: 0.1429727406058754}, {&quot;x&quot;: -0.461538461538461, &quot;y&quot;: -0.461538461538461, &quot;z&quot;: 0.03777878925807787}, {&quot;x&quot;: -0.461538461538461, &quot;y&quot;: -0.3589743589743585, &quot;z&quot;: -0.046376371820159856}, {&quot;x&quot;: -0.461538461538461, &quot;y&quot;: -0.25641025641025594, &quot;z&quot;: -0.10949274262883824}, {&quot;x&quot;: -0.461538461538461, &quot;y&quot;: -0.15384615384615338, &quot;z&quot;: -0.15157032316795715}, {&quot;x&quot;: -0.461538461538461, &quot;y&quot;: -0.05128205128205082, &quot;z&quot;: -0.17260911343751661}, {&quot;x&quot;: -0.461538461538461, &quot;y&quot;: 0.05128205128205174, &quot;z&quot;: -0.1726091134375165}, {&quot;x&quot;: -0.461538461538461, &quot;y&quot;: 0.1538461538461543, &quot;z&quot;: -0.15157032316795693}, {&quot;x&quot;: -0.461538461538461, &quot;y&quot;: 0.25641025641025683, &quot;z&quot;: -0.10949274262883779}, {&quot;x&quot;: -0.461538461538461, &quot;y&quot;: 0.35897435897435936, &quot;z&quot;: -0.0463763718201593}, {&quot;x&quot;: -0.461538461538461, &quot;y&quot;: 0.4615384615384619, &quot;z&quot;: 0.03777878925807876}, {&quot;x&quot;: -0.461538461538461, &quot;y&quot;: 0.5641025641025644, &quot;z&quot;: 0.14297274060587628}, {&quot;x&quot;: -0.461538461538461, &quot;y&quot;: 0.666666666666667, &quot;z&quot;: 0.26920548222323326}, {&quot;x&quot;: -0.461538461538461, &quot;y&quot;: 0.7692307692307695, &quot;z&quot;: 0.4164770141101499}, {&quot;x&quot;: -0.461538461538461, &quot;y&quot;: 0.871794871794872, &quot;z&quot;: 0.5847873362666258}, {&quot;x&quot;: -0.461538461538461, &quot;y&quot;: 0.9743589743589746, &quot;z&quot;: 0.7741364486926614}, {&quot;x&quot;: -0.461538461538461, &quot;y&quot;: 1.076923076923077, &quot;z&quot;: 0.9845243513882564}, {&quot;x&quot;: -0.461538461538461, &quot;y&quot;: 1.1794871794871797, &quot;z&quot;: 1.2159510443534112}, {&quot;x&quot;: -0.461538461538461, &quot;y&quot;: 1.2820512820512824, &quot;z&quot;: 1.4684165275881256}, {&quot;x&quot;: -0.461538461538461, &quot;y&quot;: 1.384615384615385, &quot;z&quot;: 1.741920801092399}, {&quot;x&quot;: -0.461538461538461, &quot;y&quot;: 1.4871794871794877, &quot;z&quot;: 2.0364638648662328}, {&quot;x&quot;: -0.461538461538461, &quot;y&quot;: 1.5897435897435903, &quot;z&quot;: 2.3520457189096255}, {&quot;x&quot;: -0.461538461538461, &quot;y&quot;: 1.692307692307693, &quot;z&quot;: 2.688666363222578}, {&quot;x&quot;: -0.461538461538461, &quot;y&quot;: 1.7948717948717956, &quot;z&quot;: 3.04632579780509}, {&quot;x&quot;: -0.461538461538461, &quot;y&quot;: 1.8974358974358982, &quot;z&quot;: 3.425024022657161}, {&quot;x&quot;: -0.461538461538461, &quot;y&quot;: 2.0, &quot;z&quot;: 3.8247610377787886}, {&quot;x&quot;: -0.3589743589743585, &quot;y&quot;: -1.8974358974358974, &quot;z&quot;: 3.2719533370420937}, {&quot;x&quot;: -0.3589743589743585, &quot;y&quot;: -2.0, &quot;z&quot;: 3.671690352163724}, {&quot;x&quot;: -0.3589743589743585, &quot;y&quot;: -1.7948717948717947, &quot;z&quot;: 2.8932551121900216}, {&quot;x&quot;: -0.3589743589743585, &quot;y&quot;: -1.692307692307692, &quot;z&quot;: 2.5355956776075104}, {&quot;x&quot;: -0.3589743589743585, &quot;y&quot;: -1.5897435897435894, &quot;z&quot;: 2.198975033294558}, {&quot;x&quot;: -0.3589743589743585, &quot;y&quot;: -1.4871794871794868, &quot;z&quot;: 1.8833931792511658}, {&quot;x&quot;: -0.3589743589743585, &quot;y&quot;: -1.3846153846153841, &quot;z&quot;: 1.5888501154773325}, {&quot;x&quot;: -0.3589743589743585, &quot;y&quot;: -1.2820512820512815, &quot;z&quot;: 1.3153458419730586}, {&quot;x&quot;: -0.3589743589743585, &quot;y&quot;: -1.1794871794871788, &quot;z&quot;: 1.0628803587383446}, {&quot;x&quot;: -0.3589743589743585, &quot;y&quot;: -1.0769230769230762, &quot;z&quot;: 0.8314536657731899}, {&quot;x&quot;: -0.3589743589743585, &quot;y&quot;: -0.9743589743589737, &quot;z&quot;: 0.6210657630775953}, {&quot;x&quot;: -0.3589743589743585, &quot;y&quot;: -0.8717948717948711, &quot;z&quot;: 0.43171665065155995}, {&quot;x&quot;: -0.3589743589743585, &quot;y&quot;: -0.7692307692307686, &quot;z&quot;: 0.2634063284950843}, {&quot;x&quot;: -0.3589743589743585, &quot;y&quot;: -0.6666666666666661, &quot;z&quot;: 0.11613479660816783}, {&quot;x&quot;: -0.3589743589743585, &quot;y&quot;: -0.5641025641025635, &quot;z&quot;: -0.010097945009189035}, {&quot;x&quot;: -0.3589743589743585, &quot;y&quot;: -0.461538461538461, &quot;z&quot;: -0.11529189635698645}, {&quot;x&quot;: -0.3589743589743585, &quot;y&quot;: -0.3589743589743585, &quot;z&quot;: -0.19944705743522428}, {&quot;x&quot;: -0.3589743589743585, &quot;y&quot;: -0.25641025641025594, &quot;z&quot;: -0.26256342824390266}, {&quot;x&quot;: -0.3589743589743585, &quot;y&quot;: -0.15384615384615338, &quot;z&quot;: -0.3046410087830216}, {&quot;x&quot;: -0.3589743589743585, &quot;y&quot;: -0.05128205128205082, &quot;z&quot;: -0.32567979905258093}, {&quot;x&quot;: -0.3589743589743585, &quot;y&quot;: 0.05128205128205174, &quot;z&quot;: -0.3256797990525808}, {&quot;x&quot;: -0.3589743589743585, &quot;y&quot;: 0.1538461538461543, &quot;z&quot;: -0.30464100878302125}, {&quot;x&quot;: -0.3589743589743585, &quot;y&quot;: 0.25641025641025683, &quot;z&quot;: -0.2625634282439022}, {&quot;x&quot;: -0.3589743589743585, &quot;y&quot;: 0.35897435897435936, &quot;z&quot;: -0.19944705743522362}, {&quot;x&quot;: -0.3589743589743585, &quot;y&quot;: 0.4615384615384619, &quot;z&quot;: -0.11529189635698556}, {&quot;x&quot;: -0.3589743589743585, &quot;y&quot;: 0.5641025641025644, &quot;z&quot;: -0.010097945009188036}, {&quot;x&quot;: -0.3589743589743585, &quot;y&quot;: 0.666666666666667, &quot;z&quot;: 0.11613479660816894}, {&quot;x&quot;: -0.3589743589743585, &quot;y&quot;: 0.7692307692307695, &quot;z&quot;: 0.2634063284950856}, {&quot;x&quot;: -0.3589743589743585, &quot;y&quot;: 0.871794871794872, &quot;z&quot;: 0.4317166506515615}, {&quot;x&quot;: -0.3589743589743585, &quot;y&quot;: 0.9743589743589746, &quot;z&quot;: 0.6210657630775971}, {&quot;x&quot;: -0.3589743589743585, &quot;y&quot;: 1.076923076923077, &quot;z&quot;: 0.8314536657731919}, {&quot;x&quot;: -0.3589743589743585, &quot;y&quot;: 1.1794871794871797, &quot;z&quot;: 1.0628803587383464}, {&quot;x&quot;: -0.3589743589743585, &quot;y&quot;: 1.2820512820512824, &quot;z&quot;: 1.3153458419730608}, {&quot;x&quot;: -0.3589743589743585, &quot;y&quot;: 1.384615384615385, &quot;z&quot;: 1.5888501154773347}, {&quot;x&quot;: -0.3589743589743585, &quot;y&quot;: 1.4871794871794877, &quot;z&quot;: 1.8833931792511684}, {&quot;x&quot;: -0.3589743589743585, &quot;y&quot;: 1.5897435897435903, &quot;z&quot;: 2.198975033294561}, {&quot;x&quot;: -0.3589743589743585, &quot;y&quot;: 1.692307692307693, &quot;z&quot;: 2.535595677607513}, {&quot;x&quot;: -0.3589743589743585, &quot;y&quot;: 1.7948717948717956, &quot;z&quot;: 2.893255112190025}, {&quot;x&quot;: -0.3589743589743585, &quot;y&quot;: 1.8974358974358982, &quot;z&quot;: 3.2719533370420963}, {&quot;x&quot;: -0.3589743589743585, &quot;y&quot;: 2.0, &quot;z&quot;: 3.671690352163724}, {&quot;x&quot;: -0.25641025641025594, &quot;y&quot;: -1.8974358974358974, &quot;z&quot;: 3.0962254926751953}, {&quot;x&quot;: -0.25641025641025594, &quot;y&quot;: -2.0, &quot;z&quot;: 3.4959625077968264}, {&quot;x&quot;: -0.25641025641025594, &quot;y&quot;: -1.7948717948717947, &quot;z&quot;: 2.717527267823124}, {&quot;x&quot;: -0.25641025641025594, &quot;y&quot;: -1.692307692307692, &quot;z&quot;: 2.3598678332406124}, {&quot;x&quot;: -0.25641025641025594, &quot;y&quot;: -1.5897435897435894, &quot;z&quot;: 2.02324718892766}, {&quot;x&quot;: -0.25641025641025594, &quot;y&quot;: -1.4871794871794868, &quot;z&quot;: 1.7076653348842679}, {&quot;x&quot;: -0.25641025641025594, &quot;y&quot;: -1.3846153846153841, &quot;z&quot;: 1.4131222711104345}, {&quot;x&quot;: -0.25641025641025594, &quot;y&quot;: -1.2820512820512815, &quot;z&quot;: 1.1396179976061607}, {&quot;x&quot;: -0.25641025641025594, &quot;y&quot;: -1.1794871794871788, &quot;z&quot;: 0.8871525143714469}, {&quot;x&quot;: -0.25641025641025594, &quot;y&quot;: -1.0769230769230762, &quot;z&quot;: 0.6557258214062922}, {&quot;x&quot;: -0.25641025641025594, &quot;y&quot;: -0.9743589743589737, &quot;z&quot;: 0.4453379187106976}, {&quot;x&quot;: -0.25641025641025594, &quot;y&quot;: -0.8717948717948711, &quot;z&quot;: 0.25598880628466225}, {&quot;x&quot;: -0.25641025641025594, &quot;y&quot;: -0.7692307692307686, &quot;z&quot;: 0.08767848412818635}, {&quot;x&quot;: -0.25641025641025594, &quot;y&quot;: -0.6666666666666661, &quot;z&quot;: -0.05959304775872987}, {&quot;x&quot;: -0.25641025641025594, &quot;y&quot;: -0.5641025641025635, &quot;z&quot;: -0.18582578937608663}, {&quot;x&quot;: -0.25641025641025594, &quot;y&quot;: -0.461538461538461, &quot;z&quot;: -0.29101974072388404}, {&quot;x&quot;: -0.25641025641025594, &quot;y&quot;: -0.3589743589743585, &quot;z&quot;: -0.375174901802122}, {&quot;x&quot;: -0.25641025641025594, &quot;y&quot;: -0.25641025641025594, &quot;z&quot;: -0.43829127261080036}, {&quot;x&quot;: -0.25641025641025594, &quot;y&quot;: -0.15384615384615338, &quot;z&quot;: -0.4803688531499192}, {&quot;x&quot;: -0.25641025641025594, &quot;y&quot;: -0.05128205128205082, &quot;z&quot;: -0.5014076434194786}, {&quot;x&quot;: -0.25641025641025594, &quot;y&quot;: 0.05128205128205174, &quot;z&quot;: -0.5014076434194785}, {&quot;x&quot;: -0.25641025641025594, &quot;y&quot;: 0.1538461538461543, &quot;z&quot;: -0.48036885314991895}, {&quot;x&quot;: -0.25641025641025594, &quot;y&quot;: 0.25641025641025683, &quot;z&quot;: -0.4382912726107999}, {&quot;x&quot;: -0.25641025641025594, &quot;y&quot;: 0.35897435897435936, &quot;z&quot;: -0.3751749018021213}, {&quot;x&quot;: -0.25641025641025594, &quot;y&quot;: 0.4615384615384619, &quot;z&quot;: -0.29101974072388326}, {&quot;x&quot;: -0.25641025641025594, &quot;y&quot;: 0.5641025641025644, &quot;z&quot;: -0.18582578937608574}, {&quot;x&quot;: -0.25641025641025594, &quot;y&quot;: 0.666666666666667, &quot;z&quot;: -0.059593047758728646}, {&quot;x&quot;: -0.25641025641025594, &quot;y&quot;: 0.7692307692307695, &quot;z&quot;: 0.08767848412818768}, {&quot;x&quot;: -0.25641025641025594, &quot;y&quot;: 0.871794871794872, &quot;z&quot;: 0.2559888062846638}, {&quot;x&quot;: -0.25641025641025594, &quot;y&quot;: 0.9743589743589746, &quot;z&quot;: 0.4453379187106994}, {&quot;x&quot;: -0.25641025641025594, &quot;y&quot;: 1.076923076923077, &quot;z&quot;: 0.6557258214062942}, {&quot;x&quot;: -0.25641025641025594, &quot;y&quot;: 1.1794871794871797, &quot;z&quot;: 0.8871525143714489}, {&quot;x&quot;: -0.25641025641025594, &quot;y&quot;: 1.2820512820512824, &quot;z&quot;: 1.1396179976061633}, {&quot;x&quot;: -0.25641025641025594, &quot;y&quot;: 1.384615384615385, &quot;z&quot;: 1.4131222711104368}, {&quot;x&quot;: -0.25641025641025594, &quot;y&quot;: 1.4871794871794877, &quot;z&quot;: 1.7076653348842705}, {&quot;x&quot;: -0.25641025641025594, &quot;y&quot;: 1.5897435897435903, &quot;z&quot;: 2.0232471889276633}, {&quot;x&quot;: -0.25641025641025594, &quot;y&quot;: 1.692307692307693, &quot;z&quot;: 2.3598678332406156}, {&quot;x&quot;: -0.25641025641025594, &quot;y&quot;: 1.7948717948717956, &quot;z&quot;: 2.7175272678231277}, {&quot;x&quot;: -0.25641025641025594, &quot;y&quot;: 1.8974358974358982, &quot;z&quot;: 3.096225492675199}, {&quot;x&quot;: -0.25641025641025594, &quot;y&quot;: 2.0, &quot;z&quot;: 3.4959625077968264}, {&quot;x&quot;: -0.15384615384615338, &quot;y&quot;: -1.8974358974358974, &quot;z&quot;: 2.90431396348556}, {&quot;x&quot;: -0.15384615384615338, &quot;y&quot;: -2.0, &quot;z&quot;: 3.304050978607191}, {&quot;x&quot;: -0.15384615384615338, &quot;y&quot;: -1.7948717948717947, &quot;z&quot;: 2.5256157386334883}, {&quot;x&quot;: -0.15384615384615338, &quot;y&quot;: -1.692307692307692, &quot;z&quot;: 2.1679563040509766}, {&quot;x&quot;: -0.15384615384615338, &quot;y&quot;: -1.5897435897435894, &quot;z&quot;: 1.8313356597380244}, {&quot;x&quot;: -0.15384615384615338, &quot;y&quot;: -1.4871794871794868, &quot;z&quot;: 1.515753805694632}, {&quot;x&quot;: -0.15384615384615338, &quot;y&quot;: -1.3846153846153841, &quot;z&quot;: 1.2212107419207987}, {&quot;x&quot;: -0.15384615384615338, &quot;y&quot;: -1.2820512820512815, &quot;z&quot;: 0.9477064684165253}, {&quot;x&quot;: -0.15384615384615338, &quot;y&quot;: -1.1794871794871788, &quot;z&quot;: 0.6952409851818113}, {&quot;x&quot;: -0.15384615384615338, &quot;y&quot;: -1.0769230769230762, &quot;z&quot;: 0.4638142922166566}, {&quot;x&quot;: -0.15384615384615338, &quot;y&quot;: -0.9743589743589737, &quot;z&quot;: 0.2534263895210618}, {&quot;x&quot;: -0.15384615384615338, &quot;y&quot;: -0.8717948717948711, &quot;z&quot;: 0.06407727709502642}, {&quot;x&quot;: -0.15384615384615338, &quot;y&quot;: -0.7692307692307686, &quot;z&quot;: -0.10423304506144926}, {&quot;x&quot;: -0.15384615384615338, &quot;y&quot;: -0.6666666666666661, &quot;z&quot;: -0.2515045769483657}, {&quot;x&quot;: -0.15384615384615338, &quot;y&quot;: -0.5641025641025635, &quot;z&quot;: -0.37773731856572246}, {&quot;x&quot;: -0.15384615384615338, &quot;y&quot;: -0.461538461538461, &quot;z&quot;: -0.48293126991351976}, {&quot;x&quot;: -0.15384615384615338, &quot;y&quot;: -0.3589743589743585, &quot;z&quot;: -0.5670864309917577}, {&quot;x&quot;: -0.15384615384615338, &quot;y&quot;: -0.25641025641025594, &quot;z&quot;: -0.6302028018004361}, {&quot;x&quot;: -0.15384615384615338, &quot;y&quot;: -0.15384615384615338, &quot;z&quot;: -0.6722803823395549}, {&quot;x&quot;: -0.15384615384615338, &quot;y&quot;: -0.05128205128205082, &quot;z&quot;: -0.6933191726091144}, {&quot;x&quot;: -0.15384615384615338, &quot;y&quot;: 0.05128205128205174, &quot;z&quot;: -0.6933191726091144}, {&quot;x&quot;: -0.15384615384615338, &quot;y&quot;: 0.1538461538461543, &quot;z&quot;: -0.6722803823395547}, {&quot;x&quot;: -0.15384615384615338, &quot;y&quot;: 0.25641025641025683, &quot;z&quot;: -0.6302028018004356}, {&quot;x&quot;: -0.15384615384615338, &quot;y&quot;: 0.35897435897435936, &quot;z&quot;: -0.567086430991757}, {&quot;x&quot;: -0.15384615384615338, &quot;y&quot;: 0.4615384615384619, &quot;z&quot;: -0.482931269913519}, {&quot;x&quot;: -0.15384615384615338, &quot;y&quot;: 0.5641025641025644, &quot;z&quot;: -0.37773731856572146}, {&quot;x&quot;: -0.15384615384615338, &quot;y&quot;: 0.666666666666667, &quot;z&quot;: -0.25150457694836437}, {&quot;x&quot;: -0.15384615384615338, &quot;y&quot;: 0.7692307692307695, &quot;z&quot;: -0.10423304506144793}, {&quot;x&quot;: -0.15384615384615338, &quot;y&quot;: 0.871794871794872, &quot;z&quot;: 0.06407727709502797}, {&quot;x&quot;: -0.15384615384615338, &quot;y&quot;: 0.9743589743589746, &quot;z&quot;: 0.25342638952106356}, {&quot;x&quot;: -0.15384615384615338, &quot;y&quot;: 1.076923076923077, &quot;z&quot;: 0.4638142922166586}, {&quot;x&quot;: -0.15384615384615338, &quot;y&quot;: 1.1794871794871797, &quot;z&quot;: 0.6952409851818133}, {&quot;x&quot;: -0.15384615384615338, &quot;y&quot;: 1.2820512820512824, &quot;z&quot;: 0.9477064684165275}, {&quot;x&quot;: -0.15384615384615338, &quot;y&quot;: 1.384615384615385, &quot;z&quot;: 1.2212107419208014}, {&quot;x&quot;: -0.15384615384615338, &quot;y&quot;: 1.4871794871794877, &quot;z&quot;: 1.5157538056946347}, {&quot;x&quot;: -0.15384615384615338, &quot;y&quot;: 1.5897435897435903, &quot;z&quot;: 1.8313356597380275}, {&quot;x&quot;: -0.15384615384615338, &quot;y&quot;: 1.692307692307693, &quot;z&quot;: 2.1679563040509797}, {&quot;x&quot;: -0.15384615384615338, &quot;y&quot;: 1.7948717948717956, &quot;z&quot;: 2.525615738633492}, {&quot;x&quot;: -0.15384615384615338, &quot;y&quot;: 1.8974358974358982, &quot;z&quot;: 2.904313963485563}, {&quot;x&quot;: -0.15384615384615338, &quot;y&quot;: 2.0, &quot;z&quot;: 3.304050978607191}, {&quot;x&quot;: -0.05128205128205082, &quot;y&quot;: -1.8974358974358974, &quot;z&quot;: 2.7026922234022814}, {&quot;x&quot;: -0.05128205128205082, &quot;y&quot;: -2.0, &quot;z&quot;: 3.1024292385239116}, {&quot;x&quot;: -0.05128205128205082, &quot;y&quot;: -1.7948717948717947, &quot;z&quot;: 2.32399399855021}, {&quot;x&quot;: -0.05128205128205082, &quot;y&quot;: -1.692307692307692, &quot;z&quot;: 1.9663345639676981}, {&quot;x&quot;: -0.05128205128205082, &quot;y&quot;: -1.5897435897435894, &quot;z&quot;: 1.6297139196547459}, {&quot;x&quot;: -0.05128205128205082, &quot;y&quot;: -1.4871794871794868, &quot;z&quot;: 1.3141320656113535}, {&quot;x&quot;: -0.05128205128205082, &quot;y&quot;: -1.3846153846153841, &quot;z&quot;: 1.0195890018375202}, {&quot;x&quot;: -0.05128205128205082, &quot;y&quot;: -1.2820512820512815, &quot;z&quot;: 0.7460847283332468}, {&quot;x&quot;: -0.05128205128205082, &quot;y&quot;: -1.1794871794871788, &quot;z&quot;: 0.49361924509853283}, {&quot;x&quot;: -0.05128205128205082, &quot;y&quot;: -1.0769230769230762, &quot;z&quot;: 0.2621925521333779}, {&quot;x&quot;: -0.05128205128205082, &quot;y&quot;: -0.9743589743589737, &quot;z&quot;: 0.05180464943778329}, {&quot;x&quot;: -0.05128205128205082, &quot;y&quot;: -0.8717948717948711, &quot;z&quot;: -0.13754446298825207}, {&quot;x&quot;: -0.05128205128205082, &quot;y&quot;: -0.7692307692307686, &quot;z&quot;: -0.30585478514472786}, {&quot;x&quot;: -0.05128205128205082, &quot;y&quot;: -0.6666666666666661, &quot;z&quot;: -0.4531263170316442}, {&quot;x&quot;: -0.05128205128205082, &quot;y&quot;: -0.5641025641025635, &quot;z&quot;: -0.579359058649001}, {&quot;x&quot;: -0.05128205128205082, &quot;y&quot;: -0.461538461538461, &quot;z&quot;: -0.6845530099967984}, {&quot;x&quot;: -0.05128205128205082, &quot;y&quot;: -0.3589743589743585, &quot;z&quot;: -0.7687081710750363}, {&quot;x&quot;: -0.05128205128205082, &quot;y&quot;: -0.25641025641025594, &quot;z&quot;: -0.8318245418837147}, {&quot;x&quot;: -0.05128205128205082, &quot;y&quot;: -0.15384615384615338, &quot;z&quot;: -0.8739021224228336}, {&quot;x&quot;: -0.05128205128205082, &quot;y&quot;: -0.05128205128205082, &quot;z&quot;: -0.894940912692393}, {&quot;x&quot;: -0.05128205128205082, &quot;y&quot;: 0.05128205128205174, &quot;z&quot;: -0.8949409126923928}, {&quot;x&quot;: -0.05128205128205082, &quot;y&quot;: 0.1538461538461543, &quot;z&quot;: -0.8739021224228333}, {&quot;x&quot;: -0.05128205128205082, &quot;y&quot;: 0.25641025641025683, &quot;z&quot;: -0.8318245418837142}, {&quot;x&quot;: -0.05128205128205082, &quot;y&quot;: 0.35897435897435936, &quot;z&quot;: -0.7687081710750356}, {&quot;x&quot;: -0.05128205128205082, &quot;y&quot;: 0.4615384615384619, &quot;z&quot;: -0.6845530099967976}, {&quot;x&quot;: -0.05128205128205082, &quot;y&quot;: 0.5641025641025644, &quot;z&quot;: -0.5793590586490001}, {&quot;x&quot;: -0.05128205128205082, &quot;y&quot;: 0.666666666666667, &quot;z&quot;: -0.45312631703164297}, {&quot;x&quot;: -0.05128205128205082, &quot;y&quot;: 0.7692307692307695, &quot;z&quot;: -0.3058547851447265}, {&quot;x&quot;: -0.05128205128205082, &quot;y&quot;: 0.871794871794872, &quot;z&quot;: -0.13754446298825052}, {&quot;x&quot;: -0.05128205128205082, &quot;y&quot;: 0.9743589743589746, &quot;z&quot;: 0.051804649437785066}, {&quot;x&quot;: -0.05128205128205082, &quot;y&quot;: 1.076923076923077, &quot;z&quot;: 0.2621925521333801}, {&quot;x&quot;: -0.05128205128205082, &quot;y&quot;: 1.1794871794871797, &quot;z&quot;: 0.4936192450985346}, {&quot;x&quot;: -0.05128205128205082, &quot;y&quot;: 1.2820512820512824, &quot;z&quot;: 0.746084728333249}, {&quot;x&quot;: -0.05128205128205082, &quot;y&quot;: 1.384615384615385, &quot;z&quot;: 1.0195890018375229}, {&quot;x&quot;: -0.05128205128205082, &quot;y&quot;: 1.4871794871794877, &quot;z&quot;: 1.3141320656113562}, {&quot;x&quot;: -0.05128205128205082, &quot;y&quot;: 1.5897435897435903, &quot;z&quot;: 1.629713919654749}, {&quot;x&quot;: -0.05128205128205082, &quot;y&quot;: 1.692307692307693, &quot;z&quot;: 1.9663345639677012}, {&quot;x&quot;: -0.05128205128205082, &quot;y&quot;: 1.7948717948717956, &quot;z&quot;: 2.3239939985502134}, {&quot;x&quot;: -0.05128205128205082, &quot;y&quot;: 1.8974358974358982, &quot;z&quot;: 2.7026922234022845}, {&quot;x&quot;: -0.05128205128205082, &quot;y&quot;: 2.0, &quot;z&quot;: 3.1024292385239116}, {&quot;x&quot;: 0.05128205128205174, &quot;y&quot;: -1.8974358974358974, &quot;z&quot;: 2.4978337463544555}, {&quot;x&quot;: 0.05128205128205174, &quot;y&quot;: -2.0, &quot;z&quot;: 2.897570761476086}, {&quot;x&quot;: 0.05128205128205174, &quot;y&quot;: -1.7948717948717947, &quot;z&quot;: 2.119135521502384}, {&quot;x&quot;: 0.05128205128205174, &quot;y&quot;: -1.692307692307692, &quot;z&quot;: 1.7614760869198722}, {&quot;x&quot;: 0.05128205128205174, &quot;y&quot;: -1.5897435897435894, &quot;z&quot;: 1.42485544260692}, {&quot;x&quot;: 0.05128205128205174, &quot;y&quot;: -1.4871794871794868, &quot;z&quot;: 1.1092735885635276}, {&quot;x&quot;: 0.05128205128205174, &quot;y&quot;: -1.3846153846153841, &quot;z&quot;: 0.8147305247896941}, {&quot;x&quot;: 0.05128205128205174, &quot;y&quot;: -1.2820512820512815, &quot;z&quot;: 0.5412262512854205}, {&quot;x&quot;: 0.05128205128205174, &quot;y&quot;: -1.1794871794871788, &quot;z&quot;: 0.2887607680507065}, {&quot;x&quot;: 0.05128205128205174, &quot;y&quot;: -1.0769230769230762, &quot;z&quot;: 0.05733407508555177}, {&quot;x&quot;: 0.05128205128205174, &quot;y&quot;: -0.9743589743589737, &quot;z&quot;: -0.15305382761004283}, {&quot;x&quot;: 0.05128205128205174, &quot;y&quot;: -0.8717948717948711, &quot;z&quot;: -0.3424029400360782}, {&quot;x&quot;: 0.05128205128205174, &quot;y&quot;: -0.7692307692307686, &quot;z&quot;: -0.5107132621925541}, {&quot;x&quot;: 0.05128205128205174, &quot;y&quot;: -0.6666666666666661, &quot;z&quot;: -0.6579847940794703}, {&quot;x&quot;: 0.05128205128205174, &quot;y&quot;: -0.5641025641025635, &quot;z&quot;: -0.7842175356968272}, {&quot;x&quot;: 0.05128205128205174, &quot;y&quot;: -0.461538461538461, &quot;z&quot;: -0.8894114870446246}, {&quot;x&quot;: 0.05128205128205174, &quot;y&quot;: -0.3589743589743585, &quot;z&quot;: -0.9735666481228624}, {&quot;x&quot;: 0.05128205128205174, &quot;y&quot;: -0.25641025641025594, &quot;z&quot;: -1.0366830189315408}, {&quot;x&quot;: 0.05128205128205174, &quot;y&quot;: -0.15384615384615338, &quot;z&quot;: -1.0787605994706597}, {&quot;x&quot;: 0.05128205128205174, &quot;y&quot;: -0.05128205128205082, &quot;z&quot;: -1.0997993897402192}, {&quot;x&quot;: 0.05128205128205174, &quot;y&quot;: 0.05128205128205174, &quot;z&quot;: -1.099799389740219}, {&quot;x&quot;: 0.05128205128205174, &quot;y&quot;: 0.1538461538461543, &quot;z&quot;: -1.0787605994706595}, {&quot;x&quot;: 0.05128205128205174, &quot;y&quot;: 0.25641025641025683, &quot;z&quot;: -1.0366830189315404}, {&quot;x&quot;: 0.05128205128205174, &quot;y&quot;: 0.35897435897435936, &quot;z&quot;: -0.9735666481228618}, {&quot;x&quot;: 0.05128205128205174, &quot;y&quot;: 0.4615384615384619, &quot;z&quot;: -0.8894114870446237}, {&quot;x&quot;: 0.05128205128205174, &quot;y&quot;: 0.5641025641025644, &quot;z&quot;: -0.7842175356968262}, {&quot;x&quot;: 0.05128205128205174, &quot;y&quot;: 0.666666666666667, &quot;z&quot;: -0.6579847940794692}, {&quot;x&quot;: 0.05128205128205174, &quot;y&quot;: 0.7692307692307695, &quot;z&quot;: -0.5107132621925528}, {&quot;x&quot;: 0.05128205128205174, &quot;y&quot;: 0.871794871794872, &quot;z&quot;: -0.34240294003607663}, {&quot;x&quot;: 0.05128205128205174, &quot;y&quot;: 0.9743589743589746, &quot;z&quot;: -0.15305382761004105}, {&quot;x&quot;: 0.05128205128205174, &quot;y&quot;: 1.076923076923077, &quot;z&quot;: 0.05733407508555377}, {&quot;x&quot;: 0.05128205128205174, &quot;y&quot;: 1.1794871794871797, &quot;z&quot;: 0.2887607680507085}, {&quot;x&quot;: 0.05128205128205174, &quot;y&quot;: 1.2820512820512824, &quot;z&quot;: 0.5412262512854227}, {&quot;x&quot;: 0.05128205128205174, &quot;y&quot;: 1.384615384615385, &quot;z&quot;: 0.8147305247896965}, {&quot;x&quot;: 0.05128205128205174, &quot;y&quot;: 1.4871794871794877, &quot;z&quot;: 1.1092735885635303}, {&quot;x&quot;: 0.05128205128205174, &quot;y&quot;: 1.5897435897435903, &quot;z&quot;: 1.424855442606923}, {&quot;x&quot;: 0.05128205128205174, &quot;y&quot;: 1.692307692307693, &quot;z&quot;: 1.7614760869198753}, {&quot;x&quot;: 0.05128205128205174, &quot;y&quot;: 1.7948717948717956, &quot;z&quot;: 2.1191355215023875}, {&quot;x&quot;: 0.05128205128205174, &quot;y&quot;: 1.8974358974358982, &quot;z&quot;: 2.4978337463544587}, {&quot;x&quot;: 0.05128205128205174, &quot;y&quot;: 2.0, &quot;z&quot;: 2.897570761476086}, {&quot;x&quot;: 0.1538461538461543, &quot;y&quot;: -1.8974358974358974, &quot;z&quot;: 2.296212006271177}, {&quot;x&quot;: 0.1538461538461543, &quot;y&quot;: -2.0, &quot;z&quot;: 2.695949021392808}, {&quot;x&quot;: 0.1538461538461543, &quot;y&quot;: -1.7948717948717947, &quot;z&quot;: 1.917513781419105}, {&quot;x&quot;: 0.1538461538461543, &quot;y&quot;: -1.692307692307692, &quot;z&quot;: 1.5598543468365937}, {&quot;x&quot;: 0.1538461538461543, &quot;y&quot;: -1.5897435897435894, &quot;z&quot;: 1.2232337025236415}, {&quot;x&quot;: 0.1538461538461543, &quot;y&quot;: -1.4871794871794868, &quot;z&quot;: 0.9076518484802489}, {&quot;x&quot;: 0.1538461538461543, &quot;y&quot;: -1.3846153846153841, &quot;z&quot;: 0.6131087847064156}, {&quot;x&quot;: 0.1538461538461543, &quot;y&quot;: -1.2820512820512815, &quot;z&quot;: 0.33960451120214197}, {&quot;x&quot;: 0.1538461538461543, &quot;y&quot;: -1.1794871794871788, &quot;z&quot;: 0.087139027967428}, {&quot;x&quot;: 0.1538461538461543, &quot;y&quot;: -1.0769230769230762, &quot;z&quot;: -0.14428766499772672}, {&quot;x&quot;: 0.1538461538461543, &quot;y&quot;: -0.9743589743589737, &quot;z&quot;: -0.3546755676933214}, {&quot;x&quot;: 0.1538461538461543, &quot;y&quot;: -0.8717948717948711, &quot;z&quot;: -0.5440246801193568}, {&quot;x&quot;: 0.1538461538461543, &quot;y&quot;: -0.7692307692307686, &quot;z&quot;: -0.7123350022758326}, {&quot;x&quot;: 0.1538461538461543, &quot;y&quot;: -0.6666666666666661, &quot;z&quot;: -0.8596065341627488}, {&quot;x&quot;: 0.1538461538461543, &quot;y&quot;: -0.5641025641025635, &quot;z&quot;: -0.9858392757801057}, {&quot;x&quot;: 0.1538461538461543, &quot;y&quot;: -0.461538461538461, &quot;z&quot;: -1.091033227127903}, {&quot;x&quot;: 0.1538461538461543, &quot;y&quot;: -0.3589743589743585, &quot;z&quot;: -1.175188388206141}, {&quot;x&quot;: 0.1538461538461543, &quot;y&quot;: -0.25641025641025594, &quot;z&quot;: -1.2383047590148193}, {&quot;x&quot;: 0.1538461538461543, &quot;y&quot;: -0.15384615384615338, &quot;z&quot;: -1.2803823395539382}, {&quot;x&quot;: 0.1538461538461543, &quot;y&quot;: -0.05128205128205082, &quot;z&quot;: -1.3014211298234977}, {&quot;x&quot;: 0.1538461538461543, &quot;y&quot;: 0.05128205128205174, &quot;z&quot;: -1.3014211298234974}, {&quot;x&quot;: 0.1538461538461543, &quot;y&quot;: 0.1538461538461543, &quot;z&quot;: -1.280382339553938}, {&quot;x&quot;: 0.1538461538461543, &quot;y&quot;: 0.25641025641025683, &quot;z&quot;: -1.2383047590148188}, {&quot;x&quot;: 0.1538461538461543, &quot;y&quot;: 0.35897435897435936, &quot;z&quot;: -1.1751883882061402}, {&quot;x&quot;: 0.1538461538461543, &quot;y&quot;: 0.4615384615384619, &quot;z&quot;: -1.0910332271279022}, {&quot;x&quot;: 0.1538461538461543, &quot;y&quot;: 0.5641025641025644, &quot;z&quot;: -0.9858392757801047}, {&quot;x&quot;: 0.1538461538461543, &quot;y&quot;: 0.666666666666667, &quot;z&quot;: -0.8596065341627477}, {&quot;x&quot;: 0.1538461538461543, &quot;y&quot;: 0.7692307692307695, &quot;z&quot;: -0.7123350022758312}, {&quot;x&quot;: 0.1538461538461543, &quot;y&quot;: 0.871794871794872, &quot;z&quot;: -0.5440246801193552}, {&quot;x&quot;: 0.1538461538461543, &quot;y&quot;: 0.9743589743589746, &quot;z&quot;: -0.35467556769331965}, {&quot;x&quot;: 0.1538461538461543, &quot;y&quot;: 1.076923076923077, &quot;z&quot;: -0.14428766499772472}, {&quot;x&quot;: 0.1538461538461543, &quot;y&quot;: 1.1794871794871797, &quot;z&quot;: 0.08713902796743}, {&quot;x&quot;: 0.1538461538461543, &quot;y&quot;: 1.2820512820512824, &quot;z&quot;: 0.3396045112021442}, {&quot;x&quot;: 0.1538461538461543, &quot;y&quot;: 1.384615384615385, &quot;z&quot;: 0.613108784706418}, {&quot;x&quot;: 0.1538461538461543, &quot;y&quot;: 1.4871794871794877, &quot;z&quot;: 0.9076518484802516}, {&quot;x&quot;: 0.1538461538461543, &quot;y&quot;: 1.5897435897435903, &quot;z&quot;: 1.2232337025236442}, {&quot;x&quot;: 0.1538461538461543, &quot;y&quot;: 1.692307692307693, &quot;z&quot;: 1.5598543468365964}, {&quot;x&quot;: 0.1538461538461543, &quot;y&quot;: 1.7948717948717956, &quot;z&quot;: 1.9175137814191086}, {&quot;x&quot;: 0.1538461538461543, &quot;y&quot;: 1.8974358974358982, &quot;z&quot;: 2.2962120062711797}, {&quot;x&quot;: 0.1538461538461543, &quot;y&quot;: 2.0, &quot;z&quot;: 2.695949021392808}, {&quot;x&quot;: 0.25641025641025683, &quot;y&quot;: -1.8974358974358974, &quot;z&quot;: 2.104300477081541}, {&quot;x&quot;: 0.25641025641025683, &quot;y&quot;: -2.0, &quot;z&quot;: 2.504037492203172}, {&quot;x&quot;: 0.25641025641025683, &quot;y&quot;: -1.7948717948717947, &quot;z&quot;: 1.7256022522294696}, {&quot;x&quot;: 0.25641025641025683, &quot;y&quot;: -1.692307692307692, &quot;z&quot;: 1.367942817646958}, {&quot;x&quot;: 0.25641025641025683, &quot;y&quot;: -1.5897435897435894, &quot;z&quot;: 1.0313221733340057}, {&quot;x&quot;: 0.25641025641025683, &quot;y&quot;: -1.4871794871794868, &quot;z&quot;: 0.7157403192906133}, {&quot;x&quot;: 0.25641025641025683, &quot;y&quot;: -1.3846153846153841, &quot;z&quot;: 0.42119725551678}, {&quot;x&quot;: 0.25641025641025683, &quot;y&quot;: -1.2820512820512815, &quot;z&quot;: 0.14769298201250636}, {&quot;x&quot;: 0.25641025641025683, &quot;y&quot;: -1.1794871794871788, &quot;z&quot;: -0.1047725012222076}, {&quot;x&quot;: 0.25641025641025683, &quot;y&quot;: -1.0769230769230762, &quot;z&quot;: -0.3361991941873623}, {&quot;x&quot;: 0.25641025641025683, &quot;y&quot;: -0.9743589743589737, &quot;z&quot;: -0.5465870968829569}, {&quot;x&quot;: 0.25641025641025683, &quot;y&quot;: -0.8717948717948711, &quot;z&quot;: -0.7359362093089923}, {&quot;x&quot;: 0.25641025641025683, &quot;y&quot;: -0.7692307692307686, &quot;z&quot;: -0.9042465314654681}, {&quot;x&quot;: 0.25641025641025683, &quot;y&quot;: -0.6666666666666661, &quot;z&quot;: -1.0515180633523844}, {&quot;x&quot;: 0.25641025641025683, &quot;y&quot;: -0.5641025641025635, &quot;z&quot;: -1.1777508049697412}, {&quot;x&quot;: 0.25641025641025683, &quot;y&quot;: -0.461538461538461, &quot;z&quot;: -1.2829447563175387}, {&quot;x&quot;: 0.25641025641025683, &quot;y&quot;: -0.3589743589743585, &quot;z&quot;: -1.3670999173957765}, {&quot;x&quot;: 0.25641025641025683, &quot;y&quot;: -0.25641025641025594, &quot;z&quot;: -1.430216288204455}, {&quot;x&quot;: 0.25641025641025683, &quot;y&quot;: -0.15384615384615338, &quot;z&quot;: -1.4722938687435738}, {&quot;x&quot;: 0.25641025641025683, &quot;y&quot;: -0.05128205128205082, &quot;z&quot;: -1.493332659013133}, {&quot;x&quot;: 0.25641025641025683, &quot;y&quot;: 0.05128205128205174, &quot;z&quot;: -1.493332659013133}, {&quot;x&quot;: 0.25641025641025683, &quot;y&quot;: 0.1538461538461543, &quot;z&quot;: -1.4722938687435736}, {&quot;x&quot;: 0.25641025641025683, &quot;y&quot;: 0.25641025641025683, &quot;z&quot;: -1.4302162882044545}, {&quot;x&quot;: 0.25641025641025683, &quot;y&quot;: 0.35897435897435936, &quot;z&quot;: -1.3670999173957759}, {&quot;x&quot;: 0.25641025641025683, &quot;y&quot;: 0.4615384615384619, &quot;z&quot;: -1.2829447563175378}, {&quot;x&quot;: 0.25641025641025683, &quot;y&quot;: 0.5641025641025644, &quot;z&quot;: -1.1777508049697403}, {&quot;x&quot;: 0.25641025641025683, &quot;y&quot;: 0.666666666666667, &quot;z&quot;: -1.0515180633523833}, {&quot;x&quot;: 0.25641025641025683, &quot;y&quot;: 0.7692307692307695, &quot;z&quot;: -0.9042465314654667}, {&quot;x&quot;: 0.25641025641025683, &quot;y&quot;: 0.871794871794872, &quot;z&quot;: -0.7359362093089907}, {&quot;x&quot;: 0.25641025641025683, &quot;y&quot;: 0.9743589743589746, &quot;z&quot;: -0.5465870968829551}, {&quot;x&quot;: 0.25641025641025683, &quot;y&quot;: 1.076923076923077, &quot;z&quot;: -0.33619919418736033}, {&quot;x&quot;: 0.25641025641025683, &quot;y&quot;: 1.1794871794871797, &quot;z&quot;: -0.1047725012222056}, {&quot;x&quot;: 0.25641025641025683, &quot;y&quot;: 1.2820512820512824, &quot;z&quot;: 0.14769298201250858}, {&quot;x&quot;: 0.25641025641025683, &quot;y&quot;: 1.384615384615385, &quot;z&quot;: 0.42119725551678244}, {&quot;x&quot;: 0.25641025641025683, &quot;y&quot;: 1.4871794871794877, &quot;z&quot;: 0.715740319290616}, {&quot;x&quot;: 0.25641025641025683, &quot;y&quot;: 1.5897435897435903, &quot;z&quot;: 1.0313221733340088}, {&quot;x&quot;: 0.25641025641025683, &quot;y&quot;: 1.692307692307693, &quot;z&quot;: 1.367942817646961}, {&quot;x&quot;: 0.25641025641025683, &quot;y&quot;: 1.7948717948717956, &quot;z&quot;: 1.7256022522294732}, {&quot;x&quot;: 0.25641025641025683, &quot;y&quot;: 1.8974358974358982, &quot;z&quot;: 2.1043004770815443}, {&quot;x&quot;: 0.25641025641025683, &quot;y&quot;: 2.0, &quot;z&quot;: 2.504037492203172}, {&quot;x&quot;: 0.35897435897435936, &quot;y&quot;: -1.8974358974358974, &quot;z&quot;: 1.9285726327146442}, {&quot;x&quot;: 0.35897435897435936, &quot;y&quot;: -2.0, &quot;z&quot;: 2.3283096478362744}, {&quot;x&quot;: 0.35897435897435936, &quot;y&quot;: -1.7948717948717947, &quot;z&quot;: 1.5498744078625721}, {&quot;x&quot;: 0.35897435897435936, &quot;y&quot;: -1.692307692307692, &quot;z&quot;: 1.1922149732800609}, {&quot;x&quot;: 0.35897435897435936, &quot;y&quot;: -1.5897435897435894, &quot;z&quot;: 0.8555943289671084}, {&quot;x&quot;: 0.35897435897435936, &quot;y&quot;: -1.4871794871794868, &quot;z&quot;: 0.5400124749237161}, {&quot;x&quot;: 0.35897435897435936, &quot;y&quot;: -1.3846153846153841, &quot;z&quot;: 0.24546941114988252}, {&quot;x&quot;: 0.35897435897435936, &quot;y&quot;: -1.2820512820512815, &quot;z&quot;: -0.02803486235439112}, {&quot;x&quot;: 0.35897435897435936, &quot;y&quot;: -1.1794871794871788, &quot;z&quot;: -0.2805003455891051}, {&quot;x&quot;: 0.35897435897435936, &quot;y&quot;: -1.0769230769230762, &quot;z&quot;: -0.5119270385542598}, {&quot;x&quot;: 0.35897435897435936, &quot;y&quot;: -0.9743589743589737, &quot;z&quot;: -0.7223149412498544}, {&quot;x&quot;: 0.35897435897435936, &quot;y&quot;: -0.8717948717948711, &quot;z&quot;: -0.9116640536758898}, {&quot;x&quot;: 0.35897435897435936, &quot;y&quot;: -0.7692307692307686, &quot;z&quot;: -1.0799743758323657}, {&quot;x&quot;: 0.35897435897435936, &quot;y&quot;: -0.6666666666666661, &quot;z&quot;: -1.2272459077192819}, {&quot;x&quot;: 0.35897435897435936, &quot;y&quot;: -0.5641025641025635, &quot;z&quot;: -1.3534786493366386}, {&quot;x&quot;: 0.35897435897435936, &quot;y&quot;: -0.461538461538461, &quot;z&quot;: -1.4586726006844362}, {&quot;x&quot;: 0.35897435897435936, &quot;y&quot;: -0.3589743589743585, &quot;z&quot;: -1.542827761762674}, {&quot;x&quot;: 0.35897435897435936, &quot;y&quot;: -0.25641025641025594, &quot;z&quot;: -1.6059441325713524}, {&quot;x&quot;: 0.35897435897435936, &quot;y&quot;: -0.15384615384615338, &quot;z&quot;: -1.6480217131104713}, {&quot;x&quot;: 0.35897435897435936, &quot;y&quot;: -0.05128205128205082, &quot;z&quot;: -1.6690605033800305}, {&quot;x&quot;: 0.35897435897435936, &quot;y&quot;: 0.05128205128205174, &quot;z&quot;: -1.6690605033800305}, {&quot;x&quot;: 0.35897435897435936, &quot;y&quot;: 0.1538461538461543, &quot;z&quot;: -1.648021713110471}, {&quot;x&quot;: 0.35897435897435936, &quot;y&quot;: 0.25641025641025683, &quot;z&quot;: -1.605944132571352}, {&quot;x&quot;: 0.35897435897435936, &quot;y&quot;: 0.35897435897435936, &quot;z&quot;: -1.5428277617626733}, {&quot;x&quot;: 0.35897435897435936, &quot;y&quot;: 0.4615384615384619, &quot;z&quot;: -1.4586726006844353}, {&quot;x&quot;: 0.35897435897435936, &quot;y&quot;: 0.5641025641025644, &quot;z&quot;: -1.3534786493366378}, {&quot;x&quot;: 0.35897435897435936, &quot;y&quot;: 0.666666666666667, &quot;z&quot;: -1.2272459077192808}, {&quot;x&quot;: 0.35897435897435936, &quot;y&quot;: 0.7692307692307695, &quot;z&quot;: -1.0799743758323643}, {&quot;x&quot;: 0.35897435897435936, &quot;y&quot;: 0.871794871794872, &quot;z&quot;: -0.9116640536758882}, {&quot;x&quot;: 0.35897435897435936, &quot;y&quot;: 0.9743589743589746, &quot;z&quot;: -0.7223149412498526}, {&quot;x&quot;: 0.35897435897435936, &quot;y&quot;: 1.076923076923077, &quot;z&quot;: -0.5119270385542578}, {&quot;x&quot;: 0.35897435897435936, &quot;y&quot;: 1.1794871794871797, &quot;z&quot;: -0.2805003455891031}, {&quot;x&quot;: 0.35897435897435936, &quot;y&quot;: 1.2820512820512824, &quot;z&quot;: -0.0280348623543889}, {&quot;x&quot;: 0.35897435897435936, &quot;y&quot;: 1.384615384615385, &quot;z&quot;: 0.24546941114988496}, {&quot;x&quot;: 0.35897435897435936, &quot;y&quot;: 1.4871794871794877, &quot;z&quot;: 0.5400124749237187}, {&quot;x&quot;: 0.35897435897435936, &quot;y&quot;: 1.5897435897435903, &quot;z&quot;: 0.8555943289671115}, {&quot;x&quot;: 0.35897435897435936, &quot;y&quot;: 1.692307692307693, &quot;z&quot;: 1.1922149732800635}, {&quot;x&quot;: 0.35897435897435936, &quot;y&quot;: 1.7948717948717956, &quot;z&quot;: 1.5498744078625757}, {&quot;x&quot;: 0.35897435897435936, &quot;y&quot;: 1.8974358974358982, &quot;z&quot;: 1.9285726327146469}, {&quot;x&quot;: 0.35897435897435936, &quot;y&quot;: 2.0, &quot;z&quot;: 2.3283096478362744}, {&quot;x&quot;: 0.4615384615384619, &quot;y&quot;: -1.8974358974358974, &quot;z&quot;: 1.7755019470995794}, {&quot;x&quot;: 0.4615384615384619, &quot;y&quot;: -2.0, &quot;z&quot;: 2.17523896222121}, {&quot;x&quot;: 0.4615384615384619, &quot;y&quot;: -1.7948717948717947, &quot;z&quot;: 1.3968037222475078}, {&quot;x&quot;: 0.4615384615384619, &quot;y&quot;: -1.692307692307692, &quot;z&quot;: 1.0391442876649961}, {&quot;x&quot;: 0.4615384615384619, &quot;y&quot;: -1.5897435897435894, &quot;z&quot;: 0.7025236433520439}, {&quot;x&quot;: 0.4615384615384619, &quot;y&quot;: -1.4871794871794868, &quot;z&quot;: 0.38694178930865153}, {&quot;x&quot;: 0.4615384615384619, &quot;y&quot;: -1.3846153846153841, &quot;z&quot;: 0.0923987255348182}, {&quot;x&quot;: 0.4615384615384619, &quot;y&quot;: -1.2820512820512815, &quot;z&quot;: -0.18110554796945522}, {&quot;x&quot;: 0.4615384615384619, &quot;y&quot;: -1.1794871794871788, &quot;z&quot;: -0.4335710312041692}, {&quot;x&quot;: 0.4615384615384619, &quot;y&quot;: -1.0769230769230762, &quot;z&quot;: -0.6649977241693239}, {&quot;x&quot;: 0.4615384615384619, &quot;y&quot;: -0.9743589743589737, &quot;z&quot;: -0.8753856268649187}, {&quot;x&quot;: 0.4615384615384619, &quot;y&quot;: -0.8717948717948711, &quot;z&quot;: -1.0647347392909539}, {&quot;x&quot;: 0.4615384615384619, &quot;y&quot;: -0.7692307692307686, &quot;z&quot;: -1.2330450614474298}, {&quot;x&quot;: 0.4615384615384619, &quot;y&quot;: -0.6666666666666661, &quot;z&quot;: -1.3803165933343462}, {&quot;x&quot;: 0.4615384615384619, &quot;y&quot;: -0.5641025641025635, &quot;z&quot;: -1.506549334951703}, {&quot;x&quot;: 0.4615384615384619, &quot;y&quot;: -0.461538461538461, &quot;z&quot;: -1.6117432862995003}, {&quot;x&quot;: 0.4615384615384619, &quot;y&quot;: -0.3589743589743585, &quot;z&quot;: -1.695898447377738}, {&quot;x&quot;: 0.4615384615384619, &quot;y&quot;: -0.25641025641025594, &quot;z&quot;: -1.7590148181864165}, {&quot;x&quot;: 0.4615384615384619, &quot;y&quot;: -0.15384615384615338, &quot;z&quot;: -1.8010923987255354}, {&quot;x&quot;: 0.4615384615384619, &quot;y&quot;: -0.05128205128205082, &quot;z&quot;: -1.8221311889950949}, {&quot;x&quot;: 0.4615384615384619, &quot;y&quot;: 0.05128205128205174, &quot;z&quot;: -1.8221311889950949}, {&quot;x&quot;: 0.4615384615384619, &quot;y&quot;: 0.1538461538461543, &quot;z&quot;: -1.8010923987255352}, {&quot;x&quot;: 0.4615384615384619, &quot;y&quot;: 0.25641025641025683, &quot;z&quot;: -1.759014818186416}, {&quot;x&quot;: 0.4615384615384619, &quot;y&quot;: 0.35897435897435936, &quot;z&quot;: -1.6958984473777377}, {&quot;x&quot;: 0.4615384615384619, &quot;y&quot;: 0.4615384615384619, &quot;z&quot;: -1.6117432862994994}, {&quot;x&quot;: 0.4615384615384619, &quot;y&quot;: 0.5641025641025644, &quot;z&quot;: -1.5065493349517018}, {&quot;x&quot;: 0.4615384615384619, &quot;y&quot;: 0.666666666666667, &quot;z&quot;: -1.3803165933343449}, {&quot;x&quot;: 0.4615384615384619, &quot;y&quot;: 0.7692307692307695, &quot;z&quot;: -1.2330450614474284}, {&quot;x&quot;: 0.4615384615384619, &quot;y&quot;: 0.871794871794872, &quot;z&quot;: -1.0647347392909525}, {&quot;x&quot;: 0.4615384615384619, &quot;y&quot;: 0.9743589743589746, &quot;z&quot;: -0.8753856268649169}, {&quot;x&quot;: 0.4615384615384619, &quot;y&quot;: 1.076923076923077, &quot;z&quot;: -0.6649977241693219}, {&quot;x&quot;: 0.4615384615384619, &quot;y&quot;: 1.1794871794871797, &quot;z&quot;: -0.4335710312041672}, {&quot;x&quot;: 0.4615384615384619, &quot;y&quot;: 1.2820512820512824, &quot;z&quot;: -0.181105547969453}, {&quot;x&quot;: 0.4615384615384619, &quot;y&quot;: 1.384615384615385, &quot;z&quot;: 0.09239872553482087}, {&quot;x&quot;: 0.4615384615384619, &quot;y&quot;: 1.4871794871794877, &quot;z&quot;: 0.3869417893086542}, {&quot;x&quot;: 0.4615384615384619, &quot;y&quot;: 1.5897435897435903, &quot;z&quot;: 0.702523643352047}, {&quot;x&quot;: 0.4615384615384619, &quot;y&quot;: 1.692307692307693, &quot;z&quot;: 1.0391442876649992}, {&quot;x&quot;: 0.4615384615384619, &quot;y&quot;: 1.7948717948717956, &quot;z&quot;: 1.3968037222475114}, {&quot;x&quot;: 0.4615384615384619, &quot;y&quot;: 1.8974358974358982, &quot;z&quot;: 1.7755019470995825}, {&quot;x&quot;: 0.4615384615384619, &quot;y&quot;: 2.0, &quot;z&quot;: 2.17523896222121}, {&quot;x&quot;: 0.5641025641025644, &quot;y&quot;: -1.8974358974358974, &quot;z&quot;: 1.651561894165444}, {&quot;x&quot;: 0.5641025641025644, &quot;y&quot;: -2.0, &quot;z&quot;: 2.051298909287075}, {&quot;x&quot;: 0.5641025641025644, &quot;y&quot;: -1.7948717948717947, &quot;z&quot;: 1.2728636693133728}, {&quot;x&quot;: 0.5641025641025644, &quot;y&quot;: -1.692307692307692, &quot;z&quot;: 0.9152042347308609}, {&quot;x&quot;: 0.5641025641025644, &quot;y&quot;: -1.5897435897435894, &quot;z&quot;: 0.5785835904179086}, {&quot;x&quot;: 0.5641025641025644, &quot;y&quot;: -1.4871794871794868, &quot;z&quot;: 0.2630017363745163}, {&quot;x&quot;: 0.5641025641025644, &quot;y&quot;: -1.3846153846153841, &quot;z&quot;: -0.03154132739931703}, {&quot;x&quot;: 0.5641025641025644, &quot;y&quot;: -1.2820512820512815, &quot;z&quot;: -0.3050456009035909}, {&quot;x&quot;: 0.5641025641025644, &quot;y&quot;: -1.1794871794871788, &quot;z&quot;: -0.5575110841383049}, {&quot;x&quot;: 0.5641025641025644, &quot;y&quot;: -1.0769230769230762, &quot;z&quot;: -0.7889377771034596}, {&quot;x&quot;: 0.5641025641025644, &quot;y&quot;: -0.9743589743589737, &quot;z&quot;: -0.9993256797990542}, {&quot;x&quot;: 0.5641025641025644, &quot;y&quot;: -0.8717948717948711, &quot;z&quot;: -1.1886747922250895}, {&quot;x&quot;: 0.5641025641025644, &quot;y&quot;: -0.7692307692307686, &quot;z&quot;: -1.3569851143815654}, {&quot;x&quot;: 0.5641025641025644, &quot;y&quot;: -0.6666666666666661, &quot;z&quot;: -1.5042566462684817}, {&quot;x&quot;: 0.5641025641025644, &quot;y&quot;: -0.5641025641025635, &quot;z&quot;: -1.6304893878858384}, {&quot;x&quot;: 0.5641025641025644, &quot;y&quot;: -0.461538461538461, &quot;z&quot;: -1.735683339233636}, {&quot;x&quot;: 0.5641025641025644, &quot;y&quot;: -0.3589743589743585, &quot;z&quot;: -1.8198385003118738}, {&quot;x&quot;: 0.5641025641025644, &quot;y&quot;: -0.25641025641025594, &quot;z&quot;: -1.8829548711205522}, {&quot;x&quot;: 0.5641025641025644, &quot;y&quot;: -0.15384615384615338, &quot;z&quot;: -1.925032451659671}, {&quot;x&quot;: 0.5641025641025644, &quot;y&quot;: -0.05128205128205082, &quot;z&quot;: -1.9460712419292305}, {&quot;x&quot;: 0.5641025641025644, &quot;y&quot;: 0.05128205128205174, &quot;z&quot;: -1.9460712419292303}, {&quot;x&quot;: 0.5641025641025644, &quot;y&quot;: 0.1538461538461543, &quot;z&quot;: -1.9250324516596709}, {&quot;x&quot;: 0.5641025641025644, &quot;y&quot;: 0.25641025641025683, &quot;z&quot;: -1.8829548711205517}, {&quot;x&quot;: 0.5641025641025644, &quot;y&quot;: 0.35897435897435936, &quot;z&quot;: -1.819838500311873}, {&quot;x&quot;: 0.5641025641025644, &quot;y&quot;: 0.4615384615384619, &quot;z&quot;: -1.735683339233635}, {&quot;x&quot;: 0.5641025641025644, &quot;y&quot;: 0.5641025641025644, &quot;z&quot;: -1.6304893878858375}, {&quot;x&quot;: 0.5641025641025644, &quot;y&quot;: 0.666666666666667, &quot;z&quot;: -1.5042566462684805}, {&quot;x&quot;: 0.5641025641025644, &quot;y&quot;: 0.7692307692307695, &quot;z&quot;: -1.356985114381564}, {&quot;x&quot;: 0.5641025641025644, &quot;y&quot;: 0.871794871794872, &quot;z&quot;: -1.188674792225088}, {&quot;x&quot;: 0.5641025641025644, &quot;y&quot;: 0.9743589743589746, &quot;z&quot;: -0.9993256797990524}, {&quot;x&quot;: 0.5641025641025644, &quot;y&quot;: 1.076923076923077, &quot;z&quot;: -0.7889377771034576}, {&quot;x&quot;: 0.5641025641025644, &quot;y&quot;: 1.1794871794871797, &quot;z&quot;: -0.5575110841383029}, {&quot;x&quot;: 0.5641025641025644, &quot;y&quot;: 1.2820512820512824, &quot;z&quot;: -0.3050456009035887}, {&quot;x&quot;: 0.5641025641025644, &quot;y&quot;: 1.384615384615385, &quot;z&quot;: -0.03154132739931481}, {&quot;x&quot;: 0.5641025641025644, &quot;y&quot;: 1.4871794871794877, &quot;z&quot;: 0.26300173637451896}, {&quot;x&quot;: 0.5641025641025644, &quot;y&quot;: 1.5897435897435903, &quot;z&quot;: 0.5785835904179117}, {&quot;x&quot;: 0.5641025641025644, &quot;y&quot;: 1.692307692307693, &quot;z&quot;: 0.915204234730864}, {&quot;x&quot;: 0.5641025641025644, &quot;y&quot;: 1.7948717948717956, &quot;z&quot;: 1.2728636693133764}, {&quot;x&quot;: 0.5641025641025644, &quot;y&quot;: 1.8974358974358982, &quot;z&quot;: 1.6515618941654475}, {&quot;x&quot;: 0.5641025641025644, &quot;y&quot;: 2.0, &quot;z&quot;: 2.051298909287075}, {&quot;x&quot;: 0.666666666666667, &quot;y&quot;: -1.8974358974358974, &quot;z&quot;: 1.5632259478413322}, {&quot;x&quot;: 0.666666666666667, &quot;y&quot;: -2.0, &quot;z&quot;: 1.9629629629629628}, {&quot;x&quot;: 0.666666666666667, &quot;y&quot;: -1.7948717948717947, &quot;z&quot;: 1.1845277229892606}, {&quot;x&quot;: 0.666666666666667, &quot;y&quot;: -1.692307692307692, &quot;z&quot;: 0.8268682884067489}, {&quot;x&quot;: 0.666666666666667, &quot;y&quot;: -1.5897435897435894, &quot;z&quot;: 0.4902476440937966}, {&quot;x&quot;: 0.666666666666667, &quot;y&quot;: -1.4871794871794868, &quot;z&quot;: 0.17466579005040428}, {&quot;x&quot;: 0.666666666666667, &quot;y&quot;: -1.3846153846153841, &quot;z&quot;: -0.11987727372342905}, {&quot;x&quot;: 0.666666666666667, &quot;y&quot;: -1.2820512820512815, &quot;z&quot;: -0.3933815472277027}, {&quot;x&quot;: 0.666666666666667, &quot;y&quot;: -1.1794871794871788, &quot;z&quot;: -0.6458470304624166}, {&quot;x&quot;: 0.666666666666667, &quot;y&quot;: -1.0769230769230762, &quot;z&quot;: -0.8772737234275714}, {&quot;x&quot;: 0.666666666666667, &quot;y&quot;: -0.9743589743589737, &quot;z&quot;: -1.087661626123166}, {&quot;x&quot;: 0.666666666666667, &quot;y&quot;: -0.8717948717948711, &quot;z&quot;: -1.2770107385492016}, {&quot;x&quot;: 0.666666666666667, &quot;y&quot;: -0.7692307692307686, &quot;z&quot;: -1.4453210607056772}, {&quot;x&quot;: 0.666666666666667, &quot;y&quot;: -0.6666666666666661, &quot;z&quot;: -1.5925925925925934}, {&quot;x&quot;: 0.666666666666667, &quot;y&quot;: -0.5641025641025635, &quot;z&quot;: -1.7188253342099504}, {&quot;x&quot;: 0.666666666666667, &quot;y&quot;: -0.461538461538461, &quot;z&quot;: -1.8240192855577477}, {&quot;x&quot;: 0.666666666666667, &quot;y&quot;: -0.3589743589743585, &quot;z&quot;: -1.9081744466359856}, {&quot;x&quot;: 0.666666666666667, &quot;y&quot;: -0.25641025641025594, &quot;z&quot;: -1.971290817444664}, {&quot;x&quot;: 0.666666666666667, &quot;y&quot;: -0.15384615384615338, &quot;z&quot;: -2.0133683979837826}, {&quot;x&quot;: 0.666666666666667, &quot;y&quot;: -0.05128205128205082, &quot;z&quot;: -2.0344071882533425}, {&quot;x&quot;: 0.666666666666667, &quot;y&quot;: 0.05128205128205174, &quot;z&quot;: -2.034407188253342}, {&quot;x&quot;: 0.666666666666667, &quot;y&quot;: 0.1538461538461543, &quot;z&quot;: -2.0133683979837826}, {&quot;x&quot;: 0.666666666666667, &quot;y&quot;: 0.25641025641025683, &quot;z&quot;: -1.9712908174446635}, {&quot;x&quot;: 0.666666666666667, &quot;y&quot;: 0.35897435897435936, &quot;z&quot;: -1.908174446635985}, {&quot;x&quot;: 0.666666666666667, &quot;y&quot;: 0.4615384615384619, &quot;z&quot;: -1.824019285557747}, {&quot;x&quot;: 0.666666666666667, &quot;y&quot;: 0.5641025641025644, &quot;z&quot;: -1.7188253342099493}, {&quot;x&quot;: 0.666666666666667, &quot;y&quot;: 0.666666666666667, &quot;z&quot;: -1.5925925925925923}, {&quot;x&quot;: 0.666666666666667, &quot;y&quot;: 0.7692307692307695, &quot;z&quot;: -1.445321060705676}, {&quot;x&quot;: 0.666666666666667, &quot;y&quot;: 0.871794871794872, &quot;z&quot;: -1.2770107385491998}, {&quot;x&quot;: 0.666666666666667, &quot;y&quot;: 0.9743589743589746, &quot;z&quot;: -1.0876616261231642}, {&quot;x&quot;: 0.666666666666667, &quot;y&quot;: 1.076923076923077, &quot;z&quot;: -0.8772737234275694}, {&quot;x&quot;: 0.666666666666667, &quot;y&quot;: 1.1794871794871797, &quot;z&quot;: -0.6458470304624147}, {&quot;x&quot;: 0.666666666666667, &quot;y&quot;: 1.2820512820512824, &quot;z&quot;: -0.39338154722770047}, {&quot;x&quot;: 0.666666666666667, &quot;y&quot;: 1.384615384615385, &quot;z&quot;: -0.11987727372342682}, {&quot;x&quot;: 0.666666666666667, &quot;y&quot;: 1.4871794871794877, &quot;z&quot;: 0.17466579005040694}, {&quot;x&quot;: 0.666666666666667, &quot;y&quot;: 1.5897435897435903, &quot;z&quot;: 0.49024764409379973}, {&quot;x&quot;: 0.666666666666667, &quot;y&quot;: 1.692307692307693, &quot;z&quot;: 0.826868288406752}, {&quot;x&quot;: 0.666666666666667, &quot;y&quot;: 1.7948717948717956, &quot;z&quot;: 1.1845277229892641}, {&quot;x&quot;: 0.666666666666667, &quot;y&quot;: 1.8974358974358982, &quot;z&quot;: 1.5632259478413353}, {&quot;x&quot;: 0.666666666666667, &quot;y&quot;: 2.0, &quot;z&quot;: 1.9629629629629628}, {&quot;x&quot;: 0.7692307692307695, &quot;y&quot;: -1.8974358974358974, &quot;z&quot;: 1.5169675820563393}, {&quot;x&quot;: 0.7692307692307695, &quot;y&quot;: -2.0, &quot;z&quot;: 1.9167045971779695}, {&quot;x&quot;: 0.7692307692307695, &quot;y&quot;: -1.7948717948717947, &quot;z&quot;: 1.1382693572042673}, {&quot;x&quot;: 0.7692307692307695, &quot;y&quot;: -1.692307692307692, &quot;z&quot;: 0.7806099226217558}, {&quot;x&quot;: 0.7692307692307695, &quot;y&quot;: -1.5897435897435894, &quot;z&quot;: 0.4439892783088035}, {&quot;x&quot;: 0.7692307692307695, &quot;y&quot;: -1.4871794871794868, &quot;z&quot;: 0.12840742426541119}, {&quot;x&quot;: 0.7692307692307695, &quot;y&quot;: -1.3846153846153841, &quot;z&quot;: -0.16613563950842214}, {&quot;x&quot;: 0.7692307692307695, &quot;y&quot;: -1.2820512820512815, &quot;z&quot;: -0.43963991301269556}, {&quot;x&quot;: 0.7692307692307695, &quot;y&quot;: -1.1794871794871788, &quot;z&quot;: -0.6921053962474095}, {&quot;x&quot;: 0.7692307692307695, &quot;y&quot;: -1.0769230769230762, &quot;z&quot;: -0.9235320892125642}, {&quot;x&quot;: 0.7692307692307695, &quot;y&quot;: -0.9743589743589737, &quot;z&quot;: -1.133919991908159}, {&quot;x&quot;: 0.7692307692307695, &quot;y&quot;: -0.8717948717948711, &quot;z&quot;: -1.3232691043341944}, {&quot;x&quot;: 0.7692307692307695, &quot;y&quot;: -0.7692307692307686, &quot;z&quot;: -1.49157942649067}, {&quot;x&quot;: 0.7692307692307695, &quot;y&quot;: -0.6666666666666661, &quot;z&quot;: -1.6388509583775865}, {&quot;x&quot;: 0.7692307692307695, &quot;y&quot;: -0.5641025641025635, &quot;z&quot;: -1.7650836999949433}, {&quot;x&quot;: 0.7692307692307695, &quot;y&quot;: -0.461538461538461, &quot;z&quot;: -1.8702776513427408}, {&quot;x&quot;: 0.7692307692307695, &quot;y&quot;: -0.3589743589743585, &quot;z&quot;: -1.9544328124209787}, {&quot;x&quot;: 0.7692307692307695, &quot;y&quot;: -0.25641025641025594, &quot;z&quot;: -2.017549183229657}, {&quot;x&quot;: 0.7692307692307695, &quot;y&quot;: -0.15384615384615338, &quot;z&quot;: -2.059626763768776}, {&quot;x&quot;: 0.7692307692307695, &quot;y&quot;: -0.05128205128205082, &quot;z&quot;: -2.080665554038335}, {&quot;x&quot;: 0.7692307692307695, &quot;y&quot;: 0.05128205128205174, &quot;z&quot;: -2.080665554038335}, {&quot;x&quot;: 0.7692307692307695, &quot;y&quot;: 0.1538461538461543, &quot;z&quot;: -2.0596267637687755}, {&quot;x&quot;: 0.7692307692307695, &quot;y&quot;: 0.25641025641025683, &quot;z&quot;: -2.0175491832296566}, {&quot;x&quot;: 0.7692307692307695, &quot;y&quot;: 0.35897435897435936, &quot;z&quot;: -1.9544328124209778}, {&quot;x&quot;: 0.7692307692307695, &quot;y&quot;: 0.4615384615384619, &quot;z&quot;: -1.87027765134274}, {&quot;x&quot;: 0.7692307692307695, &quot;y&quot;: 0.5641025641025644, &quot;z&quot;: -1.7650836999949422}, {&quot;x&quot;: 0.7692307692307695, &quot;y&quot;: 0.666666666666667, &quot;z&quot;: -1.6388509583775852}, {&quot;x&quot;: 0.7692307692307695, &quot;y&quot;: 0.7692307692307695, &quot;z&quot;: -1.4915794264906688}, {&quot;x&quot;: 0.7692307692307695, &quot;y&quot;: 0.871794871794872, &quot;z&quot;: -1.3232691043341929}, {&quot;x&quot;: 0.7692307692307695, &quot;y&quot;: 0.9743589743589746, &quot;z&quot;: -1.1339199919081573}, {&quot;x&quot;: 0.7692307692307695, &quot;y&quot;: 1.076923076923077, &quot;z&quot;: -0.9235320892125622}, {&quot;x&quot;: 0.7692307692307695, &quot;y&quot;: 1.1794871794871797, &quot;z&quot;: -0.6921053962474075}, {&quot;x&quot;: 0.7692307692307695, &quot;y&quot;: 1.2820512820512824, &quot;z&quot;: -0.43963991301269334}, {&quot;x&quot;: 0.7692307692307695, &quot;y&quot;: 1.384615384615385, &quot;z&quot;: -0.16613563950841947}, {&quot;x&quot;: 0.7692307692307695, &quot;y&quot;: 1.4871794871794877, &quot;z&quot;: 0.12840742426541385}, {&quot;x&quot;: 0.7692307692307695, &quot;y&quot;: 1.5897435897435903, &quot;z&quot;: 0.44398927830880663}, {&quot;x&quot;: 0.7692307692307695, &quot;y&quot;: 1.692307692307693, &quot;z&quot;: 0.7806099226217589}, {&quot;x&quot;: 0.7692307692307695, &quot;y&quot;: 1.7948717948717956, &quot;z&quot;: 1.1382693572042708}, {&quot;x&quot;: 0.7692307692307695, &quot;y&quot;: 1.8974358974358982, &quot;z&quot;: 1.516967582056342}, {&quot;x&quot;: 0.7692307692307695, &quot;y&quot;: 2.0, &quot;z&quot;: 1.9167045971779695}, {&quot;x&quot;: 0.871794871794872, &quot;y&quot;: -1.8974358974358974, &quot;z&quot;: 1.5192602707395602}, {&quot;x&quot;: 0.871794871794872, &quot;y&quot;: -2.0, &quot;z&quot;: 1.9189972858611912}, {&quot;x&quot;: 0.871794871794872, &quot;y&quot;: -1.7948717948717947, &quot;z&quot;: 1.140562045887489}, {&quot;x&quot;: 0.871794871794872, &quot;y&quot;: -1.692307692307692, &quot;z&quot;: 0.7829026113049773}, {&quot;x&quot;: 0.871794871794872, &quot;y&quot;: -1.5897435897435894, &quot;z&quot;: 0.44628196699202505}, {&quot;x&quot;: 0.871794871794872, &quot;y&quot;: -1.4871794871794868, &quot;z&quot;: 0.1307001129486327}, {&quot;x&quot;: 0.871794871794872, &quot;y&quot;: -1.3846153846153841, &quot;z&quot;: -0.16384295082520062}, {&quot;x&quot;: 0.871794871794872, &quot;y&quot;: -1.2820512820512815, &quot;z&quot;: -0.4373472243294745}, {&quot;x&quot;: 0.871794871794872, &quot;y&quot;: -1.1794871794871788, &quot;z&quot;: -0.689812707564188}, {&quot;x&quot;: 0.871794871794872, &quot;y&quot;: -1.0769230769230762, &quot;z&quot;: -0.9212394005293429}, {&quot;x&quot;: 0.871794871794872, &quot;y&quot;: -0.9743589743589737, &quot;z&quot;: -1.1316273032249375}, {&quot;x&quot;: 0.871794871794872, &quot;y&quot;: -0.8717948717948711, &quot;z&quot;: -1.3209764156509731}, {&quot;x&quot;: 0.871794871794872, &quot;y&quot;: -0.7692307692307686, &quot;z&quot;: -1.4892867378074488}, {&quot;x&quot;: 0.871794871794872, &quot;y&quot;: -0.6666666666666661, &quot;z&quot;: -1.636558269694365}, {&quot;x&quot;: 0.871794871794872, &quot;y&quot;: -0.5641025641025635, &quot;z&quot;: -1.762791011311722}, {&quot;x&quot;: 0.871794871794872, &quot;y&quot;: -0.461538461538461, &quot;z&quot;: -1.8679849626595193}, {&quot;x&quot;: 0.871794871794872, &quot;y&quot;: -0.3589743589743585, &quot;z&quot;: -1.9521401237377571}, {&quot;x&quot;: 0.871794871794872, &quot;y&quot;: -0.25641025641025594, &quot;z&quot;: -2.0152564945464357}, {&quot;x&quot;: 0.871794871794872, &quot;y&quot;: -0.15384615384615338, &quot;z&quot;: -2.0573340750855547}, {&quot;x&quot;: 0.871794871794872, &quot;y&quot;: -0.05128205128205082, &quot;z&quot;: -2.0783728653551137}, {&quot;x&quot;: 0.871794871794872, &quot;y&quot;: 0.05128205128205174, &quot;z&quot;: -2.0783728653551137}, {&quot;x&quot;: 0.871794871794872, &quot;y&quot;: 0.1538461538461543, &quot;z&quot;: -2.057334075085554}, {&quot;x&quot;: 0.871794871794872, &quot;y&quot;: 0.25641025641025683, &quot;z&quot;: -2.015256494546435}, {&quot;x&quot;: 0.871794871794872, &quot;y&quot;: 0.35897435897435936, &quot;z&quot;: -1.9521401237377565}, {&quot;x&quot;: 0.871794871794872, &quot;y&quot;: 0.4615384615384619, &quot;z&quot;: -1.8679849626595186}, {&quot;x&quot;: 0.871794871794872, &quot;y&quot;: 0.5641025641025644, &quot;z&quot;: -1.762791011311721}, {&quot;x&quot;: 0.871794871794872, &quot;y&quot;: 0.666666666666667, &quot;z&quot;: -1.636558269694364}, {&quot;x&quot;: 0.871794871794872, &quot;y&quot;: 0.7692307692307695, &quot;z&quot;: -1.4892867378074475}, {&quot;x&quot;: 0.871794871794872, &quot;y&quot;: 0.871794871794872, &quot;z&quot;: -1.3209764156509713}, {&quot;x&quot;: 0.871794871794872, &quot;y&quot;: 0.9743589743589746, &quot;z&quot;: -1.1316273032249358}, {&quot;x&quot;: 0.871794871794872, &quot;y&quot;: 1.076923076923077, &quot;z&quot;: -0.921239400529341}, {&quot;x&quot;: 0.871794871794872, &quot;y&quot;: 1.1794871794871797, &quot;z&quot;: -0.6898127075641862}, {&quot;x&quot;: 0.871794871794872, &quot;y&quot;: 1.2820512820512824, &quot;z&quot;: -0.4373472243294718}, {&quot;x&quot;: 0.871794871794872, &quot;y&quot;: 1.384615384615385, &quot;z&quot;: -0.1638429508251984}, {&quot;x&quot;: 0.871794871794872, &quot;y&quot;: 1.4871794871794877, &quot;z&quot;: 0.13070011294863537}, {&quot;x&quot;: 0.871794871794872, &quot;y&quot;: 1.5897435897435903, &quot;z&quot;: 0.44628196699202816}, {&quot;x&quot;: 0.871794871794872, &quot;y&quot;: 1.692307692307693, &quot;z&quot;: 0.7829026113049804}, {&quot;x&quot;: 0.871794871794872, &quot;y&quot;: 1.7948717948717956, &quot;z&quot;: 1.1405620458874925}, {&quot;x&quot;: 0.871794871794872, &quot;y&quot;: 1.8974358974358982, &quot;z&quot;: 1.5192602707395637}, {&quot;x&quot;: 0.871794871794872, &quot;y&quot;: 2.0, &quot;z&quot;: 1.9189972858611912}, {&quot;x&quot;: 0.9743589743589746, &quot;y&quot;: -1.8974358974358974, &quot;z&quot;: 1.5765774878200913}, {&quot;x&quot;: 0.9743589743589746, &quot;y&quot;: -2.0, &quot;z&quot;: 1.9763145029417224}, {&quot;x&quot;: 0.9743589743589746, &quot;y&quot;: -1.7948717948717947, &quot;z&quot;: 1.1978792629680202}, {&quot;x&quot;: 0.9743589743589746, &quot;y&quot;: -1.692307692307692, &quot;z&quot;: 0.8402198283855082}, {&quot;x&quot;: 0.9743589743589746, &quot;y&quot;: -1.5897435897435894, &quot;z&quot;: 0.503599184072556}, {&quot;x&quot;: 0.9743589743589746, &quot;y&quot;: -1.4871794871794868, &quot;z&quot;: 0.18801733002916365}, {&quot;x&quot;: 0.9743589743589746, &quot;y&quot;: -1.3846153846153841, &quot;z&quot;: -0.10652573374466967}, {&quot;x&quot;: 0.9743589743589746, &quot;y&quot;: -1.2820512820512815, &quot;z&quot;: -0.38003000724894354}, {&quot;x&quot;: 0.9743589743589746, &quot;y&quot;: -1.1794871794871788, &quot;z&quot;: -0.6324954904836575}, {&quot;x&quot;: 0.9743589743589746, &quot;y&quot;: -1.0769230769230762, &quot;z&quot;: -0.863922183448812}, {&quot;x&quot;: 0.9743589743589746, &quot;y&quot;: -0.9743589743589737, &quot;z&quot;: -1.0743100861444068}, {&quot;x&quot;: 0.9743589743589746, &quot;y&quot;: -0.8717948717948711, &quot;z&quot;: -1.2636591985704422}, {&quot;x&quot;: 0.9743589743589746, &quot;y&quot;: -0.7692307692307686, &quot;z&quot;: -1.4319695207269179}, {&quot;x&quot;: 0.9743589743589746, &quot;y&quot;: -0.6666666666666661, &quot;z&quot;: -1.5792410526138343}, {&quot;x&quot;: 0.9743589743589746, &quot;y&quot;: -0.5641025641025635, &quot;z&quot;: -1.705473794231191}, {&quot;x&quot;: 0.9743589743589746, &quot;y&quot;: -0.461538461538461, &quot;z&quot;: -1.8106677455789886}, {&quot;x&quot;: 0.9743589743589746, &quot;y&quot;: -0.3589743589743585, &quot;z&quot;: -1.8948229066572264}, {&quot;x&quot;: 0.9743589743589746, &quot;y&quot;: -0.25641025641025594, &quot;z&quot;: -1.9579392774659048}, {&quot;x&quot;: 0.9743589743589746, &quot;y&quot;: -0.15384615384615338, &quot;z&quot;: -2.0000168580050235}, {&quot;x&quot;: 0.9743589743589746, &quot;y&quot;: -0.05128205128205082, &quot;z&quot;: -2.021055648274583}, {&quot;x&quot;: 0.9743589743589746, &quot;y&quot;: 0.05128205128205174, &quot;z&quot;: -2.021055648274583}, {&quot;x&quot;: 0.9743589743589746, &quot;y&quot;: 0.1538461538461543, &quot;z&quot;: -2.0000168580050235}, {&quot;x&quot;: 0.9743589743589746, &quot;y&quot;: 0.25641025641025683, &quot;z&quot;: -1.9579392774659041}, {&quot;x&quot;: 0.9743589743589746, &quot;y&quot;: 0.35897435897435936, &quot;z&quot;: -1.8948229066572257}, {&quot;x&quot;: 0.9743589743589746, &quot;y&quot;: 0.4615384615384619, &quot;z&quot;: -1.8106677455789877}, {&quot;x&quot;: 0.9743589743589746, &quot;y&quot;: 0.5641025641025644, &quot;z&quot;: -1.7054737942311902}, {&quot;x&quot;: 0.9743589743589746, &quot;y&quot;: 0.666666666666667, &quot;z&quot;: -1.5792410526138332}, {&quot;x&quot;: 0.9743589743589746, &quot;y&quot;: 0.7692307692307695, &quot;z&quot;: -1.4319695207269165}, {&quot;x&quot;: 0.9743589743589746, &quot;y&quot;: 0.871794871794872, &quot;z&quot;: -1.2636591985704406}, {&quot;x&quot;: 0.9743589743589746, &quot;y&quot;: 0.9743589743589746, &quot;z&quot;: -1.074310086144405}, {&quot;x&quot;: 0.9743589743589746, &quot;y&quot;: 1.076923076923077, &quot;z&quot;: -0.8639221834488102}, {&quot;x&quot;: 0.9743589743589746, &quot;y&quot;: 1.1794871794871797, &quot;z&quot;: -0.6324954904836553}, {&quot;x&quot;: 0.9743589743589746, &quot;y&quot;: 1.2820512820512824, &quot;z&quot;: -0.3800300072489413}, {&quot;x&quot;: 0.9743589743589746, &quot;y&quot;: 1.384615384615385, &quot;z&quot;: -0.10652573374466745}, {&quot;x&quot;: 0.9743589743589746, &quot;y&quot;: 1.4871794871794877, &quot;z&quot;: 0.18801733002916632}, {&quot;x&quot;: 0.9743589743589746, &quot;y&quot;: 1.5897435897435903, &quot;z&quot;: 0.5035991840725591}, {&quot;x&quot;: 0.9743589743589746, &quot;y&quot;: 1.692307692307693, &quot;z&quot;: 0.8402198283855113}, {&quot;x&quot;: 0.9743589743589746, &quot;y&quot;: 1.7948717948717956, &quot;z&quot;: 1.1978792629680237}, {&quot;x&quot;: 0.9743589743589746, &quot;y&quot;: 1.8974358974358982, &quot;z&quot;: 1.5765774878200949}, {&quot;x&quot;: 0.9743589743589746, &quot;y&quot;: 2.0, &quot;z&quot;: 1.9763145029417224}, {&quot;x&quot;: 1.076923076923077, &quot;y&quot;: -1.8974358974358974, &quot;z&quot;: 1.6953927072270272}, {&quot;x&quot;: 1.076923076923077, &quot;y&quot;: -2.0, &quot;z&quot;: 2.0951297223486574}, {&quot;x&quot;: 1.076923076923077, &quot;y&quot;: -1.7948717948717947, &quot;z&quot;: 1.3166944823749551}, {&quot;x&quot;: 1.076923076923077, &quot;y&quot;: -1.692307692307692, &quot;z&quot;: 0.9590350477924439}, {&quot;x&quot;: 1.076923076923077, &quot;y&quot;: -1.5897435897435894, &quot;z&quot;: 0.6224144034794916}, {&quot;x&quot;: 1.076923076923077, &quot;y&quot;: -1.4871794871794868, &quot;z&quot;: 0.3068325494360993}, {&quot;x&quot;: 1.076923076923077, &quot;y&quot;: -1.3846153846153841, &quot;z&quot;: 0.012289485662265953}, {&quot;x&quot;: 1.076923076923077, &quot;y&quot;: -1.2820512820512815, &quot;z&quot;: -0.2612147878420079}, {&quot;x&quot;: 1.076923076923077, &quot;y&quot;: -1.1794871794871788, &quot;z&quot;: -0.5136802710767219}, {&quot;x&quot;: 1.076923076923077, &quot;y&quot;: -1.0769230769230762, &quot;z&quot;: -0.7451069640418764}, {&quot;x&quot;: 1.076923076923077, &quot;y&quot;: -0.9743589743589737, &quot;z&quot;: -0.9554948667374714}, {&quot;x&quot;: 1.076923076923077, &quot;y&quot;: -0.8717948717948711, &quot;z&quot;: -1.1448439791635066}, {&quot;x&quot;: 1.076923076923077, &quot;y&quot;: -0.7692307692307686, &quot;z&quot;: -1.3131543013199825}, {&quot;x&quot;: 1.076923076923077, &quot;y&quot;: -0.6666666666666661, &quot;z&quot;: -1.460425833206899}, {&quot;x&quot;: 1.076923076923077, &quot;y&quot;: -0.5641025641025635, &quot;z&quot;: -1.5866585748242557}, {&quot;x&quot;: 1.076923076923077, &quot;y&quot;: -0.461538461538461, &quot;z&quot;: -1.691852526172053}, {&quot;x&quot;: 1.076923076923077, &quot;y&quot;: -0.3589743589743585, &quot;z&quot;: -1.7760076872502908}, {&quot;x&quot;: 1.076923076923077, &quot;y&quot;: -0.25641025641025594, &quot;z&quot;: -1.8391240580589692}, {&quot;x&quot;: 1.076923076923077, &quot;y&quot;: -0.15384615384615338, &quot;z&quot;: -1.881201638598088}, {&quot;x&quot;: 1.076923076923077, &quot;y&quot;: -0.05128205128205082, &quot;z&quot;: -1.9022404288676475}, {&quot;x&quot;: 1.076923076923077, &quot;y&quot;: 0.05128205128205174, &quot;z&quot;: -1.9022404288676475}, {&quot;x&quot;: 1.076923076923077, &quot;y&quot;: 0.1538461538461543, &quot;z&quot;: -1.8812016385980879}, {&quot;x&quot;: 1.076923076923077, &quot;y&quot;: 0.25641025641025683, &quot;z&quot;: -1.8391240580589687}, {&quot;x&quot;: 1.076923076923077, &quot;y&quot;: 0.35897435897435936, &quot;z&quot;: -1.7760076872502901}, {&quot;x&quot;: 1.076923076923077, &quot;y&quot;: 0.4615384615384619, &quot;z&quot;: -1.691852526172052}, {&quot;x&quot;: 1.076923076923077, &quot;y&quot;: 0.5641025641025644, &quot;z&quot;: -1.5866585748242545}, {&quot;x&quot;: 1.076923076923077, &quot;y&quot;: 0.666666666666667, &quot;z&quot;: -1.4604258332068976}, {&quot;x&quot;: 1.076923076923077, &quot;y&quot;: 0.7692307692307695, &quot;z&quot;: -1.3131543013199811}, {&quot;x&quot;: 1.076923076923077, &quot;y&quot;: 0.871794871794872, &quot;z&quot;: -1.1448439791635052}, {&quot;x&quot;: 1.076923076923077, &quot;y&quot;: 0.9743589743589746, &quot;z&quot;: -0.9554948667374696}, {&quot;x&quot;: 1.076923076923077, &quot;y&quot;: 1.076923076923077, &quot;z&quot;: -0.7451069640418746}, {&quot;x&quot;: 1.076923076923077, &quot;y&quot;: 1.1794871794871797, &quot;z&quot;: -0.5136802710767201}, {&quot;x&quot;: 1.076923076923077, &quot;y&quot;: 1.2820512820512824, &quot;z&quot;: -0.2612147878420057}, {&quot;x&quot;: 1.076923076923077, &quot;y&quot;: 1.384615384615385, &quot;z&quot;: 0.012289485662268174}, {&quot;x&quot;: 1.076923076923077, &quot;y&quot;: 1.4871794871794877, &quot;z&quot;: 0.30683254943610194}, {&quot;x&quot;: 1.076923076923077, &quot;y&quot;: 1.5897435897435903, &quot;z&quot;: 0.6224144034794943}, {&quot;x&quot;: 1.076923076923077, &quot;y&quot;: 1.692307692307693, &quot;z&quot;: 0.9590350477924465}, {&quot;x&quot;: 1.076923076923077, &quot;y&quot;: 1.7948717948717956, &quot;z&quot;: 1.3166944823749587}, {&quot;x&quot;: 1.076923076923077, &quot;y&quot;: 1.8974358974358982, &quot;z&quot;: 1.6953927072270298}, {&quot;x&quot;: 1.076923076923077, &quot;y&quot;: 2.0, &quot;z&quot;: 2.0951297223486574}, {&quot;x&quot;: 1.1794871794871797, &quot;y&quot;: -1.8974358974358974, &quot;z&quot;: 1.882179402889463}, {&quot;x&quot;: 1.1794871794871797, &quot;y&quot;: -2.0, &quot;z&quot;: 2.281916418011093}, {&quot;x&quot;: 1.1794871794871797, &quot;y&quot;: -1.7948717948717947, &quot;z&quot;: 1.503481178037391}, {&quot;x&quot;: 1.1794871794871797, &quot;y&quot;: -1.692307692307692, &quot;z&quot;: 1.1458217434548796}, {&quot;x&quot;: 1.1794871794871797, &quot;y&quot;: -1.5897435897435894, &quot;z&quot;: 0.8092010991419265}, {&quot;x&quot;: 1.1794871794871797, &quot;y&quot;: -1.4871794871794868, &quot;z&quot;: 0.4936192450985346}, {&quot;x&quot;: 1.1794871794871797, &quot;y&quot;: -1.3846153846153841, &quot;z&quot;: 0.19907618132470128}, {&quot;x&quot;: 1.1794871794871797, &quot;y&quot;: -1.2820512820512815, &quot;z&quot;: -0.07442809217957258}, {&quot;x&quot;: 1.1794871794871797, &quot;y&quot;: -1.1794871794871788, &quot;z&quot;: -0.3268935754142861}, {&quot;x&quot;: 1.1794871794871797, &quot;y&quot;: -1.0769230769230762, &quot;z&quot;: -0.558320268379441}, {&quot;x&quot;: 1.1794871794871797, &quot;y&quot;: -0.9743589743589737, &quot;z&quot;: -0.7687081710750356}, {&quot;x&quot;: 1.1794871794871797, &quot;y&quot;: -0.8717948717948711, &quot;z&quot;: -0.9580572835010712}, {&quot;x&quot;: 1.1794871794871797, &quot;y&quot;: -0.7692307692307686, &quot;z&quot;: -1.126367605657547}, {&quot;x&quot;: 1.1794871794871797, &quot;y&quot;: -0.6666666666666661, &quot;z&quot;: -1.2736391375444631}, {&quot;x&quot;: 1.1794871794871797, &quot;y&quot;: -0.5641025641025635, &quot;z&quot;: -1.39987187916182}, {&quot;x&quot;: 1.1794871794871797, &quot;y&quot;: -0.461538461538461, &quot;z&quot;: -1.5050658305096174}, {&quot;x&quot;: 1.1794871794871797, &quot;y&quot;: -0.3589743589743585, &quot;z&quot;: -1.5892209915878552}, {&quot;x&quot;: 1.1794871794871797, &quot;y&quot;: -0.25641025641025594, &quot;z&quot;: -1.6523373623965336}, {&quot;x&quot;: 1.1794871794871797, &quot;y&quot;: -0.15384615384615338, &quot;z&quot;: -1.6944149429356525}, {&quot;x&quot;: 1.1794871794871797, &quot;y&quot;: -0.05128205128205082, &quot;z&quot;: -1.715453733205212}, {&quot;x&quot;: 1.1794871794871797, &quot;y&quot;: 0.05128205128205174, &quot;z&quot;: -1.715453733205212}, {&quot;x&quot;: 1.1794871794871797, &quot;y&quot;: 0.1538461538461543, &quot;z&quot;: -1.6944149429356523}, {&quot;x&quot;: 1.1794871794871797, &quot;y&quot;: 0.25641025641025683, &quot;z&quot;: -1.6523373623965332}, {&quot;x&quot;: 1.1794871794871797, &quot;y&quot;: 0.35897435897435936, &quot;z&quot;: -1.5892209915878546}, {&quot;x&quot;: 1.1794871794871797, &quot;y&quot;: 0.4615384615384619, &quot;z&quot;: -1.5050658305096165}, {&quot;x&quot;: 1.1794871794871797, &quot;y&quot;: 0.5641025641025644, &quot;z&quot;: -1.399871879161819}, {&quot;x&quot;: 1.1794871794871797, &quot;y&quot;: 0.666666666666667, &quot;z&quot;: -1.2736391375444622}, {&quot;x&quot;: 1.1794871794871797, &quot;y&quot;: 0.7692307692307695, &quot;z&quot;: -1.1263676056575456}, {&quot;x&quot;: 1.1794871794871797, &quot;y&quot;: 0.871794871794872, &quot;z&quot;: -0.9580572835010694}, {&quot;x&quot;: 1.1794871794871797, &quot;y&quot;: 0.9743589743589746, &quot;z&quot;: -0.7687081710750339}, {&quot;x&quot;: 1.1794871794871797, &quot;y&quot;: 1.076923076923077, &quot;z&quot;: -0.5583202683794388}, {&quot;x&quot;: 1.1794871794871797, &quot;y&quot;: 1.1794871794871797, &quot;z&quot;: -0.3268935754142843}, {&quot;x&quot;: 1.1794871794871797, &quot;y&quot;: 1.2820512820512824, &quot;z&quot;: -0.07442809217956992}, {&quot;x&quot;: 1.1794871794871797, &quot;y&quot;: 1.384615384615385, &quot;z&quot;: 0.1990761813247035}, {&quot;x&quot;: 1.1794871794871797, &quot;y&quot;: 1.4871794871794877, &quot;z&quot;: 0.4936192450985373}, {&quot;x&quot;: 1.1794871794871797, &quot;y&quot;: 1.5897435897435903, &quot;z&quot;: 0.8092010991419301}, {&quot;x&quot;: 1.1794871794871797, &quot;y&quot;: 1.692307692307693, &quot;z&quot;: 1.1458217434548823}, {&quot;x&quot;: 1.1794871794871797, &quot;y&quot;: 1.7948717948717956, &quot;z&quot;: 1.5034811780373945}, {&quot;x&quot;: 1.1794871794871797, &quot;y&quot;: 1.8974358974358982, &quot;z&quot;: 1.8821794028894656}, {&quot;x&quot;: 1.1794871794871797, &quot;y&quot;: 2.0, &quot;z&quot;: 2.281916418011093}, {&quot;x&quot;: 1.2820512820512824, &quot;y&quot;: -1.8974358974358974, &quot;z&quot;: 2.1434110487364935}, {&quot;x&quot;: 1.2820512820512824, &quot;y&quot;: -2.0, &quot;z&quot;: 2.5431480638581236}, {&quot;x&quot;: 1.2820512820512824, &quot;y&quot;: -1.7948717948717947, &quot;z&quot;: 1.7647128238844223}, {&quot;x&quot;: 1.2820512820512824, &quot;y&quot;: -1.692307692307692, &quot;z&quot;: 1.4070533893019102}, {&quot;x&quot;: 1.2820512820512824, &quot;y&quot;: -1.5897435897435894, &quot;z&quot;: 1.070432744988958}, {&quot;x&quot;: 1.2820512820512824, &quot;y&quot;: -1.4871794871794868, &quot;z&quot;: 0.7548508909455656}, {&quot;x&quot;: 1.2820512820512824, &quot;y&quot;: -1.3846153846153841, &quot;z&quot;: 0.46030782717173224}, {&quot;x&quot;: 1.2820512820512824, &quot;y&quot;: -1.2820512820512815, &quot;z&quot;: 0.18680355366745882}, {&quot;x&quot;: 1.2820512820512824, &quot;y&quot;: -1.1794871794871788, &quot;z&quot;: -0.06566192956725558}, {&quot;x&quot;: 1.2820512820512824, &quot;y&quot;: -1.0769230769230762, &quot;z&quot;: -0.2970886225324101}, {&quot;x&quot;: 1.2820512820512824, &quot;y&quot;: -0.9743589743589737, &quot;z&quot;: -0.5074765252280047}, {&quot;x&quot;: 1.2820512820512824, &quot;y&quot;: -0.8717948717948711, &quot;z&quot;: -0.6968256376540403}, {&quot;x&quot;: 1.2820512820512824, &quot;y&quot;: -0.7692307692307686, &quot;z&quot;: -0.8651359598105159}, {&quot;x&quot;: 1.2820512820512824, &quot;y&quot;: -0.6666666666666661, &quot;z&quot;: -1.0124074916974322}, {&quot;x&quot;: 1.2820512820512824, &quot;y&quot;: -0.5641025641025635, &quot;z&quot;: -1.138640233314789}, {&quot;x&quot;: 1.2820512820512824, &quot;y&quot;: -0.461538461538461, &quot;z&quot;: -1.2438341846625867}, {&quot;x&quot;: 1.2820512820512824, &quot;y&quot;: -0.3589743589743585, &quot;z&quot;: -1.3279893457408245}, {&quot;x&quot;: 1.2820512820512824, &quot;y&quot;: -0.25641025641025594, &quot;z&quot;: -1.3911057165495029}, {&quot;x&quot;: 1.2820512820512824, &quot;y&quot;: -0.15384615384615338, &quot;z&quot;: -1.4331832970886218}, {&quot;x&quot;: 1.2820512820512824, &quot;y&quot;: -0.05128205128205082, &quot;z&quot;: -1.4542220873581808}, {&quot;x&quot;: 1.2820512820512824, &quot;y&quot;: 0.05128205128205174, &quot;z&quot;: -1.4542220873581808}, {&quot;x&quot;: 1.2820512820512824, &quot;y&quot;: 0.1538461538461543, &quot;z&quot;: -1.4331832970886214}, {&quot;x&quot;: 1.2820512820512824, &quot;y&quot;: 0.25641025641025683, &quot;z&quot;: -1.3911057165495024}, {&quot;x&quot;: 1.2820512820512824, &quot;y&quot;: 0.35897435897435936, &quot;z&quot;: -1.3279893457408236}, {&quot;x&quot;: 1.2820512820512824, &quot;y&quot;: 0.4615384615384619, &quot;z&quot;: -1.2438341846625858}, {&quot;x&quot;: 1.2820512820512824, &quot;y&quot;: 0.5641025641025644, &quot;z&quot;: -1.138640233314788}, {&quot;x&quot;: 1.2820512820512824, &quot;y&quot;: 0.666666666666667, &quot;z&quot;: -1.0124074916974308}, {&quot;x&quot;: 1.2820512820512824, &quot;y&quot;: 0.7692307692307695, &quot;z&quot;: -0.8651359598105146}, {&quot;x&quot;: 1.2820512820512824, &quot;y&quot;: 0.871794871794872, &quot;z&quot;: -0.6968256376540385}, {&quot;x&quot;: 1.2820512820512824, &quot;y&quot;: 0.9743589743589746, &quot;z&quot;: -0.5074765252280029}, {&quot;x&quot;: 1.2820512820512824, &quot;y&quot;: 1.076923076923077, &quot;z&quot;: -0.2970886225324083}, {&quot;x&quot;: 1.2820512820512824, &quot;y&quot;: 1.1794871794871797, &quot;z&quot;: -0.06566192956725336}, {&quot;x&quot;: 1.2820512820512824, &quot;y&quot;: 1.2820512820512824, &quot;z&quot;: 0.1868035536674606}, {&quot;x&quot;: 1.2820512820512824, &quot;y&quot;: 1.384615384615385, &quot;z&quot;: 0.4603078271717349}, {&quot;x&quot;: 1.2820512820512824, &quot;y&quot;: 1.4871794871794877, &quot;z&quot;: 0.7548508909455682}, {&quot;x&quot;: 1.2820512820512824, &quot;y&quot;: 1.5897435897435903, &quot;z&quot;: 1.0704327449889606}, {&quot;x&quot;: 1.2820512820512824, &quot;y&quot;: 1.692307692307693, &quot;z&quot;: 1.4070533893019137}, {&quot;x&quot;: 1.2820512820512824, &quot;y&quot;: 1.7948717948717956, &quot;z&quot;: 1.7647128238844259}, {&quot;x&quot;: 1.2820512820512824, &quot;y&quot;: 1.8974358974358982, &quot;z&quot;: 2.143411048736497}, {&quot;x&quot;: 1.2820512820512824, &quot;y&quot;: 2.0, &quot;z&quot;: 2.5431480638581236}, {&quot;x&quot;: 1.384615384615385, &quot;y&quot;: -1.8974358974358974, &quot;z&quot;: 2.4855611186972144}, {&quot;x&quot;: 1.384615384615385, &quot;y&quot;: -2.0, &quot;z&quot;: 2.8852981338188455}, {&quot;x&quot;: 1.384615384615385, &quot;y&quot;: -1.7948717948717947, &quot;z&quot;: 2.1068628938451432}, {&quot;x&quot;: 1.384615384615385, &quot;y&quot;: -1.692307692307692, &quot;z&quot;: 1.749203459262631}, {&quot;x&quot;: 1.384615384615385, &quot;y&quot;: -1.5897435897435894, &quot;z&quot;: 1.4125828149496797}, {&quot;x&quot;: 1.384615384615385, &quot;y&quot;: -1.4871794871794868, &quot;z&quot;: 1.0970009609062874}, {&quot;x&quot;: 1.384615384615385, &quot;y&quot;: -1.3846153846153841, &quot;z&quot;: 0.8024578971324541}, {&quot;x&quot;: 1.384615384615385, &quot;y&quot;: -1.2820512820512815, &quot;z&quot;: 0.5289536236281798}, {&quot;x&quot;: 1.384615384615385, &quot;y&quot;: -1.1794871794871788, &quot;z&quot;: 0.27648814039346625}, {&quot;x&quot;: 1.384615384615385, &quot;y&quot;: -1.0769230769230762, &quot;z&quot;: 0.04506144742831131}, {&quot;x&quot;: 1.384615384615385, &quot;y&quot;: -0.9743589743589737, &quot;z&quot;: -0.1653264552672833}, {&quot;x&quot;: 1.384615384615385, &quot;y&quot;: -0.8717948717948711, &quot;z&quot;: -0.35467556769331887}, {&quot;x&quot;: 1.384615384615385, &quot;y&quot;: -0.7692307692307686, &quot;z&quot;: -0.5229858898497945}, {&quot;x&quot;: 1.384615384615385, &quot;y&quot;: -0.6666666666666661, &quot;z&quot;: -0.6702574217367108}, {&quot;x&quot;: 1.384615384615385, &quot;y&quot;: -0.5641025641025635, &quot;z&quot;: -0.7964901633540675}, {&quot;x&quot;: 1.384615384615385, &quot;y&quot;: -0.461538461538461, &quot;z&quot;: -0.9016841147018653}, {&quot;x&quot;: 1.384615384615385, &quot;y&quot;: -0.3589743589743585, &quot;z&quot;: -0.9858392757801031}, {&quot;x&quot;: 1.384615384615385, &quot;y&quot;: -0.25641025641025594, &quot;z&quot;: -1.0489556465887815}, {&quot;x&quot;: 1.384615384615385, &quot;y&quot;: -0.15384615384615338, &quot;z&quot;: -1.0910332271279004}, {&quot;x&quot;: 1.384615384615385, &quot;y&quot;: -0.05128205128205082, &quot;z&quot;: -1.1120720173974594}, {&quot;x&quot;: 1.384615384615385, &quot;y&quot;: 0.05128205128205174, &quot;z&quot;: -1.1120720173974594}, {&quot;x&quot;: 1.384615384615385, &quot;y&quot;: 0.1538461538461543, &quot;z&quot;: -1.0910332271279}, {&quot;x&quot;: 1.384615384615385, &quot;y&quot;: 0.25641025641025683, &quot;z&quot;: -1.048955646588781}, {&quot;x&quot;: 1.384615384615385, &quot;y&quot;: 0.35897435897435936, &quot;z&quot;: -0.9858392757801022}, {&quot;x&quot;: 1.384615384615385, &quot;y&quot;: 0.4615384615384619, &quot;z&quot;: -0.9016841147018644}, {&quot;x&quot;: 1.384615384615385, &quot;y&quot;: 0.5641025641025644, &quot;z&quot;: -0.7964901633540666}, {&quot;x&quot;: 1.384615384615385, &quot;y&quot;: 0.666666666666667, &quot;z&quot;: -0.6702574217367099}, {&quot;x&quot;: 1.384615384615385, &quot;y&quot;: 0.7692307692307695, &quot;z&quot;: -0.5229858898497932}, {&quot;x&quot;: 1.384615384615385, &quot;y&quot;: 0.871794871794872, &quot;z&quot;: -0.3546755676933171}, {&quot;x&quot;: 1.384615384615385, &quot;y&quot;: 0.9743589743589746, &quot;z&quot;: -0.1653264552672815}, {&quot;x&quot;: 1.384615384615385, &quot;y&quot;: 1.076923076923077, &quot;z&quot;: 0.04506144742831353}, {&quot;x&quot;: 1.384615384615385, &quot;y&quot;: 1.1794871794871797, &quot;z&quot;: 0.27648814039346803}, {&quot;x&quot;: 1.384615384615385, &quot;y&quot;: 1.2820512820512824, &quot;z&quot;: 0.5289536236281824}, {&quot;x&quot;: 1.384615384615385, &quot;y&quot;: 1.384615384615385, &quot;z&quot;: 0.8024578971324559}, {&quot;x&quot;: 1.384615384615385, &quot;y&quot;: 1.4871794871794877, &quot;z&quot;: 1.0970009609062892}, {&quot;x&quot;: 1.384615384615385, &quot;y&quot;: 1.5897435897435903, &quot;z&quot;: 1.4125828149496824}, {&quot;x&quot;: 1.384615384615385, &quot;y&quot;: 1.692307692307693, &quot;z&quot;: 1.7492034592626347}, {&quot;x&quot;: 1.384615384615385, &quot;y&quot;: 1.7948717948717956, &quot;z&quot;: 2.106862893845147}, {&quot;x&quot;: 1.384615384615385, &quot;y&quot;: 1.8974358974358982, &quot;z&quot;: 2.485561118697218}, {&quot;x&quot;: 1.384615384615385, &quot;y&quot;: 2.0, &quot;z&quot;: 2.8852981338188455}, {&quot;x&quot;: 1.4871794871794877, &quot;y&quot;: -1.8974358974358974, &quot;z&quot;: 2.9151030867007224}, {&quot;x&quot;: 1.4871794871794877, &quot;y&quot;: -2.0, &quot;z&quot;: 3.3148401018223526}, {&quot;x&quot;: 1.4871794871794877, &quot;y&quot;: -1.7948717948717947, &quot;z&quot;: 2.536404861848651}, {&quot;x&quot;: 1.4871794871794877, &quot;y&quot;: -1.692307692307692, &quot;z&quot;: 2.178745427266139}, {&quot;x&quot;: 1.4871794871794877, &quot;y&quot;: -1.5897435897435894, &quot;z&quot;: 1.8421247829531868}, {&quot;x&quot;: 1.4871794871794877, &quot;y&quot;: -1.4871794871794868, &quot;z&quot;: 1.5265429289097945}, {&quot;x&quot;: 1.4871794871794877, &quot;y&quot;: -1.3846153846153841, &quot;z&quot;: 1.2319998651359612}, {&quot;x&quot;: 1.4871794871794877, &quot;y&quot;: -1.2820512820512815, &quot;z&quot;: 0.9584955916316877}, {&quot;x&quot;: 1.4871794871794877, &quot;y&quot;: -1.1794871794871788, &quot;z&quot;: 0.7060301083969733}, {&quot;x&quot;: 1.4871794871794877, &quot;y&quot;: -1.0769230769230762, &quot;z&quot;: 0.47460341543181883}, {&quot;x&quot;: 1.4871794871794877, &quot;y&quot;: -0.9743589743589737, &quot;z&quot;: 0.26421551273622423}, {&quot;x&quot;: 1.4871794871794877, &quot;y&quot;: -0.8717948717948711, &quot;z&quot;: 0.07486640031018865}, {&quot;x&quot;: 1.4871794871794877, &quot;y&quot;: -0.7692307692307686, &quot;z&quot;: -0.09344392184628703}, {&quot;x&quot;: 1.4871794871794877, &quot;y&quot;: -0.6666666666666661, &quot;z&quot;: -0.24071545373320324}, {&quot;x&quot;: 1.4871794871794877, &quot;y&quot;: -0.5641025641025635, &quot;z&quot;: -0.36694819535056}, {&quot;x&quot;: 1.4871794871794877, &quot;y&quot;: -0.461538461538461, &quot;z&quot;: -0.47214214669835775}, {&quot;x&quot;: 1.4871794871794877, &quot;y&quot;: -0.3589743589743585, &quot;z&quot;: -0.5562973077765956}, {&quot;x&quot;: 1.4871794871794877, &quot;y&quot;: -0.25641025641025594, &quot;z&quot;: -0.619413678585274}, {&quot;x&quot;: 1.4871794871794877, &quot;y&quot;: -0.15384615384615338, &quot;z&quot;: -0.6614912591243929}, {&quot;x&quot;: 1.4871794871794877, &quot;y&quot;: -0.05128205128205082, &quot;z&quot;: -0.6825300493939519}, {&quot;x&quot;: 1.4871794871794877, &quot;y&quot;: 0.05128205128205174, &quot;z&quot;: -0.6825300493939519}, {&quot;x&quot;: 1.4871794871794877, &quot;y&quot;: 0.1538461538461543, &quot;z&quot;: -0.6614912591243924}, {&quot;x&quot;: 1.4871794871794877, &quot;y&quot;: 0.25641025641025683, &quot;z&quot;: -0.6194136785852735}, {&quot;x&quot;: 1.4871794871794877, &quot;y&quot;: 0.35897435897435936, &quot;z&quot;: -0.5562973077765947}, {&quot;x&quot;: 1.4871794871794877, &quot;y&quot;: 0.4615384615384619, &quot;z&quot;: -0.47214214669835686}, {&quot;x&quot;: 1.4871794871794877, &quot;y&quot;: 0.5641025641025644, &quot;z&quot;: -0.3669481953505591}, {&quot;x&quot;: 1.4871794871794877, &quot;y&quot;: 0.666666666666667, &quot;z&quot;: -0.2407154537332019}, {&quot;x&quot;: 1.4871794871794877, &quot;y&quot;: 0.7692307692307695, &quot;z&quot;: -0.0934439218462857}, {&quot;x&quot;: 1.4871794871794877, &quot;y&quot;: 0.871794871794872, &quot;z&quot;: 0.07486640031019043}, {&quot;x&quot;: 1.4871794871794877, &quot;y&quot;: 0.9743589743589746, &quot;z&quot;: 0.264215512736226}, {&quot;x&quot;: 1.4871794871794877, &quot;y&quot;: 1.076923076923077, &quot;z&quot;: 0.4746034154318206}, {&quot;x&quot;: 1.4871794871794877, &quot;y&quot;: 1.1794871794871797, &quot;z&quot;: 0.706030108396976}, {&quot;x&quot;: 1.4871794871794877, &quot;y&quot;: 1.2820512820512824, &quot;z&quot;: 0.9584955916316895}, {&quot;x&quot;: 1.4871794871794877, &quot;y&quot;: 1.384615384615385, &quot;z&quot;: 1.2319998651359638}, {&quot;x&quot;: 1.4871794871794877, &quot;y&quot;: 1.4871794871794877, &quot;z&quot;: 1.5265429289097971}, {&quot;x&quot;: 1.4871794871794877, &quot;y&quot;: 1.5897435897435903, &quot;z&quot;: 1.8421247829531895}, {&quot;x&quot;: 1.4871794871794877, &quot;y&quot;: 1.692307692307693, &quot;z&quot;: 2.1787454272661426}, {&quot;x&quot;: 1.4871794871794877, &quot;y&quot;: 1.7948717948717956, &quot;z&quot;: 2.5364048618486548}, {&quot;x&quot;: 1.4871794871794877, &quot;y&quot;: 1.8974358974358982, &quot;z&quot;: 2.915103086700726}, {&quot;x&quot;: 1.4871794871794877, &quot;y&quot;: 2.0, &quot;z&quot;: 3.3148401018223526}, {&quot;x&quot;: 1.5897435897435903, &quot;y&quot;: -1.8974358974358974, &quot;z&quot;: 3.4385104266761104}, {&quot;x&quot;: 1.5897435897435903, &quot;y&quot;: -2.0, &quot;z&quot;: 3.8382474417977424}, {&quot;x&quot;: 1.5897435897435903, &quot;y&quot;: -1.7948717948717947, &quot;z&quot;: 3.0598122018240392}, {&quot;x&quot;: 1.5897435897435903, &quot;y&quot;: -1.692307692307692, &quot;z&quot;: 2.702152767241527}, {&quot;x&quot;: 1.5897435897435903, &quot;y&quot;: -1.5897435897435894, &quot;z&quot;: 2.3655321229285757}, {&quot;x&quot;: 1.5897435897435903, &quot;y&quot;: -1.4871794871794868, &quot;z&quot;: 2.0499502688851834}, {&quot;x&quot;: 1.5897435897435903, &quot;y&quot;: -1.3846153846153841, &quot;z&quot;: 1.75540720511135}, {&quot;x&quot;: 1.5897435897435903, &quot;y&quot;: -1.2820512820512815, &quot;z&quot;: 1.4819029316070758}, {&quot;x&quot;: 1.5897435897435903, &quot;y&quot;: -1.1794871794871788, &quot;z&quot;: 1.2294374483723622}, {&quot;x&quot;: 1.5897435897435903, &quot;y&quot;: -1.0769230769230762, &quot;z&quot;: 0.9980107554072077}, {&quot;x&quot;: 1.5897435897435903, &quot;y&quot;: -0.9743589743589737, &quot;z&quot;: 0.7876228527116123}, {&quot;x&quot;: 1.5897435897435903, &quot;y&quot;: -0.8717948717948711, &quot;z&quot;: 0.5982737402855776}, {&quot;x&quot;: 1.5897435897435903, &quot;y&quot;: -0.7692307692307686, &quot;z&quot;: 0.4299634181291019}, {&quot;x&quot;: 1.5897435897435903, &quot;y&quot;: -0.6666666666666661, &quot;z&quot;: 0.2826918862421852}, {&quot;x&quot;: 1.5897435897435903, &quot;y&quot;: -0.5641025641025635, &quot;z&quot;: 0.15645914462482846}, {&quot;x&quot;: 1.5897435897435903, &quot;y&quot;: -0.461538461538461, &quot;z&quot;: 0.05126519327703072}, {&quot;x&quot;: 1.5897435897435903, &quot;y&quot;: -0.3589743589743585, &quot;z&quot;: -0.03288996780120712}, {&quot;x&quot;: 1.5897435897435903, &quot;y&quot;: -0.25641025641025594, &quot;z&quot;: -0.09600633860988506}, {&quot;x&quot;: 1.5897435897435903, &quot;y&quot;: -0.15384615384615338, &quot;z&quot;: -0.13808391914900398}, {&quot;x&quot;: 1.5897435897435903, &quot;y&quot;: -0.05128205128205082, &quot;z&quot;: -0.15912270941856388}, {&quot;x&quot;: 1.5897435897435903, &quot;y&quot;: 0.05128205128205174, &quot;z&quot;: -0.15912270941856388}, {&quot;x&quot;: 1.5897435897435903, &quot;y&quot;: 0.1538461538461543, &quot;z&quot;: -0.13808391914900398}, {&quot;x&quot;: 1.5897435897435903, &quot;y&quot;: 0.25641025641025683, &quot;z&quot;: -0.09600633860988506}, {&quot;x&quot;: 1.5897435897435903, &quot;y&quot;: 0.35897435897435936, &quot;z&quot;: -0.03288996780120623}, {&quot;x&quot;: 1.5897435897435903, &quot;y&quot;: 0.4615384615384619, &quot;z&quot;: 0.05126519327703161}, {&quot;x&quot;: 1.5897435897435903, &quot;y&quot;: 0.5641025641025644, &quot;z&quot;: 0.15645914462482935}, {&quot;x&quot;: 1.5897435897435903, &quot;y&quot;: 0.666666666666667, &quot;z&quot;: 0.2826918862421861}, {&quot;x&quot;: 1.5897435897435903, &quot;y&quot;: 0.7692307692307695, &quot;z&quot;: 0.42996341812910277}, {&quot;x&quot;: 1.5897435897435903, &quot;y&quot;: 0.871794871794872, &quot;z&quot;: 0.5982737402855784}, {&quot;x&quot;: 1.5897435897435903, &quot;y&quot;: 0.9743589743589746, &quot;z&quot;: 0.787622852711614}, {&quot;x&quot;: 1.5897435897435903, &quot;y&quot;: 1.076923076923077, &quot;z&quot;: 0.9980107554072095}, {&quot;x&quot;: 1.5897435897435903, &quot;y&quot;: 1.1794871794871797, &quot;z&quot;: 1.229437448372364}, {&quot;x&quot;: 1.5897435897435903, &quot;y&quot;: 1.2820512820512824, &quot;z&quot;: 1.4819029316070784}, {&quot;x&quot;: 1.5897435897435903, &quot;y&quot;: 1.384615384615385, &quot;z&quot;: 1.7554072051113518}, {&quot;x&quot;: 1.5897435897435903, &quot;y&quot;: 1.4871794871794877, &quot;z&quot;: 2.049950268885185}, {&quot;x&quot;: 1.5897435897435903, &quot;y&quot;: 1.5897435897435903, &quot;z&quot;: 2.3655321229285784}, {&quot;x&quot;: 1.5897435897435903, &quot;y&quot;: 1.692307692307693, &quot;z&quot;: 2.7021527672415306}, {&quot;x&quot;: 1.5897435897435903, &quot;y&quot;: 1.7948717948717956, &quot;z&quot;: 3.059812201824043}, {&quot;x&quot;: 1.5897435897435903, &quot;y&quot;: 1.8974358974358982, &quot;z&quot;: 3.438510426676114}, {&quot;x&quot;: 1.5897435897435903, &quot;y&quot;: 2.0, &quot;z&quot;: 3.8382474417977424}, {&quot;x&quot;: 1.692307692307693, &quot;y&quot;: -1.8974358974358974, &quot;z&quot;: 4.062256612552475}, {&quot;x&quot;: 1.692307692307693, &quot;y&quot;: -2.0, &quot;z&quot;: 4.461993627674105}, {&quot;x&quot;: 1.692307692307693, &quot;y&quot;: -1.7948717948717947, &quot;z&quot;: 3.683558387700402}, {&quot;x&quot;: 1.692307692307693, &quot;y&quot;: -1.692307692307692, &quot;z&quot;: 3.3258989531178917}, {&quot;x&quot;: 1.692307692307693, &quot;y&quot;: -1.5897435897435894, &quot;z&quot;: 2.9892783088049386}, {&quot;x&quot;: 1.692307692307693, &quot;y&quot;: -1.4871794871794868, &quot;z&quot;: 2.6736964547615463}, {&quot;x&quot;: 1.692307692307693, &quot;y&quot;: -1.3846153846153841, &quot;z&quot;: 2.379153390987713}, {&quot;x&quot;: 1.692307692307693, &quot;y&quot;: -1.2820512820512815, &quot;z&quot;: 2.1056491174834395}, {&quot;x&quot;: 1.692307692307693, &quot;y&quot;: -1.1794871794871788, &quot;z&quot;: 1.853183634248726}, {&quot;x&quot;: 1.692307692307693, &quot;y&quot;: -1.0769230769230762, &quot;z&quot;: 1.6217569412835706}, {&quot;x&quot;: 1.692307692307693, &quot;y&quot;: -0.9743589743589737, &quot;z&quot;: 1.411369038587976}, {&quot;x&quot;: 1.692307692307693, &quot;y&quot;: -0.8717948717948711, &quot;z&quot;: 1.2220199261619413}, {&quot;x&quot;: 1.692307692307693, &quot;y&quot;: -0.7692307692307686, &quot;z&quot;: 1.0537096040054648}, {&quot;x&quot;: 1.692307692307693, &quot;y&quot;: -0.6666666666666661, &quot;z&quot;: 0.906438072118549}, {&quot;x&quot;: 1.692307692307693, &quot;y&quot;: -0.5641025641025635, &quot;z&quot;: 0.7802053305011922}, {&quot;x&quot;: 1.692307692307693, &quot;y&quot;: -0.461538461538461, &quot;z&quot;: 0.6750113791533945}, {&quot;x&quot;: 1.692307692307693, &quot;y&quot;: -0.3589743589743585, &quot;z&quot;: 0.5908562180751566}, {&quot;x&quot;: 1.692307692307693, &quot;y&quot;: -0.25641025641025594, &quot;z&quot;: 0.5277398472664787}, {&quot;x&quot;: 1.692307692307693, &quot;y&quot;: -0.15384615384615338, &quot;z&quot;: 0.4856622667273598}, {&quot;x&quot;: 1.692307692307693, &quot;y&quot;: -0.05128205128205082, &quot;z&quot;: 0.4646234764577999}, {&quot;x&quot;: 1.692307692307693, &quot;y&quot;: 0.05128205128205174, &quot;z&quot;: 0.4646234764577999}, {&quot;x&quot;: 1.692307692307693, &quot;y&quot;: 0.1538461538461543, &quot;z&quot;: 0.4856622667273598}, {&quot;x&quot;: 1.692307692307693, &quot;y&quot;: 0.25641025641025683, &quot;z&quot;: 0.5277398472664787}, {&quot;x&quot;: 1.692307692307693, &quot;y&quot;: 0.35897435897435936, &quot;z&quot;: 0.5908562180751575}, {&quot;x&quot;: 1.692307692307693, &quot;y&quot;: 0.4615384615384619, &quot;z&quot;: 0.6750113791533954}, {&quot;x&quot;: 1.692307692307693, &quot;y&quot;: 0.5641025641025644, &quot;z&quot;: 0.7802053305011931}, {&quot;x&quot;: 1.692307692307693, &quot;y&quot;: 0.666666666666667, &quot;z&quot;: 0.9064380721185499}, {&quot;x&quot;: 1.692307692307693, &quot;y&quot;: 0.7692307692307695, &quot;z&quot;: 1.0537096040054665}, {&quot;x&quot;: 1.692307692307693, &quot;y&quot;: 0.871794871794872, &quot;z&quot;: 1.2220199261619422}, {&quot;x&quot;: 1.692307692307693, &quot;y&quot;: 0.9743589743589746, &quot;z&quot;: 1.4113690385879778}, {&quot;x&quot;: 1.692307692307693, &quot;y&quot;: 1.076923076923077, &quot;z&quot;: 1.6217569412835733}, {&quot;x&quot;: 1.692307692307693, &quot;y&quot;: 1.1794871794871797, &quot;z&quot;: 1.8531836342487278}, {&quot;x&quot;: 1.692307692307693, &quot;y&quot;: 1.2820512820512824, &quot;z&quot;: 2.105649117483442}, {&quot;x&quot;: 1.692307692307693, &quot;y&quot;: 1.384615384615385, &quot;z&quot;: 2.3791533909877156}, {&quot;x&quot;: 1.692307692307693, &quot;y&quot;: 1.4871794871794877, &quot;z&quot;: 2.67369645476155}, {&quot;x&quot;: 1.692307692307693, &quot;y&quot;: 1.5897435897435903, &quot;z&quot;: 2.989278308804942}, {&quot;x&quot;: 1.692307692307693, &quot;y&quot;: 1.692307692307693, &quot;z&quot;: 3.3258989531178944}, {&quot;x&quot;: 1.692307692307693, &quot;y&quot;: 1.7948717948717956, &quot;z&quot;: 3.6835583877004057}, {&quot;x&quot;: 1.692307692307693, &quot;y&quot;: 1.8974358974358982, &quot;z&quot;: 4.062256612552479}, {&quot;x&quot;: 1.692307692307693, &quot;y&quot;: 2.0, &quot;z&quot;: 4.461993627674105}, {&quot;x&quot;: 1.7948717948717956, &quot;y&quot;: -1.8974358974358974, &quot;z&quot;: 4.792815118258911}, {&quot;x&quot;: 1.7948717948717956, &quot;y&quot;: -2.0, &quot;z&quot;: 5.192552133380541}, {&quot;x&quot;: 1.7948717948717956, &quot;y&quot;: -1.7948717948717947, &quot;z&quot;: 4.414116893406838}, {&quot;x&quot;: 1.7948717948717956, &quot;y&quot;: -1.692307692307692, &quot;z&quot;: 4.056457458824328}, {&quot;x&quot;: 1.7948717948717956, &quot;y&quot;: -1.5897435897435894, &quot;z&quot;: 3.7198368145113747}, {&quot;x&quot;: 1.7948717948717956, &quot;y&quot;: -1.4871794871794868, &quot;z&quot;: 3.4042549604679824}, {&quot;x&quot;: 1.7948717948717956, &quot;y&quot;: -1.3846153846153841, &quot;z&quot;: 3.109711896694149}, {&quot;x&quot;: 1.7948717948717956, &quot;y&quot;: -1.2820512820512815, &quot;z&quot;: 2.8362076231898756}, {&quot;x&quot;: 1.7948717948717956, &quot;y&quot;: -1.1794871794871788, &quot;z&quot;: 2.583742139955162}, {&quot;x&quot;: 1.7948717948717956, &quot;y&quot;: -1.0769230769230762, &quot;z&quot;: 2.3523154469900067}, {&quot;x&quot;: 1.7948717948717956, &quot;y&quot;: -0.9743589743589737, &quot;z&quot;: 2.141927544294412}, {&quot;x&quot;: 1.7948717948717956, &quot;y&quot;: -0.8717948717948711, &quot;z&quot;: 1.9525784318683774}, {&quot;x&quot;: 1.7948717948717956, &quot;y&quot;: -0.7692307692307686, &quot;z&quot;: 1.7842681097119009}, {&quot;x&quot;: 1.7948717948717956, &quot;y&quot;: -0.6666666666666661, &quot;z&quot;: 1.636996577824985}, {&quot;x&quot;: 1.7948717948717956, &quot;y&quot;: -0.5641025641025635, &quot;z&quot;: 1.5107638362076283}, {&quot;x&quot;: 1.7948717948717956, &quot;y&quot;: -0.461538461538461, &quot;z&quot;: 1.4055698848598306}, {&quot;x&quot;: 1.7948717948717956, &quot;y&quot;: -0.3589743589743585, &quot;z&quot;: 1.3214147237815927}, {&quot;x&quot;: 1.7948717948717956, &quot;y&quot;: -0.25641025641025594, &quot;z&quot;: 1.2582983529729148}, {&quot;x&quot;: 1.7948717948717956, &quot;y&quot;: -0.15384615384615338, &quot;z&quot;: 1.216220772433796}, {&quot;x&quot;: 1.7948717948717956, &quot;y&quot;: -0.05128205128205082, &quot;z&quot;: 1.195181982164236}, {&quot;x&quot;: 1.7948717948717956, &quot;y&quot;: 0.05128205128205174, &quot;z&quot;: 1.195181982164236}, {&quot;x&quot;: 1.7948717948717956, &quot;y&quot;: 0.1538461538461543, &quot;z&quot;: 1.216220772433796}, {&quot;x&quot;: 1.7948717948717956, &quot;y&quot;: 0.25641025641025683, &quot;z&quot;: 1.2582983529729148}, {&quot;x&quot;: 1.7948717948717956, &quot;y&quot;: 0.35897435897435936, &quot;z&quot;: 1.3214147237815936}, {&quot;x&quot;: 1.7948717948717956, &quot;y&quot;: 0.4615384615384619, &quot;z&quot;: 1.4055698848598315}, {&quot;x&quot;: 1.7948717948717956, &quot;y&quot;: 0.5641025641025644, &quot;z&quot;: 1.5107638362076292}, {&quot;x&quot;: 1.7948717948717956, &quot;y&quot;: 0.666666666666667, &quot;z&quot;: 1.636996577824986}, {&quot;x&quot;: 1.7948717948717956, &quot;y&quot;: 0.7692307692307695, &quot;z&quot;: 1.7842681097119026}, {&quot;x&quot;: 1.7948717948717956, &quot;y&quot;: 0.871794871794872, &quot;z&quot;: 1.9525784318683783}, {&quot;x&quot;: 1.7948717948717956, &quot;y&quot;: 0.9743589743589746, &quot;z&quot;: 2.141927544294414}, {&quot;x&quot;: 1.7948717948717956, &quot;y&quot;: 1.076923076923077, &quot;z&quot;: 2.3523154469900094}, {&quot;x&quot;: 1.7948717948717956, &quot;y&quot;: 1.1794871794871797, &quot;z&quot;: 2.583742139955164}, {&quot;x&quot;: 1.7948717948717956, &quot;y&quot;: 1.2820512820512824, &quot;z&quot;: 2.8362076231898783}, {&quot;x&quot;: 1.7948717948717956, &quot;y&quot;: 1.384615384615385, &quot;z&quot;: 3.1097118966941517}, {&quot;x&quot;: 1.7948717948717956, &quot;y&quot;: 1.4871794871794877, &quot;z&quot;: 3.404254960467986}, {&quot;x&quot;: 1.7948717948717956, &quot;y&quot;: 1.5897435897435903, &quot;z&quot;: 3.7198368145113783}, {&quot;x&quot;: 1.7948717948717956, &quot;y&quot;: 1.692307692307693, &quot;z&quot;: 4.05645745882433}, {&quot;x&quot;: 1.7948717948717956, &quot;y&quot;: 1.7948717948717956, &quot;z&quot;: 4.414116893406842}, {&quot;x&quot;: 1.7948717948717956, &quot;y&quot;: 1.8974358974358982, &quot;z&quot;: 4.792815118258915}, {&quot;x&quot;: 1.7948717948717956, &quot;y&quot;: 2.0, &quot;z&quot;: 5.192552133380541}, {&quot;x&quot;: 1.8974358974358982, &quot;y&quot;: -1.8974358974358974, &quot;z&quot;: 5.6366594177245135}, {&quot;x&quot;: 1.8974358974358982, &quot;y&quot;: -2.0, &quot;z&quot;: 6.036396432846144}, {&quot;x&quot;: 1.8974358974358982, &quot;y&quot;: -1.7948717948717947, &quot;z&quot;: 5.257961192872442}, {&quot;x&quot;: 1.8974358974358982, &quot;y&quot;: -1.692307692307692, &quot;z&quot;: 4.90030175828993}, {&quot;x&quot;: 1.8974358974358982, &quot;y&quot;: -1.5897435897435894, &quot;z&quot;: 4.563681113976977}, {&quot;x&quot;: 1.8974358974358982, &quot;y&quot;: -1.4871794871794868, &quot;z&quot;: 4.248099259933585}, {&quot;x&quot;: 1.8974358974358982, &quot;y&quot;: -1.3846153846153841, &quot;z&quot;: 3.9535561961597514}, {&quot;x&quot;: 1.8974358974358982, &quot;y&quot;: -1.2820512820512815, &quot;z&quot;: 3.680051922655479}, {&quot;x&quot;: 1.8974358974358982, &quot;y&quot;: -1.1794871794871788, &quot;z&quot;: 3.4275864394207636}, {&quot;x&quot;: 1.8974358974358982, &quot;y&quot;: -1.0769230769230762, &quot;z&quot;: 3.196159746455609}, {&quot;x&quot;: 1.8974358974358982, &quot;y&quot;: -0.9743589743589737, &quot;z&quot;: 2.9857718437600145}, {&quot;x&quot;: 1.8974358974358982, &quot;y&quot;: -0.8717948717948711, &quot;z&quot;: 2.79642273133398}, {&quot;x&quot;: 1.8974358974358982, &quot;y&quot;: -0.7692307692307686, &quot;z&quot;: 2.628112409177503}, {&quot;x&quot;: 1.8974358974358982, &quot;y&quot;: -0.6666666666666661, &quot;z&quot;: 2.4808408772905874}, {&quot;x&quot;: 1.8974358974358982, &quot;y&quot;: -0.5641025641025635, &quot;z&quot;: 2.3546081356732307}, {&quot;x&quot;: 1.8974358974358982, &quot;y&quot;: -0.461538461538461, &quot;z&quot;: 2.249414184325433}, {&quot;x&quot;: 1.8974358974358982, &quot;y&quot;: -0.3589743589743585, &quot;z&quot;: 2.165259023247195}, {&quot;x&quot;: 1.8974358974358982, &quot;y&quot;: -0.25641025641025594, &quot;z&quot;: 2.102142652438517}, {&quot;x&quot;: 1.8974358974358982, &quot;y&quot;: -0.15384615384615338, &quot;z&quot;: 2.0600650718993982}, {&quot;x&quot;: 1.8974358974358982, &quot;y&quot;: -0.05128205128205082, &quot;z&quot;: 2.0390262816298383}, {&quot;x&quot;: 1.8974358974358982, &quot;y&quot;: 0.05128205128205174, &quot;z&quot;: 2.0390262816298383}, {&quot;x&quot;: 1.8974358974358982, &quot;y&quot;: 0.1538461538461543, &quot;z&quot;: 2.0600650718993982}, {&quot;x&quot;: 1.8974358974358982, &quot;y&quot;: 0.25641025641025683, &quot;z&quot;: 2.102142652438517}, {&quot;x&quot;: 1.8974358974358982, &quot;y&quot;: 0.35897435897435936, &quot;z&quot;: 2.165259023247196}, {&quot;x&quot;: 1.8974358974358982, &quot;y&quot;: 0.4615384615384619, &quot;z&quot;: 2.249414184325434}, {&quot;x&quot;: 1.8974358974358982, &quot;y&quot;: 0.5641025641025644, &quot;z&quot;: 2.3546081356732316}, {&quot;x&quot;: 1.8974358974358982, &quot;y&quot;: 0.666666666666667, &quot;z&quot;: 2.4808408772905883}, {&quot;x&quot;: 1.8974358974358982, &quot;y&quot;: 0.7692307692307695, &quot;z&quot;: 2.628112409177505}, {&quot;x&quot;: 1.8974358974358982, &quot;y&quot;: 0.871794871794872, &quot;z&quot;: 2.7964227313339807}, {&quot;x&quot;: 1.8974358974358982, &quot;y&quot;: 0.9743589743589746, &quot;z&quot;: 2.9857718437600163}, {&quot;x&quot;: 1.8974358974358982, &quot;y&quot;: 1.076923076923077, &quot;z&quot;: 3.1961597464556117}, {&quot;x&quot;: 1.8974358974358982, &quot;y&quot;: 1.1794871794871797, &quot;z&quot;: 3.427586439420767}, {&quot;x&quot;: 1.8974358974358982, &quot;y&quot;: 1.2820512820512824, &quot;z&quot;: 3.6800519226554806}, {&quot;x&quot;: 1.8974358974358982, &quot;y&quot;: 1.384615384615385, &quot;z&quot;: 3.953556196159755}, {&quot;x&quot;: 1.8974358974358982, &quot;y&quot;: 1.4871794871794877, &quot;z&quot;: 4.248099259933588}, {&quot;x&quot;: 1.8974358974358982, &quot;y&quot;: 1.5897435897435903, &quot;z&quot;: 4.563681113976981}, {&quot;x&quot;: 1.8974358974358982, &quot;y&quot;: 1.692307692307693, &quot;z&quot;: 4.900301758289934}, {&quot;x&quot;: 1.8974358974358982, &quot;y&quot;: 1.7948717948717956, &quot;z&quot;: 5.257961192872446}, {&quot;x&quot;: 1.8974358974358982, &quot;y&quot;: 1.8974358974358982, &quot;z&quot;: 5.636659417724515}, {&quot;x&quot;: 1.8974358974358982, &quot;y&quot;: 2.0, &quot;z&quot;: 6.036396432846144}, {&quot;x&quot;: 2.0, &quot;y&quot;: -1.8974358974358974, &quot;z&quot;: 6.60026298487837}, {&quot;x&quot;: 2.0, &quot;y&quot;: -2.0, &quot;z&quot;: 7.0}, {&quot;x&quot;: 2.0, &quot;y&quot;: -1.7948717948717947, &quot;z&quot;: 6.221564760026297}, {&quot;x&quot;: 2.0, &quot;y&quot;: -1.692307692307692, &quot;z&quot;: 5.8639053254437865}, {&quot;x&quot;: 2.0, &quot;y&quot;: -1.5897435897435894, &quot;z&quot;: 5.527284681130833}, {&quot;x&quot;: 2.0, &quot;y&quot;: -1.4871794871794868, &quot;z&quot;: 5.211702827087441}, {&quot;x&quot;: 2.0, &quot;y&quot;: -1.3846153846153841, &quot;z&quot;: 4.917159763313608}, {&quot;x&quot;: 2.0, &quot;y&quot;: -1.2820512820512815, &quot;z&quot;: 4.643655489809335}, {&quot;x&quot;: 2.0, &quot;y&quot;: -1.1794871794871788, &quot;z&quot;: 4.39119000657462}, {&quot;x&quot;: 2.0, &quot;y&quot;: -1.0769230769230762, &quot;z&quot;: 4.159763313609465}, {&quot;x&quot;: 2.0, &quot;y&quot;: -0.9743589743589737, &quot;z&quot;: 3.9493754109138717}, {&quot;x&quot;: 2.0, &quot;y&quot;: -0.8717948717948711, &quot;z&quot;: 3.760026298487835}, {&quot;x&quot;: 2.0, &quot;y&quot;: -0.7692307692307686, &quot;z&quot;: 3.5917159763313595}, {&quot;x&quot;: 2.0, &quot;y&quot;: -0.6666666666666661, &quot;z&quot;: 3.444444444444443}, {&quot;x&quot;: 2.0, &quot;y&quot;: -0.5641025641025635, &quot;z&quot;: 3.318211702827087}, {&quot;x&quot;: 2.0, &quot;y&quot;: -0.461538461538461, &quot;z&quot;: 3.21301775147929}, {&quot;x&quot;: 2.0, &quot;y&quot;: -0.3589743589743585, &quot;z&quot;: 3.1288625904010523}, {&quot;x&quot;: 2.0, &quot;y&quot;: -0.25641025641025594, &quot;z&quot;: 3.0657462195923735}, {&quot;x&quot;: 2.0, &quot;y&quot;: -0.15384615384615338, &quot;z&quot;: 3.0236686390532537}, {&quot;x&quot;: 2.0, &quot;y&quot;: -0.05128205128205082, &quot;z&quot;: 3.0026298487836947}, {&quot;x&quot;: 2.0, &quot;y&quot;: 0.05128205128205174, &quot;z&quot;: 3.0026298487836947}, {&quot;x&quot;: 2.0, &quot;y&quot;: 0.1538461538461543, &quot;z&quot;: 3.0236686390532554}, {&quot;x&quot;: 2.0, &quot;y&quot;: 0.25641025641025683, &quot;z&quot;: 3.0657462195923735}, {&quot;x&quot;: 2.0, &quot;y&quot;: 0.35897435897435936, &quot;z&quot;: 3.1288625904010523}, {&quot;x&quot;: 2.0, &quot;y&quot;: 0.4615384615384619, &quot;z&quot;: 3.21301775147929}, {&quot;x&quot;: 2.0, &quot;y&quot;: 0.5641025641025644, &quot;z&quot;: 3.318211702827087}, {&quot;x&quot;: 2.0, &quot;y&quot;: 0.666666666666667, &quot;z&quot;: 3.4444444444444446}, {&quot;x&quot;: 2.0, &quot;y&quot;: 0.7692307692307695, &quot;z&quot;: 3.5917159763313613}, {&quot;x&quot;: 2.0, &quot;y&quot;: 0.871794871794872, &quot;z&quot;: 3.760026298487837}, {&quot;x&quot;: 2.0, &quot;y&quot;: 0.9743589743589746, &quot;z&quot;: 3.9493754109138735}, {&quot;x&quot;: 2.0, &quot;y&quot;: 1.076923076923077, &quot;z&quot;: 4.159763313609467}, {&quot;x&quot;: 2.0, &quot;y&quot;: 1.1794871794871797, &quot;z&quot;: 4.391190006574622}, {&quot;x&quot;: 2.0, &quot;y&quot;: 1.2820512820512824, &quot;z&quot;: 4.643655489809337}, {&quot;x&quot;: 2.0, &quot;y&quot;: 1.384615384615385, &quot;z&quot;: 4.917159763313611}, {&quot;x&quot;: 2.0, &quot;y&quot;: 1.4871794871794877, &quot;z&quot;: 5.211702827087445}, {&quot;x&quot;: 2.0, &quot;y&quot;: 1.5897435897435903, &quot;z&quot;: 5.527284681130837}, {&quot;x&quot;: 2.0, &quot;y&quot;: 1.692307692307693, &quot;z&quot;: 5.863905325443788}, {&quot;x&quot;: 2.0, &quot;y&quot;: 1.7948717948717956, &quot;z&quot;: 6.2215647600263}, {&quot;x&quot;: 2.0, &quot;y&quot;: 1.8974358974358982, &quot;z&quot;: 6.600262984878373}, {&quot;x&quot;: 2.0, &quot;y&quot;: 2.0, &quot;z&quot;: 7.0}], &quot;faces&quot;: [[0, 1, 2, 3], [1, 4, 5, 2], [4, 6, 7, 5], [6, 8, 9, 7], [8, 10, 11, 9], [10, 12, 13, 11], [12, 14, 15, 13], [14, 16, 17, 15], [16, 18, 19, 17], [18, 20, 21, 19], [20, 22, 23, 21], [22, 24, 25, 23], [24, 26, 27, 25], [26, 28, 29, 27], [28, 30, 31, 29], [30, 32, 33, 31], [32, 34, 35, 33], [34, 36, 37, 35], [36, 38, 39, 37], [38, 40, 41, 39], [40, 42, 43, 41], [42, 44, 45, 43], [44, 46, 47, 45], [46, 48, 49, 47], [48, 50, 51, 49], [50, 52, 53, 51], [52, 54, 55, 53], [54, 56, 57, 55], [56, 58, 59, 57], [58, 60, 61, 59], [60, 62, 63, 61], [62, 64, 65, 63], [64, 66, 67, 65], [66, 68, 69, 67], [68, 70, 71, 69], [70, 72, 73, 71], [72, 74, 75, 73], [74, 76, 77, 75], [76, 78, 79, 77], [3, 2, 80, 81], [2, 5, 82, 80], [5, 7, 83, 82], [7, 9, 84, 83], [9, 11, 85, 84], [11, 13, 86, 85], [13, 15, 87, 86], [15, 17, 88, 87], [17, 19, 89, 88], [19, 21, 90, 89], [21, 23, 91, 90], [23, 25, 92, 91], [25, 27, 93, 92], [27, 29, 94, 93], [29, 31, 95, 94], [31, 33, 96, 95], [33, 35, 97, 96], [35, 37, 98, 97], [37, 39, 99, 98], [39, 41, 100, 99], [41, 43, 101, 100], [43, 45, 102, 101], [45, 47, 103, 102], [47, 49, 104, 103], [49, 51, 105, 104], [51, 53, 106, 105], [53, 55, 107, 106], [55, 57, 108, 107], [57, 59, 109, 108], [59, 61, 110, 109], [61, 63, 111, 110], [63, 65, 112, 111], [65, 67, 113, 112], [67, 69, 114, 113], [69, 71, 115, 114], [71, 73, 116, 115], [73, 75, 117, 116], [75, 77, 118, 117], [77, 79, 119, 118], [81, 80, 120, 121], [80, 82, 122, 120], [82, 83, 123, 122], [83, 84, 124, 123], [84, 85, 125, 124], [85, 86, 126, 125], [86, 87, 127, 126], [87, 88, 128, 127], [88, 89, 129, 128], [89, 90, 130, 129], [90, 91, 131, 130], [91, 92, 132, 131], [92, 93, 133, 132], [93, 94, 134, 133], [94, 95, 135, 134], [95, 96, 136, 135], [96, 97, 137, 136], [97, 98, 138, 137], [98, 99, 139, 138], [99, 100, 140, 139], [100, 101, 141, 140], [101, 102, 142, 141], [102, 103, 143, 142], [103, 104, 144, 143], [104, 105, 145, 144], [105, 106, 146, 145], [106, 107, 147, 146], [107, 108, 148, 147], [108, 109, 149, 148], [109, 110, 150, 149], [110, 111, 151, 150], [111, 112, 152, 151], [112, 113, 153, 152], [113, 114, 154, 153], [114, 115, 155, 154], [115, 116, 156, 155], [116, 117, 157, 156], [117, 118, 158, 157], [118, 119, 159, 158], [121, 120, 160, 161], [120, 122, 162, 160], [122, 123, 163, 162], [123, 124, 164, 163], [124, 125, 165, 164], [125, 126, 166, 165], [126, 127, 167, 166], [127, 128, 168, 167], [128, 129, 169, 168], [129, 130, 170, 169], [130, 131, 171, 170], [131, 132, 172, 171], [132, 133, 173, 172], [133, 134, 174, 173], [134, 135, 175, 174], [135, 136, 176, 175], [136, 137, 177, 176], [137, 138, 178, 177], [138, 139, 179, 178], [139, 140, 180, 179], [140, 141, 181, 180], [141, 142, 182, 181], [142, 143, 183, 182], [143, 144, 184, 183], [144, 145, 185, 184], [145, 146, 186, 185], [146, 147, 187, 186], [147, 148, 188, 187], [148, 149, 189, 188], [149, 150, 190, 189], [150, 151, 191, 190], [151, 152, 192, 191], [152, 153, 193, 192], [153, 154, 194, 193], [154, 155, 195, 194], [155, 156, 196, 195], [156, 157, 197, 196], [157, 158, 198, 197], [158, 159, 199, 198], [161, 160, 200, 201], [160, 162, 202, 200], [162, 163, 203, 202], [163, 164, 204, 203], [164, 165, 205, 204], [165, 166, 206, 205], [166, 167, 207, 206], [167, 168, 208, 207], [168, 169, 209, 208], [169, 170, 210, 209], [170, 171, 211, 210], [171, 172, 212, 211], [172, 173, 213, 212], [173, 174, 214, 213], [174, 175, 215, 214], [175, 176, 216, 215], [176, 177, 217, 216], [177, 178, 218, 217], [178, 179, 219, 218], [179, 180, 220, 219], [180, 181, 221, 220], [181, 182, 222, 221], [182, 183, 223, 222], [183, 184, 224, 223], [184, 185, 225, 224], [185, 186, 226, 225], [186, 187, 227, 226], [187, 188, 228, 227], [188, 189, 229, 228], [189, 190, 230, 229], [190, 191, 231, 230], [191, 192, 232, 231], [192, 193, 233, 232], [193, 194, 234, 233], [194, 195, 235, 234], [195, 196, 236, 235], [196, 197, 237, 236], [197, 198, 238, 237], [198, 199, 239, 238], [201, 200, 240, 241], [200, 202, 242, 240], [202, 203, 243, 242], [203, 204, 244, 243], [204, 205, 245, 244], [205, 206, 246, 245], [206, 207, 247, 246], [207, 208, 248, 247], [208, 209, 249, 248], [209, 210, 250, 249], [210, 211, 251, 250], [211, 212, 252, 251], [212, 213, 253, 252], [213, 214, 254, 253], [214, 215, 255, 254], [215, 216, 256, 255], [216, 217, 257, 256], [217, 218, 258, 257], [218, 219, 259, 258], [219, 220, 260, 259], [220, 221, 261, 260], [221, 222, 262, 261], [222, 223, 263, 262], [223, 224, 264, 263], [224, 225, 265, 264], [225, 226, 266, 265], [226, 227, 267, 266], [227, 228, 268, 267], [228, 229, 269, 268], [229, 230, 270, 269], [230, 231, 271, 270], [231, 232, 272, 271], [232, 233, 273, 272], [233, 234, 274, 273], [234, 235, 275, 274], [235, 236, 276, 275], [236, 237, 277, 276], [237, 238, 278, 277], [238, 239, 279, 278], [241, 240, 280, 281], [240, 242, 282, 280], [242, 243, 283, 282], [243, 244, 284, 283], [244, 245, 285, 284], [245, 246, 286, 285], [246, 247, 287, 286], [247, 248, 288, 287], [248, 249, 289, 288], [249, 250, 290, 289], [250, 251, 291, 290], [251, 252, 292, 291], [252, 253, 293, 292], [253, 254, 294, 293], [254, 255, 295, 294], [255, 256, 296, 295], [256, 257, 297, 296], [257, 258, 298, 297], [258, 259, 299, 298], [259, 260, 300, 299], [260, 261, 301, 300], [261, 262, 302, 301], [262, 263, 303, 302], [263, 264, 304, 303], [264, 265, 305, 304], [265, 266, 306, 305], [266, 267, 307, 306], [267, 268, 308, 307], [268, 269, 309, 308], [269, 270, 310, 309], [270, 271, 311, 310], [271, 272, 312, 311], [272, 273, 313, 312], [273, 274, 314, 313], [274, 275, 315, 314], [275, 276, 316, 315], [276, 277, 317, 316], [277, 278, 318, 317], [278, 279, 319, 318], [281, 280, 320, 321], [280, 282, 322, 320], [282, 283, 323, 322], [283, 284, 324, 323], [284, 285, 325, 324], [285, 286, 326, 325], [286, 287, 327, 326], [287, 288, 328, 327], [288, 289, 329, 328], [289, 290, 330, 329], [290, 291, 331, 330], [291, 292, 332, 331], [292, 293, 333, 332], [293, 294, 334, 333], [294, 295, 335, 334], [295, 296, 336, 335], [296, 297, 337, 336], [297, 298, 338, 337], [298, 299, 339, 338], [299, 300, 340, 339], [300, 301, 341, 340], [301, 302, 342, 341], [302, 303, 343, 342], [303, 304, 344, 343], [304, 305, 345, 344], [305, 306, 346, 345], [306, 307, 347, 346], [307, 308, 348, 347], [308, 309, 349, 348], [309, 310, 350, 349], [310, 311, 351, 350], [311, 312, 352, 351], [312, 313, 353, 352], [313, 314, 354, 353], [314, 315, 355, 354], [315, 316, 356, 355], [316, 317, 357, 356], [317, 318, 358, 357], [318, 319, 359, 358], [321, 320, 360, 361], [320, 322, 362, 360], [322, 323, 363, 362], [323, 324, 364, 363], [324, 325, 365, 364], [325, 326, 366, 365], [326, 327, 367, 366], [327, 328, 368, 367], [328, 329, 369, 368], [329, 330, 370, 369], [330, 331, 371, 370], [331, 332, 372, 371], [332, 333, 373, 372], [333, 334, 374, 373], [334, 335, 375, 374], [335, 336, 376, 375], [336, 337, 377, 376], [337, 338, 378, 377], [338, 339, 379, 378], [339, 340, 380, 379], [340, 341, 381, 380], [341, 342, 382, 381], [342, 343, 383, 382], [343, 344, 384, 383], [344, 345, 385, 384], [345, 346, 386, 385], [346, 347, 387, 386], [347, 348, 388, 387], [348, 349, 389, 388], [349, 350, 390, 389], [350, 351, 391, 390], [351, 352, 392, 391], [352, 353, 393, 392], [353, 354, 394, 393], [354, 355, 395, 394], [355, 356, 396, 395], [356, 357, 397, 396], [357, 358, 398, 397], [358, 359, 399, 398], [361, 360, 400, 401], [360, 362, 402, 400], [362, 363, 403, 402], [363, 364, 404, 403], [364, 365, 405, 404], [365, 366, 406, 405], [366, 367, 407, 406], [367, 368, 408, 407], [368, 369, 409, 408], [369, 370, 410, 409], [370, 371, 411, 410], [371, 372, 412, 411], [372, 373, 413, 412], [373, 374, 414, 413], [374, 375, 415, 414], [375, 376, 416, 415], [376, 377, 417, 416], [377, 378, 418, 417], [378, 379, 419, 418], [379, 380, 420, 419], [380, 381, 421, 420], [381, 382, 422, 421], [382, 383, 423, 422], [383, 384, 424, 423], [384, 385, 425, 424], [385, 386, 426, 425], [386, 387, 427, 426], [387, 388, 428, 427], [388, 389, 429, 428], [389, 390, 430, 429], [390, 391, 431, 430], [391, 392, 432, 431], [392, 393, 433, 432], [393, 394, 434, 433], [394, 395, 435, 434], [395, 396, 436, 435], [396, 397, 437, 436], [397, 398, 438, 437], [398, 399, 439, 438], [401, 400, 440, 441], [400, 402, 442, 440], [402, 403, 443, 442], [403, 404, 444, 443], [404, 405, 445, 444], [405, 406, 446, 445], [406, 407, 447, 446], [407, 408, 448, 447], [408, 409, 449, 448], [409, 410, 450, 449], [410, 411, 451, 450], [411, 412, 452, 451], [412, 413, 453, 452], [413, 414, 454, 453], [414, 415, 455, 454], [415, 416, 456, 455], [416, 417, 457, 456], [417, 418, 458, 457], [418, 419, 459, 458], [419, 420, 460, 459], [420, 421, 461, 460], [421, 422, 462, 461], [422, 423, 463, 462], [423, 424, 464, 463], [424, 425, 465, 464], [425, 426, 466, 465], [426, 427, 467, 466], [427, 428, 468, 467], [428, 429, 469, 468], [429, 430, 470, 469], [430, 431, 471, 470], [431, 432, 472, 471], [432, 433, 473, 472], [433, 434, 474, 473], [434, 435, 475, 474], [435, 436, 476, 475], [436, 437, 477, 476], [437, 438, 478, 477], [438, 439, 479, 478], [441, 440, 480, 481], [440, 442, 482, 480], [442, 443, 483, 482], [443, 444, 484, 483], [444, 445, 485, 484], [445, 446, 486, 485], [446, 447, 487, 486], [447, 448, 488, 487], [448, 449, 489, 488], [449, 450, 490, 489], [450, 451, 491, 490], [451, 452, 492, 491], [452, 453, 493, 492], [453, 454, 494, 493], [454, 455, 495, 494], [455, 456, 496, 495], [456, 457, 497, 496], [457, 458, 498, 497], [458, 459, 499, 498], [459, 460, 500, 499], [460, 461, 501, 500], [461, 462, 502, 501], [462, 463, 503, 502], [463, 464, 504, 503], [464, 465, 505, 504], [465, 466, 506, 505], [466, 467, 507, 506], [467, 468, 508, 507], [468, 469, 509, 508], [469, 470, 510, 509], [470, 471, 511, 510], [471, 472, 512, 511], [472, 473, 513, 512], [473, 474, 514, 513], [474, 475, 515, 514], [475, 476, 516, 515], [476, 477, 517, 516], [477, 478, 518, 517], [478, 479, 519, 518], [481, 480, 520, 521], [480, 482, 522, 520], [482, 483, 523, 522], [483, 484, 524, 523], [484, 485, 525, 524], [485, 486, 526, 525], [486, 487, 527, 526], [487, 488, 528, 527], [488, 489, 529, 528], [489, 490, 530, 529], [490, 491, 531, 530], [491, 492, 532, 531], [492, 493, 533, 532], [493, 494, 534, 533], [494, 495, 535, 534], [495, 496, 536, 535], [496, 497, 537, 536], [497, 498, 538, 537], [498, 499, 539, 538], [499, 500, 540, 539], [500, 501, 541, 540], [501, 502, 542, 541], [502, 503, 543, 542], [503, 504, 544, 543], [504, 505, 545, 544], [505, 506, 546, 545], [506, 507, 547, 546], [507, 508, 548, 547], [508, 509, 549, 548], [509, 510, 550, 549], [510, 511, 551, 550], [511, 512, 552, 551], [512, 513, 553, 552], [513, 514, 554, 553], [514, 515, 555, 554], [515, 516, 556, 555], [516, 517, 557, 556], [517, 518, 558, 557], [518, 519, 559, 558], [521, 520, 560, 561], [520, 522, 562, 560], [522, 523, 563, 562], [523, 524, 564, 563], [524, 525, 565, 564], [525, 526, 566, 565], [526, 527, 567, 566], [527, 528, 568, 567], [528, 529, 569, 568], [529, 530, 570, 569], [530, 531, 571, 570], [531, 532, 572, 571], [532, 533, 573, 572], [533, 534, 574, 573], [534, 535, 575, 574], [535, 536, 576, 575], [536, 537, 577, 576], [537, 538, 578, 577], [538, 539, 579, 578], [539, 540, 580, 579], [540, 541, 581, 580], [541, 542, 582, 581], [542, 543, 583, 582], [543, 544, 584, 583], [544, 545, 585, 584], [545, 546, 586, 585], [546, 547, 587, 586], [547, 548, 588, 587], [548, 549, 589, 588], [549, 550, 590, 589], [550, 551, 591, 590], [551, 552, 592, 591], [552, 553, 593, 592], [553, 554, 594, 593], [554, 555, 595, 594], [555, 556, 596, 595], [556, 557, 597, 596], [557, 558, 598, 597], [558, 559, 599, 598], [561, 560, 600, 601], [560, 562, 602, 600], [562, 563, 603, 602], [563, 564, 604, 603], [564, 565, 605, 604], [565, 566, 606, 605], [566, 567, 607, 606], [567, 568, 608, 607], [568, 569, 609, 608], [569, 570, 610, 609], [570, 571, 611, 610], [571, 572, 612, 611], [572, 573, 613, 612], [573, 574, 614, 613], [574, 575, 615, 614], [575, 576, 616, 615], [576, 577, 617, 616], [577, 578, 618, 617], [578, 579, 619, 618], [579, 580, 620, 619], [580, 581, 621, 620], [581, 582, 622, 621], [582, 583, 623, 622], [583, 584, 624, 623], [584, 585, 625, 624], [585, 586, 626, 625], [586, 587, 627, 626], [587, 588, 628, 627], [588, 589, 629, 628], [589, 590, 630, 629], [590, 591, 631, 630], [591, 592, 632, 631], [592, 593, 633, 632], [593, 594, 634, 633], [594, 595, 635, 634], [595, 596, 636, 635], [596, 597, 637, 636], [597, 598, 638, 637], [598, 599, 639, 638], [601, 600, 640, 641], [600, 602, 642, 640], [602, 603, 643, 642], [603, 604, 644, 643], [604, 605, 645, 644], [605, 606, 646, 645], [606, 607, 647, 646], [607, 608, 648, 647], [608, 609, 649, 648], [609, 610, 650, 649], [610, 611, 651, 650], [611, 612, 652, 651], [612, 613, 653, 652], [613, 614, 654, 653], [614, 615, 655, 654], [615, 616, 656, 655], [616, 617, 657, 656], [617, 618, 658, 657], [618, 619, 659, 658], [619, 620, 660, 659], [620, 621, 661, 660], [621, 622, 662, 661], [622, 623, 663, 662], [623, 624, 664, 663], [624, 625, 665, 664], [625, 626, 666, 665], [626, 627, 667, 666], [627, 628, 668, 667], [628, 629, 669, 668], [629, 630, 670, 669], [630, 631, 671, 670], [631, 632, 672, 671], [632, 633, 673, 672], [633, 634, 674, 673], [634, 635, 675, 674], [635, 636, 676, 675], [636, 637, 677, 676], [637, 638, 678, 677], [638, 639, 679, 678], [641, 640, 680, 681], [640, 642, 682, 680], [642, 643, 683, 682], [643, 644, 684, 683], [644, 645, 685, 684], [645, 646, 686, 685], [646, 647, 687, 686], [647, 648, 688, 687], [648, 649, 689, 688], [649, 650, 690, 689], [650, 651, 691, 690], [651, 652, 692, 691], [652, 653, 693, 692], [653, 654, 694, 693], [654, 655, 695, 694], [655, 656, 696, 695], [656, 657, 697, 696], [657, 658, 698, 697], [658, 659, 699, 698], [659, 660, 700, 699], [660, 661, 701, 700], [661, 662, 702, 701], [662, 663, 703, 702], [663, 664, 704, 703], [664, 665, 705, 704], [665, 666, 706, 705], [666, 667, 707, 706], [667, 668, 708, 707], [668, 669, 709, 708], [669, 670, 710, 709], [670, 671, 711, 710], [671, 672, 712, 711], [672, 673, 713, 712], [673, 674, 714, 713], [674, 675, 715, 714], [675, 676, 716, 715], [676, 677, 717, 716], [677, 678, 718, 717], [678, 679, 719, 718], [681, 680, 720, 721], [680, 682, 722, 720], [682, 683, 723, 722], [683, 684, 724, 723], [684, 685, 725, 724], [685, 686, 726, 725], [686, 687, 727, 726], [687, 688, 728, 727], [688, 689, 729, 728], [689, 690, 730, 729], [690, 691, 731, 730], [691, 692, 732, 731], [692, 693, 733, 732], [693, 694, 734, 733], [694, 695, 735, 734], [695, 696, 736, 735], [696, 697, 737, 736], [697, 698, 738, 737], [698, 699, 739, 738], [699, 700, 740, 739], [700, 701, 741, 740], [701, 702, 742, 741], [702, 703, 743, 742], [703, 704, 744, 743], [704, 705, 745, 744], [705, 706, 746, 745], [706, 707, 747, 746], [707, 708, 748, 747], [708, 709, 749, 748], [709, 710, 750, 749], [710, 711, 751, 750], [711, 712, 752, 751], [712, 713, 753, 752], [713, 714, 754, 753], [714, 715, 755, 754], [715, 716, 756, 755], [716, 717, 757, 756], [717, 718, 758, 757], [718, 719, 759, 758], [721, 720, 760, 761], [720, 722, 762, 760], [722, 723, 763, 762], [723, 724, 764, 763], [724, 725, 765, 764], [725, 726, 766, 765], [726, 727, 767, 766], [727, 728, 768, 767], [728, 729, 769, 768], [729, 730, 770, 769], [730, 731, 771, 770], [731, 732, 772, 771], [732, 733, 773, 772], [733, 734, 774, 773], [734, 735, 775, 774], [735, 736, 776, 775], [736, 737, 777, 776], [737, 738, 778, 777], [738, 739, 779, 778], [739, 740, 780, 779], [740, 741, 781, 780], [741, 742, 782, 781], [742, 743, 783, 782], [743, 744, 784, 783], [744, 745, 785, 784], [745, 746, 786, 785], [746, 747, 787, 786], [747, 748, 788, 787], [748, 749, 789, 788], [749, 750, 790, 789], [750, 751, 791, 790], [751, 752, 792, 791], [752, 753, 793, 792], [753, 754, 794, 793], [754, 755, 795, 794], [755, 756, 796, 795], [756, 757, 797, 796], [757, 758, 798, 797], [758, 759, 799, 798], [761, 760, 800, 801], [760, 762, 802, 800], [762, 763, 803, 802], [763, 764, 804, 803], [764, 765, 805, 804], [765, 766, 806, 805], [766, 767, 807, 806], [767, 768, 808, 807], [768, 769, 809, 808], [769, 770, 810, 809], [770, 771, 811, 810], [771, 772, 812, 811], [772, 773, 813, 812], [773, 774, 814, 813], [774, 775, 815, 814], [775, 776, 816, 815], [776, 777, 817, 816], [777, 778, 818, 817], [778, 779, 819, 818], [779, 780, 820, 819], [780, 781, 821, 820], [781, 782, 822, 821], [782, 783, 823, 822], [783, 784, 824, 823], [784, 785, 825, 824], [785, 786, 826, 825], [786, 787, 827, 826], [787, 788, 828, 827], [788, 789, 829, 828], [789, 790, 830, 829], [790, 791, 831, 830], [791, 792, 832, 831], [792, 793, 833, 832], [793, 794, 834, 833], [794, 795, 835, 834], [795, 796, 836, 835], [796, 797, 837, 836], [797, 798, 838, 837], [798, 799, 839, 838], [801, 800, 840, 841], [800, 802, 842, 840], [802, 803, 843, 842], [803, 804, 844, 843], [804, 805, 845, 844], [805, 806, 846, 845], [806, 807, 847, 846], [807, 808, 848, 847], [808, 809, 849, 848], [809, 810, 850, 849], [810, 811, 851, 850], [811, 812, 852, 851], [812, 813, 853, 852], [813, 814, 854, 853], [814, 815, 855, 854], [815, 816, 856, 855], [816, 817, 857, 856], [817, 818, 858, 857], [818, 819, 859, 858], [819, 820, 860, 859], [820, 821, 861, 860], [821, 822, 862, 861], [822, 823, 863, 862], [823, 824, 864, 863], [824, 825, 865, 864], [825, 826, 866, 865], [826, 827, 867, 866], [827, 828, 868, 867], [828, 829, 869, 868], [829, 830, 870, 869], [830, 831, 871, 870], [831, 832, 872, 871], [832, 833, 873, 872], [833, 834, 874, 873], [834, 835, 875, 874], [835, 836, 876, 875], [836, 837, 877, 876], [837, 838, 878, 877], [838, 839, 879, 878], [841, 840, 880, 881], [840, 842, 882, 880], [842, 843, 883, 882], [843, 844, 884, 883], [844, 845, 885, 884], [845, 846, 886, 885], [846, 847, 887, 886], [847, 848, 888, 887], [848, 849, 889, 888], [849, 850, 890, 889], [850, 851, 891, 890], [851, 852, 892, 891], [852, 853, 893, 892], [853, 854, 894, 893], [854, 855, 895, 894], [855, 856, 896, 895], [856, 857, 897, 896], [857, 858, 898, 897], [858, 859, 899, 898], [859, 860, 900, 899], [860, 861, 901, 900], [861, 862, 902, 901], [862, 863, 903, 902], [863, 864, 904, 903], [864, 865, 905, 904], [865, 866, 906, 905], [866, 867, 907, 906], [867, 868, 908, 907], [868, 869, 909, 908], [869, 870, 910, 909], [870, 871, 911, 910], [871, 872, 912, 911], [872, 873, 913, 912], [873, 874, 914, 913], [874, 875, 915, 914], [875, 876, 916, 915], [876, 877, 917, 916], [877, 878, 918, 917], [878, 879, 919, 918], [881, 880, 920, 921], [880, 882, 922, 920], [882, 883, 923, 922], [883, 884, 924, 923], [884, 885, 925, 924], [885, 886, 926, 925], [886, 887, 927, 926], [887, 888, 928, 927], [888, 889, 929, 928], [889, 890, 930, 929], [890, 891, 931, 930], [891, 892, 932, 931], [892, 893, 933, 932], [893, 894, 934, 933], [894, 895, 935, 934], [895, 896, 936, 935], [896, 897, 937, 936], [897, 898, 938, 937], [898, 899, 939, 938], [899, 900, 940, 939], [900, 901, 941, 940], [901, 902, 942, 941], [902, 903, 943, 942], [903, 904, 944, 943], [904, 905, 945, 944], [905, 906, 946, 945], [906, 907, 947, 946], [907, 908, 948, 947], [908, 909, 949, 948], [909, 910, 950, 949], [910, 911, 951, 950], [911, 912, 952, 951], [912, 913, 953, 952], [913, 914, 954, 953], [914, 915, 955, 954], [915, 916, 956, 955], [916, 917, 957, 956], [917, 918, 958, 957], [918, 919, 959, 958], [921, 920, 960, 961], [920, 922, 962, 960], [922, 923, 963, 962], [923, 924, 964, 963], [924, 925, 965, 964], [925, 926, 966, 965], [926, 927, 967, 966], [927, 928, 968, 967], [928, 929, 969, 968], [929, 930, 970, 969], [930, 931, 971, 970], [931, 932, 972, 971], [932, 933, 973, 972], [933, 934, 974, 973], [934, 935, 975, 974], [935, 936, 976, 975], [936, 937, 977, 976], [937, 938, 978, 977], [938, 939, 979, 978], [939, 940, 980, 979], [940, 941, 981, 980], [941, 942, 982, 981], [942, 943, 983, 982], [943, 944, 984, 983], [944, 945, 985, 984], [945, 946, 986, 985], [946, 947, 987, 986], [947, 948, 988, 987], [948, 949, 989, 988], [949, 950, 990, 989], [950, 951, 991, 990], [951, 952, 992, 991], [952, 953, 993, 992], [953, 954, 994, 993], [954, 955, 995, 994], [955, 956, 996, 995], [956, 957, 997, 996], [957, 958, 998, 997], [958, 959, 999, 998], [961, 960, 1000, 1001], [960, 962, 1002, 1000], [962, 963, 1003, 1002], [963, 964, 1004, 1003], [964, 965, 1005, 1004], [965, 966, 1006, 1005], [966, 967, 1007, 1006], [967, 968, 1008, 1007], [968, 969, 1009, 1008], [969, 970, 1010, 1009], [970, 971, 1011, 1010], [971, 972, 1012, 1011], [972, 973, 1013, 1012], [973, 974, 1014, 1013], [974, 975, 1015, 1014], [975, 976, 1016, 1015], [976, 977, 1017, 1016], [977, 978, 1018, 1017], [978, 979, 1019, 1018], [979, 980, 1020, 1019], [980, 981, 1021, 1020], [981, 982, 1022, 1021], [982, 983, 1023, 1022], [983, 984, 1024, 1023], [984, 985, 1025, 1024], [985, 986, 1026, 1025], [986, 987, 1027, 1026], [987, 988, 1028, 1027], [988, 989, 1029, 1028], [989, 990, 1030, 1029], [990, 991, 1031, 1030], [991, 992, 1032, 1031], [992, 993, 1033, 1032], [993, 994, 1034, 1033], [994, 995, 1035, 1034], [995, 996, 1036, 1035], [996, 997, 1037, 1036], [997, 998, 1038, 1037], [998, 999, 1039, 1038], [1001, 1000, 1040, 1041], [1000, 1002, 1042, 1040], [1002, 1003, 1043, 1042], [1003, 1004, 1044, 1043], [1004, 1005, 1045, 1044], [1005, 1006, 1046, 1045], [1006, 1007, 1047, 1046], [1007, 1008, 1048, 1047], [1008, 1009, 1049, 1048], [1009, 1010, 1050, 1049], [1010, 1011, 1051, 1050], [1011, 1012, 1052, 1051], [1012, 1013, 1053, 1052], [1013, 1014, 1054, 1053], [1014, 1015, 1055, 1054], [1015, 1016, 1056, 1055], [1016, 1017, 1057, 1056], [1017, 1018, 1058, 1057], [1018, 1019, 1059, 1058], [1019, 1020, 1060, 1059], [1020, 1021, 1061, 1060], [1021, 1022, 1062, 1061], [1022, 1023, 1063, 1062], [1023, 1024, 1064, 1063], [1024, 1025, 1065, 1064], [1025, 1026, 1066, 1065], [1026, 1027, 1067, 1066], [1027, 1028, 1068, 1067], [1028, 1029, 1069, 1068], [1029, 1030, 1070, 1069], [1030, 1031, 1071, 1070], [1031, 1032, 1072, 1071], [1032, 1033, 1073, 1072], [1033, 1034, 1074, 1073], [1034, 1035, 1075, 1074], [1035, 1036, 1076, 1075], [1036, 1037, 1077, 1076], [1037, 1038, 1078, 1077], [1038, 1039, 1079, 1078], [1041, 1040, 1080, 1081], [1040, 1042, 1082, 1080], [1042, 1043, 1083, 1082], [1043, 1044, 1084, 1083], [1044, 1045, 1085, 1084], [1045, 1046, 1086, 1085], [1046, 1047, 1087, 1086], [1047, 1048, 1088, 1087], [1048, 1049, 1089, 1088], [1049, 1050, 1090, 1089], [1050, 1051, 1091, 1090], [1051, 1052, 1092, 1091], [1052, 1053, 1093, 1092], [1053, 1054, 1094, 1093], [1054, 1055, 1095, 1094], [1055, 1056, 1096, 1095], [1056, 1057, 1097, 1096], [1057, 1058, 1098, 1097], [1058, 1059, 1099, 1098], [1059, 1060, 1100, 1099], [1060, 1061, 1101, 1100], [1061, 1062, 1102, 1101], [1062, 1063, 1103, 1102], [1063, 1064, 1104, 1103], [1064, 1065, 1105, 1104], [1065, 1066, 1106, 1105], [1066, 1067, 1107, 1106], [1067, 1068, 1108, 1107], [1068, 1069, 1109, 1108], [1069, 1070, 1110, 1109], [1070, 1071, 1111, 1110], [1071, 1072, 1112, 1111], [1072, 1073, 1113, 1112], [1073, 1074, 1114, 1113], [1074, 1075, 1115, 1114], [1075, 1076, 1116, 1115], [1076, 1077, 1117, 1116], [1077, 1078, 1118, 1117], [1078, 1079, 1119, 1118], [1081, 1080, 1120, 1121], [1080, 1082, 1122, 1120], [1082, 1083, 1123, 1122], [1083, 1084, 1124, 1123], [1084, 1085, 1125, 1124], [1085, 1086, 1126, 1125], [1086, 1087, 1127, 1126], [1087, 1088, 1128, 1127], [1088, 1089, 1129, 1128], [1089, 1090, 1130, 1129], [1090, 1091, 1131, 1130], [1091, 1092, 1132, 1131], [1092, 1093, 1133, 1132], [1093, 1094, 1134, 1133], [1094, 1095, 1135, 1134], [1095, 1096, 1136, 1135], [1096, 1097, 1137, 1136], [1097, 1098, 1138, 1137], [1098, 1099, 1139, 1138], [1099, 1100, 1140, 1139], [1100, 1101, 1141, 1140], [1101, 1102, 1142, 1141], [1102, 1103, 1143, 1142], [1103, 1104, 1144, 1143], [1104, 1105, 1145, 1144], [1105, 1106, 1146, 1145], [1106, 1107, 1147, 1146], [1107, 1108, 1148, 1147], [1108, 1109, 1149, 1148], [1109, 1110, 1150, 1149], [1110, 1111, 1151, 1150], [1111, 1112, 1152, 1151], [1112, 1113, 1153, 1152], [1113, 1114, 1154, 1153], [1114, 1115, 1155, 1154], [1115, 1116, 1156, 1155], [1116, 1117, 1157, 1156], [1117, 1118, 1158, 1157], [1118, 1119, 1159, 1158], [1121, 1120, 1160, 1161], [1120, 1122, 1162, 1160], [1122, 1123, 1163, 1162], [1123, 1124, 1164, 1163], [1124, 1125, 1165, 1164], [1125, 1126, 1166, 1165], [1126, 1127, 1167, 1166], [1127, 1128, 1168, 1167], [1128, 1129, 1169, 1168], [1129, 1130, 1170, 1169], [1130, 1131, 1171, 1170], [1131, 1132, 1172, 1171], [1132, 1133, 1173, 1172], [1133, 1134, 1174, 1173], [1134, 1135, 1175, 1174], [1135, 1136, 1176, 1175], [1136, 1137, 1177, 1176], [1137, 1138, 1178, 1177], [1138, 1139, 1179, 1178], [1139, 1140, 1180, 1179], [1140, 1141, 1181, 1180], [1141, 1142, 1182, 1181], [1142, 1143, 1183, 1182], [1143, 1144, 1184, 1183], [1144, 1145, 1185, 1184], [1145, 1146, 1186, 1185], [1146, 1147, 1187, 1186], [1147, 1148, 1188, 1187], [1148, 1149, 1189, 1188], [1149, 1150, 1190, 1189], [1150, 1151, 1191, 1190], [1151, 1152, 1192, 1191], [1152, 1153, 1193, 1192], [1153, 1154, 1194, 1193], [1154, 1155, 1195, 1194], [1155, 1156, 1196, 1195], [1156, 1157, 1197, 1196], [1157, 1158, 1198, 1197], [1158, 1159, 1199, 1198], [1161, 1160, 1200, 1201], [1160, 1162, 1202, 1200], [1162, 1163, 1203, 1202], [1163, 1164, 1204, 1203], [1164, 1165, 1205, 1204], [1165, 1166, 1206, 1205], [1166, 1167, 1207, 1206], [1167, 1168, 1208, 1207], [1168, 1169, 1209, 1208], [1169, 1170, 1210, 1209], [1170, 1171, 1211, 1210], [1171, 1172, 1212, 1211], [1172, 1173, 1213, 1212], [1173, 1174, 1214, 1213], [1174, 1175, 1215, 1214], [1175, 1176, 1216, 1215], [1176, 1177, 1217, 1216], [1177, 1178, 1218, 1217], [1178, 1179, 1219, 1218], [1179, 1180, 1220, 1219], [1180, 1181, 1221, 1220], [1181, 1182, 1222, 1221], [1182, 1183, 1223, 1222], [1183, 1184, 1224, 1223], [1184, 1185, 1225, 1224], [1185, 1186, 1226, 1225], [1186, 1187, 1227, 1226], [1187, 1188, 1228, 1227], [1188, 1189, 1229, 1228], [1189, 1190, 1230, 1229], [1190, 1191, 1231, 1230], [1191, 1192, 1232, 1231], [1192, 1193, 1233, 1232], [1193, 1194, 1234, 1233], [1194, 1195, 1235, 1234], [1195, 1196, 1236, 1235], [1196, 1197, 1237, 1236], [1197, 1198, 1238, 1237], [1198, 1199, 1239, 1238], [1201, 1200, 1240, 1241], [1200, 1202, 1242, 1240], [1202, 1203, 1243, 1242], [1203, 1204, 1244, 1243], [1204, 1205, 1245, 1244], [1205, 1206, 1246, 1245], [1206, 1207, 1247, 1246], [1207, 1208, 1248, 1247], [1208, 1209, 1249, 1248], [1209, 1210, 1250, 1249], [1210, 1211, 1251, 1250], [1211, 1212, 1252, 1251], [1212, 1213, 1253, 1252], [1213, 1214, 1254, 1253], [1214, 1215, 1255, 1254], [1215, 1216, 1256, 1255], [1216, 1217, 1257, 1256], [1217, 1218, 1258, 1257], [1218, 1219, 1259, 1258], [1219, 1220, 1260, 1259], [1220, 1221, 1261, 1260], [1221, 1222, 1262, 1261], [1222, 1223, 1263, 1262], [1223, 1224, 1264, 1263], [1224, 1225, 1265, 1264], [1225, 1226, 1266, 1265], [1226, 1227, 1267, 1266], [1227, 1228, 1268, 1267], [1228, 1229, 1269, 1268], [1229, 1230, 1270, 1269], [1230, 1231, 1271, 1270], [1231, 1232, 1272, 1271], [1232, 1233, 1273, 1272], [1233, 1234, 1274, 1273], [1234, 1235, 1275, 1274], [1235, 1236, 1276, 1275], [1236, 1237, 1277, 1276], [1237, 1238, 1278, 1277], [1238, 1239, 1279, 1278], [1241, 1240, 1280, 1281], [1240, 1242, 1282, 1280], [1242, 1243, 1283, 1282], [1243, 1244, 1284, 1283], [1244, 1245, 1285, 1284], [1245, 1246, 1286, 1285], [1246, 1247, 1287, 1286], [1247, 1248, 1288, 1287], [1248, 1249, 1289, 1288], [1249, 1250, 1290, 1289], [1250, 1251, 1291, 1290], [1251, 1252, 1292, 1291], [1252, 1253, 1293, 1292], [1253, 1254, 1294, 1293], [1254, 1255, 1295, 1294], [1255, 1256, 1296, 1295], [1256, 1257, 1297, 1296], [1257, 1258, 1298, 1297], [1258, 1259, 1299, 1298], [1259, 1260, 1300, 1299], [1260, 1261, 1301, 1300], [1261, 1262, 1302, 1301], [1262, 1263, 1303, 1302], [1263, 1264, 1304, 1303], [1264, 1265, 1305, 1304], [1265, 1266, 1306, 1305], [1266, 1267, 1307, 1306], [1267, 1268, 1308, 1307], [1268, 1269, 1309, 1308], [1269, 1270, 1310, 1309], [1270, 1271, 1311, 1310], [1271, 1272, 1312, 1311], [1272, 1273, 1313, 1312], [1273, 1274, 1314, 1313], [1274, 1275, 1315, 1314], [1275, 1276, 1316, 1315], [1276, 1277, 1317, 1316], [1277, 1278, 1318, 1317], [1278, 1279, 1319, 1318], [1281, 1280, 1320, 1321], [1280, 1282, 1322, 1320], [1282, 1283, 1323, 1322], [1283, 1284, 1324, 1323], [1284, 1285, 1325, 1324], [1285, 1286, 1326, 1325], [1286, 1287, 1327, 1326], [1287, 1288, 1328, 1327], [1288, 1289, 1329, 1328], [1289, 1290, 1330, 1329], [1290, 1291, 1331, 1330], [1291, 1292, 1332, 1331], [1292, 1293, 1333, 1332], [1293, 1294, 1334, 1333], [1294, 1295, 1335, 1334], [1295, 1296, 1336, 1335], [1296, 1297, 1337, 1336], [1297, 1298, 1338, 1337], [1298, 1299, 1339, 1338], [1299, 1300, 1340, 1339], [1300, 1301, 1341, 1340], [1301, 1302, 1342, 1341], [1302, 1303, 1343, 1342], [1303, 1304, 1344, 1343], [1304, 1305, 1345, 1344], [1305, 1306, 1346, 1345], [1306, 1307, 1347, 1346], [1307, 1308, 1348, 1347], [1308, 1309, 1349, 1348], [1309, 1310, 1350, 1349], [1310, 1311, 1351, 1350], [1311, 1312, 1352, 1351], [1312, 1313, 1353, 1352], [1313, 1314, 1354, 1353], [1314, 1315, 1355, 1354], [1315, 1316, 1356, 1355], [1316, 1317, 1357, 1356], [1317, 1318, 1358, 1357], [1318, 1319, 1359, 1358], [1321, 1320, 1360, 1361], [1320, 1322, 1362, 1360], [1322, 1323, 1363, 1362], [1323, 1324, 1364, 1363], [1324, 1325, 1365, 1364], [1325, 1326, 1366, 1365], [1326, 1327, 1367, 1366], [1327, 1328, 1368, 1367], [1328, 1329, 1369, 1368], [1329, 1330, 1370, 1369], [1330, 1331, 1371, 1370], [1331, 1332, 1372, 1371], [1332, 1333, 1373, 1372], [1333, 1334, 1374, 1373], [1334, 1335, 1375, 1374], [1335, 1336, 1376, 1375], [1336, 1337, 1377, 1376], [1337, 1338, 1378, 1377], [1338, 1339, 1379, 1378], [1339, 1340, 1380, 1379], [1340, 1341, 1381, 1380], [1341, 1342, 1382, 1381], [1342, 1343, 1383, 1382], [1343, 1344, 1384, 1383], [1344, 1345, 1385, 1384], [1345, 1346, 1386, 1385], [1346, 1347, 1387, 1386], [1347, 1348, 1388, 1387], [1348, 1349, 1389, 1388], [1349, 1350, 1390, 1389], [1350, 1351, 1391, 1390], [1351, 1352, 1392, 1391], [1352, 1353, 1393, 1392], [1353, 1354, 1394, 1393], [1354, 1355, 1395, 1394], [1355, 1356, 1396, 1395], [1356, 1357, 1397, 1396], [1357, 1358, 1398, 1397], [1358, 1359, 1399, 1398], [1361, 1360, 1400, 1401], [1360, 1362, 1402, 1400], [1362, 1363, 1403, 1402], [1363, 1364, 1404, 1403], [1364, 1365, 1405, 1404], [1365, 1366, 1406, 1405], [1366, 1367, 1407, 1406], [1367, 1368, 1408, 1407], [1368, 1369, 1409, 1408], [1369, 1370, 1410, 1409], [1370, 1371, 1411, 1410], [1371, 1372, 1412, 1411], [1372, 1373, 1413, 1412], [1373, 1374, 1414, 1413], [1374, 1375, 1415, 1414], [1375, 1376, 1416, 1415], [1376, 1377, 1417, 1416], [1377, 1378, 1418, 1417], [1378, 1379, 1419, 1418], [1379, 1380, 1420, 1419], [1380, 1381, 1421, 1420], [1381, 1382, 1422, 1421], [1382, 1383, 1423, 1422], [1383, 1384, 1424, 1423], [1384, 1385, 1425, 1424], [1385, 1386, 1426, 1425], [1386, 1387, 1427, 1426], [1387, 1388, 1428, 1427], [1388, 1389, 1429, 1428], [1389, 1390, 1430, 1429], [1390, 1391, 1431, 1430], [1391, 1392, 1432, 1431], [1392, 1393, 1433, 1432], [1393, 1394, 1434, 1433], [1394, 1395, 1435, 1434], [1395, 1396, 1436, 1435], [1396, 1397, 1437, 1436], [1397, 1398, 1438, 1437], [1398, 1399, 1439, 1438], [1401, 1400, 1440, 1441], [1400, 1402, 1442, 1440], [1402, 1403, 1443, 1442], [1403, 1404, 1444, 1443], [1404, 1405, 1445, 1444], [1405, 1406, 1446, 1445], [1406, 1407, 1447, 1446], [1407, 1408, 1448, 1447], [1408, 1409, 1449, 1448], [1409, 1410, 1450, 1449], [1410, 1411, 1451, 1450], [1411, 1412, 1452, 1451], [1412, 1413, 1453, 1452], [1413, 1414, 1454, 1453], [1414, 1415, 1455, 1454], [1415, 1416, 1456, 1455], [1416, 1417, 1457, 1456], [1417, 1418, 1458, 1457], [1418, 1419, 1459, 1458], [1419, 1420, 1460, 1459], [1420, 1421, 1461, 1460], [1421, 1422, 1462, 1461], [1422, 1423, 1463, 1462], [1423, 1424, 1464, 1463], [1424, 1425, 1465, 1464], [1425, 1426, 1466, 1465], [1426, 1427, 1467, 1466], [1427, 1428, 1468, 1467], [1428, 1429, 1469, 1468], [1429, 1430, 1470, 1469], [1430, 1431, 1471, 1470], [1431, 1432, 1472, 1471], [1432, 1433, 1473, 1472], [1433, 1434, 1474, 1473], [1434, 1435, 1475, 1474], [1435, 1436, 1476, 1475], [1436, 1437, 1477, 1476], [1437, 1438, 1478, 1477], [1438, 1439, 1479, 1478], [1441, 1440, 1480, 1481], [1440, 1442, 1482, 1480], [1442, 1443, 1483, 1482], [1443, 1444, 1484, 1483], [1444, 1445, 1485, 1484], [1445, 1446, 1486, 1485], [1446, 1447, 1487, 1486], [1447, 1448, 1488, 1487], [1448, 1449, 1489, 1488], [1449, 1450, 1490, 1489], [1450, 1451, 1491, 1490], [1451, 1452, 1492, 1491], [1452, 1453, 1493, 1492], [1453, 1454, 1494, 1493], [1454, 1455, 1495, 1494], [1455, 1456, 1496, 1495], [1456, 1457, 1497, 1496], [1457, 1458, 1498, 1497], [1458, 1459, 1499, 1498], [1459, 1460, 1500, 1499], [1460, 1461, 1501, 1500], [1461, 1462, 1502, 1501], [1462, 1463, 1503, 1502], [1463, 1464, 1504, 1503], [1464, 1465, 1505, 1504], [1465, 1466, 1506, 1505], [1466, 1467, 1507, 1506], [1467, 1468, 1508, 1507], [1468, 1469, 1509, 1508], [1469, 1470, 1510, 1509], [1470, 1471, 1511, 1510], [1471, 1472, 1512, 1511], [1472, 1473, 1513, 1512], [1473, 1474, 1514, 1513], [1474, 1475, 1515, 1514], [1475, 1476, 1516, 1515], [1476, 1477, 1517, 1516], [1477, 1478, 1518, 1517], [1478, 1479, 1519, 1518], [1481, 1480, 1520, 1521], [1480, 1482, 1522, 1520], [1482, 1483, 1523, 1522], [1483, 1484, 1524, 1523], [1484, 1485, 1525, 1524], [1485, 1486, 1526, 1525], [1486, 1487, 1527, 1526], [1487, 1488, 1528, 1527], [1488, 1489, 1529, 1528], [1489, 1490, 1530, 1529], [1490, 1491, 1531, 1530], [1491, 1492, 1532, 1531], [1492, 1493, 1533, 1532], [1493, 1494, 1534, 1533], [1494, 1495, 1535, 1534], [1495, 1496, 1536, 1535], [1496, 1497, 1537, 1536], [1497, 1498, 1538, 1537], [1498, 1499, 1539, 1538], [1499, 1500, 1540, 1539], [1500, 1501, 1541, 1540], [1501, 1502, 1542, 1541], [1502, 1503, 1543, 1542], [1503, 1504, 1544, 1543], [1504, 1505, 1545, 1544], [1505, 1506, 1546, 1545], [1506, 1507, 1547, 1546], [1507, 1508, 1548, 1547], [1508, 1509, 1549, 1548], [1509, 1510, 1550, 1549], [1510, 1511, 1551, 1550], [1511, 1512, 1552, 1551], [1512, 1513, 1553, 1552], [1513, 1514, 1554, 1553], [1514, 1515, 1555, 1554], [1515, 1516, 1556, 1555], [1516, 1517, 1557, 1556], [1517, 1518, 1558, 1557], [1518, 1519, 1559, 1558], [1521, 1520, 1560, 1561], [1520, 1522, 1562, 1560], [1522, 1523, 1563, 1562], [1523, 1524, 1564, 1563], [1524, 1525, 1565, 1564], [1525, 1526, 1566, 1565], [1526, 1527, 1567, 1566], [1527, 1528, 1568, 1567], [1528, 1529, 1569, 1568], [1529, 1530, 1570, 1569], [1530, 1531, 1571, 1570], [1531, 1532, 1572, 1571], [1532, 1533, 1573, 1572], [1533, 1534, 1574, 1573], [1534, 1535, 1575, 1574], [1535, 1536, 1576, 1575], [1536, 1537, 1577, 1576], [1537, 1538, 1578, 1577], [1538, 1539, 1579, 1578], [1539, 1540, 1580, 1579], [1540, 1541, 1581, 1580], [1541, 1542, 1582, 1581], [1542, 1543, 1583, 1582], [1543, 1544, 1584, 1583], [1544, 1545, 1585, 1584], [1545, 1546, 1586, 1585], [1546, 1547, 1587, 1586], [1547, 1548, 1588, 1587], [1548, 1549, 1589, 1588], [1549, 1550, 1590, 1589], [1550, 1551, 1591, 1590], [1551, 1552, 1592, 1591], [1552, 1553, 1593, 1592], [1553, 1554, 1594, 1593], [1554, 1555, 1595, 1594], [1555, 1556, 1596, 1595], [1556, 1557, 1597, 1596], [1557, 1558, 1598, 1597], [1558, 1559, 1599, 1598]], &quot;color&quot;: &quot;#6666ff&quot;, &quot;opacity&quot;: 1.0}];\n",
       "    for ( var i=0 ; i &lt; surfaces.length ; i++ ) addSurface( surfaces[i] );\n",
       "\n",
       "    function addSurface( json ) {\n",
       "\n",
       "        var useFaceColors = &#x27;faceColors&#x27; in json ? true : false;\n",
       "\n",
       "        var geometry = new THREE.Geometry();\n",
       "        for ( var i=0 ; i &lt; json.vertices.length ; i++ ) {\n",
       "            var v = json.vertices[i];\n",
       "            geometry.vertices.push( new THREE.Vector3( a[0]*v.x, a[1]*v.y, a[2]*v.z ) );\n",
       "        }\n",
       "        for ( var i=0 ; i &lt; json.faces.length ; i++ ) {\n",
       "            var f = json.faces[i];\n",
       "            for ( var j=0 ; j &lt; f.length - 2 ; j++ ) {\n",
       "                var face = new THREE.Face3( f[0], f[j+1], f[j+2] );\n",
       "                if ( useFaceColors ) face.color.set( json.faceColors[i] );\n",
       "                geometry.faces.push( face );\n",
       "            }\n",
       "        }\n",
       "        geometry.computeVertexNormals();\n",
       "\n",
       "        var side = json.singleSide ? THREE.FrontSide : THREE.DoubleSide;\n",
       "        var transparent = json.opacity &lt; 1 ? true : false;\n",
       "        var depthWrite = &#x27;depthWrite&#x27; in json ? json.depthWrite : !transparent;\n",
       "        var flatShading = json.useFlatShading ? json.useFlatShading : false;\n",
       "\n",
       "        var material = new THREE.MeshPhongMaterial( { side: side,\n",
       "                                     color: useFaceColors ? &#x27;white&#x27; : json.color,\n",
       "                                     vertexColors: useFaceColors ? THREE.FaceColors : THREE.NoColors,\n",
       "                                     transparent: transparent, opacity: json.opacity,\n",
       "                                     shininess: 20, flatShading: flatShading,\n",
       "                                     depthWrite: depthWrite } );\n",
       "\n",
       "        var c = new THREE.Vector3();\n",
       "        geometry.computeBoundingBox();\n",
       "        geometry.boundingBox.getCenter( c );\n",
       "        geometry.translate( -c.x, -c.y, -c.z );\n",
       "\n",
       "        var mesh = new THREE.Mesh( geometry, material );\n",
       "        mesh.position.set( c.x, c.y, c.z );\n",
       "        if ( transparent &amp;&amp; json.renderOrder ) mesh.renderOrder = json.renderOrder;\n",
       "        mesh.userData = json;\n",
       "        scene.add( mesh );\n",
       "\n",
       "        if ( json.showMeshGrid ) addSurfaceMeshGrid( json );\n",
       "\n",
       "    }\n",
       "\n",
       "    function addSurfaceMeshGrid( json ) {\n",
       "\n",
       "        var geometry = new THREE.Geometry();\n",
       "\n",
       "        for ( var i=0 ; i &lt; json.faces.length ; i++ ) {\n",
       "            var f = json.faces[i];\n",
       "            for ( var j=0 ; j &lt; f.length ; j++ ) {\n",
       "                var k = j === f.length-1 ? 0 : j+1;\n",
       "                var v1 = json.vertices[f[j]];\n",
       "                var v2 = json.vertices[f[k]];\n",
       "                // vertices in opposite directions on neighboring faces\n",
       "                var nudge = f[j] &lt; f[k] ? .0005*zRange : -.0005*zRange;\n",
       "                geometry.vertices.push( new THREE.Vector3( a[0]*v1.x, a[1]*v1.y, a[2]*(v1.z+nudge) ) );\n",
       "                geometry.vertices.push( new THREE.Vector3( a[0]*v2.x, a[1]*v2.y, a[2]*(v2.z+nudge) ) );\n",
       "            }\n",
       "        }\n",
       "\n",
       "        var c = new THREE.Vector3();\n",
       "        geometry.computeBoundingBox();\n",
       "        geometry.boundingBox.getCenter( c );\n",
       "        geometry.translate( -c.x, -c.y, -c.z );\n",
       "\n",
       "        var gridColor = options.theme === &#x27;dark&#x27; ? &#x27;white&#x27; : &#x27;black&#x27;;\n",
       "        var linewidth = json.linewidth || 1;\n",
       "        var materialOptions = { color: gridColor, linewidth: linewidth };\n",
       "\n",
       "        var mesh;\n",
       "        if ( linewidth &gt; 1 &amp;&amp; window.createFatLineSegments ) {\n",
       "            mesh = createFatLineSegments( geometry, materialOptions );\n",
       "        } else {\n",
       "            var material = new THREE.LineBasicMaterial( materialOptions );\n",
       "            mesh = new THREE.LineSegments( geometry, material );\n",
       "        }\n",
       "\n",
       "        mesh.position.set( c.x, c.y, c.z );\n",
       "        mesh.userData = json;\n",
       "        scene.add( mesh );\n",
       "\n",
       "    }\n",
       "\n",
       "    function render() {\n",
       "\n",
       "        if ( window.updateAnimation ) animate = updateAnimation();\n",
       "        if ( animate ) requestAnimationFrame( render );\n",
       "\n",
       "        renderer.render( scene, camera );\n",
       "\n",
       "    }\n",
       "\n",
       "    render();\n",
       "    controls.update();\n",
       "    if ( !animate ) render();\n",
       "\n",
       "\n",
       "    // menu functions\n",
       "\n",
       "    function toggleMenu() {\n",
       "\n",
       "        var m = document.getElementById( &#x27;menu-content&#x27; );\n",
       "        if ( m.style.display === &#x27;block&#x27; ) m.style.display = &#x27;none&#x27;\n",
       "        else m.style.display = &#x27;block&#x27;;\n",
       "\n",
       "    }\n",
       "\n",
       "\n",
       "    function saveAsPNG() {\n",
       "\n",
       "        var a = document.body.appendChild( document.createElement( &#x27;a&#x27; ) );\n",
       "        a.href = renderer.domElement.toDataURL( &#x27;image/png&#x27; );\n",
       "        a.download = &#x27;screenshot&#x27;;\n",
       "        a.click();\n",
       "\n",
       "    }\n",
       "\n",
       "    function saveAsHTML() {\n",
       "\n",
       "        toggleMenu(); // otherwise visible in output\n",
       "        event.stopPropagation();\n",
       "\n",
       "        var blob = new Blob( [ &#x27;&lt;!DOCTYPE html&gt;\\n&#x27; + document.documentElement.outerHTML ] );\n",
       "        var a = document.body.appendChild( document.createElement( &#x27;a&#x27; ) );\n",
       "        a.href = window.URL.createObjectURL( blob );\n",
       "        a.download = suggestFilename();\n",
       "        a.click();\n",
       "\n",
       "        function suggestFilename() {\n",
       "            if ( !document.title ) {\n",
       "                return &#x27;graphic.html&#x27;;\n",
       "            } else if ( /\\.html?$/i.test( document.title ) ) {\n",
       "                return document.title; // already ends in .htm or .html\n",
       "            } else {\n",
       "                return document.title + &#x27;.html&#x27;;\n",
       "            }\n",
       "        }\n",
       "\n",
       "    }\n",
       "\n",
       "    function getViewpoint() {\n",
       "\n",
       "        function roundTo( x, n ) { return +x.toFixed(n); }\n",
       "\n",
       "        var v = camera.quaternion.inverse();\n",
       "        var r = Math.sqrt( v.x*v.x + v.y*v.y + v.z*v.z );\n",
       "        var axis = [ roundTo( v.x / r, 4 ), roundTo( v.y / r, 4 ), roundTo( v.z / r, 4 ) ];\n",
       "        var angle = roundTo( 2 * Math.atan2( r, v.w ) * 180 / Math.PI, 2 );\n",
       "\n",
       "        var textArea = document.createElement( &#x27;textarea&#x27; );\n",
       "        textArea.textContent = JSON.stringify( axis ) + &#x27;,&#x27; + angle;\n",
       "        textArea.style.csstext = &#x27;position: absolute; top: -100%&#x27;;\n",
       "        document.body.append( textArea );\n",
       "        textArea.select();\n",
       "        document.execCommand( &#x27;copy&#x27; );\n",
       "\n",
       "        var m = document.getElementById( &#x27;menu-message&#x27; );\n",
       "        m.innerHTML = &#x27;Viewpoint copied to clipboard&#x27;;\n",
       "        m.style.display = &#x27;block&#x27;;\n",
       "        setTimeout( function() { m.style.display = &#x27;none&#x27;; }, 2000 );\n",
       "\n",
       "    }\n",
       "\n",
       "    function getCamera() {\n",
       "\n",
       "        function roundTo( x, n ) { return +x.toFixed(n); }\n",
       "\n",
       "        var pos = camera.position;\n",
       "        var pos_r = [ roundTo( pos.x, 4 ), roundTo( pos.y, 4 ), roundTo( pos.z, 4 ) ];\n",
       "   //     var up = camera.up; // up is always (0,0,1)\n",
       "        var textArea = document.createElement(&#x27;textarea&#x27;);\n",
       "        var cam_position = JSON.stringify(pos_r);\n",
       "        textArea.textContent = &#x27;,camera_position=&#x27; + cam_position;\n",
       "        textArea.style.csstext = &#x27;position: absolute; top: -100%&#x27;;\n",
       "        document.body.append( textArea );\n",
       "        textArea.select();\n",
       "        document.execCommand( &#x27;copy&#x27; );\n",
       "\n",
       "        var m = document.getElementById( &#x27;menu-message&#x27; );\n",
       "        m.innerHTML = &#x27;Camera position &#x27;+ cam_position+&#x27; copied to clipboard&#x27;;\n",
       "        m.style.display = &#x27;block&#x27;;\n",
       "        setTimeout( function() { m.style.display = &#x27;none&#x27;; }, 2000 );\n",
       "\n",
       "    }\n",
       "\n",
       "&lt;/script&gt;\n",
       "\n",
       "&lt;div id=&quot;menu-container&quot; onclick=&quot;toggleMenu()&quot;&gt;&amp;#x24d8;\n",
       "&lt;div id=&quot;menu-message&quot;&gt;&lt;/div&gt;\n",
       "&lt;div id=&quot;menu-content&quot;&gt;\n",
       "&lt;div onclick=&quot;saveAsPNG()&quot;&gt;Save as PNG&lt;/div&gt;\n",
       "&lt;div onclick=&quot;saveAsHTML()&quot;&gt;Save as HTML&lt;/div&gt;\n",
       "&lt;div onclick=&quot;getCamera()&quot;&gt;Get camera&lt;/div&gt;\n",
       "&lt;div onclick=&quot;getViewpoint()&quot;&gt;Get viewpoint&lt;/div&gt;\n",
       "&lt;div&gt;Close Menu&lt;/div&gt;\n",
       "&lt;/div&gt;&lt;/div&gt;\n",
       "\n",
       "\n",
       "&lt;/body&gt;\n",
       "&lt;/html&gt;\n",
       "\"\n",
       "        width=\"100%\"\n",
       "        height=\"400\"\n",
       "        style=\"border: 0;\">\n",
       "</iframe>\n"
      ],
      "text/plain": [
       "Graphics3d Object"
      ]
     },
     "execution_count": 93,
     "metadata": {},
     "output_type": "execute_result"
    }
   ],
   "source": [
    "plot3d(Q,(t,-2,2),(y,-2,2))"
   ]
  },
  {
   "cell_type": "markdown",
   "id": "c5229e74-fda5-48e7-ab75-a958df1709a8",
   "metadata": {},
   "source": [
    "### Matrix calculus"
   ]
  },
  {
   "cell_type": "markdown",
   "id": "70dd582e-b467-4a80-b47e-072205048367",
   "metadata": {},
   "source": [
    "#### Inverse of matrices"
   ]
  },
  {
   "cell_type": "markdown",
   "id": "171ce54d-fb96-43a1-86d7-b087013fe4f5",
   "metadata": {},
   "source": [
    "Look in the documentation how to define a matrix with rational coefficients. Define the matrix:\n",
    "$$\n",
    "M = \n",
    "\\left(\n",
    "\\begin{array}{ccc}\n",
    "2 & 4 & 1 \\\\\n",
    "8 & 9 & 2 \\\\ \n",
    "3 & 7 & 3\n",
    "\\end{array}\n",
    "\\right)\n",
    "$$"
   ]
  },
  {
   "cell_type": "code",
   "execution_count": 94,
   "id": "caf4d617-5c33-48d3-bdbe-4c3b61d24ace",
   "metadata": {},
   "outputs": [],
   "source": [
    "M = matrix(QQ,[[2,4,1],[8,9,2],[3,7,3]])"
   ]
  },
  {
   "cell_type": "markdown",
   "id": "4261ffc5-12b9-419e-83aa-746b4affba94",
   "metadata": {},
   "source": [
    "Do the same thing but in the Symbolic ring."
   ]
  },
  {
   "cell_type": "code",
   "execution_count": 95,
   "id": "927f2480-6970-4fad-8d56-81c6608ec6ab",
   "metadata": {},
   "outputs": [],
   "source": [
    "M = matrix(SR,[[2,4,1],[8,9,2],[3,7,3]])"
   ]
  },
  {
   "cell_type": "markdown",
   "id": "14ab8286-7400-4c4d-b0aa-97a006faefdf",
   "metadata": {},
   "source": [
    "Verify that it is invertible by computing the determinant:"
   ]
  },
  {
   "cell_type": "code",
   "execution_count": 96,
   "id": "74ed32db-d475-4eaf-9831-1abc00a3fcc6",
   "metadata": {},
   "outputs": [
    {
     "data": {
      "text/plain": [
       "-17"
      ]
     },
     "execution_count": 96,
     "metadata": {},
     "output_type": "execute_result"
    }
   ],
   "source": [
    "M.det() # or det(M), 'det' is one of the rare math. functions to be a 'universal' function"
   ]
  },
  {
   "cell_type": "markdown",
   "id": "51c8dea9-89ff-446b-a236-c54520e9db1a",
   "metadata": {},
   "source": [
    "Compute now the inverse of this matrix:"
   ]
  },
  {
   "cell_type": "code",
   "execution_count": 97,
   "id": "0ab695d0-b2a3-479e-89b8-2a1d662cdc1e",
   "metadata": {},
   "outputs": [
    {
     "data": {
      "text/plain": [
       "[-13/17   5/17   1/17]\n",
       "[ 18/17  -3/17  -4/17]\n",
       "[-29/17   2/17  14/17]"
      ]
     },
     "execution_count": 97,
     "metadata": {},
     "output_type": "execute_result"
    }
   ],
   "source": [
    "M.inverse()"
   ]
  },
  {
   "cell_type": "markdown",
   "id": "309c3803-7265-4fca-95d1-43e59739eb86",
   "metadata": {},
   "source": [
    "#### Kernel\n",
    " \n",
    " Now define the following matrix:\n",
    " $$\n",
    " N = \\left( \n",
    " \\begin{array}{ccc}\n",
    " 1 & 2 & 3 \\\\\n",
    " 4 & 5 & 6 \\\\\n",
    " 7 & 8 & 9\n",
    " \\end{array}\n",
    " \\right)\n",
    " $$"
   ]
  },
  {
   "cell_type": "code",
   "execution_count": 98,
   "id": "7c643e2c-14e8-4475-abe0-1ad041ea0c19",
   "metadata": {},
   "outputs": [
    {
     "data": {
      "text/plain": [
       "[1 2 3]\n",
       "[4 5 6]\n",
       "[7 8 9]"
      ]
     },
     "execution_count": 98,
     "metadata": {},
     "output_type": "execute_result"
    }
   ],
   "source": [
    "N = matrix(3,3,range(1,10));N"
   ]
  },
  {
   "cell_type": "markdown",
   "id": "e8a96dcf-bdb7-4aa8-a269-16bae844990b",
   "metadata": {},
   "source": [
    "Determine now the kernel of the matrix:"
   ]
  },
  {
   "cell_type": "code",
   "execution_count": 99,
   "id": "3fa63f53-e1b4-41f3-9150-63e2c1e228d6",
   "metadata": {},
   "outputs": [
    {
     "data": {
      "text/plain": [
       "Free module of degree 3 and rank 1 over Integer Ring\n",
       "Echelon basis matrix:\n",
       "[ 1 -2  1]"
      ]
     },
     "execution_count": 99,
     "metadata": {},
     "output_type": "execute_result"
    }
   ],
   "source": [
    "K = N.kernel();K"
   ]
  },
  {
   "cell_type": "markdown",
   "id": "11f6159e-a062-4bf6-ba7c-b92174f1b102",
   "metadata": {},
   "source": [
    "Get a basis for the kernel."
   ]
  },
  {
   "cell_type": "code",
   "execution_count": 100,
   "id": "b32591e1-8a85-49be-a578-94b4b3a46ba2",
   "metadata": {},
   "outputs": [
    {
     "data": {
      "text/plain": [
       "[\n",
       "(1, -2, 1)\n",
       "]"
      ]
     },
     "execution_count": 100,
     "metadata": {},
     "output_type": "execute_result"
    }
   ],
   "source": [
    "K.basis()"
   ]
  },
  {
   "cell_type": "markdown",
   "id": "65dbd835-3a1e-4629-bb93-f90f3ede0bec",
   "metadata": {},
   "source": [
    "#### Solution of linear equations\n",
    " \n",
    "Look up how to determine the solution(s) of the following linear equation:\n",
    " $$\n",
    " \\left(\\begin{array}{rrr}\n",
    "2 & 4 & 1 \\\\\n",
    "8 & 9 & 2 \\\\\n",
    "3 & 7 & 3\n",
    "\\end{array}\\right) \\times X = \n",
    "\\left(\\begin{array}{r}\n",
    "2 \\\\\n",
    "2 \\\\\n",
    "1\n",
    "\\end{array}\\right)\n",
    " $$"
   ]
  },
  {
   "cell_type": "code",
   "execution_count": 101,
   "id": "8ec91b42-fbc8-4ac6-9611-7758b112b4e5",
   "metadata": {},
   "outputs": [
    {
     "data": {
      "text/plain": [
       "(-15/17, 26/17, -40/17)"
      ]
     },
     "execution_count": 101,
     "metadata": {},
     "output_type": "execute_result"
    }
   ],
   "source": [
    "A = matrix(3,3,[2,4,1,8,9,2,3,7,3])\n",
    "B = vector([2,2,1])\n",
    "A.solve_right(B)"
   ]
  },
  {
   "cell_type": "markdown",
   "id": "8da38344-1fa1-4db3-9aa3-cb86e35153ad",
   "metadata": {},
   "source": [
    "### Calculus"
   ]
  },
  {
   "cell_type": "markdown",
   "id": "3c12b567-ab91-492c-bb21-371455ebbc11",
   "metadata": {},
   "source": [
    "Define the following functions: $$sin(x)$$ \n",
    " $$x^3+x-1$$\n",
    " $$\\ln(x^4-3)$$ \n",
    " Look in the documentation how to derivate a function and compute the first derivative of each functions."
   ]
  },
  {
   "cell_type": "code",
   "execution_count": 102,
   "id": "83053d7c-77ee-4c42-90d3-c69a29b4662c",
   "metadata": {},
   "outputs": [
    {
     "data": {
      "text/plain": [
       "(cos(x), 3*x^2 + 1, 4*x^3/(x^4 - 3))"
      ]
     },
     "execution_count": 102,
     "metadata": {},
     "output_type": "execute_result"
    }
   ],
   "source": [
    "x = var('x')\n",
    "f = sin(x)\n",
    "g = x^3 + x - 1\n",
    "h = ln(x^4 - 3)\n",
    "\n",
    "f.derivative(),g.derivative(),h.derivative()"
   ]
  },
  {
   "cell_type": "markdown",
   "id": "3fcb049e-64c7-4d84-8793-f43285977c78",
   "metadata": {},
   "source": [
    "Compute the following integral \n",
    "    $$\n",
    "    \\int x\\sin(x^3)dx\n",
    "    $$"
   ]
  },
  {
   "cell_type": "code",
   "execution_count": 103,
   "id": "a63da080-1344-4f02-bffe-e56206c83228",
   "metadata": {},
   "outputs": [
    {
     "data": {
      "text/plain": [
       "-1/12*(x^3)^(1/3)*((sqrt(3) + I)*gamma(2/3, I*x^3) + (sqrt(3) - I)*gamma(2/3, -I*x^3))/x"
      ]
     },
     "execution_count": 103,
     "metadata": {},
     "output_type": "execute_result"
    }
   ],
   "source": [
    "integrate(x*sin(x^3), x)"
   ]
  },
  {
   "cell_type": "markdown",
   "id": "c5a2dedd-6a4f-416b-86e6-20856da69ed3",
   "metadata": {},
   "source": [
    "and this one :\n",
    " $$\n",
    " \\int_0^1 \\frac{x}{x^2+1} dx\n",
    " $$"
   ]
  },
  {
   "cell_type": "markdown",
   "id": "10d6eff7-a048-4aee-a784-98f16062ac33",
   "metadata": {},
   "source": [
    "### Graph theory\n",
    " Look how to define the directed graph (`Digraph`) with vertices $V = \\{0, 1, 2, 3, 4\\}$ and arcs are $E = \\{ (0,1), (0,2), (0,3), (1,0), (2,4) \\}$.\n"
   ]
  },
  {
   "cell_type": "code",
   "execution_count": 104,
   "id": "d612232c-8899-41ab-8ec4-5915c1dca442",
   "metadata": {},
   "outputs": [],
   "source": [
    "D = DiGraph([list(range(5)),[(0,1),(0,2),(0,3),(1,0),(2,4)]])"
   ]
  },
  {
   "cell_type": "markdown",
   "id": "71a94cab-8819-4d60-a131-4837530b36cd",
   "metadata": {},
   "source": [
    "Determine the shortest path from 1 to 4."
   ]
  },
  {
   "cell_type": "code",
   "execution_count": 105,
   "id": "8c71015a-9f46-495c-a112-a427cfde8174",
   "metadata": {},
   "outputs": [
    {
     "data": {
      "text/plain": [
       "[1, 0, 2, 4]"
      ]
     },
     "execution_count": 105,
     "metadata": {},
     "output_type": "execute_result"
    }
   ],
   "source": [
    "D.shortest_path(1,4)"
   ]
  },
  {
   "cell_type": "code",
   "execution_count": null,
   "id": "6b14ef18-8564-4884-ad3c-d9b5ef950f74",
   "metadata": {},
   "outputs": [],
   "source": []
  }
 ],
 "metadata": {
  "kernelspec": {
   "display_name": "SageMath 10.4.beta8",
   "language": "sage",
   "name": "sagemath"
  },
  "language_info": {
   "codemirror_mode": {
    "name": "ipython",
    "version": 3
   },
   "file_extension": ".py",
   "mimetype": "text/x-python",
   "name": "python",
   "nbconvert_exporter": "python",
   "pygments_lexer": "ipython3",
   "version": "3.11.8"
  }
 },
 "nbformat": 4,
 "nbformat_minor": 5
}
