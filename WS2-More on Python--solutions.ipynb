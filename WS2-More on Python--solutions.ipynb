{
 "cells": [
  {
   "cell_type": "markdown",
   "id": "81f9c76f-ed52-4122-83db-87c2bbf5e7b9",
   "metadata": {},
   "source": [
    "# More on Python (in a jupyter notebook)\n",
    "\n",
    "    This is an introduction to the more advanced functionality of Python when used within a worksheet."
   ]
  },
  {
   "cell_type": "markdown",
   "id": "c8f0bc91-71c6-4014-b8bf-2e82f8f9a2af",
   "metadata": {},
   "source": [
    "## Booleans\n",
    "\n",
    "`bool` has one of two values: `True` or `False`.\n",
    "\n",
    "There are three boolean operators: `and`, `or`, and `not`.\n",
    "\n",
    "You can convert something into a boolean by the `bool` function.\n",
    "\n",
    "Notice in the following that `True` returns 'bool' as its type."
   ]
  },
  {
   "cell_type": "code",
   "execution_count": 84,
   "id": "67975850-2c9d-4faa-bf06-e4dd0a702ae4",
   "metadata": {},
   "outputs": [
    {
     "name": "stdout",
     "output_type": "stream",
     "text": [
      "<class 'bool'>\n"
     ]
    }
   ],
   "source": [
    "print(type(True))"
   ]
  },
  {
   "cell_type": "markdown",
   "id": "7ebca4af-87a7-42bc-aad5-9298d87d4df8",
   "metadata": {},
   "source": [
    "Notice that when converting something to boolean, we normally get True, except for when we input $0$."
   ]
  },
  {
   "cell_type": "code",
   "execution_count": 2,
   "id": "68fd8b5a-dad1-4876-b0a5-6abb6e3bab24",
   "metadata": {},
   "outputs": [
    {
     "name": "stdout",
     "output_type": "stream",
     "text": [
      "True\n",
      "False\n",
      "True\n"
     ]
    }
   ],
   "source": [
    "print(bool(1))\n",
    "print(bool(0))\n",
    "print(bool(-1))"
   ]
  },
  {
   "cell_type": "code",
   "execution_count": 3,
   "id": "20ee5394-99d9-4fe6-9a42-e736319caf45",
   "metadata": {},
   "outputs": [],
   "source": [
    "if 0:\n",
    "    print(\"Hola\") # Will not print because 0 is False!"
   ]
  },
  {
   "cell_type": "markdown",
   "id": "a4f780e0-1d5c-436c-b610-0f8c47fde569",
   "metadata": {},
   "source": [
    "In particular, the following give us `False`:\n",
    "+ The integer `0`\n",
    "+ The empty string `''`"
   ]
  },
  {
   "cell_type": "markdown",
   "id": "92b84040-3938-43cb-81a3-5415e44f113a",
   "metadata": {},
   "source": [
    "We can also do operations on booleans using `and`, `or`, `not`, etc."
   ]
  },
  {
   "cell_type": "code",
   "execution_count": 4,
   "id": "a92adb1f-44cf-4acd-be13-e4b7d968f507",
   "metadata": {},
   "outputs": [
    {
     "data": {
      "text/plain": [
       "False"
      ]
     },
     "execution_count": 4,
     "metadata": {},
     "output_type": "execute_result"
    }
   ],
   "source": [
    "True and False"
   ]
  },
  {
   "cell_type": "code",
   "execution_count": 5,
   "id": "c1cf199a-9c74-4317-9dc5-e5df8b8af0fb",
   "metadata": {},
   "outputs": [
    {
     "data": {
      "text/plain": [
       "True"
      ]
     },
     "execution_count": 5,
     "metadata": {},
     "output_type": "execute_result"
    }
   ],
   "source": [
    "True and True"
   ]
  },
  {
   "cell_type": "code",
   "execution_count": 6,
   "id": "4afca3cb-0a54-470c-8289-4345dc154574",
   "metadata": {},
   "outputs": [
    {
     "data": {
      "text/plain": [
       "False"
      ]
     },
     "execution_count": 6,
     "metadata": {},
     "output_type": "execute_result"
    }
   ],
   "source": [
    "False and False"
   ]
  },
  {
   "cell_type": "code",
   "execution_count": 7,
   "id": "ebc12ca1-02a1-4e4f-ac86-6152073b23cc",
   "metadata": {},
   "outputs": [
    {
     "data": {
      "text/plain": [
       "False"
      ]
     },
     "execution_count": 7,
     "metadata": {},
     "output_type": "execute_result"
    }
   ],
   "source": [
    "not True"
   ]
  },
  {
   "cell_type": "code",
   "execution_count": 8,
   "id": "3d137aee-eda7-4b4f-a8aa-e87f7c72826a",
   "metadata": {},
   "outputs": [
    {
     "data": {
      "text/plain": [
       "True"
      ]
     },
     "execution_count": 8,
     "metadata": {},
     "output_type": "execute_result"
    }
   ],
   "source": [
    "False or True"
   ]
  },
  {
   "cell_type": "markdown",
   "id": "e8081bde-b8fc-4492-b677-7d44b238e8bc",
   "metadata": {},
   "source": [
    "## Strings\n",
    "\n",
    "The `str` type is fairly common. You can use single or double quotes. Additionally you can use triple quotes if you want a multi-line string. You can also fill a string using dictionary substitutions as can be seen in the following example.\n"
   ]
  },
  {
   "cell_type": "code",
   "execution_count": 9,
   "id": "604e2432-4248-46e8-bc20-951ed61db86d",
   "metadata": {},
   "outputs": [
    {
     "name": "stdout",
     "output_type": "stream",
     "text": [
      "Hello YourName,\n",
      "You're a pretty cool person.\n",
      "- Jean-Philippe\n",
      "\n"
     ]
    }
   ],
   "source": [
    "name = 'YourName'\n",
    "message = \"\"\"Hello %s,\n",
    "You're a pretty cool person.\n",
    "- %s\n",
    "\"\"\" %(name, 'Jean-Philippe')\n",
    "print(message)"
   ]
  },
  {
   "cell_type": "markdown",
   "id": "8b6ab818-376d-4eb0-b684-cfb0c8b74a1f",
   "metadata": {},
   "source": [
    "### Concatenation\n",
    "\n",
    "You can concatenate strings either using `,` or `+`. The difference is that `,` will auto-type convert and will add spaces automatically. `+` on the other hand assumes everything is a `str` variable and will not add spaces."
   ]
  },
  {
   "cell_type": "code",
   "execution_count": 10,
   "id": "de0e0237-2f4a-4bba-9314-a3a39474f3cb",
   "metadata": {},
   "outputs": [
    {
     "name": "stdout",
     "output_type": "stream",
     "text": [
      "The square of  37 is 1369\n"
     ]
    }
   ],
   "source": [
    "a = 37\n",
    "print(\"The square of \", a, \"is\", a**2)"
   ]
  },
  {
   "cell_type": "markdown",
   "id": "ddcbfd89-cfea-4b77-8bb0-b684e1dc0ade",
   "metadata": {},
   "source": [
    "## Sets, and tuples\n",
    "\n",
    "There are four more (complicated) types:\n",
    "\n",
    "+ `set`- is a set of items with no multiplicites or order.\n",
    "+ `tuple` - is the same as a list, but it is immutable (it cannot be changed).\n"
   ]
  },
  {
   "cell_type": "code",
   "execution_count": 11,
   "id": "f5110df2-9fc1-4e65-8562-616c10d550f1",
   "metadata": {},
   "outputs": [
    {
     "name": "stdout",
     "output_type": "stream",
     "text": [
      "{1, 2, 3}\n",
      "[1, 2, 3]\n",
      "(1, 2, 3)\n",
      "{2: 1, 3: 2, 4: 3}\n"
     ]
    }
   ],
   "source": [
    "S = set([1,2,3,1,2,3,1,2,3])\n",
    "L = [1,2,3]\n",
    "T = (1,2,3)\n",
    "D = {2:1, 3:2, 4:3}\n",
    "\n",
    "print(S)\n",
    "print(L)\n",
    "print(T)\n",
    "print(D)"
   ]
  },
  {
   "cell_type": "markdown",
   "id": "e1f50c10-0b02-48fe-8f44-06d987285b1e",
   "metadata": {},
   "source": [
    "While you can change a list, you CAN'T change a tuple:"
   ]
  },
  {
   "cell_type": "code",
   "execution_count": 12,
   "id": "9323e8a9-52e0-4d81-b13d-80477feed9e0",
   "metadata": {},
   "outputs": [
    {
     "name": "stdout",
     "output_type": "stream",
     "text": [
      "[37, 2, 3]\n"
     ]
    },
    {
     "ename": "TypeError",
     "evalue": "'tuple' object does not support item assignment",
     "output_type": "error",
     "traceback": [
      "\u001b[1;31m---------------------------------------------------------------------------\u001b[0m",
      "\u001b[1;31mTypeError\u001b[0m                                 Traceback (most recent call last)",
      "Cell \u001b[1;32mIn[12], line 2\u001b[0m\n\u001b[0;32m      1\u001b[0m L[\u001b[38;5;241m0\u001b[39m]\u001b[38;5;241m=\u001b[39m \u001b[38;5;241m37\u001b[39m;\u001b[38;5;28mprint\u001b[39m(L)\n\u001b[1;32m----> 2\u001b[0m \u001b[43mT\u001b[49m\u001b[43m[\u001b[49m\u001b[38;5;241;43m0\u001b[39;49m\u001b[43m]\u001b[49m \u001b[38;5;241m=\u001b[39m \u001b[38;5;241m37\u001b[39m\n",
      "\u001b[1;31mTypeError\u001b[0m: 'tuple' object does not support item assignment"
     ]
    }
   ],
   "source": [
    "L[0]= 37;print(L)\n",
    "T[0] = 37"
   ]
  },
  {
   "cell_type": "markdown",
   "id": "7126bf28-4383-4c13-94c4-004138656fa9",
   "metadata": {},
   "source": [
    "You can have only one element in a set, a list or a dictionary:"
   ]
  },
  {
   "cell_type": "code",
   "execution_count": 13,
   "id": "c03da133-6f93-4588-9565-e98fd2b7d6ff",
   "metadata": {},
   "outputs": [
    {
     "name": "stdout",
     "output_type": "stream",
     "text": [
      "{1}\n",
      "[1]\n",
      "{1: 2}\n"
     ]
    }
   ],
   "source": [
    "print(set([1]))\n",
    "print([1])\n",
    "print({1:2})"
   ]
  },
  {
   "cell_type": "markdown",
   "id": "d01d1733-bd2e-4044-a787-6b220c8dad22",
   "metadata": {},
   "source": [
    "To create a tuple with one element, you have to use a comma:"
   ]
  },
  {
   "cell_type": "code",
   "execution_count": 14,
   "id": "fa8f2cfb-bf10-491b-85d3-e305ac44f24e",
   "metadata": {},
   "outputs": [
    {
     "data": {
      "text/plain": [
       "(1,)"
      ]
     },
     "execution_count": 14,
     "metadata": {},
     "output_type": "execute_result"
    }
   ],
   "source": [
    "(1,)"
   ]
  },
  {
   "cell_type": "markdown",
   "id": "72a01c1f-8a7b-46a5-ba5c-1dba55f73101",
   "metadata": {},
   "source": [
    "### Is this object present?\n",
    "Use the `in` operator."
   ]
  },
  {
   "cell_type": "code",
   "execution_count": 15,
   "id": "8bcb289e-fa0a-429b-9797-0fdf19207c9b",
   "metadata": {},
   "outputs": [
    {
     "name": "stdout",
     "output_type": "stream",
     "text": [
      "True\n",
      "True\n",
      "True\n",
      "False\n",
      "True\n",
      "True\n",
      "True\n",
      "False\n"
     ]
    }
   ],
   "source": [
    "S = set([1,2,3])\n",
    "L = [1,2,3]\n",
    "T = (1,2,3)\n",
    "D = {2:1, 3:2, 4:3}\n",
    "\n",
    "print(1 in S)\n",
    "print(1 in L)\n",
    "print(1 in T)\n",
    "print(1 in D)\n",
    "\n",
    "print(4 not in S)\n",
    "print(4 not in L)\n",
    "print(4 not in T)\n",
    "print(4 not in D)"
   ]
  },
  {
   "cell_type": "markdown",
   "id": "4c558621-bc10-417e-aa3f-f58aca56b2c0",
   "metadata": {},
   "source": [
    "Did you notice how for `dictionaries` the in operator is looking at the key and not the value? Remember this!"
   ]
  },
  {
   "cell_type": "markdown",
   "id": "1bbd3b8c-d621-42cf-b101-6e92f1a0d9c0",
   "metadata": {},
   "source": [
    "### How do I access elements?\n",
    "\n",
    "Use square brackets to access individual items. For dictionaries you use the key. For lists and tuples the counting begins at $0$. Sets have no order so you can't \"access\" things."
   ]
  },
  {
   "cell_type": "code",
   "execution_count": 16,
   "id": "e3d1c180-db82-4f33-8046-d16fa054dfdf",
   "metadata": {},
   "outputs": [
    {
     "name": "stdout",
     "output_type": "stream",
     "text": [
      "1\n",
      "1\n",
      "1\n"
     ]
    }
   ],
   "source": [
    "L = [1,2,3]\n",
    "T = (1,2,3)\n",
    "D = {2:1, 3:2, 4:3}\n",
    "print(L[0])\n",
    "print(T[0])\n",
    "print(D[2])"
   ]
  },
  {
   "cell_type": "markdown",
   "id": "ba88b921-b138-4aca-ab9b-170882c438f5",
   "metadata": {},
   "source": [
    "### How do I add new things?\n",
    "There are many ways to do so.\n",
    "\n",
    "+ Sets - Use the `add` function\n",
    "+ Lists - You can `append` a list at the end, `extend` a list with another list, or just plain add two lists together.\n",
    "+ Tuples - They are immutable, so we can't alter them! We can add two of them together and create a new tuple though.\n",
    "+ Dictionaries - Just add a new key and put in a value."
   ]
  },
  {
   "cell_type": "markdown",
   "id": "4c8b8e3f-a6ee-4ac2-89f0-c6114289bd58",
   "metadata": {},
   "source": [
    "#### `set` example for adding new things"
   ]
  },
  {
   "cell_type": "code",
   "execution_count": 17,
   "id": "a429aa39-0f80-49f9-8007-6d5d80922f13",
   "metadata": {},
   "outputs": [
    {
     "data": {
      "text/plain": [
       "{1, 2, 3, 4}"
      ]
     },
     "execution_count": 17,
     "metadata": {},
     "output_type": "execute_result"
    }
   ],
   "source": [
    "S = set([1,2,3])\n",
    "S.add(2)\n",
    "S.add(4)\n",
    "S"
   ]
  },
  {
   "cell_type": "markdown",
   "id": "ab76a646-55dd-4ab4-b999-e8bfd3dfb4f3",
   "metadata": {},
   "source": [
    "#### `list` example for adding new things"
   ]
  },
  {
   "cell_type": "code",
   "execution_count": 18,
   "id": "6213c63a-2bba-4f18-9245-3fc8a6bd5090",
   "metadata": {},
   "outputs": [
    {
     "name": "stdout",
     "output_type": "stream",
     "text": [
      "[1, 2, 3, 4, 'a', 'b']\n",
      "['a', 'b', (1, 2), (4, 5)]\n"
     ]
    }
   ],
   "source": [
    "L = [1,2,3]\n",
    "L2 = [\"a\", \"b\"]\n",
    "L3 = [(1,2), (4,5)]\n",
    "\n",
    "L.append(4)\n",
    "L.extend(L2)\n",
    "print(L)\n",
    "L4 = L2 + L3\n",
    "print(L4)"
   ]
  },
  {
   "cell_type": "markdown",
   "id": "86ea47cc-bfe0-4fc8-a4ff-d8015906f9c3",
   "metadata": {},
   "source": [
    "#### `tuple` example for adding new things\n",
    "\n",
    "Recall that since they are immutable, you can't add directly to a `tuple`, so a new tuple will be created"
   ]
  },
  {
   "cell_type": "code",
   "execution_count": 19,
   "id": "884f01ce-14f4-4351-90ed-ede86c57416b",
   "metadata": {},
   "outputs": [
    {
     "name": "stdout",
     "output_type": "stream",
     "text": [
      "(1, 2, 3, 0, 0)\n"
     ]
    }
   ],
   "source": [
    "T = (1,2,3)\n",
    "T2 = (0,0)\n",
    "T3 = T + T2\n",
    "print(T3)"
   ]
  },
  {
   "cell_type": "markdown",
   "id": "3fd0faaf-33cf-4834-9bf5-93a2f2a48795",
   "metadata": {},
   "source": [
    "#### `dict` example for adding new things"
   ]
  },
  {
   "cell_type": "code",
   "execution_count": 20,
   "id": "8885cbfd-c258-4445-be39-8856cf50c982",
   "metadata": {},
   "outputs": [
    {
     "data": {
      "text/plain": [
       "{2: 1, 3: 2, 4: 3, 10: 6, 'hello': 'Good bye'}"
      ]
     },
     "execution_count": 20,
     "metadata": {},
     "output_type": "execute_result"
    }
   ],
   "source": [
    "D = {2:1, 3:2, 4:3}\n",
    "D[10] = 6\n",
    "D[\"hello\"] = \"Good bye\"\n",
    "D"
   ]
  },
  {
   "cell_type": "markdown",
   "id": "40f2f726-16f2-4907-85e2-bb171b742b03",
   "metadata": {},
   "source": [
    "<strong>Note:</strong> We also can't add mutable items as keys for dictionaries, it has to be `immutable`."
   ]
  },
  {
   "cell_type": "code",
   "execution_count": 21,
   "id": "fc5639e1-6017-4b7c-baac-492bae13aca5",
   "metadata": {},
   "outputs": [
    {
     "ename": "TypeError",
     "evalue": "unhashable type: 'list'",
     "output_type": "error",
     "traceback": [
      "\u001b[1;31m---------------------------------------------------------------------------\u001b[0m",
      "\u001b[1;31mTypeError\u001b[0m                                 Traceback (most recent call last)",
      "Cell \u001b[1;32mIn[21], line 1\u001b[0m\n\u001b[1;32m----> 1\u001b[0m \u001b[43mD\u001b[49m\u001b[43m[\u001b[49m\u001b[43m[\u001b[49m\u001b[38;5;241;43m1\u001b[39;49m\u001b[43m]\u001b[49m\u001b[43m]\u001b[49m \u001b[38;5;241m=\u001b[39m \u001b[38;5;124m'\u001b[39m\u001b[38;5;124mfail\u001b[39m\u001b[38;5;124m'\u001b[39m\n",
      "\u001b[1;31mTypeError\u001b[0m: unhashable type: 'list'"
     ]
    }
   ],
   "source": [
    "D[[1]] = 'fail'"
   ]
  },
  {
   "cell_type": "markdown",
   "id": "31e93c0d-c176-4037-9e94-f71527569d71",
   "metadata": {},
   "source": [
    "### Russell's paradox\n",
    "\n",
    "Sets of sets can't happen\n"
   ]
  },
  {
   "cell_type": "code",
   "execution_count": 22,
   "id": "cad3fe20-59a8-4369-84f4-e1ed448995c2",
   "metadata": {},
   "outputs": [
    {
     "ename": "TypeError",
     "evalue": "unhashable type: 'set'",
     "output_type": "error",
     "traceback": [
      "\u001b[1;31m---------------------------------------------------------------------------\u001b[0m",
      "\u001b[1;31mTypeError\u001b[0m                                 Traceback (most recent call last)",
      "Cell \u001b[1;32mIn[22], line 2\u001b[0m\n\u001b[0;32m      1\u001b[0m S1 \u001b[38;5;241m=\u001b[39m \u001b[38;5;28mset\u001b[39m([\u001b[38;5;241m1\u001b[39m,\u001b[38;5;241m2\u001b[39m,\u001b[38;5;241m3\u001b[39m])\n\u001b[1;32m----> 2\u001b[0m S2 \u001b[38;5;241m=\u001b[39m \u001b[38;5;28;43mset\u001b[39;49m\u001b[43m(\u001b[49m\u001b[43m[\u001b[49m\u001b[43mS1\u001b[49m\u001b[43m]\u001b[49m\u001b[43m)\u001b[49m\n\u001b[0;32m      3\u001b[0m S2\n",
      "\u001b[1;31mTypeError\u001b[0m: unhashable type: 'set'"
     ]
    }
   ],
   "source": [
    "S1 = set([1,2,3])\n",
    "S2 = set([S1])\n",
    "S2"
   ]
  },
  {
   "cell_type": "markdown",
   "id": "9ff55310-b770-486a-9bb3-4478a62dea07",
   "metadata": {},
   "source": [
    "If you want a set of a set you need to create a `frozenset`. Frozen sets are immutable and therefore they can be placed in a set."
   ]
  },
  {
   "cell_type": "code",
   "execution_count": 23,
   "id": "fc5834b2-3451-4a95-a537-8e895a436573",
   "metadata": {},
   "outputs": [
    {
     "data": {
      "text/plain": [
       "{frozenset({1, 2, 3})}"
      ]
     },
     "execution_count": 23,
     "metadata": {},
     "output_type": "execute_result"
    }
   ],
   "source": [
    "S1 = frozenset([1,2,3])\n",
    "S2 = set([S1])\n",
    "S2"
   ]
  },
  {
   "cell_type": "markdown",
   "id": "7996ca6b-531b-4852-8b05-1810323c71f5",
   "metadata": {},
   "source": [
    "### Exercise 1: \n",
    "\n",
    "Look at the following code and make a guess as to what will be displayed."
   ]
  },
  {
   "cell_type": "code",
   "execution_count": 1,
   "id": "4617a33a-b010-48c4-9a75-3ec2525a44e0",
   "metadata": {},
   "outputs": [
    {
     "data": {
      "text/plain": [
       "9"
      ]
     },
     "execution_count": 1,
     "metadata": {},
     "output_type": "execute_result"
    }
   ],
   "source": [
    "L = [1,\"z\",3,4,5]\n",
    "L.append(\"c\")\n",
    "L = L + [9,10]\n",
    "L[6]"
   ]
  },
  {
   "cell_type": "markdown",
   "id": "2a87cf7c-2dd8-49ae-bf70-ea3bc5235879",
   "metadata": {},
   "source": [
    "### But I added too much! How do I delete things I don't want?\n",
    "\n",
    "For sets we can just discard the item we want. Note that we must `discard` the actual element and not the 'index' as indices don't exist in a set."
   ]
  },
  {
   "cell_type": "code",
   "execution_count": 25,
   "id": "6de52b40-abf4-43f8-9903-d39f27430310",
   "metadata": {},
   "outputs": [
    {
     "data": {
      "text/plain": [
       "{1, 3}"
      ]
     },
     "execution_count": 25,
     "metadata": {},
     "output_type": "execute_result"
    }
   ],
   "source": [
    "S = set([1,2,3])\n",
    "S.discard(2)\n",
    "S"
   ]
  },
  {
   "cell_type": "markdown",
   "id": "6472e696-64ee-4ca1-99fd-0efc3e150177",
   "metadata": {},
   "source": [
    "For a `list` we can either delete by index using `del`, we can `pop` an item out, or we can `remove` an item by its value.\n",
    "\n",
    "For `del` you must specify the list with the index you are trying to remove.\n",
    "For `pop` you specify the index as well, but unlike `del`, it will actually return the item removed so you can use it later if you want.\n",
    "For `remove` you specify the value of the thing you want to remove. This is useful if you don't know the index."
   ]
  },
  {
   "cell_type": "code",
   "execution_count": 26,
   "id": "13d0279b-64cc-4593-9597-fbefc5fe2a61",
   "metadata": {},
   "outputs": [
    {
     "data": {
      "text/plain": [
       "[4, 5]"
      ]
     },
     "execution_count": 26,
     "metadata": {},
     "output_type": "execute_result"
    }
   ],
   "source": [
    "L = [1,2,3,4,5]\n",
    "del L[1]\n",
    "poppedItem = L.pop(0)\n",
    "L.remove(3)\n",
    "L"
   ]
  },
  {
   "cell_type": "markdown",
   "id": "a3617968-3617-4838-a056-c88f3f4377da",
   "metadata": {},
   "source": [
    "<strong>Note:</strong> `remove` will only remove the first time it sees an object. It won't remove all of them."
   ]
  },
  {
   "cell_type": "code",
   "execution_count": 27,
   "id": "524e1db6-dd2d-419e-8f47-f2f7607f020f",
   "metadata": {},
   "outputs": [
    {
     "data": {
      "text/plain": [
       "[1, 3, 2]"
      ]
     },
     "execution_count": 27,
     "metadata": {},
     "output_type": "execute_result"
    }
   ],
   "source": [
    "L = [1, 2, 3, 2]\n",
    "L.remove(2)\n",
    "L"
   ]
  },
  {
   "cell_type": "markdown",
   "id": "dbb3dba8-8c9a-44d2-806b-11e0d64a17bf",
   "metadata": {},
   "source": [
    "You can also use splicing. Splicing won't be covered in full here, but if you're interested, <a href=\"http://pythoncentral.io/how-to-slice-listsarrays-and-tuples-in-python/\">here's a good article</a> on it."
   ]
  },
  {
   "cell_type": "code",
   "execution_count": 28,
   "id": "1180fd57-3714-40e1-a679-8d966ef4974e",
   "metadata": {},
   "outputs": [
    {
     "data": {
      "text/plain": [
       "[2, 3]"
      ]
     },
     "execution_count": 28,
     "metadata": {},
     "output_type": "execute_result"
    }
   ],
   "source": [
    "L2 = [1,2,3,4,5]\n",
    "L2 = L2[1:3]\n",
    "L2"
   ]
  },
  {
   "cell_type": "code",
   "execution_count": 29,
   "id": "afcebfb1-1426-4425-998b-dcebdfeec0d7",
   "metadata": {},
   "outputs": [
    {
     "data": {
      "text/plain": [
       "(2, 3)"
      ]
     },
     "execution_count": 29,
     "metadata": {},
     "output_type": "execute_result"
    }
   ],
   "source": [
    "T = (1,2,3,4,5)\n",
    "T = T[1:3]\n",
    "T"
   ]
  },
  {
   "cell_type": "markdown",
   "id": "6b054ab1-c7df-4557-8b16-c8690c3c64a9",
   "metadata": {},
   "source": [
    "For `dict` we can do similar things as list. We can `del` or we can `pop`. Recall that we are using the keys and not the values."
   ]
  },
  {
   "cell_type": "code",
   "execution_count": 30,
   "id": "4a03c080-dc63-45d7-9a0a-bb9c27e6cad5",
   "metadata": {},
   "outputs": [
    {
     "data": {
      "text/plain": [
       "{2: 1}"
      ]
     },
     "execution_count": 30,
     "metadata": {},
     "output_type": "execute_result"
    }
   ],
   "source": [
    "D = {2:1, 3:2, 4:3}\n",
    "del D[3]\n",
    "poppedItem = D.pop(4)\n",
    "D"
   ]
  },
  {
   "cell_type": "markdown",
   "id": "0c456672-70a4-42dc-87af-2f7dee080b1f",
   "metadata": {},
   "source": [
    "### Some other useful commands (Lists only!)\n",
    "\n",
    "+ `sort`\n",
    "+ `reverse`\n",
    "\n",
    "These two operations **CHANGE** the list you started with (it does not create a copy)"
   ]
  },
  {
   "cell_type": "code",
   "execution_count": 31,
   "id": "315b5446-f389-46a4-8d44-baf4c7bffd31",
   "metadata": {},
   "outputs": [
    {
     "data": {
      "text/plain": [
       "[1, 2, 3, 4, 5]"
      ]
     },
     "execution_count": 31,
     "metadata": {},
     "output_type": "execute_result"
    }
   ],
   "source": [
    "L = [5,4,1,2,3]\n",
    "L.sort()\n",
    "L"
   ]
  },
  {
   "cell_type": "code",
   "execution_count": 32,
   "id": "6355d1af-ef6d-4f62-b130-3c19d17118c2",
   "metadata": {},
   "outputs": [
    {
     "data": {
      "text/plain": [
       "[3, 2, 1, 4, 5]"
      ]
     },
     "execution_count": 32,
     "metadata": {},
     "output_type": "execute_result"
    }
   ],
   "source": [
    "L = [5,4,1,2,3]\n",
    "L.reverse()\n",
    "L"
   ]
  },
  {
   "cell_type": "markdown",
   "id": "56e29b5b-8412-440b-8771-670f9a0b97f3",
   "metadata": {},
   "source": [
    "### Exercise 2:\n",
    "\n",
    "1. Create the list `[5,1,3,6,7,2,12]`\n",
    "2. Remove the element 12.\n",
    "3. Add the element 4.\n",
    "4. Sort the list and reverse it.\n"
   ]
  },
  {
   "cell_type": "code",
   "execution_count": 2,
   "id": "10ac6283-c71f-486f-bff8-febaa8856f8d",
   "metadata": {},
   "outputs": [
    {
     "name": "stdout",
     "output_type": "stream",
     "text": [
      "[7, 6, 5, 4, 3, 2, 1]\n"
     ]
    }
   ],
   "source": [
    "L = [5,1,3,6,7,2,12]\n",
    "L.remove(12)\n",
    "L.append(4)\n",
    "L.sort()\n",
    "L.reverse()\n",
    "print(L)"
   ]
  },
  {
   "cell_type": "markdown",
   "id": "f8194cd2-f2e5-4ba7-a37d-7708ddaf3ec5",
   "metadata": {},
   "source": [
    "## The modification problem: Pointers\n",
    "\n",
    "Changing lists and dictionaries can have unintended consequences. To see this, let's start off with constructing a list."
   ]
  },
  {
   "cell_type": "code",
   "execution_count": 33,
   "id": "565ab637-dc28-4f53-9f5e-1e29749ef75c",
   "metadata": {},
   "outputs": [
    {
     "data": {
      "text/plain": [
       "[['a', 'b', 'c'], ['a', 'b', 'c']]"
      ]
     },
     "execution_count": 33,
     "metadata": {},
     "output_type": "execute_result"
    }
   ],
   "source": [
    "L = [\"a\", \"b\", \"c\"]\n",
    "L2 = [L, L]\n",
    "L2"
   ]
  },
  {
   "cell_type": "markdown",
   "id": "475e4de1-da8a-413e-b44f-0453f8f01c21",
   "metadata": {},
   "source": [
    "This seems fairly normal. We have a list composed with two lists. But now watch what happens when we add an element to our list `L`."
   ]
  },
  {
   "cell_type": "code",
   "execution_count": 34,
   "id": "84cdb568-b54d-4cd3-abef-d9c6dbfe5cc1",
   "metadata": {},
   "outputs": [
    {
     "data": {
      "text/plain": [
       "[['a', 'b', 'c', 'd'], ['a', 'b', 'c', 'd']]"
      ]
     },
     "execution_count": 34,
     "metadata": {},
     "output_type": "execute_result"
    }
   ],
   "source": [
    "L.append(\"d\")\n",
    "L2"
   ]
  },
  {
   "cell_type": "markdown",
   "id": "323f31cb-7801-44d1-a1ed-71c9387eff55",
   "metadata": {},
   "source": [
    "WHAT?! That's mental right? So what happens if we change `L` to something altogether?"
   ]
  },
  {
   "cell_type": "code",
   "execution_count": 35,
   "id": "38c23c14-ff26-4d3b-b071-36e36038c702",
   "metadata": {},
   "outputs": [
    {
     "data": {
      "text/plain": [
       "[['a', 'b', 'c', 'd'], ['a', 'b', 'c', 'd']]"
      ]
     },
     "execution_count": 35,
     "metadata": {},
     "output_type": "execute_result"
    }
   ],
   "source": [
    "L = [\"a\", \"b\", \"c\"]\n",
    "L2"
   ]
  },
  {
   "cell_type": "markdown",
   "id": "a88a9f6e-a367-4c7f-bb04-0d19c384830a",
   "metadata": {},
   "source": [
    "But `L2` didn't change!\n",
    "\n",
    "So what happened? Basically variables in Python work a little differently than we might otherwise think. When creating a variable Python assigns the variable to a slot in your RAM (in computer terms, we say **points to**) with the data inside of it.\n",
    "When you then use that variable to construct other variables (such as for `L2 = [L,L]`) Python doesn't duplicate the data.\n",
    "Instead, it says \"create an array with two elements where the information for these elements contained in the slot where `L` is\".\n",
    "So in essence this new memory slot points to the original slot!\n",
    "Therefore when we alter `L` by appending a `d` to it, `L2` still is pointing to that memory slot and therefore will show the `d` now as well.\n",
    "\n",
    "But what happened when we reconstructed `L`?!\n",
    "That is because whenever we do a `=` it resets the memory slot.\n",
    "So now `L` is pointing to a different slot in RAM and altering it won't affect `L2` anymore.\n",
    "\n",
    "BUT that doesn't mean we can't get weird things happening still!\n",
    "`L2[0]` is nothing more than just a pointer to the original memory slot that used to contain `L`.\n",
    "So what do you think will happen when we alter this?"
   ]
  },
  {
   "cell_type": "code",
   "execution_count": 36,
   "id": "e218f5f5-21e3-45fe-ab07-6c41f5aad770",
   "metadata": {},
   "outputs": [
    {
     "data": {
      "text/plain": [
       "[['a', 'b', 'd'], ['a', 'b', 'd']]"
      ]
     },
     "execution_count": 36,
     "metadata": {},
     "output_type": "execute_result"
    }
   ],
   "source": [
    "L2[0].remove(\"c\")\n",
    "L2"
   ]
  },
  {
   "cell_type": "markdown",
   "id": "36c2e5bb-2cc6-450c-8d14-c2cbe4368408",
   "metadata": {},
   "source": [
    "### Exercise 3:\n",
    "\n",
    "Guess the output of the following code:"
   ]
  },
  {
   "cell_type": "code",
   "execution_count": 8,
   "id": "7ead3654-c627-4a0d-9024-f1a803aaf77a",
   "metadata": {},
   "outputs": [
    {
     "name": "stdout",
     "output_type": "stream",
     "text": [
      "[38, 38, 1000, 5, 500, 500] 5\n"
     ]
    }
   ],
   "source": [
    "a,b,c = 5,500,38\n",
    "L = [c,c,a,a,b,b]\n",
    "T = [L] + L\n",
    "L[2] = 1000\n",
    "print(T[0],T[4])"
   ]
  },
  {
   "cell_type": "markdown",
   "id": "cb387b89-b3bd-4050-8d30-95e0f4a27941",
   "metadata": {},
   "source": [
    "### How do we fix this?\n",
    "\n",
    "#### `deepcopy` to the rescue!\n",
    "\n",
    "Basically, what `deepcopy` does is makes a copy of the data instead of just pointing!\n",
    "Like this we won't get a lot of this alteration problems."
   ]
  },
  {
   "cell_type": "code",
   "execution_count": 9,
   "id": "b5694fdc-3169-4bed-b839-aa339509fead",
   "metadata": {},
   "outputs": [
    {
     "data": {
      "text/plain": [
       "[['a', 'b', 'c'], ['a', 'b', 'c']]"
      ]
     },
     "execution_count": 9,
     "metadata": {},
     "output_type": "execute_result"
    }
   ],
   "source": [
    "from copy import deepcopy\n",
    "L = [\"a\", \"b\", \"c\"]\n",
    "L2 = [deepcopy(L), deepcopy(L)]\n",
    "L2"
   ]
  },
  {
   "cell_type": "code",
   "execution_count": 10,
   "id": "2fdb5c9f-3629-4e25-baab-319d1daa6691",
   "metadata": {},
   "outputs": [
    {
     "data": {
      "text/plain": [
       "[['a', 'b', 'c'], ['a', 'b', 'c']]"
      ]
     },
     "execution_count": 10,
     "metadata": {},
     "output_type": "execute_result"
    }
   ],
   "source": [
    "L.append(\"d\")\n",
    "L2"
   ]
  },
  {
   "cell_type": "markdown",
   "id": "8a854bfc-b744-48b4-8f4a-30d95ba6674b",
   "metadata": {},
   "source": [
    "Note that sometimes `deepcopy` is more powerful than you need (such as above) and a simple `copy` function will do. To see the difference between `copy` and `deepcopy` you can check out the [Python documentation](https://docs.python.org/3/library/copy.html).\n",
    "\n"
   ]
  },
  {
   "cell_type": "markdown",
   "id": "f7b14f81-a203-4aea-828e-68c9e7a20d80",
   "metadata": {},
   "source": [
    "## Commenting\n",
    "\n",
    "A **comment** in python is text that doesn't get executed. It's basically there so that you can keep notes for yourself so that when you look at your work the next day, you know what's going on. There are two main ways to do comments and we'll see both:"
   ]
  },
  {
   "cell_type": "code",
   "execution_count": 11,
   "id": "60725531-02f0-47d0-9f2c-637b2d03efa9",
   "metadata": {},
   "outputs": [],
   "source": [
    "# This is an inline comment"
   ]
  },
  {
   "cell_type": "markdown",
   "id": "e9e25ccb-c912-473a-95ef-fabe613cd87c",
   "metadata": {},
   "source": [
    "The line above is an inline comment and allows you to add a quick one line comment. Notice how when you run the cell, nothing happens. This is because a comment is never executed. This is good to help you remember what you're trying to do in a loop or why you're setting a certain variable in a certain way."
   ]
  },
  {
   "cell_type": "code",
   "execution_count": 12,
   "id": "b7c65905-6e23-4ade-82d2-d59f75ba7535",
   "metadata": {},
   "outputs": [],
   "source": [
    "'''\n",
    "The other type of comment is a multi-line comment.\n",
    "In other words, we can have a comment that is significantly longer\n",
    "and these are mainly good for functions/methods so that you can tell people how to use your code.\n",
    "'''\n",
    "def fun():\n",
    "    return \"This is an awesome function.\""
   ]
  },
  {
   "cell_type": "markdown",
   "id": "93ba9e80-b045-4a21-974f-a1189314166f",
   "metadata": {},
   "source": [
    "## Definition of a class\n",
    "\n",
    "An object is an element that contains data and functions.\n",
    "\n",
    "In python, everything that is put into a variable is an object.\n",
    "\n",
    "Data stored in an object are placed inside variables that we call **attributes**.\n",
    "The functions that are present in the object are called **method functions**.\n",
    "\n",
    "The nature of data and of present functions in an object depend on the type of the object.\n",
    "\n",
    "For example, the integer $5$ is an object."
   ]
  },
  {
   "cell_type": "code",
   "execution_count": 41,
   "id": "60494f3b-23cd-4755-9d12-80c20aa03888",
   "metadata": {},
   "outputs": [
    {
     "data": {
      "text/plain": [
       "int"
      ]
     },
     "execution_count": 41,
     "metadata": {},
     "output_type": "execute_result"
    }
   ],
   "source": [
    "mcinco = -5\n",
    "type(mcinco)"
   ]
  },
  {
   "cell_type": "code",
   "execution_count": 42,
   "id": "113c6bf3-791e-49cd-a3bb-b4967f678819",
   "metadata": {},
   "outputs": [
    {
     "data": {
      "text/plain": [
       "1"
      ]
     },
     "execution_count": 42,
     "metadata": {},
     "output_type": "execute_result"
    }
   ],
   "source": [
    "mcinco.denominator # attribute"
   ]
  },
  {
   "cell_type": "code",
   "execution_count": 43,
   "id": "8d7bdd1b-92b0-400d-b186-caa869397829",
   "metadata": {},
   "outputs": [
    {
     "data": {
      "text/plain": [
       "3"
      ]
     },
     "execution_count": 43,
     "metadata": {},
     "output_type": "execute_result"
    }
   ],
   "source": [
    "mcinco.bit_length() # method, notice the parenthesis"
   ]
  },
  {
   "cell_type": "markdown",
   "id": "811cff67-7956-42a8-8984-bf2bb85c716c",
   "metadata": {},
   "source": [
    "There exists **private** functions and attributes that do not appear to the user.\n",
    "Their names all begin by an underscore \"\\_\".\n",
    "\n",
    "There are three types of attributes/functions\n",
    " - the attributes/functions that start and end by \"\\_\"\n",
    " - the attributes/functions that start with \"\\_\" only\n",
    " - the attributes/functions that start with \"\\_\\_\" and end by \"\\_\\_\" (2 underscores)\n",
    "\n",
    "For example the following private function returns the string that is printed when we execute \"cinco\" and press Shift +Enter"
   ]
  },
  {
   "cell_type": "code",
   "execution_count": 44,
   "id": "09921dd9-e7fa-4675-ad76-7c7c36816f49",
   "metadata": {},
   "outputs": [
    {
     "data": {
      "text/plain": [
       "'-5'"
      ]
     },
     "execution_count": 44,
     "metadata": {},
     "output_type": "execute_result"
    }
   ],
   "source": [
    "mcinco.__repr__()"
   ]
  },
  {
   "cell_type": "code",
   "execution_count": 45,
   "id": "1a399444-d777-4649-854f-77b91abc37f5",
   "metadata": {},
   "outputs": [
    {
     "data": {
      "text/plain": [
       "5"
      ]
     },
     "execution_count": 45,
     "metadata": {},
     "output_type": "execute_result"
    }
   ],
   "source": [
    "mcinco.__abs__()"
   ]
  },
  {
   "cell_type": "code",
   "execution_count": 46,
   "id": "4e459145-0fd2-4138-836c-6f6d1caf9a5c",
   "metadata": {},
   "outputs": [
    {
     "data": {
      "text/plain": [
       "5"
      ]
     },
     "execution_count": 46,
     "metadata": {},
     "output_type": "execute_result"
    }
   ],
   "source": [
    "abs(mcinco)"
   ]
  },
  {
   "cell_type": "markdown",
   "id": "4c4af6d3-5eca-4559-a967-35ad8428e251",
   "metadata": {},
   "source": [
    "All these attributes are attributes that are hidden to the user.\n",
    "This means that the user should not \"generally\" use them, these functions are used by the developers of the class and must be used in very particular cases."
   ]
  },
  {
   "cell_type": "markdown",
   "id": "e99d7c5a-22d4-4bfd-9849-b88887e9bf13",
   "metadata": {},
   "source": [
    "It is possible to define your own type to create your own objects.\n",
    "\n",
    "For this, we create a class. A class contains all the information that characterize the object.\n",
    "The name of the class is also the type of the object that will be created with this class.\n",
    "\n",
    "A class is like the blueprint of a car:\n",
    " - With a blueprint, you create as many cars as you like\n",
    " - With a class, you can create as many objects as you like\n",
    " \n",
    " Here is the minimal code to create a class"
   ]
  },
  {
   "cell_type": "code",
   "execution_count": 47,
   "id": "4805dde3-a039-4837-a172-15a5bd8e0e29",
   "metadata": {},
   "outputs": [],
   "source": [
    "class Test:\n",
    "    pass"
   ]
  },
  {
   "cell_type": "markdown",
   "id": "acd4539a-6577-496c-b43a-2215317d06ef",
   "metadata": {},
   "source": [
    "We just created a class \"Test\" and a new type of object \"Test\"\n",
    "\n",
    "To create an object of type \"Test\", you only need to write:"
   ]
  },
  {
   "cell_type": "code",
   "execution_count": 48,
   "id": "7d6fddff-4ccc-46e5-8374-ff8cff0973d5",
   "metadata": {},
   "outputs": [],
   "source": [
    "e1 = Test()"
   ]
  },
  {
   "cell_type": "code",
   "execution_count": 49,
   "id": "30aae62c-2412-4527-8a8e-12c256b9b03c",
   "metadata": {},
   "outputs": [
    {
     "data": {
      "text/plain": [
       "<__main__.Test at 0x7f61253a5710>"
      ]
     },
     "execution_count": 49,
     "metadata": {},
     "output_type": "execute_result"
    }
   ],
   "source": [
    "e1"
   ]
  },
  {
   "cell_type": "markdown",
   "id": "5b03860b-4af2-429a-8654-2690a2c30674",
   "metadata": {},
   "source": [
    "We say that \"e1\" is an **instance** of \"Test\".\n",
    "\n",
    "The code \"0x19ed61b48\" (or something similar) is the adress where the object is located in the memory.This is a unique identifier. Indeed, we can create as many objects as we want with the same type."
   ]
  },
  {
   "cell_type": "code",
   "execution_count": 50,
   "id": "794aa21a-1f6b-46e7-8446-f9fc81df79b2",
   "metadata": {},
   "outputs": [
    {
     "data": {
      "text/plain": [
       "<__main__.Test at 0x7f61253153d0>"
      ]
     },
     "execution_count": 50,
     "metadata": {},
     "output_type": "execute_result"
    }
   ],
   "source": [
    "e2 = Test(); e2"
   ]
  },
  {
   "cell_type": "markdown",
   "id": "0c1114bb-ba04-47dd-9f03-08b80c862b44",
   "metadata": {},
   "source": [
    "The variables e1 and e2 contain different objects.\n",
    "They have different addresses.\n",
    "\n",
    "To know if the two object are the same, you can use the operator \"is\":"
   ]
  },
  {
   "cell_type": "code",
   "execution_count": 51,
   "id": "1674614a-f09b-483a-b87f-770f8e721722",
   "metadata": {},
   "outputs": [
    {
     "data": {
      "text/plain": [
       "False"
      ]
     },
     "execution_count": 51,
     "metadata": {},
     "output_type": "execute_result"
    }
   ],
   "source": [
    "e1 is e2"
   ]
  },
  {
   "cell_type": "markdown",
   "id": "1c013223-46e1-4fc0-bfb1-f810b9964a08",
   "metadata": {},
   "source": [
    "Watch out! Two objects may be equal, but be represented by two **distinct** objects in the memory."
   ]
  },
  {
   "cell_type": "code",
   "execution_count": 52,
   "id": "16e7e094-a249-4082-a8a0-2f8b198424d0",
   "metadata": {},
   "outputs": [
    {
     "data": {
      "text/plain": [
       "False"
      ]
     },
     "execution_count": 52,
     "metadata": {},
     "output_type": "execute_result"
    }
   ],
   "source": [
    "l1 = [1,2]\n",
    "l2 = [1,2]\n",
    "l1 is l2"
   ]
  },
  {
   "cell_type": "code",
   "execution_count": 53,
   "id": "d4fefcd5-3256-432a-8c57-e4746b5d6435",
   "metadata": {
    "jp-MarkdownHeadingCollapsed": true
   },
   "outputs": [
    {
     "data": {
      "text/plain": [
       "True"
      ]
     },
     "execution_count": 53,
     "metadata": {},
     "output_type": "execute_result"
    }
   ],
   "source": [
    "l1 == l2"
   ]
  },
  {
   "cell_type": "markdown",
   "id": "ab43a361-41a8-493c-a441-d89ea81e5b83",
   "metadata": {},
   "source": [
    "The last one is true since both lists are considered \"isomorphic\" as python objects, but they are located at different addresses in the memory. (Think of it as building exactly two houses next to each other, they might be exactly the same, but they have different addresses, and that's what distinguish them)."
   ]
  },
  {
   "cell_type": "markdown",
   "id": "f503fe5e-eb9e-4771-9c4c-8a19d02792bc",
   "metadata": {},
   "source": [
    "Certain objects are unique in python, this means that they are represented in a unique way in the memory. This is the case for strings."
   ]
  },
  {
   "cell_type": "code",
   "execution_count": 54,
   "id": "e21d4399-56ac-4ca7-a62e-311040c8f9fc",
   "metadata": {},
   "outputs": [
    {
     "data": {
      "text/plain": [
       "True"
      ]
     },
     "execution_count": 54,
     "metadata": {},
     "output_type": "execute_result"
    }
   ],
   "source": [
    "l1 = 'cou'\n",
    "l2 = 'cou'\n",
    "l1 is l2"
   ]
  },
  {
   "cell_type": "code",
   "execution_count": 55,
   "id": "c0167080-ecc0-46bc-9749-87475df44cc8",
   "metadata": {},
   "outputs": [
    {
     "data": {
      "text/plain": [
       "True"
      ]
     },
     "execution_count": 55,
     "metadata": {},
     "output_type": "execute_result"
    }
   ],
   "source": [
    "l1 == l2"
   ]
  },
  {
   "cell_type": "markdown",
   "id": "dcbd0bf3-bd4e-4557-8322-70d8f3bc1693",
   "metadata": {},
   "source": [
    "The data located in an object can evolve with time.\n",
    "You can for example, add attributes during the life of an object :"
   ]
  },
  {
   "cell_type": "code",
   "execution_count": 56,
   "id": "43cca318-441e-42f1-a869-f5bc1affdd81",
   "metadata": {},
   "outputs": [],
   "source": [
    "e1.a = 4"
   ]
  },
  {
   "cell_type": "markdown",
   "id": "683a391f-1e4c-4ab6-a8e1-6d0b95410fe3",
   "metadata": {},
   "source": [
    "Now e1 contains an attribute *a* , while e2 with the same type does not contain an attribute \"a\"."
   ]
  },
  {
   "cell_type": "code",
   "execution_count": 57,
   "id": "4e9ee5b4-eee1-4ccc-8791-52fff5cd6cbc",
   "metadata": {},
   "outputs": [
    {
     "ename": "AttributeError",
     "evalue": "'Test' object has no attribute 'a'",
     "output_type": "error",
     "traceback": [
      "\u001b[1;31m---------------------------------------------------------------------------\u001b[0m",
      "\u001b[1;31mAttributeError\u001b[0m                            Traceback (most recent call last)",
      "Cell \u001b[1;32mIn[57], line 1\u001b[0m\n\u001b[1;32m----> 1\u001b[0m \u001b[43me2\u001b[49m\u001b[38;5;241;43m.\u001b[39;49m\u001b[43ma\u001b[49m\n",
      "\u001b[1;31mAttributeError\u001b[0m: 'Test' object has no attribute 'a'"
     ]
    }
   ],
   "source": [
    "e2.a"
   ]
  },
  {
   "cell_type": "markdown",
   "id": "54b60005-dcb2-45fd-bc72-151a1c1ac962",
   "metadata": {},
   "source": [
    "### Exercise 4:\n",
    "\n",
    "Create a new type of object with name \"Car\"."
   ]
  },
  {
   "cell_type": "code",
   "execution_count": 13,
   "id": "1a203632-6580-49e5-95d9-10ec6865ce42",
   "metadata": {},
   "outputs": [],
   "source": [
    "class Car:\n",
    "    pass"
   ]
  },
  {
   "cell_type": "markdown",
   "id": "604f5c25-5689-4b03-ae5a-7e43880606c1",
   "metadata": {},
   "source": [
    "Create 3 instances c1, c2, c3 of Car"
   ]
  },
  {
   "cell_type": "code",
   "execution_count": 14,
   "id": "cb85d0db-9cc9-490f-b8b4-ee6804e1d239",
   "metadata": {},
   "outputs": [],
   "source": [
    "c1 = Car()"
   ]
  },
  {
   "cell_type": "code",
   "execution_count": 15,
   "id": "ad133ef7-3a29-484f-9344-dfcf648712a6",
   "metadata": {},
   "outputs": [],
   "source": [
    "c2 = Car()"
   ]
  },
  {
   "cell_type": "code",
   "execution_count": 16,
   "id": "d66b85c6-a172-4ce6-982f-22e54d6504c6",
   "metadata": {},
   "outputs": [],
   "source": [
    "c3 = Car()"
   ]
  },
  {
   "cell_type": "markdown",
   "id": "a741f8dc-8f8d-47a4-bb9e-375adcd8b45e",
   "metadata": {},
   "source": [
    "Now, add an attribute 'a' for c1 containing 1, an attribute 'b' containing 37 for c2 and an attribute 'a' containing 4 for c3."
   ]
  },
  {
   "cell_type": "code",
   "execution_count": 18,
   "id": "87bda653-29d6-4e46-bf75-9dc5040a6437",
   "metadata": {},
   "outputs": [],
   "source": [
    "c1.a = 1\n",
    "c2.b = 37\n",
    "c3.a = 4"
   ]
  },
  {
   "cell_type": "markdown",
   "id": "d95bb89a-d678-4b95-b228-37a6e207b03d",
   "metadata": {},
   "source": [
    "Verify that these objects all have different representation in the memory:"
   ]
  },
  {
   "cell_type": "code",
   "execution_count": 19,
   "id": "530538ee-2f48-4841-b476-ba5c4c9d542f",
   "metadata": {},
   "outputs": [
    {
     "data": {
      "text/plain": [
       "<__main__.Car at 0x7efe300f4410>"
      ]
     },
     "execution_count": 19,
     "metadata": {},
     "output_type": "execute_result"
    }
   ],
   "source": [
    "c1"
   ]
  },
  {
   "cell_type": "code",
   "execution_count": 20,
   "id": "d5c6842f-8e39-4d8c-8e17-5ec22f300eff",
   "metadata": {},
   "outputs": [
    {
     "data": {
      "text/plain": [
       "<__main__.Car at 0x7efe305a9850>"
      ]
     },
     "execution_count": 20,
     "metadata": {},
     "output_type": "execute_result"
    }
   ],
   "source": [
    "c2"
   ]
  },
  {
   "cell_type": "code",
   "execution_count": 21,
   "id": "b204aeef-265e-4432-912d-a1ed454701cd",
   "metadata": {},
   "outputs": [
    {
     "data": {
      "text/plain": [
       "<__main__.Car at 0x7efe300dbd90>"
      ]
     },
     "execution_count": 21,
     "metadata": {},
     "output_type": "execute_result"
    }
   ],
   "source": [
    "c3"
   ]
  },
  {
   "cell_type": "markdown",
   "id": "e964ab52-9bb0-43a2-80c9-60edc2585415",
   "metadata": {},
   "source": [
    "Type the following command:"
   ]
  },
  {
   "cell_type": "code",
   "execution_count": 22,
   "id": "b1f5baca-080f-4b70-b41d-a0dfe65d5bff",
   "metadata": {},
   "outputs": [],
   "source": [
    "g = c1"
   ]
  },
  {
   "cell_type": "markdown",
   "id": "d077aed0-f269-4912-bc99-52c3bb0daafc",
   "metadata": {},
   "source": [
    "Are g and c1 refering to the same object in the memory? Check this."
   ]
  },
  {
   "cell_type": "code",
   "execution_count": 23,
   "id": "7330346d-748f-4983-94ba-aafaaadc4bd2",
   "metadata": {},
   "outputs": [
    {
     "data": {
      "text/plain": [
       "True"
      ]
     },
     "execution_count": 23,
     "metadata": {},
     "output_type": "execute_result"
    }
   ],
   "source": [
    "g is c1"
   ]
  },
  {
   "cell_type": "markdown",
   "id": "64379ab0-506f-47f1-9ba4-02740cbdd773",
   "metadata": {},
   "source": [
    "## Predefine attributes and functions\n",
    "\n",
    "We can predefine attributes and functions inside the class of the object.\n",
    "\n",
    "To define a class method, you declare the function inside the class by putting \"self\" as a first input parameter.\n",
    "When a function is called from an object $o$, the parameter *self* will contain the object $o$."
   ]
  },
  {
   "cell_type": "code",
   "execution_count": 34,
   "id": "d9eadd74-120b-400e-8b98-423b1cec0069",
   "metadata": {},
   "outputs": [],
   "source": [
    "class Obj:\n",
    "    def f(self, p1, p2):\n",
    "        print(\"Call of %s.f(%s, %s)\"%(str(self),str(p1), str(p2)))"
   ]
  },
  {
   "cell_type": "code",
   "execution_count": 35,
   "id": "f470d66d-d2f1-45e0-b478-12c26b1be3d2",
   "metadata": {},
   "outputs": [
    {
     "name": "stdout",
     "output_type": "stream",
     "text": [
      "Call of <__main__.Obj object at 0x7efe300ee650>.f(1, 2)\n",
      "Call of <__main__.Obj object at 0x7efe300ef050>.f(3, 4)\n"
     ]
    }
   ],
   "source": [
    "o1 = Obj()\n",
    "o2 = Obj()\n",
    "o1.f(1,2)\n",
    "o2.f(3,4)"
   ]
  },
  {
   "cell_type": "markdown",
   "id": "0a15d87b-6786-4b7c-af5e-92e10e40196d",
   "metadata": {},
   "source": [
    "We have already seen that there are special functions in python. A special function always starts with two \"\\_\".\n",
    "\n",
    "For example, find the following function on the integer 5: \\_\\_str\\_\\_, \\_\\_repr\\_\\_, \\_\\_int\\_\\_, \\_\\_plus\\_\\_, \\_\\_mult\\_\\_, etc ..."
   ]
  },
  {
   "cell_type": "code",
   "execution_count": 36,
   "id": "11cd03f4-95c4-4e8e-9a21-708344ac03a2",
   "metadata": {},
   "outputs": [
    {
     "data": {
      "text/plain": [
       "'5'"
      ]
     },
     "execution_count": 36,
     "metadata": {},
     "output_type": "execute_result"
    }
   ],
   "source": [
    "Five = 5\n",
    "Five.__str__()"
   ]
  },
  {
   "cell_type": "code",
   "execution_count": 37,
   "id": "252f02b6-1480-41a1-8ec3-a8410a3ba0ed",
   "metadata": {},
   "outputs": [
    {
     "data": {
      "text/plain": [
       "'5'"
      ]
     },
     "execution_count": 37,
     "metadata": {},
     "output_type": "execute_result"
    }
   ],
   "source": [
    "Five.__repr__()"
   ]
  },
  {
   "cell_type": "code",
   "execution_count": 38,
   "id": "a38e9d3d-d6f1-43e7-b5c6-0f16cdee5b3e",
   "metadata": {},
   "outputs": [],
   "source": [
    "Five.__init__()"
   ]
  },
  {
   "cell_type": "markdown",
   "id": "46371d91-39a1-4527-9bb6-12f41bd12fa8",
   "metadata": {},
   "source": [
    "Try to find in the documentation of these functions.\n",
    "\n",
    "The function **\\_\\_init\\_\\_(self, ...)** is special because this function is executed when an object is created. Usually, the attributes of the object are declared in this function.\n",
    "\n",
    "We called this function the \"constructor\" of the class."
   ]
  },
  {
   "cell_type": "code",
   "execution_count": 39,
   "id": "eee06e0c-760c-4050-bf40-4af9f1566a82",
   "metadata": {},
   "outputs": [],
   "source": [
    "class Obj:\n",
    "    def __init__(self, a):\n",
    "        self.val = a**2"
   ]
  },
  {
   "cell_type": "code",
   "execution_count": 40,
   "id": "0ed8f9e0-300e-4a8f-9ac3-24a0c98b76cb",
   "metadata": {},
   "outputs": [],
   "source": [
    "e3 = Obj(4)"
   ]
  },
  {
   "cell_type": "code",
   "execution_count": 41,
   "id": "e62c3c2f-ae9a-4b38-94f9-8146a693a188",
   "metadata": {},
   "outputs": [
    {
     "data": {
      "text/plain": [
       "16"
      ]
     },
     "execution_count": 41,
     "metadata": {},
     "output_type": "execute_result"
    }
   ],
   "source": [
    "e3.val"
   ]
  },
  {
   "cell_type": "code",
   "execution_count": 42,
   "id": "37a34798-2d56-4dd4-8224-39f9d3bb9a77",
   "metadata": {},
   "outputs": [],
   "source": [
    "e3 = Obj(2)"
   ]
  },
  {
   "cell_type": "code",
   "execution_count": 43,
   "id": "3ecffe32-5141-4ce1-836e-0fa90cd35d19",
   "metadata": {},
   "outputs": [
    {
     "data": {
      "text/plain": [
       "4"
      ]
     },
     "execution_count": 43,
     "metadata": {},
     "output_type": "execute_result"
    }
   ],
   "source": [
    "e3.val"
   ]
  },
  {
   "cell_type": "markdown",
   "id": "97b6ebcd-a254-4c43-8026-4b5fa14426d2",
   "metadata": {},
   "source": [
    "## Inheritance\n",
    "\n",
    "Sometimes, we write many times the same code. That is why we try to reduce the code to save time and to avoid having many times the same mistake.\n",
    "\n",
    "This can be done using inheritance.\n",
    "\n",
    "Suppose that we would like to implement a geometrical shape: a square, a rectangle and a convex polygon.\n",
    "Assume that we wish to implement the function *number_of_corners(self)* that returns the number of vertices located on the perimeter of the figure.\n",
    "\n",
    "We can proceed as follows:"
   ]
  },
  {
   "cell_type": "code",
   "execution_count": 44,
   "id": "c8fa096e-7335-4409-8ade-9dffc13c669b",
   "metadata": {},
   "outputs": [],
   "source": [
    "class convex_polygon:\n",
    "    def __init__( self, points ):\n",
    "        self.points = points\n",
    "    def number_of_corners(self):\n",
    "        return len(self.points)\n",
    "    \n",
    "class rectangle:\n",
    "    def __init__( self, points ):\n",
    "        self.points = points\n",
    "    def number_of_corners(self):\n",
    "        return len(self.points)\n",
    "    \n",
    "class square:\n",
    "    def __init__( self, points ):\n",
    "        self.points = points\n",
    "    def number_of_corners(self):\n",
    "        return len(self.points)"
   ]
  },
  {
   "cell_type": "markdown",
   "id": "09be0dce-b05a-43c3-8a6c-b2f29e82e8c3",
   "metadata": {},
   "source": [
    "It is clear that we can copy three time the same code.\n",
    "\n",
    "In fact, this is not necessary, because a square is a special rectangle and a rectangle is a special convex polygon.\n",
    "\n",
    "In fact, we can avoid these three copies and explain to python the relation between these three classes:"
   ]
  },
  {
   "cell_type": "code",
   "execution_count": 45,
   "id": "b60730fd-6b32-461f-9be5-ec720fd7d90c",
   "metadata": {},
   "outputs": [],
   "source": [
    "class convex_polygon:\n",
    "    def __init__( self, points ):\n",
    "        self.points = points\n",
    "    def number_of_corners(self):\n",
    "        return len(self.points)\n",
    "    \n",
    "class rectangle(convex_polygon):\n",
    "    pass\n",
    "    \n",
    "class square(rectangle):\n",
    "    pass"
   ]
  },
  {
   "cell_type": "markdown",
   "id": "68dd288e-e51e-40e3-852a-10302add9c96",
   "metadata": {},
   "source": [
    "We then say that \"square\" inherits from \"rectangle\" and that \"rectangle inherits from convex_polygon.\n",
    "\n",
    "In fact, the inheritance is transitive and so \"square\" inherits from \"convex_polygon\".\n",
    "\n",
    "More precisely, by writing the above code, when python creates an object of type \"square\", it adds automatically the functions defined in the parent classes (parent is chosen as analogy with \"inheritance\") \"square\" and \"convex_polygon\" in the object that it just created.\n",
    "\n",
    "In fact, the implementation of the function \"number_of_corners()\" was factorized in the class \"convex_polygon\"."
   ]
  },
  {
   "cell_type": "code",
   "execution_count": 46,
   "id": "7c5d8f6e-a14f-47e0-9294-649481c7a272",
   "metadata": {},
   "outputs": [],
   "source": [
    "s = square([1,2,3,4])"
   ]
  },
  {
   "cell_type": "code",
   "execution_count": 47,
   "id": "4998b13c-dfe5-46af-b19f-1d5e643eca47",
   "metadata": {},
   "outputs": [
    {
     "data": {
      "text/plain": [
       "4"
      ]
     },
     "execution_count": 47,
     "metadata": {},
     "output_type": "execute_result"
    }
   ],
   "source": [
    "s.number_of_corners()"
   ]
  },
  {
   "cell_type": "markdown",
   "id": "0e2638c9-be0c-4b95-b4e3-850a2437cb1e",
   "metadata": {},
   "source": [
    "You most probably noticed that the function \"\\_\\_init\\_\\_\" was also factorized.\n",
    "\n",
    "Nevertheless, this is not a good idea to use the same constructor for the square, the rectangle and the convex polygon.\n",
    "Effectively, we want that the square constructor raises an error if the user passes as a parameter more than 4 points.\n",
    "\n",
    "So, we will redefine the function \"\\_\\_init\\_\\_\" in square. We say that we overwrite \"\\_\\_init\\_\\_\".\n",
    "This way, the implementation of \"\\_\\_init\\_\\_\" in convex_polygon will be ignored excepted if we call it explicitely by hand.\n",
    "\n",
    "For example,"
   ]
  },
  {
   "cell_type": "code",
   "execution_count": 48,
   "id": "73801072-9e36-40e8-8432-352bd4ba6e36",
   "metadata": {},
   "outputs": [],
   "source": [
    "class convex_polygon:\n",
    "    def __init__( self, points ):\n",
    "        self.points = points\n",
    "    def number_of_corners(self):\n",
    "        return len(self.points)\n",
    "    \n",
    "class rectangle(convex_polygon):\n",
    "    pass\n",
    "\n",
    "class square(rectangle):\n",
    "    def __init__(self, points):\n",
    "        if len(points) != 4:\n",
    "            raise ValueError(\"Square should contain 4 points.\")\n",
    "        convex_polygon.__init__(self, points )"
   ]
  },
  {
   "cell_type": "code",
   "execution_count": 49,
   "id": "ce2f112b-e41c-478d-92bc-e408e7231b1a",
   "metadata": {},
   "outputs": [
    {
     "ename": "ValueError",
     "evalue": "Square should contain 4 points.",
     "output_type": "error",
     "traceback": [
      "\u001b[1;31m---------------------------------------------------------------------------\u001b[0m",
      "\u001b[1;31mValueError\u001b[0m                                Traceback (most recent call last)",
      "Cell \u001b[1;32mIn[49], line 1\u001b[0m\n\u001b[1;32m----> 1\u001b[0m s \u001b[38;5;241m=\u001b[39m \u001b[43msquare\u001b[49m\u001b[43m(\u001b[49m\u001b[43m[\u001b[49m\u001b[38;5;241;43m1\u001b[39;49m\u001b[43m,\u001b[49m\u001b[38;5;241;43m2\u001b[39;49m\u001b[43m]\u001b[49m\u001b[43m)\u001b[49m\n",
      "Cell \u001b[1;32mIn[48], line 13\u001b[0m, in \u001b[0;36msquare.__init__\u001b[1;34m(self, points)\u001b[0m\n\u001b[0;32m     11\u001b[0m \u001b[38;5;28;01mdef\u001b[39;00m \u001b[38;5;21m__init__\u001b[39m(\u001b[38;5;28mself\u001b[39m, points):\n\u001b[0;32m     12\u001b[0m     \u001b[38;5;28;01mif\u001b[39;00m \u001b[38;5;28mlen\u001b[39m(points) \u001b[38;5;241m!=\u001b[39m \u001b[38;5;241m4\u001b[39m:\n\u001b[1;32m---> 13\u001b[0m         \u001b[38;5;28;01mraise\u001b[39;00m \u001b[38;5;167;01mValueError\u001b[39;00m(\u001b[38;5;124m\"\u001b[39m\u001b[38;5;124mSquare should contain 4 points.\u001b[39m\u001b[38;5;124m\"\u001b[39m)\n\u001b[0;32m     14\u001b[0m     convex_polygon\u001b[38;5;241m.\u001b[39m\u001b[38;5;21m__init__\u001b[39m(\u001b[38;5;28mself\u001b[39m, points )\n",
      "\u001b[1;31mValueError\u001b[0m: Square should contain 4 points."
     ]
    }
   ],
   "source": [
    "s = square([1,2])"
   ]
  },
  {
   "cell_type": "code",
   "execution_count": 56,
   "id": "03b0fc33-27f8-45a1-8a57-f867e2cddedf",
   "metadata": {},
   "outputs": [],
   "source": [
    "s = square([(0,0),(1,0),(0,1),(1,1)])"
   ]
  },
  {
   "cell_type": "code",
   "execution_count": 54,
   "id": "15f4888d-8bea-435f-bf20-246813cc5ca4",
   "metadata": {},
   "outputs": [
    {
     "data": {
      "text/plain": [
       "[(0, 0), (1, 0), (0, 1), (1, 1)]"
      ]
     },
     "execution_count": 54,
     "metadata": {},
     "output_type": "execute_result"
    }
   ],
   "source": [
    "s.points"
   ]
  },
  {
   "cell_type": "markdown",
   "id": "f284a876-05ed-44a1-9358-191337c70084",
   "metadata": {},
   "source": [
    "Now, the architecture of how class seems right.\n",
    "\n",
    "This way, as soon as we add a new function in \"convex_polygon\", it will also be available for square."
   ]
  },
  {
   "cell_type": "markdown",
   "id": "48dd5d8f-8911-4c9e-b1ca-f0ebf20a3470",
   "metadata": {},
   "source": [
    "### Exercise 5: \n",
    "Well, the architecture is not as good as we say it is. Why? Modify the code to take this into account."
   ]
  },
  {
   "cell_type": "code",
   "execution_count": 66,
   "id": "57ab458f-1ba5-4865-a70d-f772ad57567a",
   "metadata": {},
   "outputs": [],
   "source": [
    "class convex_polygon:\n",
    "    def __init__( self, points ):\n",
    "        self.points = points\n",
    "    def number_of_corners(self):\n",
    "        return len(self.points)\n",
    "    \n",
    "class rectangle(convex_polygon):\n",
    "    def __init__(self, points):\n",
    "        if len(points) != 4:\n",
    "            raise ValueError(\"A rectangle should contain 4 points.\")\n",
    "        convex_polygon.__init__(self, points )\n",
    "\n",
    "class square(rectangle):\n",
    "    pass"
   ]
  },
  {
   "cell_type": "markdown",
   "id": "b65dc073-5b08-4dc0-8c41-9589d2d7d3c9",
   "metadata": {},
   "source": [
    "### Exercise 6: \n",
    "\n",
    "Write a function \"barycenter(self)\" that returns the center of gravity of the polygons."
   ]
  },
  {
   "cell_type": "code",
   "execution_count": 67,
   "id": "16e9efa6-2892-4f25-9b33-c630a9efbed2",
   "metadata": {},
   "outputs": [],
   "source": [
    "class convex_polygon:\n",
    "    def __init__( self, points ):\n",
    "        self.points = points\n",
    "    def number_of_corners(self):\n",
    "        return len(self.points)\n",
    "    \n",
    "    def barycenter(self):\n",
    "        c = [0,0]\n",
    "        for p in self.points:\n",
    "            c = [c[0]+p[0],c[1]+p[1]]\n",
    "        return [c[0]/self.number_of_corners(),c[1]/self.number_of_corners()]\n",
    "    \n",
    "class rectangle(convex_polygon):\n",
    "    def __init__(self, points):\n",
    "        if len(points) != 4:\n",
    "            raise ValueError(\"A rectangle should contain 4 points.\")\n",
    "        convex_polygon.__init__(self, points )\n",
    "\n",
    "class square(rectangle):\n",
    "    pass"
   ]
  },
  {
   "cell_type": "markdown",
   "id": "7960be9e-4786-428f-9072-55670621de83",
   "metadata": {},
   "source": [
    "### Exercise 7:\n",
    "\n",
    "Verify that you get (0.5,0.5) as the barycenter of the unit square:"
   ]
  },
  {
   "cell_type": "code",
   "execution_count": 68,
   "id": "7d622117-ee89-4463-a7d6-ad5c9cec4fca",
   "metadata": {},
   "outputs": [
    {
     "data": {
      "text/plain": [
       "[(0, 0), (1, 0), (0, 1), (1, 1)]"
      ]
     },
     "execution_count": 68,
     "metadata": {},
     "output_type": "execute_result"
    }
   ],
   "source": [
    "s = square([(0,0),(1,0),(0,1),(1,1)]);s.points"
   ]
  },
  {
   "cell_type": "code",
   "execution_count": 69,
   "id": "17f52476-edb8-4ec4-a9ef-d248ea266e7a",
   "metadata": {},
   "outputs": [
    {
     "data": {
      "text/plain": [
       "[0.5, 0.5]"
      ]
     },
     "execution_count": 69,
     "metadata": {},
     "output_type": "execute_result"
    }
   ],
   "source": [
    "s.barycenter()"
   ]
  }
 ],
 "metadata": {
  "kernelspec": {
   "display_name": "Python 3",
   "language": "python",
   "name": "python3"
  },
  "language_info": {
   "codemirror_mode": {
    "name": "ipython",
    "version": 3
   },
   "file_extension": ".py",
   "mimetype": "text/x-python",
   "name": "python",
   "nbconvert_exporter": "python",
   "pygments_lexer": "ipython3",
   "version": "3.11.8"
  }
 },
 "nbformat": 4,
 "nbformat_minor": 5
}
