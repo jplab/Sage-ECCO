{
 "cells": [
  {
   "cell_type": "markdown",
   "id": "12ce34f3-f8ed-4372-814c-98c57118e7a8",
   "metadata": {},
   "source": [
    "# Combina-Torics\n",
    "\n",
    "## Review of last week:\n",
    "\n",
    "Last week, you played with polytopes, and you discovered that for simplicial polytopes, you can obtain the $h$- and $g$-vectors:"
   ]
  },
  {
   "cell_type": "code",
   "execution_count": null,
   "id": "5f6d436c-86e4-4d45-849b-ece67caae0cc",
   "metadata": {},
   "outputs": [],
   "source": [
    "Oc = polytopes.octahedron();Oc"
   ]
  },
  {
   "cell_type": "code",
   "execution_count": null,
   "id": "6c9c6808-6f5e-4fda-9556-f803dac6ac00",
   "metadata": {},
   "outputs": [],
   "source": [
    "BC = Oc.boundary_complex();BC"
   ]
  },
  {
   "cell_type": "markdown",
   "id": "d6471286-93cd-4f39-8b3b-8e9871f4fe2a",
   "metadata": {},
   "source": [
    "We can then compute its homology:"
   ]
  },
  {
   "cell_type": "code",
   "execution_count": null,
   "id": "977e1b2b-f68b-417f-8892-fcf7db331214",
   "metadata": {},
   "outputs": [],
   "source": [
    "BC.homology()"
   ]
  },
  {
   "cell_type": "markdown",
   "id": "a0569138-e5d2-41a9-913e-a9fc6ba56b5b",
   "metadata": {},
   "source": [
    "## Exercice 1 (slight diversion towards Poincaré's conjecture):\n",
    "\n",
    "Triangulate the torus and create the corresponding simplicial complex and compute its homology and compare it with that of the octahedron:"
   ]
  },
  {
   "cell_type": "code",
   "execution_count": null,
   "id": "ce10dedf-0d26-4a38-8d59-dcd21fab3136",
   "metadata": {
    "scrolled": true
   },
   "outputs": [],
   "source": [
    "torus = "
   ]
  },
  {
   "cell_type": "code",
   "execution_count": null,
   "id": "d55b8cd5-1bfb-4df9-9bf3-a92d0b956f99",
   "metadata": {},
   "outputs": [],
   "source": []
  },
  {
   "cell_type": "code",
   "execution_count": null,
   "id": "edbf8146-383f-4cdd-90e1-81bffb4bcaee",
   "metadata": {},
   "outputs": [],
   "source": []
  },
  {
   "cell_type": "code",
   "execution_count": null,
   "id": "28deeff7-3ed4-42e1-be83-b516d788e397",
   "metadata": {},
   "outputs": [],
   "source": []
  },
  {
   "cell_type": "code",
   "execution_count": null,
   "id": "da6f38ca-543f-4788-b018-ffd3fe70a406",
   "metadata": {},
   "outputs": [],
   "source": []
  },
  {
   "cell_type": "code",
   "execution_count": null,
   "id": "704c407a-a914-4572-97b8-f0939baf25dc",
   "metadata": {},
   "outputs": [],
   "source": []
  },
  {
   "cell_type": "code",
   "execution_count": null,
   "id": "de611098-9eb1-403f-afab-cac98e04e457",
   "metadata": {},
   "outputs": [],
   "source": []
  },
  {
   "cell_type": "code",
   "execution_count": null,
   "id": "77b1a4a5-75a8-4306-924f-3947d8584242",
   "metadata": {},
   "outputs": [],
   "source": []
  },
  {
   "cell_type": "code",
   "execution_count": null,
   "id": "db999290-4a10-4bad-9655-a6c660df893b",
   "metadata": {},
   "outputs": [],
   "source": []
  },
  {
   "cell_type": "code",
   "execution_count": null,
   "id": "38970945-c730-4228-b495-5dafc5c9312f",
   "metadata": {},
   "outputs": [],
   "source": []
  },
  {
   "cell_type": "code",
   "execution_count": null,
   "id": "a47eb3a3-e7a5-478f-9fc9-c9e13c92f531",
   "metadata": {},
   "outputs": [],
   "source": []
  },
  {
   "cell_type": "markdown",
   "id": "3a100952-9617-4033-99fa-b2c0c3fd91e1",
   "metadata": {},
   "source": [
    "After a while... you realize that there is a family of simplicial complexes in Sage!"
   ]
  },
  {
   "cell_type": "code",
   "execution_count": null,
   "id": "7c14f4ab-42da-4364-9286-7ee84875f9da",
   "metadata": {},
   "outputs": [],
   "source": [
    "t = simplicial_complexes.Torus()"
   ]
  },
  {
   "cell_type": "code",
   "execution_count": null,
   "id": "36e839b1-3deb-418d-a1c1-7239130b02f8",
   "metadata": {},
   "outputs": [],
   "source": [
    "t.homology()"
   ]
  },
  {
   "cell_type": "markdown",
   "id": "10d37031-ffa9-4041-bd76-fb06639e2e25",
   "metadata": {},
   "source": [
    "There is a very special sphere called the Poincaré Homology 3-sphere:"
   ]
  },
  {
   "cell_type": "code",
   "execution_count": null,
   "id": "cb01bc26-5c20-4aeb-8241-a7aac73b7e24",
   "metadata": {},
   "outputs": [],
   "source": [
    "PHTS = simplicial_complexes.PoincareHomologyThreeSphere()"
   ]
  },
  {
   "cell_type": "code",
   "execution_count": null,
   "id": "5504d507-63b3-461e-9a9e-554c51d4fbc0",
   "metadata": {},
   "outputs": [],
   "source": [
    "PHTS.homology()"
   ]
  },
  {
   "cell_type": "markdown",
   "id": "6c1ce48d-d0fc-4d78-a68c-f2372684b95c",
   "metadata": {},
   "source": [
    "Hmmm it looks like it has the homology of a sphere! So... is it a sphere?"
   ]
  },
  {
   "cell_type": "code",
   "execution_count": null,
   "id": "9d010a16-ca1a-49bc-a1c6-723b7e89f969",
   "metadata": {},
   "outputs": [],
   "source": [
    "S3 = simplicial_complexes.Sphere(3)"
   ]
  },
  {
   "cell_type": "code",
   "execution_count": null,
   "id": "ad26bd2b-05ce-4c14-8bd8-f046cc1cd687",
   "metadata": {},
   "outputs": [],
   "source": [
    "S3.fundamental_group()"
   ]
  },
  {
   "cell_type": "markdown",
   "id": "308d3f1a-aa10-42d8-990b-31679a97b19f",
   "metadata": {},
   "source": [
    "The sphere has a trivial fundamental group... But..."
   ]
  },
  {
   "cell_type": "code",
   "execution_count": null,
   "id": "9cb8ea72-6d46-4afc-8fdc-5ba4c34221cd",
   "metadata": {},
   "outputs": [],
   "source": [
    "PHTS.fundamental_group()"
   ]
  },
  {
   "cell_type": "markdown",
   "id": "bec4c723-6a73-4b3b-a938-c5e55a52501f",
   "metadata": {},
   "source": [
    "SOOO!!!! Homology alone does not capture the essence of homeomorphism of varieties!"
   ]
  },
  {
   "cell_type": "markdown",
   "id": "d3c3c199-1d4e-4e2c-91c6-48662d79494c",
   "metadata": {},
   "source": [
    "## Coming back to simplicial spheres:"
   ]
  },
  {
   "cell_type": "code",
   "execution_count": null,
   "id": "38925aab-f137-47d2-817f-25bc02c194ff",
   "metadata": {},
   "outputs": [],
   "source": [
    "BC.h_vector()"
   ]
  },
  {
   "cell_type": "code",
   "execution_count": null,
   "id": "5a0f0e8c-71ac-4f1a-94ef-030f182c51e9",
   "metadata": {},
   "outputs": [],
   "source": [
    "BC.g_vector()"
   ]
  },
  {
   "cell_type": "markdown",
   "id": "23428cbb-a4ec-45d5-863b-97f59365d444",
   "metadata": {},
   "source": [
    "We can then get the Stanley-Riesner ring this way:"
   ]
  },
  {
   "cell_type": "code",
   "execution_count": null,
   "id": "719bd4c1-3f5b-4239-84bf-7fccfc917ad3",
   "metadata": {},
   "outputs": [],
   "source": [
    "SRR = BC.stanley_reisner_ring(base_ring=QQ)"
   ]
  },
  {
   "cell_type": "markdown",
   "id": "978c9e84-842b-42ab-a3c1-ef3bca6994cb",
   "metadata": {},
   "source": [
    "The great thing here is that the generator provide the minimal non-faces:"
   ]
  },
  {
   "cell_type": "code",
   "execution_count": null,
   "id": "a8103bef-243d-45d6-b650-e0eeeec27a68",
   "metadata": {},
   "outputs": [],
   "source": [
    "BC.minimal_nonfaces()"
   ]
  },
  {
   "cell_type": "code",
   "execution_count": null,
   "id": "70db0efd-bd2c-4fee-a6c1-001e9b41faf3",
   "metadata": {},
   "outputs": [],
   "source": [
    "SRR.defining_ideal().gens()"
   ]
  },
  {
   "cell_type": "code",
   "execution_count": null,
   "id": "6a6310dc-7249-4353-9eb2-aba271dbc7f1",
   "metadata": {},
   "outputs": [],
   "source": [
    "I = SRR.defining_ideal();I"
   ]
  },
  {
   "cell_type": "code",
   "execution_count": null,
   "id": "62c34f77-58c6-4644-a694-aa9c45b49d94",
   "metadata": {},
   "outputs": [],
   "source": [
    "Resolution = I.free_resolution();Resolution"
   ]
  },
  {
   "cell_type": "markdown",
   "id": "cca77674-7675-4d6c-9663-4ddc10a88562",
   "metadata": {},
   "source": [
    "You can get the i-differential maps of the free resolution:"
   ]
  },
  {
   "cell_type": "code",
   "execution_count": null,
   "id": "d59cfb45-97df-47b0-b184-db903afdb8ab",
   "metadata": {},
   "outputs": [],
   "source": [
    "Resolution.differential(0)"
   ]
  },
  {
   "cell_type": "code",
   "execution_count": null,
   "id": "b84b720b-36d1-40c5-b924-1feb5f56d2d1",
   "metadata": {},
   "outputs": [],
   "source": [
    "Resolution.differential(1)"
   ]
  },
  {
   "cell_type": "code",
   "execution_count": null,
   "id": "a95e8b88-9dbc-44c9-963e-d9cde5b1adf1",
   "metadata": {},
   "outputs": [],
   "source": [
    "Resolution.differential(2)"
   ]
  },
  {
   "cell_type": "markdown",
   "id": "ff3b563f-da7b-4ace-bb5f-8f2fc20683ee",
   "metadata": {},
   "source": [
    "You can also get it in the form of the matrix:"
   ]
  },
  {
   "cell_type": "code",
   "execution_count": null,
   "id": "2c3aeb58-942d-4734-b2b6-2f4aa494705b",
   "metadata": {},
   "outputs": [],
   "source": [
    "Resolution.matrix(2)"
   ]
  },
  {
   "cell_type": "markdown",
   "id": "9d4e794e-e23a-4ea0-9ebe-64f81868261c",
   "metadata": {},
   "source": [
    "You can also get the chain complex:"
   ]
  },
  {
   "cell_type": "code",
   "execution_count": null,
   "id": "a88c5819-9c9b-4d55-b174-59835da21786",
   "metadata": {},
   "outputs": [],
   "source": [
    "CC = Resolution.chain_complex();CC"
   ]
  },
  {
   "cell_type": "code",
   "execution_count": null,
   "id": "c3cbd379-db36-4e9a-8a70-61751c2fe53a",
   "metadata": {},
   "outputs": [],
   "source": [
    "ascii_art(CC)"
   ]
  },
  {
   "cell_type": "markdown",
   "id": "585d1e5a-e37e-4f0e-8bd6-5ade6014e84f",
   "metadata": {},
   "source": [
    "Going back to the resolution, what do you notice with the dimension of the modules?"
   ]
  },
  {
   "cell_type": "code",
   "execution_count": null,
   "id": "1bc3a6ee-906a-49a2-9b48-cab38f876c00",
   "metadata": {},
   "outputs": [],
   "source": [
    "Resolution"
   ]
  },
  {
   "cell_type": "code",
   "execution_count": null,
   "id": "243123e8-c593-4213-8251-0dae4bc4a88d",
   "metadata": {},
   "outputs": [],
   "source": [
    "BC.h_vector()"
   ]
  },
  {
   "cell_type": "markdown",
   "id": "610ed777-458e-49dc-a7e5-89af188bc90d",
   "metadata": {},
   "source": [
    "Try this out with your favorite (simplicial!) polytope:"
   ]
  },
  {
   "cell_type": "code",
   "execution_count": null,
   "id": "a37dc0cc-7318-4091-affe-55d3bc045161",
   "metadata": {},
   "outputs": [],
   "source": [
    "P = polytopes.XXXXXXXXXXXXXXXXXXXX <----- Enter your polytope here\n",
    "BC = \n",
    "print(BC.h_vector())\n",
    "SRR = BC.stanley_reisner_ring(base_ring=QQ)\n",
    "I = SRR.defining_ideal()\n",
    "FR = I.free_resolution()\n",
    "print(FR)"
   ]
  },
  {
   "cell_type": "markdown",
   "id": "7613d6b0-2a2a-4301-b08d-e381af403d30",
   "metadata": {},
   "source": [
    "## Now, moving on to lattice polytopes and fans!!!\n",
    "\n",
    "Actually, when we talk about toric varieties associated to polytopes, algebraic geometers only really look at the face fan, or dually (or polarly) at the normal fan..."
   ]
  },
  {
   "cell_type": "code",
   "execution_count": null,
   "id": "bd49c33e-1952-4d49-9be3-931a58631c15",
   "metadata": {},
   "outputs": [],
   "source": [
    "NF = Oc.face_fan()"
   ]
  },
  {
   "cell_type": "markdown",
   "id": "bbb668b8-d881-4364-88fd-6d6e59d713a7",
   "metadata": {},
   "source": [
    "You can then ask whether it is smooth (essentially, checking whether the polar of the polytope you had was simple). In other words, checking whether the fan is smooth is equivalent to check whether it is simplicial..."
   ]
  },
  {
   "cell_type": "code",
   "execution_count": null,
   "id": "f6f79b30-c208-488d-a484-be06eed937a1",
   "metadata": {},
   "outputs": [],
   "source": [
    "NF.is_smooth()"
   ]
  },
  {
   "cell_type": "markdown",
   "id": "f8646b69-5d31-49ad-a423-7cc74822edec",
   "metadata": {},
   "source": [
    "Finally, you can obtain the toric variety:"
   ]
  },
  {
   "cell_type": "code",
   "execution_count": null,
   "id": "8df038ca-d166-4854-b84f-f0a889afda8e",
   "metadata": {},
   "outputs": [],
   "source": [
    "TV = NF.toric_variety()"
   ]
  },
  {
   "cell_type": "code",
   "execution_count": null,
   "id": "0a51ae9e-d550-48db-ab03-fdf28e87aa3c",
   "metadata": {},
   "outputs": [],
   "source": [
    "CB = TV.cohomology_basis();CB"
   ]
  },
  {
   "cell_type": "markdown",
   "id": "f57b5c0e-d8cb-4f25-96a9-fce530159abc",
   "metadata": {},
   "source": [
    "Does something look familar?"
   ]
  },
  {
   "cell_type": "code",
   "execution_count": null,
   "id": "1a97251d-46df-411e-a14a-d9eebfd44a72",
   "metadata": {},
   "outputs": [],
   "source": [
    "CR = TV.cohomology_ring()"
   ]
  },
  {
   "cell_type": "markdown",
   "id": "18323f17-d932-4250-96cc-7c3bcb0a0493",
   "metadata": {},
   "source": [
    "The defining ideal also recovers very important information about the combinatorics of the fan/polytope:"
   ]
  },
  {
   "cell_type": "code",
   "execution_count": null,
   "id": "e96e09c1-61b7-4b64-b9fc-205c11f9694a",
   "metadata": {},
   "outputs": [],
   "source": [
    "CR.defining_ideal()"
   ]
  },
  {
   "cell_type": "markdown",
   "id": "64645911-5399-4aba-89a0-04194ee60b4f",
   "metadata": {},
   "source": [
    "### Exercice 2: construct a (small) simplicial polytope and compute by hand:\n",
    "\n",
    "1) it's $f$- and $h$-vector\n",
    "2) the Stanley-Reisner ideal\n",
    "\n",
    "Then,\n",
    "\n",
    "1) verify your computation using the above worksheet.\n",
    "2) Obtain the toric variety afterwards"
   ]
  }
 ],
 "metadata": {
  "kernelspec": {
   "display_name": "SageMath 10.4.beta6",
   "language": "sage",
   "name": "sagemath"
  },
  "language_info": {
   "codemirror_mode": {
    "name": "ipython",
    "version": 3
   },
   "file_extension": ".py",
   "mimetype": "text/x-python",
   "name": "python",
   "nbconvert_exporter": "python",
   "pygments_lexer": "ipython3",
   "version": "3.11.2"
  }
 },
 "nbformat": 4,
 "nbformat_minor": 5
}
