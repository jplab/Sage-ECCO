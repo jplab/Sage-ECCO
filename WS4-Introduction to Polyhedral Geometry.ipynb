{
 "cells": [
  {
   "cell_type": "markdown",
   "metadata": {
    "slideshow": {
     "slide_type": "slide"
    }
   },
   "source": [
    "# Introduction to Combinatorial and Polyhedral Geometry in Sage"
   ]
  },
  {
   "cell_type": "markdown",
   "metadata": {},
   "source": [
    "## Important pages available online:"
   ]
  },
  {
   "cell_type": "markdown",
   "metadata": {},
   "source": [
    "- General Page: https://doc.sagemath.org/html/en/reference/discrete_geometry/index.html\n",
    "- Thematic Tutorials: https://doc.sagemath.org/html/en/thematic_tutorials/geometry.html"
   ]
  },
  {
   "cell_type": "markdown",
   "metadata": {
    "slideshow": {
     "slide_type": "slide"
    }
   },
   "source": [
    "## The Basics: $V$-representation\n",
    "\n",
    "First, let’s define a polyhedron object as the convex hull of a set of points and some rays."
   ]
  },
  {
   "cell_type": "code",
   "execution_count": null,
   "metadata": {},
   "outputs": [],
   "source": [
    "P1 = Polyhedron(vertices=[[2, 0], [0, 2]], rays=[[1, 1]], base_ring=ZZ); P1"
   ]
  },
  {
   "cell_type": "markdown",
   "metadata": {
    "slideshow": {
     "slide_type": "subslide"
    }
   },
   "source": [
    "### The string representation already gives a lot of information:\n",
    "\n",
    "* the **dimension** of the polyhedron (the smallest affine space containing it)\n",
    "* the **dimension of the space** in which it is defined\n",
    "* the **base ring** ($\\mathbb{Z}$) over which the polyhedron lives (this specifies the parent class)\n",
    "* the **number of vertices**\n",
    "* the **number of rays**"
   ]
  },
  {
   "cell_type": "markdown",
   "metadata": {},
   "source": [
    "#### The usual tab completion shows us everything we can do:"
   ]
  },
  {
   "cell_type": "code",
   "execution_count": null,
   "metadata": {
    "scrolled": true
   },
   "outputs": [],
   "source": [
    "P1."
   ]
  },
  {
   "cell_type": "markdown",
   "metadata": {},
   "source": [
    "We can for example check whether it is a polytope (being compact):"
   ]
  },
  {
   "cell_type": "code",
   "execution_count": null,
   "metadata": {},
   "outputs": [],
   "source": [
    "P1.is_compact()"
   ]
  },
  {
   "cell_type": "markdown",
   "metadata": {},
   "source": [
    "The $V$-representation is then:"
   ]
  },
  {
   "cell_type": "code",
   "execution_count": null,
   "metadata": {},
   "outputs": [],
   "source": [
    "P1.Vrepresentation()"
   ]
  },
  {
   "cell_type": "markdown",
   "metadata": {
    "slideshow": {
     "slide_type": "subslide"
    }
   },
   "source": [
    "### We can also add a lineality space."
   ]
  },
  {
   "cell_type": "code",
   "execution_count": null,
   "metadata": {},
   "outputs": [],
   "source": [
    "P2 = Polyhedron(vertices=[[0.5, 0, 0], [0, 0.5, 0]], rays=[[1, 1, 0]], lines=[[0, 0, 1]]);P2"
   ]
  },
  {
   "cell_type": "code",
   "execution_count": null,
   "metadata": {
    "scrolled": true
   },
   "outputs": [],
   "source": [
    "P2.plot()"
   ]
  },
  {
   "cell_type": "code",
   "execution_count": null,
   "metadata": {},
   "outputs": [],
   "source": [
    "P2.Vrepresentation()"
   ]
  },
  {
   "cell_type": "markdown",
   "metadata": {
    "slideshow": {
     "slide_type": "subslide"
    }
   },
   "source": [
    "### The objects have a specific parent (base ring) and a specific backend"
   ]
  },
  {
   "cell_type": "code",
   "execution_count": null,
   "metadata": {},
   "outputs": [],
   "source": [
    "P1.parent(), P1.backend()"
   ]
  },
  {
   "cell_type": "code",
   "execution_count": null,
   "metadata": {},
   "outputs": [],
   "source": [
    "P2.parent(), P2.backend()"
   ]
  },
  {
   "cell_type": "markdown",
   "metadata": {},
   "source": [
    "The parent information gives the \"category\" that `P1` belongs to, and helps determine which methods can be computed and which algorithms Sage can use on them. The `backend` is essentially the software used by sage to do most of the computations for this object."
   ]
  },
  {
   "cell_type": "markdown",
   "metadata": {},
   "source": [
    "### These two (base ring & backend) determine which methods and algorithms are available/used (the default being `ppl`)."
   ]
  },
  {
   "cell_type": "markdown",
   "metadata": {
    "slideshow": {
     "slide_type": "subslide"
    }
   },
   "source": [
    "## $H$-representation\n",
    "\n",
    "A **$\\mathbf{H}$-polyhedron** is a subset $P$ of $\\mathbb{R}^d$ where $P$ is given by a system of linear inequalities $P = \\left\\{x : Ax \\geq b\\right\\}$.\n",
    "\n",
    "In order to create a polyhedron for hyperplanes, we need tell sage the hyperplanes. For this we pass into sage a list $[b, a_1, a_2, \\ldots, a_n]$ where $(a_1, a_2, \\ldots, a_n) x + b \\geq 0$. **Notice here that $b$ changes sign**. Let's look at an example.\n",
    "\n",
    "In the example below, $H_1$ represents the hyperplane $1x_1 -x_2 \\geq -2$. To work with sage, we move the $-2$ over and convert $x_1$ and $x_2$ into a column vector $x$ to get $(1, -1)x +2 \\geq 0$ giving us the list $\\left[2, 1, -1\\right]$.\n",
    "\n",
    "If a polyhedron object was constructed via a $V$-representation, Sage can provide the $H$-representation of the object."
   ]
  },
  {
   "cell_type": "code",
   "execution_count": null,
   "metadata": {},
   "outputs": [],
   "source": [
    "for h in P1.Hrepresentation():\n",
    "    print(h)"
   ]
  },
  {
   "cell_type": "markdown",
   "metadata": {},
   "source": [
    "We can then verify that both inputs gave the same objects"
   ]
  },
  {
   "cell_type": "code",
   "execution_count": null,
   "metadata": {},
   "outputs": [],
   "source": [
    "newP1 = Polyhedron(ieqs=[[2,1,-1],[-2,1,1],[2,-1,1]]); newP1 == P1"
   ]
  },
  {
   "cell_type": "markdown",
   "metadata": {},
   "source": [
    "In order to know more about how to create a polyhedron and all the possible options, we use `?`:"
   ]
  },
  {
   "cell_type": "code",
   "execution_count": null,
   "metadata": {
    "scrolled": true
   },
   "outputs": [],
   "source": [
    "Polyhedron?"
   ]
  },
  {
   "cell_type": "markdown",
   "metadata": {
    "slideshow": {
     "slide_type": "slide"
    }
   },
   "source": [
    "## A large library of precomputed polytopes:\n",
    "\n",
    "You can see the list of all the precomputed examples of polytopes on the webpage:\n",
    "\n",
    "http://doc.sagemath.org/html/en/reference/discrete_geometry/sage/geometry/polyhedron/library.html\n",
    "\n",
    "or use `TAB` completion on the library: `polytopes.`"
   ]
  },
  {
   "cell_type": "code",
   "execution_count": null,
   "metadata": {},
   "outputs": [],
   "source": [
    "polytopes."
   ]
  },
  {
   "cell_type": "markdown",
   "metadata": {},
   "source": [
    "Here are polytopes that we dealt with in the courses:\n",
    "\n",
    "+ Standard simplices\n",
    "+ Cross-polytopes\n",
    "+ Hypercubes\n",
    "+ Hypersimplices\n",
    "+ Cyclic polytopes\n",
    "+ etc.\n",
    "\n",
    "and how to get them:"
   ]
  },
  {
   "cell_type": "code",
   "execution_count": null,
   "metadata": {},
   "outputs": [],
   "source": [
    "simplex = polytopes.simplex(3);print(simplex)\n",
    "cross = polytopes.cross_polytope(3);print(cross)\n",
    "hyperc = polytopes.hypercube(4);print(hyperc)\n",
    "hypers = polytopes.hypersimplex(6,3);print(hypers)\n",
    "cyclic = polytopes.cyclic_polytope(4,8);print(cyclic)"
   ]
  },
  {
   "cell_type": "markdown",
   "metadata": {
    "slideshow": {
     "slide_type": "slide"
    }
   },
   "source": [
    "## Representation objects are classes too!\n",
    "\n",
    "Sage has classes implemented for $H$- and $V$-representations and faces of polyhedron."
   ]
  },
  {
   "cell_type": "markdown",
   "metadata": {},
   "source": [
    "### $H$-representation\n",
    "\n",
    "You can store the $H$-representation in a variable and use the inequalities and equalities as objects."
   ]
  },
  {
   "cell_type": "code",
   "execution_count": null,
   "metadata": {},
   "outputs": [],
   "source": [
    "HRep = P2.Hrepresentation()"
   ]
  },
  {
   "cell_type": "code",
   "execution_count": null,
   "metadata": {},
   "outputs": [],
   "source": [
    "H1 = HRep[0]; H1"
   ]
  },
  {
   "cell_type": "markdown",
   "metadata": {},
   "source": [
    "You can get back the vector and right-hand side:"
   ]
  },
  {
   "cell_type": "code",
   "execution_count": null,
   "metadata": {},
   "outputs": [],
   "source": [
    "H1.A(), H1.b()"
   ]
  },
  {
   "cell_type": "markdown",
   "metadata": {},
   "source": [
    "You can also obtain the inequality as a polyhedron object itself:"
   ]
  },
  {
   "cell_type": "code",
   "execution_count": null,
   "metadata": {},
   "outputs": [],
   "source": [
    "H1.polyhedron()"
   ]
  },
  {
   "cell_type": "markdown",
   "metadata": {
    "slideshow": {
     "slide_type": "subslide"
    }
   },
   "source": [
    "### $V$-representation\n",
    "\n",
    "Similarly, you can access vertices, rays and lines of the polyhedron."
   ]
  },
  {
   "cell_type": "code",
   "execution_count": null,
   "metadata": {},
   "outputs": [],
   "source": [
    "VRep = P2.Vrepresentation(); VRep"
   ]
  },
  {
   "cell_type": "code",
   "execution_count": null,
   "metadata": {},
   "outputs": [],
   "source": [
    "L = VRep[0]; L"
   ]
  },
  {
   "cell_type": "code",
   "execution_count": null,
   "metadata": {},
   "outputs": [],
   "source": [
    "list(L.neighbors())"
   ]
  },
  {
   "cell_type": "markdown",
   "metadata": {},
   "source": [
    "### Faces:"
   ]
  },
  {
   "cell_type": "code",
   "execution_count": null,
   "metadata": {},
   "outputs": [],
   "source": [
    "aface = P1.faces(1)[1]; aface"
   ]
  },
  {
   "cell_type": "markdown",
   "metadata": {},
   "source": [
    "You can get the indices of the vertices that belong to a certain face:"
   ]
  },
  {
   "cell_type": "code",
   "execution_count": null,
   "metadata": {},
   "outputs": [],
   "source": [
    "aface.ambient_V_indices()"
   ]
  },
  {
   "cell_type": "markdown",
   "metadata": {},
   "source": [
    "And you can examine all the possibilities using again the tab completion on `aface` to see all that Sage offers on that face!\n",
    "\n",
    "You can get the face lattice this way:"
   ]
  },
  {
   "cell_type": "code",
   "execution_count": null,
   "metadata": {},
   "outputs": [],
   "source": [
    "P1.face_lattice()"
   ]
  },
  {
   "cell_type": "markdown",
   "metadata": {
    "slideshow": {
     "slide_type": "slide"
    }
   },
   "source": [
    "## The algebra of polytopes: classical operations"
   ]
  },
  {
   "cell_type": "markdown",
   "metadata": {},
   "source": [
    "### Polar and Dilation"
   ]
  },
  {
   "cell_type": "code",
   "execution_count": null,
   "metadata": {},
   "outputs": [],
   "source": [
    "Cube = polytopes.cube()             # [-1,1]-cube\n",
    "Octahedron = 3/2 * Cube.polar()     # Dilation"
   ]
  },
  {
   "cell_type": "markdown",
   "metadata": {},
   "source": [
    "Dilation is especially important when studying Ehrhart theory!\n",
    "Examine the following example:"
   ]
  },
  {
   "cell_type": "code",
   "execution_count": null,
   "metadata": {},
   "outputs": [],
   "source": [
    "Cube.integral_points_count() # That is because it is the [-1,1] cube"
   ]
  },
  {
   "cell_type": "markdown",
   "metadata": {},
   "source": [
    "To get the [0,1] hypercubes, we do:"
   ]
  },
  {
   "cell_type": "code",
   "execution_count": null,
   "metadata": {},
   "outputs": [],
   "source": [
    "hc = polytopes.hypercube(3,intervals='zero_one');hc"
   ]
  },
  {
   "cell_type": "code",
   "execution_count": null,
   "metadata": {},
   "outputs": [],
   "source": [
    "hc.integral_points_count()"
   ]
  },
  {
   "cell_type": "code",
   "execution_count": null,
   "metadata": {},
   "outputs": [],
   "source": [
    "[(k*hc).integral_points_count() for k in range(5)]"
   ]
  },
  {
   "cell_type": "code",
   "execution_count": null,
   "metadata": {},
   "outputs": [],
   "source": [
    "(hc.plot(opacity=0.5)+(2*hc).plot(opacity=0.5)+(3*hc).plot(opacity=0.5))"
   ]
  },
  {
   "cell_type": "markdown",
   "metadata": {},
   "source": [
    "We can verify that evaluating the ehrhart polynomial gives the same (as it should!):"
   ]
  },
  {
   "cell_type": "code",
   "execution_count": null,
   "metadata": {},
   "outputs": [],
   "source": [
    "[hc.ehrhart_polynomial()(k) for k in range(5)]"
   ]
  },
  {
   "cell_type": "markdown",
   "metadata": {},
   "source": [
    "### Minkowski sum"
   ]
  },
  {
   "cell_type": "code",
   "execution_count": null,
   "metadata": {},
   "outputs": [],
   "source": [
    "Cuboctahedron = Cube + Octahedron   # Minkowski sum\n",
    "Cuboctahedron.show()"
   ]
  },
  {
   "cell_type": "markdown",
   "metadata": {
    "slideshow": {
     "slide_type": "subslide"
    }
   },
   "source": [
    "### Minkowski difference (when it makes sense)"
   ]
  },
  {
   "cell_type": "code",
   "execution_count": null,
   "metadata": {
    "scrolled": true
   },
   "outputs": [],
   "source": [
    "Mdiff = Cuboctahedron - Cube        # Minkowski difference\n",
    "Mdiff.plot()"
   ]
  },
  {
   "cell_type": "markdown",
   "metadata": {
    "slideshow": {
     "slide_type": "subslide"
    }
   },
   "source": [
    "### Intersection"
   ]
  },
  {
   "cell_type": "code",
   "execution_count": null,
   "metadata": {},
   "outputs": [],
   "source": [
    "Permu = Cube & Octahedron           # Intersection, same as   Cube.intersection(Octahedron)\n",
    "Permu.show(opacity=0.5)"
   ]
  },
  {
   "cell_type": "markdown",
   "metadata": {
    "slideshow": {
     "slide_type": "subslide"
    }
   },
   "source": [
    "### Cartesian product"
   ]
  },
  {
   "cell_type": "code",
   "execution_count": null,
   "metadata": {
    "scrolled": true
   },
   "outputs": [],
   "source": [
    "CP = Cube * Octahedron; CP          # Cartesian product"
   ]
  },
  {
   "cell_type": "code",
   "execution_count": null,
   "metadata": {},
   "outputs": [],
   "source": [
    "CP.f_vector()"
   ]
  },
  {
   "cell_type": "markdown",
   "metadata": {},
   "source": [
    "## Transformations of polytopes\n",
    "\n",
    "It is possible to do many operations on polytopes that alter them."
   ]
  },
  {
   "cell_type": "markdown",
   "metadata": {
    "slideshow": {
     "slide_type": "subslide"
    }
   },
   "source": [
    "### Affine transformation through coersion"
   ]
  },
  {
   "cell_type": "markdown",
   "metadata": {},
   "source": [
    "It is possible to transform a polyhedron $P$ using an affince transformation: $T\\cdot P + v$ where $T$ is a matrix and $v$ is a vector:"
   ]
  },
  {
   "cell_type": "code",
   "execution_count": null,
   "metadata": {},
   "outputs": [],
   "source": [
    "zo_cube = polytopes.cube(intervals='zero_one').change_ring(QQ) # (0,1) 3-d cube\n",
    "transformation = matrix(AA,[[1,sqrt(2),sqrt(3)],[0,1,sqrt(5)],[0,0,1]])\n",
    "skew_cube = (transformation * zo_cube) + vector([0,0,1/2])   # affinely transformed\n",
    "skew_cube.plot(color='blue',opacity=0.75) + zo_cube.plot(color='red',opacity=0.75)"
   ]
  },
  {
   "cell_type": "code",
   "execution_count": null,
   "metadata": {
    "scrolled": true,
    "slideshow": {
     "slide_type": "subslide"
    }
   },
   "outputs": [],
   "source": [
    "print(\"The cube base ring is: {}\".format(zo_cube.base_ring()))\n",
    "print(\"The skew cube base ring is: {}\\n\".format(skew_cube.base_ring()))\n",
    "print(\"The cube backend is: {}\".format(zo_cube.backend()))\n",
    "print(\"The skew cube backend is: {}\".format(skew_cube.backend()))"
   ]
  },
  {
   "cell_type": "markdown",
   "metadata": {},
   "source": [
    "### Truncation:"
   ]
  },
  {
   "cell_type": "code",
   "execution_count": null,
   "metadata": {},
   "outputs": [],
   "source": [
    "a_vertex = Cube.faces(0)[0] # I am choosing\n",
    "Vtrunc_Cube = Cube.face_truncation(a_vertex) # This operation chops a vertex from the polytope\n",
    "Vtrunc_Cube.plot()"
   ]
  },
  {
   "cell_type": "markdown",
   "metadata": {},
   "source": [
    "### Face split\n",
    "\n",
    "This increases the dimension of the polytope by one. It is like a bipyramid, but with the 2 vertices on top of the chosen face:"
   ]
  },
  {
   "cell_type": "code",
   "execution_count": null,
   "metadata": {},
   "outputs": [],
   "source": [
    "FS = Cube.face_split(a_vertex);print(FS)\n",
    "FS.plot()"
   ]
  },
  {
   "cell_type": "markdown",
   "metadata": {},
   "source": [
    "### Face stacking\n",
    "\n",
    "Stacking a face is obtained by adding a new vertex slightly outside a chosen face. The result highly depends on the choice of face."
   ]
  },
  {
   "cell_type": "code",
   "execution_count": null,
   "metadata": {},
   "outputs": [],
   "source": [
    "another_face = Octahedron.faces(1)[0] # stacking on an edge\n",
    "stacked_octa = Octahedron.stack(another_face)\n",
    "stacked_octa.plot()"
   ]
  },
  {
   "cell_type": "code",
   "execution_count": null,
   "metadata": {},
   "outputs": [],
   "source": [
    "yet_another_face = Octahedron.faces(2)[0]\n",
    "second_stacked_octa = Octahedron.stack(yet_another_face)\n",
    "second_stacked_octa.plot()"
   ]
  },
  {
   "cell_type": "markdown",
   "metadata": {
    "slideshow": {
     "slide_type": "subslide"
    }
   },
   "source": [
    "## Combinatorial equivalence"
   ]
  },
  {
   "cell_type": "code",
   "execution_count": null,
   "metadata": {},
   "outputs": [],
   "source": [
    "co = polytopes.cuboctahedron()\n",
    "another_co = Cube & (2 * Cube.polar())\n",
    "yet_another_co = Cube.truncation(1/2)\n",
    "\n",
    "co.is_combinatorially_isomorphic(another_co), co.is_combinatorially_isomorphic(yet_another_co)"
   ]
  },
  {
   "cell_type": "markdown",
   "metadata": {},
   "source": [
    "### There are many more operations that are possible: http://doc.sagemath.org/html/en/thematic_tutorials/geometry/polyhedra_quickref.html"
   ]
  },
  {
   "cell_type": "markdown",
   "metadata": {
    "slideshow": {
     "slide_type": "slide"
    }
   },
   "source": [
    "## Important properties of polytopes"
   ]
  },
  {
   "cell_type": "markdown",
   "metadata": {},
   "source": [
    "### $f$-vectors"
   ]
  },
  {
   "cell_type": "markdown",
   "metadata": {},
   "source": [
    "It is very easy to get the $f$-vector of polytopes:"
   ]
  },
  {
   "cell_type": "code",
   "execution_count": null,
   "metadata": {},
   "outputs": [],
   "source": [
    "print(simplex.f_vector())\n",
    "print(cross.f_vector())"
   ]
  },
  {
   "cell_type": "markdown",
   "metadata": {
    "slideshow": {
     "slide_type": "subslide"
    }
   },
   "source": [
    "### Computing the volume of polytopes"
   ]
  },
  {
   "cell_type": "code",
   "execution_count": null,
   "metadata": {},
   "outputs": [],
   "source": [
    "Permu.volume()                    # default"
   ]
  },
  {
   "cell_type": "code",
   "execution_count": null,
   "metadata": {},
   "outputs": [],
   "source": [
    "Permu.volume(engine='latte')      # uses LattE Integrale"
   ]
  },
  {
   "cell_type": "code",
   "execution_count": null,
   "metadata": {},
   "outputs": [],
   "source": [
    "# uses normaliz, which requires to change the backend.\n",
    "Permu.base_extend(base_ring=QQ,backend='normaliz').volume(engine='normaliz')"
   ]
  },
  {
   "cell_type": "code",
   "execution_count": null,
   "metadata": {},
   "outputs": [],
   "source": [
    "Permu.volume(engine='lrs')"
   ]
  },
  {
   "cell_type": "markdown",
   "metadata": {
    "slideshow": {
     "slide_type": "subslide"
    }
   },
   "source": [
    "### $h^*$-vectors of lattice polytopes\n",
    "\n",
    "Certain backends have some more features that are interfaced. $h^*$-vector is an example with `normaliz`:"
   ]
  },
  {
   "cell_type": "code",
   "execution_count": null,
   "metadata": {},
   "outputs": [],
   "source": [
    "Cube = polytopes.cube(intervals='zero_one',backend='normaliz')   # [0,1]-cube\n",
    "Cube.h_star_vector()"
   ]
  },
  {
   "cell_type": "markdown",
   "metadata": {},
   "source": [
    "### Ehrhart polynomials are also available through latte or normaliz"
   ]
  },
  {
   "cell_type": "code",
   "execution_count": null,
   "metadata": {},
   "outputs": [],
   "source": [
    "Cube.ehrhart_polynomial(engine='latte').factor()  # Computed via latte"
   ]
  },
  {
   "cell_type": "code",
   "execution_count": null,
   "metadata": {},
   "outputs": [],
   "source": [
    "Cube.ehrhart_polynomial(engine='normaliz').factor()  # Computed via normaliz, the backend should be normaliz"
   ]
  },
  {
   "cell_type": "markdown",
   "metadata": {},
   "source": [
    "### Simplicity, simpliciality, neighborliness, $g$-vector, etc."
   ]
  },
  {
   "cell_type": "code",
   "execution_count": null,
   "metadata": {},
   "outputs": [],
   "source": [
    "nb = 10\n",
    "pts=[vector([QQ(random()) for i in range(8)]) for ii in range(nb)]\n",
    "mpts = [-_ for _ in pts]\n",
    "new_poly = Polyhedron(pts+mpts,backend='normaliz');new_poly"
   ]
  },
  {
   "cell_type": "code",
   "execution_count": null,
   "metadata": {},
   "outputs": [],
   "source": [
    "print(new_poly.neighborliness())"
   ]
  },
  {
   "cell_type": "code",
   "execution_count": null,
   "metadata": {},
   "outputs": [],
   "source": [
    "new_poly.simplicity()"
   ]
  },
  {
   "cell_type": "code",
   "execution_count": null,
   "metadata": {},
   "outputs": [],
   "source": [
    "new_poly.simpliciality() # Should be 7 if it is simplicial!"
   ]
  },
  {
   "cell_type": "code",
   "execution_count": null,
   "metadata": {},
   "outputs": [],
   "source": [
    "new_poly.boundary_complex().g_vector()"
   ]
  },
  {
   "cell_type": "markdown",
   "metadata": {},
   "source": [
    "## Exercises"
   ]
  },
  {
   "cell_type": "markdown",
   "metadata": {},
   "source": [
    "### Exercise 1:\n",
    "\n",
    "Compute the $f$-vector of the cyclic polytope of dimension 5 with 17 vertices."
   ]
  },
  {
   "cell_type": "code",
   "execution_count": null,
   "metadata": {},
   "outputs": [],
   "source": []
  },
  {
   "cell_type": "markdown",
   "metadata": {},
   "source": [
    "### Exercise 2:\n",
    "\n",
    "In this exercise, you will construct the cuboctahedron in several different ways and verify that you get the same combinatorial type."
   ]
  },
  {
   "cell_type": "markdown",
   "metadata": {},
   "source": [
    "1) The first options is to check if it is in the library:"
   ]
  },
  {
   "cell_type": "code",
   "execution_count": null,
   "metadata": {},
   "outputs": [],
   "source": [
    "CO = polytopes.cuboctahedron()"
   ]
  },
  {
   "cell_type": "markdown",
   "metadata": {},
   "source": [
    "Let's see if it looks like what we expect:"
   ]
  },
  {
   "cell_type": "code",
   "execution_count": null,
   "metadata": {},
   "outputs": [],
   "source": [
    "CO.plot()"
   ]
  },
  {
   "cell_type": "markdown",
   "metadata": {},
   "source": [
    "We can ask the $f$-vector of the cuboctahedron:"
   ]
  },
  {
   "cell_type": "code",
   "execution_count": null,
   "metadata": {},
   "outputs": [],
   "source": [
    "CO.f_vector()"
   ]
  },
  {
   "cell_type": "markdown",
   "metadata": {},
   "source": [
    "2) The second construction uses the fact that we can truncate the vertices by new hyperplanes that cross the edges exactly at the mid-point."
   ]
  },
  {
   "cell_type": "code",
   "execution_count": null,
   "metadata": {},
   "outputs": [],
   "source": [
    "Cube = polytopes.cube()\n",
    "EC = Cube.truncation(1/2)"
   ]
  },
  {
   "cell_type": "markdown",
   "metadata": {},
   "source": [
    "Just to make a sanity check we can compute the f-vector:"
   ]
  },
  {
   "cell_type": "code",
   "execution_count": null,
   "metadata": {},
   "outputs": [],
   "source": []
  },
  {
   "cell_type": "markdown",
   "metadata": {},
   "source": [
    "But as we know, two different polytopes can have the same f-vector, so we should check if they are combinatorially isomorphic:\n"
   ]
  },
  {
   "cell_type": "code",
   "execution_count": null,
   "metadata": {},
   "outputs": [],
   "source": []
  },
  {
   "cell_type": "markdown",
   "metadata": {},
   "source": [
    "3) The third construction will use some nice trick that we can do in sage.\n",
    "\n",
    "We can take the polar dual of the cube, the octahedron, and scale it by a factor 2:"
   ]
  },
  {
   "cell_type": "code",
   "execution_count": null,
   "metadata": {},
   "outputs": [],
   "source": [
    "OC = 2*Cube.polar()"
   ]
  },
  {
   "cell_type": "code",
   "execution_count": null,
   "metadata": {},
   "outputs": [],
   "source": [
    "ECCO = Cube & OC"
   ]
  },
  {
   "cell_type": "markdown",
   "metadata": {},
   "source": [
    "What is ECCO isomorphic to?"
   ]
  },
  {
   "cell_type": "code",
   "execution_count": null,
   "metadata": {},
   "outputs": [],
   "source": []
  },
  {
   "cell_type": "markdown",
   "metadata": {},
   "source": [
    "That's it! You found 3 ways to construct the cuboctahedron.\n",
    "\n",
    "* Question: do they all have the same vertices?\n",
    "* Question: which polytope do we get if we dilate the octahedron by only 3/2 instead of 2?\n",
    "* Can you find this polytope in the library and check if it is isomorphic?"
   ]
  },
  {
   "cell_type": "markdown",
   "metadata": {},
   "source": [
    "### Exercise 3:"
   ]
  },
  {
   "cell_type": "markdown",
   "metadata": {},
   "source": [
    "In this exercise, you will be asked to compute the following properties of certain polytopes:\n",
    "\n",
    " - $f$-vectors\n",
    " - $h$-vectors and $g$-vectors of simplicial polytopes\n",
    " - determine if it is simplicial\n",
    "\n",
    "And some operations you can do on polytopes:\n",
    "\n",
    " - bipyramids\n",
    " - stacking\n",
    "\n",
    "See <https://doc.sagemath.org/html/en/thematic_tutorials/geometry/polyhedra_quickref.html> for a more comprehensive list of operations you can do on polytopes."
   ]
  },
  {
   "cell_type": "markdown",
   "metadata": {},
   "source": [
    "Let's say you would like to study the effect of stacking on the $f$-vector of a certain family of polytopes which is centrally symmetric.\n",
    "\n",
    "First, let's pick random points and generate a centrally symmetric polytope:"
   ]
  },
  {
   "cell_type": "code",
   "execution_count": null,
   "metadata": {},
   "outputs": [],
   "source": [
    "nb = 10\n",
    "pts=[vector([QQ(random()) for i in range(3)]) for ii in range(nb)]\n",
    "mpts = [-_ for _ in pts]\n",
    "startp = Polyhedron(pts+mpts)\n",
    "startp.plot()"
   ]
  },
  {
   "cell_type": "markdown",
   "metadata": {},
   "source": [
    "Let's make sure it is simplicial:"
   ]
  },
  {
   "cell_type": "code",
   "execution_count": null,
   "metadata": {},
   "outputs": [],
   "source": []
  },
  {
   "cell_type": "markdown",
   "metadata": {},
   "source": [
    "Let's now compute its $f$-vector:"
   ]
  },
  {
   "cell_type": "code",
   "execution_count": null,
   "metadata": {},
   "outputs": [],
   "source": []
  },
  {
   "cell_type": "markdown",
   "metadata": {},
   "source": [
    "Obtain the $g$-vector of `startp`"
   ]
  },
  {
   "cell_type": "code",
   "execution_count": null,
   "metadata": {},
   "outputs": [],
   "source": []
  },
  {
   "cell_type": "markdown",
   "metadata": {},
   "source": [
    "**Task 1** : Determine what is the effect of stacking a facets on the $g$-vector of a 3d simplicial polytope."
   ]
  },
  {
   "cell_type": "code",
   "execution_count": null,
   "metadata": {},
   "outputs": [],
   "source": []
  },
  {
   "cell_type": "markdown",
   "metadata": {},
   "source": [
    "**Task 2** : Determine what is the effect on $g$-vectors of taking the bipyramid of simplicial polytopes."
   ]
  },
  {
   "cell_type": "code",
   "execution_count": null,
   "metadata": {},
   "outputs": [],
   "source": []
  }
 ],
 "metadata": {
  "kernelspec": {
   "display_name": "SageMath 10.4.beta8",
   "language": "sage",
   "name": "sagemath"
  },
  "language_info": {
   "codemirror_mode": {
    "name": "ipython",
    "version": 3
   },
   "file_extension": ".py",
   "mimetype": "text/x-python",
   "name": "python",
   "nbconvert_exporter": "python",
   "pygments_lexer": "ipython3",
   "version": "3.11.8"
  }
 },
 "nbformat": 4,
 "nbformat_minor": 4
}
